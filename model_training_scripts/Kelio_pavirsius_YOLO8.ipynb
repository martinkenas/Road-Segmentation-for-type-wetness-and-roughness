{
  "cells": [
    {
      "cell_type": "markdown",
      "metadata": {
        "id": "view-in-github",
        "colab_type": "text"
      },
      "source": [
        "<a href=\"https://colab.research.google.com/github/martinkenas/Road-Segmentation-for-type-wetness-and-roughness/blob/main/model_training_scripts/Kelio_pavirsius_YOLO8.ipynb\" target=\"_parent\"><img src=\"https://colab.research.google.com/assets/colab-badge.svg\" alt=\"Open In Colab\"/></a>"
      ]
    },
    {
      "cell_type": "code",
      "execution_count": null,
      "metadata": {
        "colab": {
          "base_uri": "https://localhost:8080/"
        },
        "id": "w54WqF667kO8",
        "outputId": "387d1f1c-b98b-4432-e796-c311ba28c6a2"
      },
      "outputs": [
        {
          "output_type": "stream",
          "name": "stdout",
          "text": [
            "Collecting ultralytics\n",
            "  Downloading ultralytics-8.3.127-py3-none-any.whl.metadata (37 kB)\n",
            "Requirement already satisfied: numpy>=1.23.0 in /usr/local/lib/python3.11/dist-packages (from ultralytics) (2.0.2)\n",
            "Requirement already satisfied: matplotlib>=3.3.0 in /usr/local/lib/python3.11/dist-packages (from ultralytics) (3.10.0)\n",
            "Requirement already satisfied: opencv-python>=4.6.0 in /usr/local/lib/python3.11/dist-packages (from ultralytics) (4.11.0.86)\n",
            "Requirement already satisfied: pillow>=7.1.2 in /usr/local/lib/python3.11/dist-packages (from ultralytics) (11.2.1)\n",
            "Requirement already satisfied: pyyaml>=5.3.1 in /usr/local/lib/python3.11/dist-packages (from ultralytics) (6.0.2)\n",
            "Requirement already satisfied: requests>=2.23.0 in /usr/local/lib/python3.11/dist-packages (from ultralytics) (2.32.3)\n",
            "Requirement already satisfied: scipy>=1.4.1 in /usr/local/lib/python3.11/dist-packages (from ultralytics) (1.15.2)\n",
            "Requirement already satisfied: torch>=1.8.0 in /usr/local/lib/python3.11/dist-packages (from ultralytics) (2.6.0+cu124)\n",
            "Requirement already satisfied: torchvision>=0.9.0 in /usr/local/lib/python3.11/dist-packages (from ultralytics) (0.21.0+cu124)\n",
            "Requirement already satisfied: tqdm>=4.64.0 in /usr/local/lib/python3.11/dist-packages (from ultralytics) (4.67.1)\n",
            "Requirement already satisfied: psutil in /usr/local/lib/python3.11/dist-packages (from ultralytics) (5.9.5)\n",
            "Requirement already satisfied: py-cpuinfo in /usr/local/lib/python3.11/dist-packages (from ultralytics) (9.0.0)\n",
            "Requirement already satisfied: pandas>=1.1.4 in /usr/local/lib/python3.11/dist-packages (from ultralytics) (2.2.2)\n",
            "Requirement already satisfied: seaborn>=0.11.0 in /usr/local/lib/python3.11/dist-packages (from ultralytics) (0.13.2)\n",
            "Collecting ultralytics-thop>=2.0.0 (from ultralytics)\n",
            "  Downloading ultralytics_thop-2.0.14-py3-none-any.whl.metadata (9.4 kB)\n",
            "Requirement already satisfied: contourpy>=1.0.1 in /usr/local/lib/python3.11/dist-packages (from matplotlib>=3.3.0->ultralytics) (1.3.2)\n",
            "Requirement already satisfied: cycler>=0.10 in /usr/local/lib/python3.11/dist-packages (from matplotlib>=3.3.0->ultralytics) (0.12.1)\n",
            "Requirement already satisfied: fonttools>=4.22.0 in /usr/local/lib/python3.11/dist-packages (from matplotlib>=3.3.0->ultralytics) (4.57.0)\n",
            "Requirement already satisfied: kiwisolver>=1.3.1 in /usr/local/lib/python3.11/dist-packages (from matplotlib>=3.3.0->ultralytics) (1.4.8)\n",
            "Requirement already satisfied: packaging>=20.0 in /usr/local/lib/python3.11/dist-packages (from matplotlib>=3.3.0->ultralytics) (24.2)\n",
            "Requirement already satisfied: pyparsing>=2.3.1 in /usr/local/lib/python3.11/dist-packages (from matplotlib>=3.3.0->ultralytics) (3.2.3)\n",
            "Requirement already satisfied: python-dateutil>=2.7 in /usr/local/lib/python3.11/dist-packages (from matplotlib>=3.3.0->ultralytics) (2.9.0.post0)\n",
            "Requirement already satisfied: pytz>=2020.1 in /usr/local/lib/python3.11/dist-packages (from pandas>=1.1.4->ultralytics) (2025.2)\n",
            "Requirement already satisfied: tzdata>=2022.7 in /usr/local/lib/python3.11/dist-packages (from pandas>=1.1.4->ultralytics) (2025.2)\n",
            "Requirement already satisfied: charset-normalizer<4,>=2 in /usr/local/lib/python3.11/dist-packages (from requests>=2.23.0->ultralytics) (3.4.1)\n",
            "Requirement already satisfied: idna<4,>=2.5 in /usr/local/lib/python3.11/dist-packages (from requests>=2.23.0->ultralytics) (3.10)\n",
            "Requirement already satisfied: urllib3<3,>=1.21.1 in /usr/local/lib/python3.11/dist-packages (from requests>=2.23.0->ultralytics) (2.4.0)\n",
            "Requirement already satisfied: certifi>=2017.4.17 in /usr/local/lib/python3.11/dist-packages (from requests>=2.23.0->ultralytics) (2025.4.26)\n",
            "Requirement already satisfied: filelock in /usr/local/lib/python3.11/dist-packages (from torch>=1.8.0->ultralytics) (3.18.0)\n",
            "Requirement already satisfied: typing-extensions>=4.10.0 in /usr/local/lib/python3.11/dist-packages (from torch>=1.8.0->ultralytics) (4.13.2)\n",
            "Requirement already satisfied: networkx in /usr/local/lib/python3.11/dist-packages (from torch>=1.8.0->ultralytics) (3.4.2)\n",
            "Requirement already satisfied: jinja2 in /usr/local/lib/python3.11/dist-packages (from torch>=1.8.0->ultralytics) (3.1.6)\n",
            "Requirement already satisfied: fsspec in /usr/local/lib/python3.11/dist-packages (from torch>=1.8.0->ultralytics) (2025.3.2)\n",
            "Collecting nvidia-cuda-nvrtc-cu12==12.4.127 (from torch>=1.8.0->ultralytics)\n",
            "  Downloading nvidia_cuda_nvrtc_cu12-12.4.127-py3-none-manylinux2014_x86_64.whl.metadata (1.5 kB)\n",
            "Collecting nvidia-cuda-runtime-cu12==12.4.127 (from torch>=1.8.0->ultralytics)\n",
            "  Downloading nvidia_cuda_runtime_cu12-12.4.127-py3-none-manylinux2014_x86_64.whl.metadata (1.5 kB)\n",
            "Collecting nvidia-cuda-cupti-cu12==12.4.127 (from torch>=1.8.0->ultralytics)\n",
            "  Downloading nvidia_cuda_cupti_cu12-12.4.127-py3-none-manylinux2014_x86_64.whl.metadata (1.6 kB)\n",
            "Collecting nvidia-cudnn-cu12==9.1.0.70 (from torch>=1.8.0->ultralytics)\n",
            "  Downloading nvidia_cudnn_cu12-9.1.0.70-py3-none-manylinux2014_x86_64.whl.metadata (1.6 kB)\n",
            "Collecting nvidia-cublas-cu12==12.4.5.8 (from torch>=1.8.0->ultralytics)\n",
            "  Downloading nvidia_cublas_cu12-12.4.5.8-py3-none-manylinux2014_x86_64.whl.metadata (1.5 kB)\n",
            "Collecting nvidia-cufft-cu12==11.2.1.3 (from torch>=1.8.0->ultralytics)\n",
            "  Downloading nvidia_cufft_cu12-11.2.1.3-py3-none-manylinux2014_x86_64.whl.metadata (1.5 kB)\n",
            "Collecting nvidia-curand-cu12==10.3.5.147 (from torch>=1.8.0->ultralytics)\n",
            "  Downloading nvidia_curand_cu12-10.3.5.147-py3-none-manylinux2014_x86_64.whl.metadata (1.5 kB)\n",
            "Collecting nvidia-cusolver-cu12==11.6.1.9 (from torch>=1.8.0->ultralytics)\n",
            "  Downloading nvidia_cusolver_cu12-11.6.1.9-py3-none-manylinux2014_x86_64.whl.metadata (1.6 kB)\n",
            "Collecting nvidia-cusparse-cu12==12.3.1.170 (from torch>=1.8.0->ultralytics)\n",
            "  Downloading nvidia_cusparse_cu12-12.3.1.170-py3-none-manylinux2014_x86_64.whl.metadata (1.6 kB)\n",
            "Requirement already satisfied: nvidia-cusparselt-cu12==0.6.2 in /usr/local/lib/python3.11/dist-packages (from torch>=1.8.0->ultralytics) (0.6.2)\n",
            "Requirement already satisfied: nvidia-nccl-cu12==2.21.5 in /usr/local/lib/python3.11/dist-packages (from torch>=1.8.0->ultralytics) (2.21.5)\n",
            "Requirement already satisfied: nvidia-nvtx-cu12==12.4.127 in /usr/local/lib/python3.11/dist-packages (from torch>=1.8.0->ultralytics) (12.4.127)\n",
            "Collecting nvidia-nvjitlink-cu12==12.4.127 (from torch>=1.8.0->ultralytics)\n",
            "  Downloading nvidia_nvjitlink_cu12-12.4.127-py3-none-manylinux2014_x86_64.whl.metadata (1.5 kB)\n",
            "Requirement already satisfied: triton==3.2.0 in /usr/local/lib/python3.11/dist-packages (from torch>=1.8.0->ultralytics) (3.2.0)\n",
            "Requirement already satisfied: sympy==1.13.1 in /usr/local/lib/python3.11/dist-packages (from torch>=1.8.0->ultralytics) (1.13.1)\n",
            "Requirement already satisfied: mpmath<1.4,>=1.1.0 in /usr/local/lib/python3.11/dist-packages (from sympy==1.13.1->torch>=1.8.0->ultralytics) (1.3.0)\n",
            "Requirement already satisfied: six>=1.5 in /usr/local/lib/python3.11/dist-packages (from python-dateutil>=2.7->matplotlib>=3.3.0->ultralytics) (1.17.0)\n",
            "Requirement already satisfied: MarkupSafe>=2.0 in /usr/local/lib/python3.11/dist-packages (from jinja2->torch>=1.8.0->ultralytics) (3.0.2)\n",
            "Downloading ultralytics-8.3.127-py3-none-any.whl (1.0 MB)\n",
            "\u001b[2K   \u001b[90m━━━━━━━━━━━━━━━━━━━━━━━━━━━━━━━━━━━━━━━━\u001b[0m \u001b[32m1.0/1.0 MB\u001b[0m \u001b[31m16.7 MB/s\u001b[0m eta \u001b[36m0:00:00\u001b[0m\n",
            "\u001b[?25hDownloading nvidia_cublas_cu12-12.4.5.8-py3-none-manylinux2014_x86_64.whl (363.4 MB)\n",
            "\u001b[2K   \u001b[90m━━━━━━━━━━━━━━━━━━━━━━━━━━━━━━━━━━━━━━━━\u001b[0m \u001b[32m363.4/363.4 MB\u001b[0m \u001b[31m3.5 MB/s\u001b[0m eta \u001b[36m0:00:00\u001b[0m\n",
            "\u001b[?25hDownloading nvidia_cuda_cupti_cu12-12.4.127-py3-none-manylinux2014_x86_64.whl (13.8 MB)\n",
            "\u001b[2K   \u001b[90m━━━━━━━━━━━━━━━━━━━━━━━━━━━━━━━━━━━━━━━━\u001b[0m \u001b[32m13.8/13.8 MB\u001b[0m \u001b[31m116.2 MB/s\u001b[0m eta \u001b[36m0:00:00\u001b[0m\n",
            "\u001b[?25hDownloading nvidia_cuda_nvrtc_cu12-12.4.127-py3-none-manylinux2014_x86_64.whl (24.6 MB)\n",
            "\u001b[2K   \u001b[90m━━━━━━━━━━━━━━━━━━━━━━━━━━━━━━━━━━━━━━━━\u001b[0m \u001b[32m24.6/24.6 MB\u001b[0m \u001b[31m90.9 MB/s\u001b[0m eta \u001b[36m0:00:00\u001b[0m\n",
            "\u001b[?25hDownloading nvidia_cuda_runtime_cu12-12.4.127-py3-none-manylinux2014_x86_64.whl (883 kB)\n",
            "\u001b[2K   \u001b[90m━━━━━━━━━━━━━━━━━━━━━━━━━━━━━━━━━━━━━━━━\u001b[0m \u001b[32m883.7/883.7 kB\u001b[0m \u001b[31m64.1 MB/s\u001b[0m eta \u001b[36m0:00:00\u001b[0m\n",
            "\u001b[?25hDownloading nvidia_cudnn_cu12-9.1.0.70-py3-none-manylinux2014_x86_64.whl (664.8 MB)\n",
            "\u001b[2K   \u001b[90m━━━━━━━━━━━━━━━━━━━━━━━━━━━━━━━━━━━━━━━━\u001b[0m \u001b[32m664.8/664.8 MB\u001b[0m \u001b[31m2.1 MB/s\u001b[0m eta \u001b[36m0:00:00\u001b[0m\n",
            "\u001b[?25hDownloading nvidia_cufft_cu12-11.2.1.3-py3-none-manylinux2014_x86_64.whl (211.5 MB)\n",
            "\u001b[2K   \u001b[90m━━━━━━━━━━━━━━━━━━━━━━━━━━━━━━━━━━━━━━━━\u001b[0m \u001b[32m211.5/211.5 MB\u001b[0m \u001b[31m4.9 MB/s\u001b[0m eta \u001b[36m0:00:00\u001b[0m\n",
            "\u001b[?25hDownloading nvidia_curand_cu12-10.3.5.147-py3-none-manylinux2014_x86_64.whl (56.3 MB)\n",
            "\u001b[2K   \u001b[90m━━━━━━━━━━━━━━━━━━━━━━━━━━━━━━━━━━━━━━━━\u001b[0m \u001b[32m56.3/56.3 MB\u001b[0m \u001b[31m44.0 MB/s\u001b[0m eta \u001b[36m0:00:00\u001b[0m\n",
            "\u001b[?25hDownloading nvidia_cusolver_cu12-11.6.1.9-py3-none-manylinux2014_x86_64.whl (127.9 MB)\n",
            "\u001b[2K   \u001b[90m━━━━━━━━━━━━━━━━━━━━━━━━━━━━━━━━━━━━━━━━\u001b[0m \u001b[32m127.9/127.9 MB\u001b[0m \u001b[31m19.8 MB/s\u001b[0m eta \u001b[36m0:00:00\u001b[0m\n",
            "\u001b[?25hDownloading nvidia_cusparse_cu12-12.3.1.170-py3-none-manylinux2014_x86_64.whl (207.5 MB)\n",
            "\u001b[2K   \u001b[90m━━━━━━━━━━━━━━━━━━━━━━━━━━━━━━━━━━━━━━━━\u001b[0m \u001b[32m207.5/207.5 MB\u001b[0m \u001b[31m4.4 MB/s\u001b[0m eta \u001b[36m0:00:00\u001b[0m\n",
            "\u001b[?25hDownloading nvidia_nvjitlink_cu12-12.4.127-py3-none-manylinux2014_x86_64.whl (21.1 MB)\n",
            "\u001b[2K   \u001b[90m━━━━━━━━━━━━━━━━━━━━━━━━━━━━━━━━━━━━━━━━\u001b[0m \u001b[32m21.1/21.1 MB\u001b[0m \u001b[31m97.9 MB/s\u001b[0m eta \u001b[36m0:00:00\u001b[0m\n",
            "\u001b[?25hDownloading ultralytics_thop-2.0.14-py3-none-any.whl (26 kB)\n",
            "Installing collected packages: nvidia-nvjitlink-cu12, nvidia-curand-cu12, nvidia-cufft-cu12, nvidia-cuda-runtime-cu12, nvidia-cuda-nvrtc-cu12, nvidia-cuda-cupti-cu12, nvidia-cublas-cu12, nvidia-cusparse-cu12, nvidia-cudnn-cu12, nvidia-cusolver-cu12, ultralytics-thop, ultralytics\n",
            "  Attempting uninstall: nvidia-nvjitlink-cu12\n",
            "    Found existing installation: nvidia-nvjitlink-cu12 12.5.82\n",
            "    Uninstalling nvidia-nvjitlink-cu12-12.5.82:\n",
            "      Successfully uninstalled nvidia-nvjitlink-cu12-12.5.82\n",
            "  Attempting uninstall: nvidia-curand-cu12\n",
            "    Found existing installation: nvidia-curand-cu12 10.3.6.82\n",
            "    Uninstalling nvidia-curand-cu12-10.3.6.82:\n",
            "      Successfully uninstalled nvidia-curand-cu12-10.3.6.82\n",
            "  Attempting uninstall: nvidia-cufft-cu12\n",
            "    Found existing installation: nvidia-cufft-cu12 11.2.3.61\n",
            "    Uninstalling nvidia-cufft-cu12-11.2.3.61:\n",
            "      Successfully uninstalled nvidia-cufft-cu12-11.2.3.61\n",
            "  Attempting uninstall: nvidia-cuda-runtime-cu12\n",
            "    Found existing installation: nvidia-cuda-runtime-cu12 12.5.82\n",
            "    Uninstalling nvidia-cuda-runtime-cu12-12.5.82:\n",
            "      Successfully uninstalled nvidia-cuda-runtime-cu12-12.5.82\n",
            "  Attempting uninstall: nvidia-cuda-nvrtc-cu12\n",
            "    Found existing installation: nvidia-cuda-nvrtc-cu12 12.5.82\n",
            "    Uninstalling nvidia-cuda-nvrtc-cu12-12.5.82:\n",
            "      Successfully uninstalled nvidia-cuda-nvrtc-cu12-12.5.82\n",
            "  Attempting uninstall: nvidia-cuda-cupti-cu12\n",
            "    Found existing installation: nvidia-cuda-cupti-cu12 12.5.82\n",
            "    Uninstalling nvidia-cuda-cupti-cu12-12.5.82:\n",
            "      Successfully uninstalled nvidia-cuda-cupti-cu12-12.5.82\n",
            "  Attempting uninstall: nvidia-cublas-cu12\n",
            "    Found existing installation: nvidia-cublas-cu12 12.5.3.2\n",
            "    Uninstalling nvidia-cublas-cu12-12.5.3.2:\n",
            "      Successfully uninstalled nvidia-cublas-cu12-12.5.3.2\n",
            "  Attempting uninstall: nvidia-cusparse-cu12\n",
            "    Found existing installation: nvidia-cusparse-cu12 12.5.1.3\n",
            "    Uninstalling nvidia-cusparse-cu12-12.5.1.3:\n",
            "      Successfully uninstalled nvidia-cusparse-cu12-12.5.1.3\n",
            "  Attempting uninstall: nvidia-cudnn-cu12\n",
            "    Found existing installation: nvidia-cudnn-cu12 9.3.0.75\n",
            "    Uninstalling nvidia-cudnn-cu12-9.3.0.75:\n",
            "      Successfully uninstalled nvidia-cudnn-cu12-9.3.0.75\n",
            "  Attempting uninstall: nvidia-cusolver-cu12\n",
            "    Found existing installation: nvidia-cusolver-cu12 11.6.3.83\n",
            "    Uninstalling nvidia-cusolver-cu12-11.6.3.83:\n",
            "      Successfully uninstalled nvidia-cusolver-cu12-11.6.3.83\n",
            "Successfully installed nvidia-cublas-cu12-12.4.5.8 nvidia-cuda-cupti-cu12-12.4.127 nvidia-cuda-nvrtc-cu12-12.4.127 nvidia-cuda-runtime-cu12-12.4.127 nvidia-cudnn-cu12-9.1.0.70 nvidia-cufft-cu12-11.2.1.3 nvidia-curand-cu12-10.3.5.147 nvidia-cusolver-cu12-11.6.1.9 nvidia-cusparse-cu12-12.3.1.170 nvidia-nvjitlink-cu12-12.4.127 ultralytics-8.3.127 ultralytics-thop-2.0.14\n",
            "Creating new Ultralytics Settings v0.0.6 file ✅ \n",
            "View Ultralytics Settings with 'yolo settings' or at '/root/.config/Ultralytics/settings.json'\n",
            "Update Settings with 'yolo settings key=value', i.e. 'yolo settings runs_dir=path/to/dir'. For help see https://docs.ultralytics.com/quickstart/#ultralytics-settings.\n",
            "Mounted at /content/drive\n",
            "Nustatymas baigtas!\n"
          ]
        }
      ],
      "source": [
        "#@title PILNAS PAVIRSIUS 1. Nustatymas ir diegimas\n",
        "\n",
        "# Įdiegiamos reikalingos bibliotekos\n",
        "!pip install ultralytics\n",
        "\n",
        "# Importuojamos būtinos bibliotekos\n",
        "import os\n",
        "import yaml\n",
        "import shutil\n",
        "import random\n",
        "from IPython.display import display, Image\n",
        "from ultralytics import YOLO\n",
        "import matplotlib.pyplot as plt\n",
        "import numpy as np\n",
        "from PIL import Image as PILImage\n",
        "import cv2\n",
        "from google.colab import drive\n",
        "from datetime import datetime\n",
        "import torch\n",
        "from sklearn.model_selection import train_test_split\n",
        "\n",
        "# Prijungiamas Google Drive\n",
        "drive.mount('/content/drive')\n",
        "\n",
        "print(\"Nustatymas baigtas!\")\n"
      ]
    },
    {
      "cell_type": "code",
      "execution_count": null,
      "metadata": {
        "colab": {
          "base_uri": "https://localhost:8080/"
        },
        "id": "gba728zYDsE3",
        "outputId": "7417a407-957f-41e4-9d0b-537dde85b42d"
      },
      "outputs": [
        {
          "output_type": "stream",
          "name": "stdout",
          "text": [
            "Pagrindinis katalogas: /content/drive/MyDrive/Dangos Nustatymas\n",
            "Sukurtas YOLO etikečių katalogas: /content/drive/MyDrive/Dangos Nustatymas/labels\n"
          ]
        }
      ],
      "source": [
        "#@title 2. Projekto struktūros konfigūravimas\n",
        "\n",
        "import os\n",
        "import yaml\n",
        "import random\n",
        "import shutil\n",
        "from datetime import datetime\n",
        "from PIL import Image as PILImage\n",
        "from sklearn.model_selection import train_test_split\n",
        "\n",
        "base_dir = '/content/drive/MyDrive/Dangos Nustatymas'\n",
        "print(f\"Pagrindinis katalogas: {base_dir}\")\n",
        "\n",
        "# Pradiniai katalogai su duomenimis - naudojamas labels2 katalogas\n",
        "images_dir = os.path.join(base_dir, 'images')\n",
        "labels_dirs = {\n",
        "    'asfaltas': os.path.join(base_dir, 'labels2', 'asfaltas'),\n",
        "    'zvyras': os.path.join(base_dir, 'labels2', 'zvyras'),\n",
        "    'grindinys': os.path.join(base_dir, 'labels2', 'grindinys')\n",
        "}\n",
        "\n",
        "# Sukuriamas laiko žymės formatas unikaliam projekto paleidimui\n",
        "timestamp = datetime.now().strftime(\"%Y%m%d_%H%M%S\")\n",
        "project_dir = os.path.join(base_dir, f'road_seg_{timestamp}')\n",
        "os.makedirs(project_dir, exist_ok=True)\n",
        "\n",
        "# Rezultatų katalogai\n",
        "results_dir = os.path.join(project_dir, 'results')\n",
        "predictions_dir = os.path.join(project_dir, 'predictions')\n",
        "exports_dir = os.path.join(project_dir, 'exports')\n",
        "os.makedirs(results_dir, exist_ok=True)\n",
        "os.makedirs(predictions_dir, exist_ok=True)\n",
        "os.makedirs(exports_dir, exist_ok=True)\n",
        "\n",
        "# Sukuriamas bendras etikečių katalogas, kurio tikisi YOLO\n",
        "yolo_labels_dir = os.path.join(base_dir, 'labels')\n",
        "os.makedirs(yolo_labels_dir, exist_ok=True)\n",
        "print(f\"Sukurtas YOLO etikečių katalogas: {yolo_labels_dir}\")\n"
      ]
    },
    {
      "cell_type": "code",
      "execution_count": null,
      "metadata": {
        "colab": {
          "base_uri": "https://localhost:8080/"
        },
        "id": "go4dF0YvDxIF",
        "outputId": "443ba9e5-c14e-4e41-ad9d-2d65d50de921"
      },
      "outputs": [
        {
          "output_type": "stream",
          "name": "stdout",
          "text": [
            "\n",
            "Duomenų rinkinio statistika:\n",
            "  asfaltas: 663 failai (49.6%)\n",
            "  zvyras: 331 failai (24.8%)\n",
            "  grindinys: 343 failai (25.7%)\n",
            "  Viso: 1337 failai\n",
            "\n",
            "Padalinimų statistika (naudojamas svertinis duomenų krovimas, be rankinio balansavimo):\n",
            "  train: 935 failai\n",
            "    - grindinys: 239 failai (25.6%)\n",
            "    - asfaltas: 457 failai (48.9%)\n",
            "    - zvyras: 239 failai (25.6%)\n",
            "  val: 267 failai\n",
            "    - asfaltas: 140 failai (52.4%)\n",
            "    - zvyras: 63 failai (23.6%)\n",
            "    - grindinys: 64 failai (24.0%)\n",
            "  test: 135 failai\n",
            "    - zvyras: 29 failai (21.5%)\n",
            "    - asfaltas: 66 failai (48.9%)\n",
            "    - grindinys: 40 failai (29.6%)\n"
          ]
        }
      ],
      "source": [
        "#@title 3. Duomenų rinkinio analizė ir kelio dangos tipų sekimas sverti\n",
        "\n",
        "def analyze_dataset():\n",
        "    \"\"\"Analizuojamas duomenų rinkinys ir sukuriami padalinimai\"\"\"\n",
        "    # Gaunami visi pažymėti failai iš kiekvieno katalogo\n",
        "    all_files = []\n",
        "\n",
        "    # Sekamas bendras failų skaičius kiekviename dangos tipe\n",
        "    type_counts = {}\n",
        "\n",
        "    for pavement_type, label_dir in labels_dirs.items():\n",
        "        files = []\n",
        "\n",
        "        # Gaunami visi txt failai, išskyrus classes.txt\n",
        "        for file in os.listdir(label_dir):\n",
        "            if file.endswith('.txt') and file != 'classes.txt':\n",
        "                base_name = os.path.splitext(file)[0]\n",
        "                # Tikrinama ar egzistuoja atitinkamas vaizdas\n",
        "                img_path = None\n",
        "                for ext in ['.jpg', '.jpeg', '.png']:\n",
        "                    if os.path.exists(os.path.join(images_dir, base_name + ext)):\n",
        "                        img_path = os.path.join(images_dir, base_name + ext)\n",
        "                        break\n",
        "\n",
        "                if img_path:\n",
        "                    files.append({\n",
        "                        'base_name': base_name,\n",
        "                        'img_path': img_path,\n",
        "                        'label_path': os.path.join(label_dir, file),\n",
        "                        'pavement_type': pavement_type\n",
        "                    })\n",
        "\n",
        "        all_files.extend(files)\n",
        "        type_counts[pavement_type] = len(files)\n",
        "\n",
        "    # Spausdinami statistiniai duomenys\n",
        "    print(\"\\nDuomenų rinkinio statistika:\")\n",
        "    total_files = sum(type_counts.values())\n",
        "    for pavement_type, count in type_counts.items():\n",
        "        print(f\"  {pavement_type}: {count} failai ({count/total_files*100:.1f}%)\")\n",
        "    print(f\"  Viso: {total_files} failai\")\n",
        "\n",
        "    # Sukuriami padalinimai (70% treniravimui, 20% validavimui, 10% testavimui)\n",
        "    random.seed(42)  # Atkūrimui\n",
        "    random.shuffle(all_files)\n",
        "\n",
        "    train_size = int(0.7 * len(all_files))\n",
        "    val_size = int(0.2 * len(all_files))\n",
        "\n",
        "    train_files = all_files[:train_size]\n",
        "    val_files = all_files[train_size:train_size+val_size]\n",
        "    test_files = all_files[train_size+val_size:]\n",
        "\n",
        "    splits = {'train': train_files, 'val': val_files, 'test': test_files}\n",
        "\n",
        "    # Spausdinami padalinimų statistika\n",
        "    print(\"\\nPadalinimų statistika (naudojamas svertinis duomenų krovimas, be rankinio balansavimo):\")\n",
        "    for split_name, files in splits.items():\n",
        "        print(f\"  {split_name}: {len(files)} failai\")\n",
        "\n",
        "        # Skaičiuojama pagal dangos tipą\n",
        "        split_counts = {}\n",
        "        for file in files:\n",
        "            pt = file['pavement_type']\n",
        "            split_counts[pt] = split_counts.get(pt, 0) + 1\n",
        "\n",
        "        for pt, count in split_counts.items():\n",
        "            print(f\"    - {pt}: {count} failai ({count/len(files)*100:.1f}%)\")\n",
        "\n",
        "    return splits, type_counts\n",
        "\n",
        "# Analizuojamas duomenų rinkinys ir sukuriami padalinimai\n",
        "splits, type_counts = analyze_dataset()\n"
      ]
    },
    {
      "cell_type": "code",
      "execution_count": null,
      "metadata": {
        "colab": {
          "base_uri": "https://localhost:8080/"
        },
        "id": "H4GoeLLGD2Ik",
        "outputId": "930c8a42-00ca-4a90-f0b9-4f6aa05f38dc"
      },
      "outputs": [
        {
          "output_type": "stream",
          "name": "stdout",
          "text": [
            "Normalizuota ir nukopijuota 1337 etiketės failai į /content/drive/MyDrive/Dangos Nustatymas/labels\n",
            "\n",
            "Duomenų rinkinio konfigūracija sukurta: /content/drive/MyDrive/Dangos Nustatymas/road_seg_20250504_181219/dataset.yaml\n"
          ]
        }
      ],
      "source": [
        "#@title 4. Duomenų rinkinio konfigūracijos failų sukūrimas ir etikečių normalizavimas\n",
        "\n",
        "def copy_and_normalize_labels():\n",
        "    \"\"\"Kopijuojamos etiketės iš pradinių vietų į standartinę YOLO struktūrą su 0 klase\"\"\"\n",
        "    # Išvalomi visi esami failai etikečių kataloge, kad būtų išvengta konfliktų\n",
        "    for file in os.listdir(yolo_labels_dir):\n",
        "        if file.endswith('.txt'):\n",
        "            os.remove(os.path.join(yolo_labels_dir, file))\n",
        "\n",
        "    # Kopijuojami visi etikečių failai į konsoliduotą katalogą, konvertuojant visas klases į 0 klasę (kelias)\n",
        "    label_count = 0\n",
        "    for split_name, files in splits.items():\n",
        "        for file_data in files:\n",
        "            # Pradinis etiketės kelias\n",
        "            original_label_path = file_data['label_path']\n",
        "            # Pagrindinis vaizdo/etiketės pavadinimas\n",
        "            base_name = file_data['base_name']\n",
        "            # Tikslo kelias YOLO struktūroje\n",
        "            target_label_path = os.path.join(yolo_labels_dir, f\"{base_name}.txt\")\n",
        "\n",
        "            # Skaitomas etiketės turinys ir užtikrinama, kad visos klasės nustatytos į 0\n",
        "            try:\n",
        "                with open(original_label_path, 'r') as src_file:\n",
        "                    label_lines = src_file.readlines()\n",
        "\n",
        "                # Rašomos normalizuotos etiketės (visos klasės konvertuotos į 0 klasę)\n",
        "                with open(target_label_path, 'w') as dst_file:\n",
        "                    for line in label_lines:\n",
        "                        parts = line.strip().split()\n",
        "                        if len(parts) > 0:\n",
        "                            # Nustatoma klasė į 0 (kelias), išsaugomos visos kitos reikšmės\n",
        "                            parts[0] = '0'\n",
        "                            dst_file.write(' '.join(parts) + '\\n')\n",
        "\n",
        "                label_count += 1\n",
        "            except Exception as e:\n",
        "                print(f\"Klaida apdorojant etiketę failui {base_name}: {e}\")\n",
        "\n",
        "    print(f\"Normalizuota ir nukopijuota {label_count} etiketės failai į {yolo_labels_dir}\")\n",
        "    return label_count\n",
        "\n",
        "def create_dataset_config():\n",
        "    \"\"\"Sukuriami duomenų rinkinio konfigūracijos failai\"\"\"\n",
        "    # Pirmiausia kopijuojamos etiketės į YOLO struktūrą, normalizuojant klasių ID\n",
        "    label_count = copy_and_normalize_labels()\n",
        "\n",
        "    if label_count == 0:\n",
        "        print(\"ĮSPĖJIMAS: Nebuvo nukopijuota nė viena etiketė. Patikrinkite etikečių katalogus.\")\n",
        "\n",
        "    # Sukuriama duomenų rinkinio katalogų struktūra, kurios tikisi YOLOv8\n",
        "    for split_name in splits.keys():\n",
        "        split_img_dir = os.path.join(base_dir, 'images', split_name)\n",
        "        os.makedirs(split_img_dir, exist_ok=True)\n",
        "\n",
        "    # Sukuriami treniravimo/validavimo/testavimo tekstiniai failai, išvardijantys kelius\n",
        "    for split_name, files in splits.items():\n",
        "        split_file = os.path.join(project_dir, f'{split_name}.txt')\n",
        "        with open(split_file, 'w') as f:\n",
        "            for file_data in files:\n",
        "                f.write(f\"{file_data['img_path']}\\n\")\n",
        "\n",
        "    # Sukuriamas duomenų rinkinio YAML failas su aiškiai nurodytu etikečių katalogu\n",
        "    dataset_yaml = os.path.join(project_dir, 'dataset.yaml')\n",
        "    dataset_config = {\n",
        "        'path': base_dir,\n",
        "        'train': os.path.join(project_dir, 'train.txt'),\n",
        "        'val': os.path.join(project_dir, 'val.txt'),\n",
        "        'test': os.path.join(project_dir, 'test.txt'),\n",
        "        'names': {0: 'road'},  # Viena klasė: kelias\n",
        "        'labels': yolo_labels_dir  # Aiškiai nurodomas etikečių katalogas\n",
        "    }\n",
        "\n",
        "    with open(dataset_yaml, 'w') as f:\n",
        "        yaml.dump(dataset_config, f)\n",
        "\n",
        "    return dataset_yaml\n",
        "\n",
        "# Sukuriami konfigūracijos failai\n",
        "dataset_yaml = create_dataset_config()\n",
        "print(f\"\\nDuomenų rinkinio konfigūracija sukurta: {dataset_yaml}\")"
      ]
    },
    {
      "cell_type": "code",
      "execution_count": null,
      "metadata": {
        "colab": {
          "base_uri": "https://localhost:8080/"
        },
        "id": "z0--g3ZOEEc8",
        "outputId": "ef24647a-939d-4469-88a1-fff8cc625479"
      },
      "outputs": [
        {
          "output_type": "stream",
          "name": "stdout",
          "text": [
            "Svertinis duomenų kroviklio įgyvendinimas baigtas!\n",
            "Paviršiaus tipų svoriai: {'asfaltas': 2.0165912518853695, 'zvyras': 4.039274924471299, 'grindinys': 3.8979591836734695}\n"
          ]
        }
      ],
      "source": [
        "#@title 5. Svertinio duomenų kroviklio įgyvendinimas YOLO pagal kelio paviršiaus tipus\n",
        "\n",
        "from ultralytics.data.dataset import YOLODataset\n",
        "import numpy as np\n",
        "\n",
        "class YOLOSurfaceWeightedDataset(YOLODataset):\n",
        "    def __init__(self, *args, surface_type_map=None, surface_weights=None, **kwargs):\n",
        "        \"\"\"\n",
        "        Inicializuojamas svertinis duomenų rinkinys, paremtas kelio paviršių tipais.\n",
        "\n",
        "        Args:\n",
        "            surface_type_map: Žodynas, susiejantis failų pagrindinius pavadinimus su paviršiaus tipais\n",
        "            surface_weights: Žodynas, susiejantis paviršiaus tipus su svoriais\n",
        "        \"\"\"\n",
        "        super(YOLOSurfaceWeightedDataset, self).__init__(*args, **kwargs)\n",
        "\n",
        "        self.train_mode = \"train\" in self.prefix\n",
        "\n",
        "        # Svoriai taikomi tik treniravimo režime\n",
        "        if self.train_mode and surface_type_map and surface_weights:\n",
        "            self.surface_type_map = surface_type_map\n",
        "            self.surface_weights = surface_weights\n",
        "\n",
        "            # Apskaičiuojami vaizdų svoriai pagal paviršiaus tipą\n",
        "            self.weights = self.calculate_weights()\n",
        "            self.probabilities = self.calculate_probabilities()\n",
        "\n",
        "            print(f\"Paviršiaus tipų svoriai: {self.surface_weights}\")\n",
        "\n",
        "    def calculate_weights(self):\n",
        "        \"\"\"\n",
        "        Apskaičiuojamas svoris kiekvienam vaizdui pagal jo paviršiaus tipą.\n",
        "        \"\"\"\n",
        "        weights = []\n",
        "        for img_path in self.im_files:\n",
        "            # Išgaunamas pagrindinis pavadinimas iš vaizdo kelio\n",
        "            base_name = os.path.splitext(os.path.basename(img_path))[0]\n",
        "\n",
        "            # Gaunamas paviršiaus tipas ir priskiriamas svoris\n",
        "            surface_type = self.surface_type_map.get(base_name, 'unknown')\n",
        "            weight = self.surface_weights.get(surface_type, 1.0)\n",
        "            weights.append(weight)\n",
        "\n",
        "        return weights\n",
        "\n",
        "    def calculate_probabilities(self):\n",
        "        \"\"\"\n",
        "        Apskaičiuojamos atrankos tikimybės pagal svorius.\n",
        "        \"\"\"\n",
        "        total_weight = sum(self.weights)\n",
        "        probabilities = [w / total_weight for w in self.weights]\n",
        "        return probabilities\n",
        "\n",
        "    def __getitem__(self, index):\n",
        "        \"\"\"\n",
        "        Grąžinama transformuota etiketės informacija pagal atrenkamą indeksą.\n",
        "        \"\"\"\n",
        "        # Nenaudojama svertinė atranka validavimui/testavimui\n",
        "        if not self.train_mode or not hasattr(self, 'probabilities'):\n",
        "            return self.transforms(self.get_image_and_label(index))\n",
        "        else:\n",
        "            # Naudojama svertinė atranka treniravimui\n",
        "            index = np.random.choice(len(self.im_files), p=self.probabilities)\n",
        "            return self.transforms(self.get_image_and_label(index))\n",
        "\n",
        "\n",
        "def create_surface_type_map():\n",
        "    \"\"\"Sukuriamas susiejimas tarp failų pagrindinių pavadinimų ir paviršiaus tipų\"\"\"\n",
        "    surface_map = {}\n",
        "    for split_name, files in splits.items():\n",
        "        for file_data in files:\n",
        "            base_name = file_data['base_name']\n",
        "            surface_type = file_data['pavement_type']\n",
        "            surface_map[base_name] = surface_type\n",
        "    return surface_map\n",
        "\n",
        "def calculate_surface_weights(type_counts):\n",
        "    \"\"\"Apskaičiuojami svoriai kiekvienam paviršiaus tipui pagal atvirkštinį dažnį\"\"\"\n",
        "    total = sum(type_counts.values())\n",
        "    weights = {surface: total / count for surface, count in type_counts.items()}\n",
        "    return weights\n",
        "\n",
        "# Sukuriamas paviršiaus tipų susiejimas ir svoriai\n",
        "surface_type_map = create_surface_type_map()\n",
        "surface_weights = calculate_surface_weights(type_counts)\n",
        "\n",
        "# Pritaikomas pasirinktinis duomenų rinkinio klasė per monkey patching\n",
        "from functools import partial\n",
        "import ultralytics.data.build as build\n",
        "\n",
        "# Sukuriama dalinė funkcija su iš anksto apskaičiuotais žemėlapiais\n",
        "CustomDataset = partial(\n",
        "    YOLOSurfaceWeightedDataset,\n",
        "    surface_type_map=surface_type_map,\n",
        "    surface_weights=surface_weights\n",
        ")\n",
        "\n",
        "# Monkey-patching YOLODataset klasei\n",
        "build.YOLODataset = CustomDataset\n",
        "\n",
        "print(\"Svertinis duomenų kroviklio įgyvendinimas baigtas!\")\n",
        "print(f\"Paviršiaus tipų svoriai: {surface_weights}\")"
      ]
    },
    {
      "cell_type": "code",
      "execution_count": null,
      "metadata": {
        "colab": {
          "base_uri": "https://localhost:8080/"
        },
        "id": "NHxGDoWmEJaO",
        "outputId": "0f87b39a-d8ca-43d1-f1f4-e9c70875b55a"
      },
      "outputs": [
        {
          "output_type": "stream",
          "name": "stdout",
          "text": [
            "Naudojamas įrenginys: CUDA\n",
            "Downloading https://github.com/ultralytics/assets/releases/download/v8.3.0/yolov8n-seg.pt to 'yolov8n-seg.pt'...\n"
          ]
        },
        {
          "output_type": "stream",
          "name": "stderr",
          "text": [
            "100%|██████████| 6.74M/6.74M [00:00<00:00, 212MB/s]"
          ]
        },
        {
          "output_type": "stream",
          "name": "stdout",
          "text": [
            "\n",
            "Pradedamas apmokymas su paviršiaus tipo svoriais...\n",
            "Tai užtruks nemažai laiko.\n",
            "WARNING ⚠️ 'name=model' automatically updated to 'name=yolov8n-seg'.\n",
            "Ultralytics 8.3.126 🚀 Python-3.11.12 torch-2.6.0+cu124 CUDA:0 (NVIDIA A100-SXM4-40GB, 40507MiB)\n"
          ]
        },
        {
          "output_type": "stream",
          "name": "stderr",
          "text": [
            "\n"
          ]
        },
        {
          "output_type": "stream",
          "name": "stdout",
          "text": [
            "\u001b[34m\u001b[1mengine/trainer: \u001b[0magnostic_nms=False, amp=True, augment=True, auto_augment=randaugment, batch=4, bgr=0.0, box=7.5, cache=disk, cfg=None, classes=None, close_mosaic=15, cls=0.5, conf=None, copy_paste=0.0, copy_paste_mode=flip, cos_lr=True, cutmix=0.0, data=/content/drive/MyDrive/Dangos Nustatymas/road_seg_20250504_132128/dataset.yaml, degrees=20.0, deterministic=True, device=cuda:0, dfl=1.5, dnn=False, dropout=0.0, dynamic=False, embed=None, epochs=130, erasing=0.4, exist_ok=False, fliplr=0.5, flipud=0.0, format=torchscript, fraction=1.0, freeze=None, half=False, hsv_h=0.15, hsv_s=0.5, hsv_v=0.5, imgsz=1024, int8=False, iou=0.7, keras=False, kobj=1.0, line_width=None, lr0=0.0005, lrf=0.001, mask_ratio=4, max_det=300, mixup=0.15, mode=train, model=yolov8n-seg.pt, momentum=0.937, mosaic=0.6, multi_scale=False, name=yolov8n-seg, nbs=64, nms=False, opset=None, optimize=False, optimizer=AdamW, overlap_mask=True, patience=20, perspective=0.0, plots=True, pose=12.0, pretrained=True, profile=False, project=/content/drive/MyDrive/Dangos Nustatymas/road_seg_20250504_132128, rect=False, resume=False, retina_masks=False, save=True, save_conf=False, save_crop=False, save_dir=/content/drive/MyDrive/Dangos Nustatymas/road_seg_20250504_132128/yolov8n-seg, save_frames=False, save_json=False, save_period=10, save_txt=False, scale=0.2, seed=0, shear=0.0, show=False, show_boxes=True, show_conf=True, show_labels=True, simplify=True, single_cls=True, source=None, split=val, stream_buffer=False, task=segment, time=None, tracker=botsort.yaml, translate=0.1, val=True, verbose=True, vid_stride=1, visualize=False, warmup_bias_lr=0.1, warmup_epochs=3, warmup_momentum=0.8, weight_decay=0.01, workers=8, workspace=None\n",
            "Downloading https://ultralytics.com/assets/Arial.ttf to '/root/.config/Ultralytics/Arial.ttf'...\n"
          ]
        },
        {
          "output_type": "stream",
          "name": "stderr",
          "text": [
            "100%|██████████| 755k/755k [00:00<00:00, 125MB/s]"
          ]
        },
        {
          "output_type": "stream",
          "name": "stdout",
          "text": [
            "Overriding class names with single class.\n",
            "Overriding model.yaml nc=80 with nc=1\n",
            "\n",
            "                   from  n    params  module                                       arguments                     \n",
            "  0                  -1  1       464  ultralytics.nn.modules.conv.Conv             [3, 16, 3, 2]                 \n",
            "  1                  -1  1      4672  ultralytics.nn.modules.conv.Conv             [16, 32, 3, 2]                \n",
            "  2                  -1  1      7360  ultralytics.nn.modules.block.C2f             [32, 32, 1, True]             \n",
            "  3                  -1  1     18560  ultralytics.nn.modules.conv.Conv             [32, 64, 3, 2]                \n",
            "  4                  -1  2     49664  ultralytics.nn.modules.block.C2f             [64, 64, 2, True]             \n",
            "  5                  -1  1     73984  ultralytics.nn.modules.conv.Conv             [64, 128, 3, 2]               \n",
            "  6                  -1  2    197632  ultralytics.nn.modules.block.C2f             [128, 128, 2, True]           \n",
            "  7                  -1  1    295424  ultralytics.nn.modules.conv.Conv             [128, 256, 3, 2]              \n",
            "  8                  -1  1    460288  ultralytics.nn.modules.block.C2f             [256, 256, 1, True]           \n",
            "  9                  -1  1    164608  ultralytics.nn.modules.block.SPPF            [256, 256, 5]                 \n",
            " 10                  -1  1         0  torch.nn.modules.upsampling.Upsample         [None, 2, 'nearest']          \n",
            " 11             [-1, 6]  1         0  ultralytics.nn.modules.conv.Concat           [1]                           \n",
            " 12                  -1  1    148224  ultralytics.nn.modules.block.C2f             [384, 128, 1]                 \n",
            " 13                  -1  1         0  torch.nn.modules.upsampling.Upsample         [None, 2, 'nearest']          \n",
            " 14             [-1, 4]  1         0  ultralytics.nn.modules.conv.Concat           [1]                           \n",
            " 15                  -1  1     37248  ultralytics.nn.modules.block.C2f             [192, 64, 1]                  \n",
            " 16                  -1  1     36992  ultralytics.nn.modules.conv.Conv             [64, 64, 3, 2]                \n",
            " 17            [-1, 12]  1         0  ultralytics.nn.modules.conv.Concat           [1]                           \n",
            " 18                  -1  1    123648  ultralytics.nn.modules.block.C2f             [192, 128, 1]                 \n",
            " 19                  -1  1    147712  ultralytics.nn.modules.conv.Conv             [128, 128, 3, 2]              \n",
            " 20             [-1, 9]  1         0  ultralytics.nn.modules.conv.Concat           [1]                           \n",
            " 21                  -1  1    493056  ultralytics.nn.modules.block.C2f             [384, 256, 1]                 \n",
            " 22        [15, 18, 21]  1   1004275  ultralytics.nn.modules.head.Segment          [1, 32, 64, [64, 128, 256]]   \n"
          ]
        },
        {
          "output_type": "stream",
          "name": "stderr",
          "text": [
            "\n"
          ]
        },
        {
          "output_type": "stream",
          "name": "stdout",
          "text": [
            "YOLOv8n-seg summary: 151 layers, 3,263,811 parameters, 3,263,795 gradients, 12.1 GFLOPs\n",
            "\n",
            "Transferred 381/417 items from pretrained weights\n",
            "Freezing layer 'model.22.dfl.conv.weight'\n",
            "\u001b[34m\u001b[1mAMP: \u001b[0mrunning Automatic Mixed Precision (AMP) checks...\n",
            "Downloading https://github.com/ultralytics/assets/releases/download/v8.3.0/yolo11n.pt to 'yolo11n.pt'...\n"
          ]
        },
        {
          "output_type": "stream",
          "name": "stderr",
          "text": [
            "100%|██████████| 5.35M/5.35M [00:00<00:00, 387MB/s]\n"
          ]
        },
        {
          "output_type": "stream",
          "name": "stdout",
          "text": [
            "\u001b[34m\u001b[1mAMP: \u001b[0mchecks passed ✅\n",
            "\u001b[34m\u001b[1mtrain: \u001b[0mFast image access ✅ (ping: 0.3±0.0 ms, read: 4.3±0.9 MB/s, size: 5520.4 KB)\n"
          ]
        },
        {
          "output_type": "stream",
          "name": "stderr",
          "text": [
            "\u001b[34m\u001b[1mtrain: \u001b[0mScanning /content/drive/MyDrive/Dangos Nustatymas/labels... 935 images, 0 backgrounds, 0 corrupt: 100%|██████████| 935/935 [03:29<00:00,  4.46it/s]\n"
          ]
        },
        {
          "output_type": "stream",
          "name": "stdout",
          "text": [
            "\u001b[34m\u001b[1mtrain: \u001b[0mNew cache created: /content/drive/MyDrive/Dangos Nustatymas/labels.cache\n"
          ]
        },
        {
          "output_type": "stream",
          "name": "stderr",
          "text": [
            "\u001b[34m\u001b[1mtrain: \u001b[0mCaching images (32.6GB Disk): 100%|██████████| 935/935 [00:00<00:00, 5517.39it/s]\n"
          ]
        },
        {
          "output_type": "stream",
          "name": "stdout",
          "text": [
            "\u001b[34m\u001b[1malbumentations: \u001b[0mBlur(p=0.01, blur_limit=(3, 7)), MedianBlur(p=0.01, blur_limit=(3, 7)), ToGray(p=0.01, method='weighted_average', num_output_channels=3), CLAHE(p=0.01, clip_limit=(1.0, 4.0), tile_grid_size=(8, 8))\n",
            "\u001b[34m\u001b[1mval: \u001b[0mFast image access ✅ (ping: 0.6±0.4 ms, read: 3.7±0.8 MB/s, size: 4186.6 KB)\n"
          ]
        },
        {
          "output_type": "stream",
          "name": "stderr",
          "text": [
            "\u001b[34m\u001b[1mval: \u001b[0mScanning /content/drive/MyDrive/Dangos Nustatymas/labels... 267 images, 0 backgrounds, 0 corrupt: 100%|██████████| 267/267 [01:02<00:00,  4.24it/s]"
          ]
        },
        {
          "output_type": "stream",
          "name": "stdout",
          "text": [
            "\u001b[34m\u001b[1mval: \u001b[0mNew cache created: /content/drive/MyDrive/Dangos Nustatymas/labels.cache\n"
          ]
        },
        {
          "output_type": "stream",
          "name": "stderr",
          "text": [
            "\n",
            "\u001b[34m\u001b[1mval: \u001b[0mCaching images (9.3GB Disk): 100%|██████████| 267/267 [00:00<00:00, 6503.06it/s]\n"
          ]
        },
        {
          "output_type": "stream",
          "name": "stdout",
          "text": [
            "Plotting labels to /content/drive/MyDrive/Dangos Nustatymas/road_seg_20250504_132128/yolov8n-seg/labels.jpg... \n",
            "\u001b[34m\u001b[1moptimizer:\u001b[0m AdamW(lr=0.0005, momentum=0.937) with parameter groups 66 weight(decay=0.0), 77 weight(decay=0.01), 76 bias(decay=0.0)\n",
            "Image sizes 1024 train, 1024 val\n",
            "Using 8 dataloader workers\n",
            "Logging results to \u001b[1m/content/drive/MyDrive/Dangos Nustatymas/road_seg_20250504_132128/yolov8n-seg\u001b[0m\n",
            "Starting training for 130 epochs...\n",
            "\n",
            "      Epoch    GPU_mem   box_loss   seg_loss   cls_loss   dfl_loss  Instances       Size\n"
          ]
        },
        {
          "output_type": "stream",
          "name": "stderr",
          "text": [
            "      1/130      1.69G      1.568      2.858       2.04      1.989          9       1024: 100%|██████████| 234/234 [03:51<00:00,  1.01it/s]\n",
            "                 Class     Images  Instances      Box(P          R      mAP50  mAP50-95)     Mask(P          R      mAP50  mAP50-95): 100%|██████████| 34/34 [00:34<00:00,  1.02s/it]"
          ]
        },
        {
          "output_type": "stream",
          "name": "stdout",
          "text": [
            "                   all        267        354      0.869      0.694      0.723      0.408      0.708      0.542      0.466      0.148\n"
          ]
        },
        {
          "output_type": "stream",
          "name": "stderr",
          "text": [
            "\n"
          ]
        },
        {
          "output_type": "stream",
          "name": "stdout",
          "text": [
            "\n",
            "      Epoch    GPU_mem   box_loss   seg_loss   cls_loss   dfl_loss  Instances       Size\n"
          ]
        },
        {
          "output_type": "stream",
          "name": "stderr",
          "text": [
            "      2/130      1.89G      1.368       2.18      1.457      1.795          5       1024: 100%|██████████| 234/234 [01:39<00:00,  2.34it/s]\n",
            "                 Class     Images  Instances      Box(P          R      mAP50  mAP50-95)     Mask(P          R      mAP50  mAP50-95): 100%|██████████| 34/34 [00:05<00:00,  6.79it/s]"
          ]
        },
        {
          "output_type": "stream",
          "name": "stdout",
          "text": [
            "                   all        267        354      0.884      0.703      0.743      0.464      0.896      0.712      0.745      0.475\n"
          ]
        },
        {
          "output_type": "stream",
          "name": "stderr",
          "text": [
            "\n"
          ]
        },
        {
          "output_type": "stream",
          "name": "stdout",
          "text": [
            "\n",
            "      Epoch    GPU_mem   box_loss   seg_loss   cls_loss   dfl_loss  Instances       Size\n"
          ]
        },
        {
          "output_type": "stream",
          "name": "stderr",
          "text": [
            "      3/130      1.89G      1.255      1.924      1.264      1.712         10       1024: 100%|██████████| 234/234 [01:31<00:00,  2.57it/s]\n",
            "                 Class     Images  Instances      Box(P          R      mAP50  mAP50-95)     Mask(P          R      mAP50  mAP50-95): 100%|██████████| 34/34 [00:03<00:00,  9.01it/s]"
          ]
        },
        {
          "output_type": "stream",
          "name": "stdout",
          "text": [
            "                   all        267        354      0.961      0.729      0.776       0.45      0.961      0.729      0.773      0.483\n"
          ]
        },
        {
          "output_type": "stream",
          "name": "stderr",
          "text": [
            "\n"
          ]
        },
        {
          "output_type": "stream",
          "name": "stdout",
          "text": [
            "\n",
            "      Epoch    GPU_mem   box_loss   seg_loss   cls_loss   dfl_loss  Instances       Size\n"
          ]
        },
        {
          "output_type": "stream",
          "name": "stderr",
          "text": [
            "      4/130       1.9G      1.229       1.85      1.201      1.672          9       1024: 100%|██████████| 234/234 [01:24<00:00,  2.78it/s]\n",
            "                 Class     Images  Instances      Box(P          R      mAP50  mAP50-95)     Mask(P          R      mAP50  mAP50-95): 100%|██████████| 34/34 [00:04<00:00,  7.79it/s]\n"
          ]
        },
        {
          "output_type": "stream",
          "name": "stdout",
          "text": [
            "                   all        267        354      0.948       0.74       0.76      0.456      0.948       0.74      0.757      0.477\n",
            "\n",
            "      Epoch    GPU_mem   box_loss   seg_loss   cls_loss   dfl_loss  Instances       Size\n"
          ]
        },
        {
          "output_type": "stream",
          "name": "stderr",
          "text": [
            "      5/130      1.91G      1.197      1.738      1.165      1.624          8       1024: 100%|██████████| 234/234 [01:16<00:00,  3.05it/s]\n",
            "                 Class     Images  Instances      Box(P          R      mAP50  mAP50-95)     Mask(P          R      mAP50  mAP50-95): 100%|██████████| 34/34 [00:05<00:00,  5.98it/s]"
          ]
        },
        {
          "output_type": "stream",
          "name": "stdout",
          "text": [
            "                   all        267        354      0.908      0.732      0.763      0.511      0.908      0.732       0.76      0.538\n"
          ]
        },
        {
          "output_type": "stream",
          "name": "stderr",
          "text": [
            "\n"
          ]
        },
        {
          "output_type": "stream",
          "name": "stdout",
          "text": [
            "\n",
            "      Epoch    GPU_mem   box_loss   seg_loss   cls_loss   dfl_loss  Instances       Size\n"
          ]
        },
        {
          "output_type": "stream",
          "name": "stderr",
          "text": [
            "      6/130      1.92G      1.173      1.724      1.084      1.598          6       1024: 100%|██████████| 234/234 [01:22<00:00,  2.82it/s]\n",
            "                 Class     Images  Instances      Box(P          R      mAP50  mAP50-95)     Mask(P          R      mAP50  mAP50-95): 100%|██████████| 34/34 [00:04<00:00,  8.28it/s]"
          ]
        },
        {
          "output_type": "stream",
          "name": "stdout",
          "text": [
            "                   all        267        354      0.934      0.723       0.77       0.54      0.919      0.733       0.77      0.559\n"
          ]
        },
        {
          "output_type": "stream",
          "name": "stderr",
          "text": [
            "\n"
          ]
        },
        {
          "output_type": "stream",
          "name": "stdout",
          "text": [
            "\n",
            "      Epoch    GPU_mem   box_loss   seg_loss   cls_loss   dfl_loss  Instances       Size\n"
          ]
        },
        {
          "output_type": "stream",
          "name": "stderr",
          "text": [
            "      7/130      1.92G      1.143      1.643      1.024      1.593          5       1024: 100%|██████████| 234/234 [01:12<00:00,  3.22it/s]\n",
            "                 Class     Images  Instances      Box(P          R      mAP50  mAP50-95)     Mask(P          R      mAP50  mAP50-95): 100%|██████████| 34/34 [00:04<00:00,  7.66it/s]"
          ]
        },
        {
          "output_type": "stream",
          "name": "stdout",
          "text": [
            "                   all        267        354      0.974      0.736      0.802      0.537      0.966       0.73      0.789      0.549\n"
          ]
        },
        {
          "output_type": "stream",
          "name": "stderr",
          "text": [
            "\n"
          ]
        },
        {
          "output_type": "stream",
          "name": "stdout",
          "text": [
            "\n",
            "      Epoch    GPU_mem   box_loss   seg_loss   cls_loss   dfl_loss  Instances       Size\n"
          ]
        },
        {
          "output_type": "stream",
          "name": "stderr",
          "text": [
            "      8/130      1.92G      1.143      1.597      1.024      1.577          9       1024: 100%|██████████| 234/234 [01:15<00:00,  3.10it/s]\n",
            "                 Class     Images  Instances      Box(P          R      mAP50  mAP50-95)     Mask(P          R      mAP50  mAP50-95): 100%|██████████| 34/34 [00:04<00:00,  8.23it/s]"
          ]
        },
        {
          "output_type": "stream",
          "name": "stdout",
          "text": [
            "                   all        267        354      0.939      0.736      0.803       0.57      0.939      0.736      0.798      0.589\n"
          ]
        },
        {
          "output_type": "stream",
          "name": "stderr",
          "text": [
            "\n"
          ]
        },
        {
          "output_type": "stream",
          "name": "stdout",
          "text": [
            "\n",
            "      Epoch    GPU_mem   box_loss   seg_loss   cls_loss   dfl_loss  Instances       Size\n"
          ]
        },
        {
          "output_type": "stream",
          "name": "stderr",
          "text": [
            "      9/130      1.92G      1.097      1.532     0.9761      1.544          5       1024: 100%|██████████| 234/234 [01:12<00:00,  3.24it/s]\n",
            "                 Class     Images  Instances      Box(P          R      mAP50  mAP50-95)     Mask(P          R      mAP50  mAP50-95): 100%|██████████| 34/34 [00:04<00:00,  7.76it/s]"
          ]
        },
        {
          "output_type": "stream",
          "name": "stdout",
          "text": [
            "                   all        267        354      0.973       0.74      0.793       0.56      0.973       0.74      0.793      0.581\n"
          ]
        },
        {
          "output_type": "stream",
          "name": "stderr",
          "text": [
            "\n"
          ]
        },
        {
          "output_type": "stream",
          "name": "stdout",
          "text": [
            "\n",
            "      Epoch    GPU_mem   box_loss   seg_loss   cls_loss   dfl_loss  Instances       Size\n"
          ]
        },
        {
          "output_type": "stream",
          "name": "stderr",
          "text": [
            "     10/130      1.94G      1.045      1.482     0.8999      1.504         11       1024: 100%|██████████| 234/234 [01:20<00:00,  2.90it/s]\n",
            "                 Class     Images  Instances      Box(P          R      mAP50  mAP50-95)     Mask(P          R      mAP50  mAP50-95): 100%|██████████| 34/34 [00:03<00:00,  8.64it/s]"
          ]
        },
        {
          "output_type": "stream",
          "name": "stdout",
          "text": [
            "                   all        267        354      0.938      0.746      0.808      0.576      0.958      0.734      0.807      0.609\n"
          ]
        },
        {
          "output_type": "stream",
          "name": "stderr",
          "text": [
            "\n"
          ]
        },
        {
          "output_type": "stream",
          "name": "stdout",
          "text": [
            "\n",
            "      Epoch    GPU_mem   box_loss   seg_loss   cls_loss   dfl_loss  Instances       Size\n"
          ]
        },
        {
          "output_type": "stream",
          "name": "stderr",
          "text": [
            "     11/130      1.94G       1.07      1.605     0.9352      1.508          6       1024: 100%|██████████| 234/234 [01:10<00:00,  3.30it/s]\n",
            "                 Class     Images  Instances      Box(P          R      mAP50  mAP50-95)     Mask(P          R      mAP50  mAP50-95): 100%|██████████| 34/34 [00:04<00:00,  6.92it/s]"
          ]
        },
        {
          "output_type": "stream",
          "name": "stdout",
          "text": [
            "                   all        267        354      0.978       0.75      0.808      0.568      0.978       0.75      0.808      0.553\n"
          ]
        },
        {
          "output_type": "stream",
          "name": "stderr",
          "text": [
            "\n"
          ]
        },
        {
          "output_type": "stream",
          "name": "stdout",
          "text": [
            "\n",
            "      Epoch    GPU_mem   box_loss   seg_loss   cls_loss   dfl_loss  Instances       Size\n"
          ]
        },
        {
          "output_type": "stream",
          "name": "stderr",
          "text": [
            "     12/130      1.96G      1.041      1.495     0.9213       1.48          4       1024: 100%|██████████| 234/234 [01:08<00:00,  3.42it/s]\n",
            "                 Class     Images  Instances      Box(P          R      mAP50  mAP50-95)     Mask(P          R      mAP50  mAP50-95): 100%|██████████| 34/34 [00:03<00:00,  9.07it/s]"
          ]
        },
        {
          "output_type": "stream",
          "name": "stdout",
          "text": [
            "                   all        267        354      0.989      0.745      0.812        0.6      0.989      0.745      0.811      0.616\n"
          ]
        },
        {
          "output_type": "stream",
          "name": "stderr",
          "text": [
            "\n"
          ]
        },
        {
          "output_type": "stream",
          "name": "stdout",
          "text": [
            "\n",
            "      Epoch    GPU_mem   box_loss   seg_loss   cls_loss   dfl_loss  Instances       Size\n"
          ]
        },
        {
          "output_type": "stream",
          "name": "stderr",
          "text": [
            "     13/130      1.98G      1.019      1.495     0.8784      1.479          8       1024: 100%|██████████| 234/234 [01:09<00:00,  3.34it/s]\n",
            "                 Class     Images  Instances      Box(P          R      mAP50  mAP50-95)     Mask(P          R      mAP50  mAP50-95): 100%|██████████| 34/34 [00:05<00:00,  6.41it/s]"
          ]
        },
        {
          "output_type": "stream",
          "name": "stdout",
          "text": [
            "                   all        267        354      0.988      0.751      0.817      0.581      0.988      0.751      0.816       0.62\n"
          ]
        },
        {
          "output_type": "stream",
          "name": "stderr",
          "text": [
            "\n"
          ]
        },
        {
          "output_type": "stream",
          "name": "stdout",
          "text": [
            "\n",
            "      Epoch    GPU_mem   box_loss   seg_loss   cls_loss   dfl_loss  Instances       Size\n"
          ]
        },
        {
          "output_type": "stream",
          "name": "stderr",
          "text": [
            "     14/130      1.98G      1.025      1.531     0.9051      1.461          5       1024: 100%|██████████| 234/234 [01:20<00:00,  2.90it/s]\n",
            "                 Class     Images  Instances      Box(P          R      mAP50  mAP50-95)     Mask(P          R      mAP50  mAP50-95): 100%|██████████| 34/34 [00:05<00:00,  6.12it/s]"
          ]
        },
        {
          "output_type": "stream",
          "name": "stdout",
          "text": [
            "                   all        267        354      0.979      0.754      0.822      0.602      0.975      0.751      0.815      0.618\n"
          ]
        },
        {
          "output_type": "stream",
          "name": "stderr",
          "text": [
            "\n"
          ]
        },
        {
          "output_type": "stream",
          "name": "stdout",
          "text": [
            "\n",
            "      Epoch    GPU_mem   box_loss   seg_loss   cls_loss   dfl_loss  Instances       Size\n"
          ]
        },
        {
          "output_type": "stream",
          "name": "stderr",
          "text": [
            "     15/130      1.98G       1.01      1.482     0.8546      1.476          7       1024: 100%|██████████| 234/234 [01:15<00:00,  3.12it/s]\n",
            "                 Class     Images  Instances      Box(P          R      mAP50  mAP50-95)     Mask(P          R      mAP50  mAP50-95): 100%|██████████| 34/34 [00:05<00:00,  6.76it/s]"
          ]
        },
        {
          "output_type": "stream",
          "name": "stdout",
          "text": [
            "                   all        267        354      0.949      0.757      0.812      0.588      0.939      0.766      0.808      0.612\n"
          ]
        },
        {
          "output_type": "stream",
          "name": "stderr",
          "text": [
            "\n"
          ]
        },
        {
          "output_type": "stream",
          "name": "stdout",
          "text": [
            "\n",
            "      Epoch    GPU_mem   box_loss   seg_loss   cls_loss   dfl_loss  Instances       Size\n"
          ]
        },
        {
          "output_type": "stream",
          "name": "stderr",
          "text": [
            "     16/130      1.98G     0.9695      1.367     0.8205      1.423         11       1024: 100%|██████████| 234/234 [01:06<00:00,  3.51it/s]\n",
            "                 Class     Images  Instances      Box(P          R      mAP50  mAP50-95)     Mask(P          R      mAP50  mAP50-95): 100%|██████████| 34/34 [00:04<00:00,  7.92it/s]"
          ]
        },
        {
          "output_type": "stream",
          "name": "stdout",
          "text": [
            "                   all        267        354      0.996       0.75      0.818      0.608      0.992      0.747      0.818      0.633\n"
          ]
        },
        {
          "output_type": "stream",
          "name": "stderr",
          "text": [
            "\n"
          ]
        },
        {
          "output_type": "stream",
          "name": "stdout",
          "text": [
            "\n",
            "      Epoch    GPU_mem   box_loss   seg_loss   cls_loss   dfl_loss  Instances       Size\n"
          ]
        },
        {
          "output_type": "stream",
          "name": "stderr",
          "text": [
            "     17/130      1.98G     0.9852      1.406     0.8294      1.435          8       1024: 100%|██████████| 234/234 [01:08<00:00,  3.40it/s]\n",
            "                 Class     Images  Instances      Box(P          R      mAP50  mAP50-95)     Mask(P          R      mAP50  mAP50-95): 100%|██████████| 34/34 [00:04<00:00,  8.29it/s]"
          ]
        },
        {
          "output_type": "stream",
          "name": "stdout",
          "text": [
            "                   all        267        354      0.978      0.753      0.828      0.604      0.978      0.753      0.826      0.635\n"
          ]
        },
        {
          "output_type": "stream",
          "name": "stderr",
          "text": [
            "\n"
          ]
        },
        {
          "output_type": "stream",
          "name": "stdout",
          "text": [
            "\n",
            "      Epoch    GPU_mem   box_loss   seg_loss   cls_loss   dfl_loss  Instances       Size\n"
          ]
        },
        {
          "output_type": "stream",
          "name": "stderr",
          "text": [
            "     18/130      1.98G     0.9737      1.401     0.8079      1.429          7       1024: 100%|██████████| 234/234 [01:16<00:00,  3.07it/s]\n",
            "                 Class     Images  Instances      Box(P          R      mAP50  mAP50-95)     Mask(P          R      mAP50  mAP50-95): 100%|██████████| 34/34 [00:04<00:00,  7.42it/s]"
          ]
        },
        {
          "output_type": "stream",
          "name": "stdout",
          "text": [
            "                   all        267        354      0.989      0.748      0.829      0.594      0.989      0.748      0.823      0.633\n"
          ]
        },
        {
          "output_type": "stream",
          "name": "stderr",
          "text": [
            "\n"
          ]
        },
        {
          "output_type": "stream",
          "name": "stdout",
          "text": [
            "\n",
            "      Epoch    GPU_mem   box_loss   seg_loss   cls_loss   dfl_loss  Instances       Size\n"
          ]
        },
        {
          "output_type": "stream",
          "name": "stderr",
          "text": [
            "     19/130      1.98G     0.9734      1.456     0.8319      1.419          6       1024: 100%|██████████| 234/234 [01:07<00:00,  3.48it/s]\n",
            "                 Class     Images  Instances      Box(P          R      mAP50  mAP50-95)     Mask(P          R      mAP50  mAP50-95): 100%|██████████| 34/34 [00:03<00:00,  8.57it/s]"
          ]
        },
        {
          "output_type": "stream",
          "name": "stdout",
          "text": [
            "                   all        267        354      0.985      0.749      0.832      0.626      0.971      0.765      0.828      0.635\n"
          ]
        },
        {
          "output_type": "stream",
          "name": "stderr",
          "text": [
            "\n"
          ]
        },
        {
          "output_type": "stream",
          "name": "stdout",
          "text": [
            "\n",
            "      Epoch    GPU_mem   box_loss   seg_loss   cls_loss   dfl_loss  Instances       Size\n"
          ]
        },
        {
          "output_type": "stream",
          "name": "stderr",
          "text": [
            "     20/130      1.98G      0.913      1.316     0.7549      1.388          4       1024: 100%|██████████| 234/234 [01:07<00:00,  3.46it/s]\n",
            "                 Class     Images  Instances      Box(P          R      mAP50  mAP50-95)     Mask(P          R      mAP50  mAP50-95): 100%|██████████| 34/34 [00:05<00:00,  6.43it/s]"
          ]
        },
        {
          "output_type": "stream",
          "name": "stdout",
          "text": [
            "                   all        267        354      0.983      0.746       0.81      0.624      0.985      0.751      0.807      0.607\n"
          ]
        },
        {
          "output_type": "stream",
          "name": "stderr",
          "text": [
            "\n"
          ]
        },
        {
          "output_type": "stream",
          "name": "stdout",
          "text": [
            "\n",
            "      Epoch    GPU_mem   box_loss   seg_loss   cls_loss   dfl_loss  Instances       Size\n"
          ]
        },
        {
          "output_type": "stream",
          "name": "stderr",
          "text": [
            "     21/130      1.98G     0.9245      1.378     0.7586      1.384          4       1024: 100%|██████████| 234/234 [01:08<00:00,  3.40it/s]\n",
            "                 Class     Images  Instances      Box(P          R      mAP50  mAP50-95)     Mask(P          R      mAP50  mAP50-95): 100%|██████████| 34/34 [00:03<00:00,  8.60it/s]"
          ]
        },
        {
          "output_type": "stream",
          "name": "stdout",
          "text": [
            "                   all        267        354      0.964      0.766      0.836      0.615      0.964      0.766      0.836      0.652\n"
          ]
        },
        {
          "output_type": "stream",
          "name": "stderr",
          "text": [
            "\n"
          ]
        },
        {
          "output_type": "stream",
          "name": "stdout",
          "text": [
            "\n",
            "      Epoch    GPU_mem   box_loss   seg_loss   cls_loss   dfl_loss  Instances       Size\n"
          ]
        },
        {
          "output_type": "stream",
          "name": "stderr",
          "text": [
            "     22/130      1.98G     0.9219      1.298     0.7637       1.38          4       1024: 100%|██████████| 234/234 [01:12<00:00,  3.24it/s]\n",
            "                 Class     Images  Instances      Box(P          R      mAP50  mAP50-95)     Mask(P          R      mAP50  mAP50-95): 100%|██████████| 34/34 [00:03<00:00,  8.80it/s]"
          ]
        },
        {
          "output_type": "stream",
          "name": "stdout",
          "text": [
            "                   all        267        354       0.97      0.751      0.831      0.638      0.969      0.757      0.837      0.652\n"
          ]
        },
        {
          "output_type": "stream",
          "name": "stderr",
          "text": [
            "\n"
          ]
        },
        {
          "output_type": "stream",
          "name": "stdout",
          "text": [
            "\n",
            "      Epoch    GPU_mem   box_loss   seg_loss   cls_loss   dfl_loss  Instances       Size\n"
          ]
        },
        {
          "output_type": "stream",
          "name": "stderr",
          "text": [
            "     23/130      1.98G     0.9439      1.404     0.7804      1.409          7       1024: 100%|██████████| 234/234 [01:12<00:00,  3.24it/s]\n",
            "                 Class     Images  Instances      Box(P          R      mAP50  mAP50-95)     Mask(P          R      mAP50  mAP50-95): 100%|██████████| 34/34 [00:04<00:00,  7.42it/s]"
          ]
        },
        {
          "output_type": "stream",
          "name": "stdout",
          "text": [
            "                   all        267        354      0.961      0.777      0.835      0.642      0.961      0.777      0.836      0.658\n"
          ]
        },
        {
          "output_type": "stream",
          "name": "stderr",
          "text": [
            "\n"
          ]
        },
        {
          "output_type": "stream",
          "name": "stdout",
          "text": [
            "\n",
            "      Epoch    GPU_mem   box_loss   seg_loss   cls_loss   dfl_loss  Instances       Size\n"
          ]
        },
        {
          "output_type": "stream",
          "name": "stderr",
          "text": [
            "     24/130      1.98G     0.9154      1.268     0.7492      1.372          5       1024: 100%|██████████| 234/234 [01:06<00:00,  3.50it/s]\n",
            "                 Class     Images  Instances      Box(P          R      mAP50  mAP50-95)     Mask(P          R      mAP50  mAP50-95): 100%|██████████| 34/34 [00:04<00:00,  7.33it/s]"
          ]
        },
        {
          "output_type": "stream",
          "name": "stdout",
          "text": [
            "                   all        267        354      0.953      0.785      0.839      0.617      0.956      0.788      0.845      0.658\n"
          ]
        },
        {
          "output_type": "stream",
          "name": "stderr",
          "text": [
            "\n"
          ]
        },
        {
          "output_type": "stream",
          "name": "stdout",
          "text": [
            "\n",
            "      Epoch    GPU_mem   box_loss   seg_loss   cls_loss   dfl_loss  Instances       Size\n"
          ]
        },
        {
          "output_type": "stream",
          "name": "stderr",
          "text": [
            "     25/130      1.98G     0.8744      1.243     0.6909       1.34          4       1024: 100%|██████████| 234/234 [01:06<00:00,  3.53it/s]\n",
            "                 Class     Images  Instances      Box(P          R      mAP50  mAP50-95)     Mask(P          R      mAP50  mAP50-95): 100%|██████████| 34/34 [00:04<00:00,  8.09it/s]"
          ]
        },
        {
          "output_type": "stream",
          "name": "stdout",
          "text": [
            "                   all        267        354      0.973       0.78      0.837      0.627      0.977      0.782      0.836      0.654\n"
          ]
        },
        {
          "output_type": "stream",
          "name": "stderr",
          "text": [
            "\n"
          ]
        },
        {
          "output_type": "stream",
          "name": "stdout",
          "text": [
            "\n",
            "      Epoch    GPU_mem   box_loss   seg_loss   cls_loss   dfl_loss  Instances       Size\n"
          ]
        },
        {
          "output_type": "stream",
          "name": "stderr",
          "text": [
            "     26/130      1.98G     0.9267      1.338     0.7468      1.391         10       1024: 100%|██████████| 234/234 [01:13<00:00,  3.18it/s]\n",
            "                 Class     Images  Instances      Box(P          R      mAP50  mAP50-95)     Mask(P          R      mAP50  mAP50-95): 100%|██████████| 34/34 [00:05<00:00,  5.71it/s]"
          ]
        },
        {
          "output_type": "stream",
          "name": "stdout",
          "text": [
            "                   all        267        354      0.971      0.777      0.846       0.64      0.971      0.777       0.84      0.672\n"
          ]
        },
        {
          "output_type": "stream",
          "name": "stderr",
          "text": [
            "\n"
          ]
        },
        {
          "output_type": "stream",
          "name": "stdout",
          "text": [
            "\n",
            "      Epoch    GPU_mem   box_loss   seg_loss   cls_loss   dfl_loss  Instances       Size\n"
          ]
        },
        {
          "output_type": "stream",
          "name": "stderr",
          "text": [
            "     27/130      1.98G     0.8868      1.236     0.7363      1.354          9       1024: 100%|██████████| 234/234 [01:07<00:00,  3.46it/s]\n",
            "                 Class     Images  Instances      Box(P          R      mAP50  mAP50-95)     Mask(P          R      mAP50  mAP50-95): 100%|██████████| 34/34 [00:04<00:00,  8.14it/s]"
          ]
        },
        {
          "output_type": "stream",
          "name": "stdout",
          "text": [
            "                   all        267        354      0.952      0.785      0.863      0.663      0.952       0.78      0.852      0.662\n"
          ]
        },
        {
          "output_type": "stream",
          "name": "stderr",
          "text": [
            "\n"
          ]
        },
        {
          "output_type": "stream",
          "name": "stdout",
          "text": [
            "\n",
            "      Epoch    GPU_mem   box_loss   seg_loss   cls_loss   dfl_loss  Instances       Size\n"
          ]
        },
        {
          "output_type": "stream",
          "name": "stderr",
          "text": [
            "     28/130      1.98G     0.8909      1.201        0.7      1.365          7       1024: 100%|██████████| 234/234 [01:10<00:00,  3.33it/s]\n",
            "                 Class     Images  Instances      Box(P          R      mAP50  mAP50-95)     Mask(P          R      mAP50  mAP50-95): 100%|██████████| 34/34 [00:05<00:00,  5.68it/s]"
          ]
        },
        {
          "output_type": "stream",
          "name": "stdout",
          "text": [
            "                   all        267        354       0.99      0.749      0.847      0.646      0.958      0.776      0.845      0.671\n"
          ]
        },
        {
          "output_type": "stream",
          "name": "stderr",
          "text": [
            "\n"
          ]
        },
        {
          "output_type": "stream",
          "name": "stdout",
          "text": [
            "\n",
            "      Epoch    GPU_mem   box_loss   seg_loss   cls_loss   dfl_loss  Instances       Size\n"
          ]
        },
        {
          "output_type": "stream",
          "name": "stderr",
          "text": [
            "     29/130      1.98G     0.9271      1.359     0.7307       1.37          6       1024: 100%|██████████| 234/234 [01:04<00:00,  3.62it/s]\n",
            "                 Class     Images  Instances      Box(P          R      mAP50  mAP50-95)     Mask(P          R      mAP50  mAP50-95): 100%|██████████| 34/34 [00:04<00:00,  7.54it/s]"
          ]
        },
        {
          "output_type": "stream",
          "name": "stdout",
          "text": [
            "                   all        267        354       0.98      0.757      0.857       0.64       0.98      0.757      0.855      0.655\n"
          ]
        },
        {
          "output_type": "stream",
          "name": "stderr",
          "text": [
            "\n"
          ]
        },
        {
          "output_type": "stream",
          "name": "stdout",
          "text": [
            "\n",
            "      Epoch    GPU_mem   box_loss   seg_loss   cls_loss   dfl_loss  Instances       Size\n"
          ]
        },
        {
          "output_type": "stream",
          "name": "stderr",
          "text": [
            "     30/130      1.98G     0.8753       1.22     0.6719      1.345         10       1024: 100%|██████████| 234/234 [01:05<00:00,  3.56it/s]\n",
            "                 Class     Images  Instances      Box(P          R      mAP50  mAP50-95)     Mask(P          R      mAP50  mAP50-95): 100%|██████████| 34/34 [00:04<00:00,  7.38it/s]"
          ]
        },
        {
          "output_type": "stream",
          "name": "stdout",
          "text": [
            "                   all        267        354      0.971      0.761      0.842      0.656      0.952      0.782      0.839      0.665\n"
          ]
        },
        {
          "output_type": "stream",
          "name": "stderr",
          "text": [
            "\n"
          ]
        },
        {
          "output_type": "stream",
          "name": "stdout",
          "text": [
            "\n",
            "      Epoch    GPU_mem   box_loss   seg_loss   cls_loss   dfl_loss  Instances       Size\n"
          ]
        },
        {
          "output_type": "stream",
          "name": "stderr",
          "text": [
            "     31/130      1.98G     0.8489      1.189     0.6631      1.311          5       1024: 100%|██████████| 234/234 [01:05<00:00,  3.57it/s]\n",
            "                 Class     Images  Instances      Box(P          R      mAP50  mAP50-95)     Mask(P          R      mAP50  mAP50-95): 100%|██████████| 34/34 [00:04<00:00,  7.14it/s]"
          ]
        },
        {
          "output_type": "stream",
          "name": "stdout",
          "text": [
            "                   all        267        354      0.985      0.766      0.854      0.665      0.985      0.766      0.855      0.672\n"
          ]
        },
        {
          "output_type": "stream",
          "name": "stderr",
          "text": [
            "\n"
          ]
        },
        {
          "output_type": "stream",
          "name": "stdout",
          "text": [
            "\n",
            "      Epoch    GPU_mem   box_loss   seg_loss   cls_loss   dfl_loss  Instances       Size\n"
          ]
        },
        {
          "output_type": "stream",
          "name": "stderr",
          "text": [
            "     32/130      1.98G     0.8429      1.197     0.6666      1.309         12       1024: 100%|██████████| 234/234 [01:03<00:00,  3.70it/s]\n",
            "                 Class     Images  Instances      Box(P          R      mAP50  mAP50-95)     Mask(P          R      mAP50  mAP50-95): 100%|██████████| 34/34 [00:03<00:00,  8.64it/s]"
          ]
        },
        {
          "output_type": "stream",
          "name": "stdout",
          "text": [
            "                   all        267        354      0.962      0.766      0.846       0.66      0.966      0.782      0.851      0.672\n"
          ]
        },
        {
          "output_type": "stream",
          "name": "stderr",
          "text": [
            "\n"
          ]
        },
        {
          "output_type": "stream",
          "name": "stdout",
          "text": [
            "\n",
            "      Epoch    GPU_mem   box_loss   seg_loss   cls_loss   dfl_loss  Instances       Size\n"
          ]
        },
        {
          "output_type": "stream",
          "name": "stderr",
          "text": [
            "     33/130      1.98G     0.8462      1.218     0.6757      1.318          5       1024: 100%|██████████| 234/234 [01:07<00:00,  3.47it/s]\n",
            "                 Class     Images  Instances      Box(P          R      mAP50  mAP50-95)     Mask(P          R      mAP50  mAP50-95): 100%|██████████| 34/34 [00:04<00:00,  8.32it/s]"
          ]
        },
        {
          "output_type": "stream",
          "name": "stdout",
          "text": [
            "                   all        267        354      0.985       0.76       0.83      0.629      0.985       0.76      0.828      0.663\n"
          ]
        },
        {
          "output_type": "stream",
          "name": "stderr",
          "text": [
            "\n"
          ]
        },
        {
          "output_type": "stream",
          "name": "stdout",
          "text": [
            "\n",
            "      Epoch    GPU_mem   box_loss   seg_loss   cls_loss   dfl_loss  Instances       Size\n"
          ]
        },
        {
          "output_type": "stream",
          "name": "stderr",
          "text": [
            "     34/130      1.98G     0.8627      1.256     0.6759      1.314          7       1024: 100%|██████████| 234/234 [01:08<00:00,  3.41it/s]\n",
            "                 Class     Images  Instances      Box(P          R      mAP50  mAP50-95)     Mask(P          R      mAP50  mAP50-95): 100%|██████████| 34/34 [00:04<00:00,  7.76it/s]"
          ]
        },
        {
          "output_type": "stream",
          "name": "stdout",
          "text": [
            "                   all        267        354      0.989      0.768      0.829      0.641      0.993      0.771      0.831      0.652\n"
          ]
        },
        {
          "output_type": "stream",
          "name": "stderr",
          "text": [
            "\n"
          ]
        },
        {
          "output_type": "stream",
          "name": "stdout",
          "text": [
            "\n",
            "      Epoch    GPU_mem   box_loss   seg_loss   cls_loss   dfl_loss  Instances       Size\n"
          ]
        },
        {
          "output_type": "stream",
          "name": "stderr",
          "text": [
            "     35/130      1.98G     0.8707      1.235     0.6813      1.334          5       1024: 100%|██████████| 234/234 [01:03<00:00,  3.68it/s]\n",
            "                 Class     Images  Instances      Box(P          R      mAP50  mAP50-95)     Mask(P          R      mAP50  mAP50-95): 100%|██████████| 34/34 [00:06<00:00,  5.25it/s]\n"
          ]
        },
        {
          "output_type": "stream",
          "name": "stdout",
          "text": [
            "                   all        267        354      0.977      0.771      0.829      0.638      0.977      0.771      0.829      0.651\n",
            "\n",
            "      Epoch    GPU_mem   box_loss   seg_loss   cls_loss   dfl_loss  Instances       Size\n"
          ]
        },
        {
          "output_type": "stream",
          "name": "stderr",
          "text": [
            "     36/130      1.98G     0.8229      1.143     0.6371       1.29         11       1024: 100%|██████████| 234/234 [01:03<00:00,  3.68it/s]\n",
            "                 Class     Images  Instances      Box(P          R      mAP50  mAP50-95)     Mask(P          R      mAP50  mAP50-95): 100%|██████████| 34/34 [00:04<00:00,  8.42it/s]\n"
          ]
        },
        {
          "output_type": "stream",
          "name": "stdout",
          "text": [
            "                   all        267        354      0.992      0.751      0.841      0.649      0.992      0.751      0.842      0.675\n",
            "\n",
            "      Epoch    GPU_mem   box_loss   seg_loss   cls_loss   dfl_loss  Instances       Size\n"
          ]
        },
        {
          "output_type": "stream",
          "name": "stderr",
          "text": [
            "     37/130      1.98G     0.8318      1.174     0.6487       1.31          8       1024: 100%|██████████| 234/234 [01:06<00:00,  3.53it/s]\n",
            "                 Class     Images  Instances      Box(P          R      mAP50  mAP50-95)     Mask(P          R      mAP50  mAP50-95): 100%|██████████| 34/34 [00:04<00:00,  7.59it/s]"
          ]
        },
        {
          "output_type": "stream",
          "name": "stdout",
          "text": [
            "                   all        267        354      0.965      0.791      0.841       0.64      0.965      0.777       0.83      0.669\n"
          ]
        },
        {
          "output_type": "stream",
          "name": "stderr",
          "text": [
            "\n"
          ]
        },
        {
          "output_type": "stream",
          "name": "stdout",
          "text": [
            "\n",
            "      Epoch    GPU_mem   box_loss   seg_loss   cls_loss   dfl_loss  Instances       Size\n"
          ]
        },
        {
          "output_type": "stream",
          "name": "stderr",
          "text": [
            "     38/130      1.98G     0.8426       1.19     0.6601      1.292          8       1024: 100%|██████████| 234/234 [01:09<00:00,  3.38it/s]\n",
            "                 Class     Images  Instances      Box(P          R      mAP50  mAP50-95)     Mask(P          R      mAP50  mAP50-95): 100%|██████████| 34/34 [00:03<00:00,  9.08it/s]"
          ]
        },
        {
          "output_type": "stream",
          "name": "stdout",
          "text": [
            "                   all        267        354      0.958      0.781      0.852      0.657      0.958      0.781      0.847      0.673\n"
          ]
        },
        {
          "output_type": "stream",
          "name": "stderr",
          "text": [
            "\n"
          ]
        },
        {
          "output_type": "stream",
          "name": "stdout",
          "text": [
            "\n",
            "      Epoch    GPU_mem   box_loss   seg_loss   cls_loss   dfl_loss  Instances       Size\n"
          ]
        },
        {
          "output_type": "stream",
          "name": "stderr",
          "text": [
            "     39/130      1.98G     0.8377      1.213     0.6424      1.294          8       1024: 100%|██████████| 234/234 [01:07<00:00,  3.47it/s]\n",
            "                 Class     Images  Instances      Box(P          R      mAP50  mAP50-95)     Mask(P          R      mAP50  mAP50-95): 100%|██████████| 34/34 [00:03<00:00,  8.52it/s]"
          ]
        },
        {
          "output_type": "stream",
          "name": "stdout",
          "text": [
            "                   all        267        354      0.971      0.769      0.855      0.659      0.972      0.774      0.851      0.677\n"
          ]
        },
        {
          "output_type": "stream",
          "name": "stderr",
          "text": [
            "\n"
          ]
        },
        {
          "output_type": "stream",
          "name": "stdout",
          "text": [
            "\n",
            "      Epoch    GPU_mem   box_loss   seg_loss   cls_loss   dfl_loss  Instances       Size\n"
          ]
        },
        {
          "output_type": "stream",
          "name": "stderr",
          "text": [
            "     40/130      1.98G     0.7911      1.104     0.6111       1.27          5       1024: 100%|██████████| 234/234 [01:09<00:00,  3.36it/s]\n",
            "                 Class     Images  Instances      Box(P          R      mAP50  mAP50-95)     Mask(P          R      mAP50  mAP50-95): 100%|██████████| 34/34 [00:04<00:00,  7.85it/s]"
          ]
        },
        {
          "output_type": "stream",
          "name": "stdout",
          "text": [
            "                   all        267        354      0.968      0.773      0.854       0.67      0.968      0.773      0.847      0.682\n"
          ]
        },
        {
          "output_type": "stream",
          "name": "stderr",
          "text": [
            "\n"
          ]
        },
        {
          "output_type": "stream",
          "name": "stdout",
          "text": [
            "\n",
            "      Epoch    GPU_mem   box_loss   seg_loss   cls_loss   dfl_loss  Instances       Size\n"
          ]
        },
        {
          "output_type": "stream",
          "name": "stderr",
          "text": [
            "     41/130      1.98G     0.8255      1.188     0.6478      1.288          9       1024: 100%|██████████| 234/234 [01:05<00:00,  3.56it/s]\n",
            "                 Class     Images  Instances      Box(P          R      mAP50  mAP50-95)     Mask(P          R      mAP50  mAP50-95): 100%|██████████| 34/34 [00:06<00:00,  5.28it/s]"
          ]
        },
        {
          "output_type": "stream",
          "name": "stdout",
          "text": [
            "                   all        267        354      0.961       0.77      0.855       0.65      0.965      0.773      0.856      0.682\n"
          ]
        },
        {
          "output_type": "stream",
          "name": "stderr",
          "text": [
            "\n"
          ]
        },
        {
          "output_type": "stream",
          "name": "stdout",
          "text": [
            "\n",
            "      Epoch    GPU_mem   box_loss   seg_loss   cls_loss   dfl_loss  Instances       Size\n"
          ]
        },
        {
          "output_type": "stream",
          "name": "stderr",
          "text": [
            "     42/130      1.98G     0.7755      1.124     0.6158      1.249          8       1024: 100%|██████████| 234/234 [01:06<00:00,  3.50it/s]\n",
            "                 Class     Images  Instances      Box(P          R      mAP50  mAP50-95)     Mask(P          R      mAP50  mAP50-95): 100%|██████████| 34/34 [00:04<00:00,  7.26it/s]"
          ]
        },
        {
          "output_type": "stream",
          "name": "stdout",
          "text": [
            "                   all        267        354      0.977      0.785      0.872      0.687      0.977      0.785      0.867      0.693\n"
          ]
        },
        {
          "output_type": "stream",
          "name": "stderr",
          "text": [
            "\n"
          ]
        },
        {
          "output_type": "stream",
          "name": "stdout",
          "text": [
            "\n",
            "      Epoch    GPU_mem   box_loss   seg_loss   cls_loss   dfl_loss  Instances       Size\n"
          ]
        },
        {
          "output_type": "stream",
          "name": "stderr",
          "text": [
            "     43/130      1.98G     0.7886      1.131     0.5969      1.269         12       1024: 100%|██████████| 234/234 [01:06<00:00,  3.50it/s]\n",
            "                 Class     Images  Instances      Box(P          R      mAP50  mAP50-95)     Mask(P          R      mAP50  mAP50-95): 100%|██████████| 34/34 [00:06<00:00,  5.48it/s]"
          ]
        },
        {
          "output_type": "stream",
          "name": "stdout",
          "text": [
            "                   all        267        354      0.969      0.782      0.854      0.665      0.986      0.776      0.845      0.684\n"
          ]
        },
        {
          "output_type": "stream",
          "name": "stderr",
          "text": [
            "\n"
          ]
        },
        {
          "output_type": "stream",
          "name": "stdout",
          "text": [
            "\n",
            "      Epoch    GPU_mem   box_loss   seg_loss   cls_loss   dfl_loss  Instances       Size\n"
          ]
        },
        {
          "output_type": "stream",
          "name": "stderr",
          "text": [
            "     44/130      1.98G     0.8033      1.163     0.6131      1.281          4       1024: 100%|██████████| 234/234 [01:09<00:00,  3.38it/s]\n",
            "                 Class     Images  Instances      Box(P          R      mAP50  mAP50-95)     Mask(P          R      mAP50  mAP50-95): 100%|██████████| 34/34 [00:04<00:00,  7.28it/s]"
          ]
        },
        {
          "output_type": "stream",
          "name": "stdout",
          "text": [
            "                   all        267        354      0.985      0.766      0.861      0.668      0.989      0.768      0.854      0.682\n"
          ]
        },
        {
          "output_type": "stream",
          "name": "stderr",
          "text": [
            "\n"
          ]
        },
        {
          "output_type": "stream",
          "name": "stdout",
          "text": [
            "\n",
            "      Epoch    GPU_mem   box_loss   seg_loss   cls_loss   dfl_loss  Instances       Size\n"
          ]
        },
        {
          "output_type": "stream",
          "name": "stderr",
          "text": [
            "     45/130      1.98G     0.8057       1.17     0.6389      1.284          5       1024: 100%|██████████| 234/234 [01:03<00:00,  3.66it/s]\n",
            "                 Class     Images  Instances      Box(P          R      mAP50  mAP50-95)     Mask(P          R      mAP50  mAP50-95): 100%|██████████| 34/34 [00:04<00:00,  8.07it/s]"
          ]
        },
        {
          "output_type": "stream",
          "name": "stdout",
          "text": [
            "                   all        267        354      0.965      0.773      0.856      0.676      0.961      0.771      0.853      0.689\n"
          ]
        },
        {
          "output_type": "stream",
          "name": "stderr",
          "text": [
            "\n"
          ]
        },
        {
          "output_type": "stream",
          "name": "stdout",
          "text": [
            "\n",
            "      Epoch    GPU_mem   box_loss   seg_loss   cls_loss   dfl_loss  Instances       Size\n"
          ]
        },
        {
          "output_type": "stream",
          "name": "stderr",
          "text": [
            "     46/130      1.98G     0.7923      1.104     0.6214      1.263          7       1024: 100%|██████████| 234/234 [01:04<00:00,  3.65it/s]\n",
            "                 Class     Images  Instances      Box(P          R      mAP50  mAP50-95)     Mask(P          R      mAP50  mAP50-95): 100%|██████████| 34/34 [00:04<00:00,  7.72it/s]"
          ]
        },
        {
          "output_type": "stream",
          "name": "stdout",
          "text": [
            "                   all        267        354      0.988      0.771      0.859      0.669      0.991      0.774      0.866      0.692\n"
          ]
        },
        {
          "output_type": "stream",
          "name": "stderr",
          "text": [
            "\n"
          ]
        },
        {
          "output_type": "stream",
          "name": "stdout",
          "text": [
            "\n",
            "      Epoch    GPU_mem   box_loss   seg_loss   cls_loss   dfl_loss  Instances       Size\n"
          ]
        },
        {
          "output_type": "stream",
          "name": "stderr",
          "text": [
            "     47/130      1.98G     0.8201      1.196     0.6354      1.281          7       1024: 100%|██████████| 234/234 [01:04<00:00,  3.66it/s]\n",
            "                 Class     Images  Instances      Box(P          R      mAP50  mAP50-95)     Mask(P          R      mAP50  mAP50-95): 100%|██████████| 34/34 [00:04<00:00,  8.10it/s]"
          ]
        },
        {
          "output_type": "stream",
          "name": "stdout",
          "text": [
            "                   all        267        354      0.972      0.794      0.854      0.689      0.972      0.794      0.854        0.7\n"
          ]
        },
        {
          "output_type": "stream",
          "name": "stderr",
          "text": [
            "\n"
          ]
        },
        {
          "output_type": "stream",
          "name": "stdout",
          "text": [
            "\n",
            "      Epoch    GPU_mem   box_loss   seg_loss   cls_loss   dfl_loss  Instances       Size\n"
          ]
        },
        {
          "output_type": "stream",
          "name": "stderr",
          "text": [
            "     48/130      1.98G     0.7959      1.126     0.6234      1.259          9       1024: 100%|██████████| 234/234 [01:04<00:00,  3.64it/s]\n",
            "                 Class     Images  Instances      Box(P          R      mAP50  mAP50-95)     Mask(P          R      mAP50  mAP50-95): 100%|██████████| 34/34 [00:04<00:00,  7.28it/s]"
          ]
        },
        {
          "output_type": "stream",
          "name": "stdout",
          "text": [
            "                   all        267        354      0.961      0.785      0.862      0.667      0.964      0.788      0.855      0.683\n"
          ]
        },
        {
          "output_type": "stream",
          "name": "stderr",
          "text": [
            "\n"
          ]
        },
        {
          "output_type": "stream",
          "name": "stdout",
          "text": [
            "\n",
            "      Epoch    GPU_mem   box_loss   seg_loss   cls_loss   dfl_loss  Instances       Size\n"
          ]
        },
        {
          "output_type": "stream",
          "name": "stderr",
          "text": [
            "     49/130      1.98G      0.782      1.123     0.6019      1.266         11       1024: 100%|██████████| 234/234 [01:11<00:00,  3.27it/s]\n",
            "                 Class     Images  Instances      Box(P          R      mAP50  mAP50-95)     Mask(P          R      mAP50  mAP50-95): 100%|██████████| 34/34 [00:04<00:00,  8.32it/s]"
          ]
        },
        {
          "output_type": "stream",
          "name": "stdout",
          "text": [
            "                   all        267        354      0.989      0.781      0.873      0.679      0.983      0.791      0.862      0.692\n"
          ]
        },
        {
          "output_type": "stream",
          "name": "stderr",
          "text": [
            "\n"
          ]
        },
        {
          "output_type": "stream",
          "name": "stdout",
          "text": [
            "\n",
            "      Epoch    GPU_mem   box_loss   seg_loss   cls_loss   dfl_loss  Instances       Size\n"
          ]
        },
        {
          "output_type": "stream",
          "name": "stderr",
          "text": [
            "     50/130      1.98G     0.8119      1.171     0.6155      1.279          8       1024: 100%|██████████| 234/234 [01:13<00:00,  3.20it/s]\n",
            "                 Class     Images  Instances      Box(P          R      mAP50  mAP50-95)     Mask(P          R      mAP50  mAP50-95): 100%|██████████| 34/34 [00:04<00:00,  7.99it/s]"
          ]
        },
        {
          "output_type": "stream",
          "name": "stdout",
          "text": [
            "                   all        267        354      0.977      0.771      0.861      0.677      0.981      0.774      0.859      0.703\n"
          ]
        },
        {
          "output_type": "stream",
          "name": "stderr",
          "text": [
            "\n"
          ]
        },
        {
          "output_type": "stream",
          "name": "stdout",
          "text": [
            "\n",
            "      Epoch    GPU_mem   box_loss   seg_loss   cls_loss   dfl_loss  Instances       Size\n"
          ]
        },
        {
          "output_type": "stream",
          "name": "stderr",
          "text": [
            "     51/130      1.98G     0.7813      1.148      0.592      1.248          6       1024: 100%|██████████| 234/234 [01:01<00:00,  3.78it/s]\n",
            "                 Class     Images  Instances      Box(P          R      mAP50  mAP50-95)     Mask(P          R      mAP50  mAP50-95): 100%|██████████| 34/34 [00:05<00:00,  6.73it/s]"
          ]
        },
        {
          "output_type": "stream",
          "name": "stdout",
          "text": [
            "                   all        267        354       0.98      0.771       0.85       0.67      0.984      0.774      0.849      0.687\n"
          ]
        },
        {
          "output_type": "stream",
          "name": "stderr",
          "text": [
            "\n"
          ]
        },
        {
          "output_type": "stream",
          "name": "stdout",
          "text": [
            "\n",
            "      Epoch    GPU_mem   box_loss   seg_loss   cls_loss   dfl_loss  Instances       Size\n"
          ]
        },
        {
          "output_type": "stream",
          "name": "stderr",
          "text": [
            "     52/130      1.98G     0.7852      1.148      0.603      1.248          7       1024: 100%|██████████| 234/234 [01:02<00:00,  3.76it/s]\n",
            "                 Class     Images  Instances      Box(P          R      mAP50  mAP50-95)     Mask(P          R      mAP50  mAP50-95): 100%|██████████| 34/34 [00:04<00:00,  7.43it/s]"
          ]
        },
        {
          "output_type": "stream",
          "name": "stdout",
          "text": [
            "                   all        267        354      0.987       0.78      0.866      0.675      0.983      0.777      0.862      0.687\n"
          ]
        },
        {
          "output_type": "stream",
          "name": "stderr",
          "text": [
            "\n"
          ]
        },
        {
          "output_type": "stream",
          "name": "stdout",
          "text": [
            "\n",
            "      Epoch    GPU_mem   box_loss   seg_loss   cls_loss   dfl_loss  Instances       Size\n"
          ]
        },
        {
          "output_type": "stream",
          "name": "stderr",
          "text": [
            "     53/130      1.98G     0.7754      1.087     0.6014      1.237         12       1024: 100%|██████████| 234/234 [01:11<00:00,  3.26it/s]\n",
            "                 Class     Images  Instances      Box(P          R      mAP50  mAP50-95)     Mask(P          R      mAP50  mAP50-95): 100%|██████████| 34/34 [00:03<00:00,  8.87it/s]"
          ]
        },
        {
          "output_type": "stream",
          "name": "stdout",
          "text": [
            "                   all        267        354      0.982      0.781      0.871      0.691      0.986      0.784      0.868      0.696\n"
          ]
        },
        {
          "output_type": "stream",
          "name": "stderr",
          "text": [
            "\n"
          ]
        },
        {
          "output_type": "stream",
          "name": "stdout",
          "text": [
            "\n",
            "      Epoch    GPU_mem   box_loss   seg_loss   cls_loss   dfl_loss  Instances       Size\n"
          ]
        },
        {
          "output_type": "stream",
          "name": "stderr",
          "text": [
            "     54/130      1.98G     0.7908      1.183     0.6296       1.25          6       1024: 100%|██████████| 234/234 [01:08<00:00,  3.43it/s]\n",
            "                 Class     Images  Instances      Box(P          R      mAP50  mAP50-95)     Mask(P          R      mAP50  mAP50-95): 100%|██████████| 34/34 [00:04<00:00,  7.00it/s]"
          ]
        },
        {
          "output_type": "stream",
          "name": "stdout",
          "text": [
            "                   all        267        354       0.99      0.774      0.871      0.694      0.994      0.777      0.866      0.701\n"
          ]
        },
        {
          "output_type": "stream",
          "name": "stderr",
          "text": [
            "\n"
          ]
        },
        {
          "output_type": "stream",
          "name": "stdout",
          "text": [
            "\n",
            "      Epoch    GPU_mem   box_loss   seg_loss   cls_loss   dfl_loss  Instances       Size\n"
          ]
        },
        {
          "output_type": "stream",
          "name": "stderr",
          "text": [
            "     55/130      1.98G     0.7794      1.122      0.581      1.245          6       1024: 100%|██████████| 234/234 [01:12<00:00,  3.22it/s]\n",
            "                 Class     Images  Instances      Box(P          R      mAP50  mAP50-95)     Mask(P          R      mAP50  mAP50-95): 100%|██████████| 34/34 [00:05<00:00,  6.75it/s]"
          ]
        },
        {
          "output_type": "stream",
          "name": "stdout",
          "text": [
            "                   all        267        354      0.968      0.782      0.866      0.685      0.968      0.782       0.86      0.698\n"
          ]
        },
        {
          "output_type": "stream",
          "name": "stderr",
          "text": [
            "\n"
          ]
        },
        {
          "output_type": "stream",
          "name": "stdout",
          "text": [
            "\n",
            "      Epoch    GPU_mem   box_loss   seg_loss   cls_loss   dfl_loss  Instances       Size\n"
          ]
        },
        {
          "output_type": "stream",
          "name": "stderr",
          "text": [
            "     56/130      1.98G      0.774      1.154     0.6032      1.241          5       1024: 100%|██████████| 234/234 [01:06<00:00,  3.50it/s]\n",
            "                 Class     Images  Instances      Box(P          R      mAP50  mAP50-95)     Mask(P          R      mAP50  mAP50-95): 100%|██████████| 34/34 [00:04<00:00,  7.34it/s]"
          ]
        },
        {
          "output_type": "stream",
          "name": "stdout",
          "text": [
            "                   all        267        354      0.962      0.797       0.87      0.688      0.958      0.794      0.863      0.699\n"
          ]
        },
        {
          "output_type": "stream",
          "name": "stderr",
          "text": [
            "\n"
          ]
        },
        {
          "output_type": "stream",
          "name": "stdout",
          "text": [
            "\n",
            "      Epoch    GPU_mem   box_loss   seg_loss   cls_loss   dfl_loss  Instances       Size\n"
          ]
        },
        {
          "output_type": "stream",
          "name": "stderr",
          "text": [
            "     57/130      1.98G     0.7308      1.043     0.5573      1.213          7       1024: 100%|██████████| 234/234 [01:14<00:00,  3.15it/s]\n",
            "                 Class     Images  Instances      Box(P          R      mAP50  mAP50-95)     Mask(P          R      mAP50  mAP50-95): 100%|██████████| 34/34 [00:03<00:00,  9.76it/s]"
          ]
        },
        {
          "output_type": "stream",
          "name": "stdout",
          "text": [
            "                   all        267        354      0.966      0.795       0.88      0.699      0.982      0.786      0.878      0.705\n"
          ]
        },
        {
          "output_type": "stream",
          "name": "stderr",
          "text": [
            "\n"
          ]
        },
        {
          "output_type": "stream",
          "name": "stdout",
          "text": [
            "\n",
            "      Epoch    GPU_mem   box_loss   seg_loss   cls_loss   dfl_loss  Instances       Size\n"
          ]
        },
        {
          "output_type": "stream",
          "name": "stderr",
          "text": [
            "     58/130      1.98G     0.7525      1.047      0.563      1.226          7       1024: 100%|██████████| 234/234 [01:12<00:00,  3.24it/s]\n",
            "                 Class     Images  Instances      Box(P          R      mAP50  mAP50-95)     Mask(P          R      mAP50  mAP50-95): 100%|██████████| 34/34 [00:05<00:00,  6.79it/s]"
          ]
        },
        {
          "output_type": "stream",
          "name": "stdout",
          "text": [
            "                   all        267        354      0.932      0.799      0.874      0.694      0.968      0.774      0.869      0.709\n"
          ]
        },
        {
          "output_type": "stream",
          "name": "stderr",
          "text": [
            "\n"
          ]
        },
        {
          "output_type": "stream",
          "name": "stdout",
          "text": [
            "\n",
            "      Epoch    GPU_mem   box_loss   seg_loss   cls_loss   dfl_loss  Instances       Size\n"
          ]
        },
        {
          "output_type": "stream",
          "name": "stderr",
          "text": [
            "     59/130      1.98G     0.7476      1.105     0.5684      1.219          7       1024: 100%|██████████| 234/234 [01:07<00:00,  3.47it/s]\n",
            "                 Class     Images  Instances      Box(P          R      mAP50  mAP50-95)     Mask(P          R      mAP50  mAP50-95): 100%|██████████| 34/34 [00:04<00:00,  6.84it/s]\n"
          ]
        },
        {
          "output_type": "stream",
          "name": "stdout",
          "text": [
            "                   all        267        354      0.975      0.782      0.866      0.682      0.975      0.781      0.861      0.703\n",
            "\n",
            "      Epoch    GPU_mem   box_loss   seg_loss   cls_loss   dfl_loss  Instances       Size\n"
          ]
        },
        {
          "output_type": "stream",
          "name": "stderr",
          "text": [
            "     60/130      1.98G     0.7442      1.077     0.5415      1.223          6       1024: 100%|██████████| 234/234 [01:10<00:00,  3.32it/s]\n",
            "                 Class     Images  Instances      Box(P          R      mAP50  mAP50-95)     Mask(P          R      mAP50  mAP50-95): 100%|██████████| 34/34 [00:04<00:00,  8.26it/s]"
          ]
        },
        {
          "output_type": "stream",
          "name": "stdout",
          "text": [
            "                   all        267        354      0.979      0.771      0.865      0.686      0.986      0.782      0.868      0.703\n"
          ]
        },
        {
          "output_type": "stream",
          "name": "stderr",
          "text": [
            "\n"
          ]
        },
        {
          "output_type": "stream",
          "name": "stdout",
          "text": [
            "\n",
            "      Epoch    GPU_mem   box_loss   seg_loss   cls_loss   dfl_loss  Instances       Size\n"
          ]
        },
        {
          "output_type": "stream",
          "name": "stderr",
          "text": [
            "     61/130      1.98G     0.7494      1.027     0.5383      1.224          6       1024: 100%|██████████| 234/234 [01:09<00:00,  3.35it/s]\n",
            "                 Class     Images  Instances      Box(P          R      mAP50  mAP50-95)     Mask(P          R      mAP50  mAP50-95): 100%|██████████| 34/34 [00:04<00:00,  8.09it/s]"
          ]
        },
        {
          "output_type": "stream",
          "name": "stdout",
          "text": [
            "                   all        267        354      0.969      0.774      0.864      0.675       0.97      0.774      0.861      0.693\n"
          ]
        },
        {
          "output_type": "stream",
          "name": "stderr",
          "text": [
            "\n"
          ]
        },
        {
          "output_type": "stream",
          "name": "stdout",
          "text": [
            "\n",
            "      Epoch    GPU_mem   box_loss   seg_loss   cls_loss   dfl_loss  Instances       Size\n"
          ]
        },
        {
          "output_type": "stream",
          "name": "stderr",
          "text": [
            "     62/130      1.98G     0.7571      1.132     0.5764      1.228          7       1024: 100%|██████████| 234/234 [01:23<00:00,  2.81it/s]\n",
            "                 Class     Images  Instances      Box(P          R      mAP50  mAP50-95)     Mask(P          R      mAP50  mAP50-95): 100%|██████████| 34/34 [00:04<00:00,  7.26it/s]"
          ]
        },
        {
          "output_type": "stream",
          "name": "stdout",
          "text": [
            "                   all        267        354      0.959      0.797      0.854      0.687      0.961      0.799      0.854        0.7\n"
          ]
        },
        {
          "output_type": "stream",
          "name": "stderr",
          "text": [
            "\n"
          ]
        },
        {
          "output_type": "stream",
          "name": "stdout",
          "text": [
            "\n",
            "      Epoch    GPU_mem   box_loss   seg_loss   cls_loss   dfl_loss  Instances       Size\n"
          ]
        },
        {
          "output_type": "stream",
          "name": "stderr",
          "text": [
            "     63/130      1.98G     0.7317      1.051     0.5541      1.219          9       1024: 100%|██████████| 234/234 [01:13<00:00,  3.20it/s]\n",
            "                 Class     Images  Instances      Box(P          R      mAP50  mAP50-95)     Mask(P          R      mAP50  mAP50-95): 100%|██████████| 34/34 [00:03<00:00, 10.07it/s]"
          ]
        },
        {
          "output_type": "stream",
          "name": "stdout",
          "text": [
            "                   all        267        354      0.982      0.773      0.869       0.68      0.965      0.781      0.863      0.705\n"
          ]
        },
        {
          "output_type": "stream",
          "name": "stderr",
          "text": [
            "\n"
          ]
        },
        {
          "output_type": "stream",
          "name": "stdout",
          "text": [
            "\n",
            "      Epoch    GPU_mem   box_loss   seg_loss   cls_loss   dfl_loss  Instances       Size\n"
          ]
        },
        {
          "output_type": "stream",
          "name": "stderr",
          "text": [
            "     64/130      1.98G     0.7251      1.031     0.5351      1.207         11       1024: 100%|██████████| 234/234 [01:07<00:00,  3.47it/s]\n",
            "                 Class     Images  Instances      Box(P          R      mAP50  mAP50-95)     Mask(P          R      mAP50  mAP50-95): 100%|██████████| 34/34 [00:04<00:00,  7.06it/s]"
          ]
        },
        {
          "output_type": "stream",
          "name": "stdout",
          "text": [
            "                   all        267        354       0.97      0.799      0.872      0.703       0.97      0.799      0.871      0.713\n"
          ]
        },
        {
          "output_type": "stream",
          "name": "stderr",
          "text": [
            "\n"
          ]
        },
        {
          "output_type": "stream",
          "name": "stdout",
          "text": [
            "\n",
            "      Epoch    GPU_mem   box_loss   seg_loss   cls_loss   dfl_loss  Instances       Size\n"
          ]
        },
        {
          "output_type": "stream",
          "name": "stderr",
          "text": [
            "     65/130      1.98G     0.7415      1.111     0.5682      1.216          9       1024: 100%|██████████| 234/234 [01:12<00:00,  3.21it/s]\n",
            "                 Class     Images  Instances      Box(P          R      mAP50  mAP50-95)     Mask(P          R      mAP50  mAP50-95): 100%|██████████| 34/34 [00:04<00:00,  7.23it/s]"
          ]
        },
        {
          "output_type": "stream",
          "name": "stdout",
          "text": [
            "                   all        267        354      0.969      0.791      0.874      0.695      0.972      0.793      0.874      0.714\n"
          ]
        },
        {
          "output_type": "stream",
          "name": "stderr",
          "text": [
            "\n"
          ]
        },
        {
          "output_type": "stream",
          "name": "stdout",
          "text": [
            "\n",
            "      Epoch    GPU_mem   box_loss   seg_loss   cls_loss   dfl_loss  Instances       Size\n"
          ]
        },
        {
          "output_type": "stream",
          "name": "stderr",
          "text": [
            "     66/130      1.98G     0.7203      1.031     0.5351        1.2          5       1024: 100%|██████████| 234/234 [01:09<00:00,  3.34it/s]\n",
            "                 Class     Images  Instances      Box(P          R      mAP50  mAP50-95)     Mask(P          R      mAP50  mAP50-95): 100%|██████████| 34/34 [00:04<00:00,  7.93it/s]"
          ]
        },
        {
          "output_type": "stream",
          "name": "stdout",
          "text": [
            "                   all        267        354      0.956      0.794      0.871      0.695      0.976      0.788      0.869       0.71\n"
          ]
        },
        {
          "output_type": "stream",
          "name": "stderr",
          "text": [
            "\n"
          ]
        },
        {
          "output_type": "stream",
          "name": "stdout",
          "text": [
            "\n",
            "      Epoch    GPU_mem   box_loss   seg_loss   cls_loss   dfl_loss  Instances       Size\n"
          ]
        },
        {
          "output_type": "stream",
          "name": "stderr",
          "text": [
            "     67/130      1.98G     0.7253      1.021     0.5469      1.208          4       1024: 100%|██████████| 234/234 [01:11<00:00,  3.27it/s]\n",
            "                 Class     Images  Instances      Box(P          R      mAP50  mAP50-95)     Mask(P          R      mAP50  mAP50-95): 100%|██████████| 34/34 [00:04<00:00,  8.37it/s]"
          ]
        },
        {
          "output_type": "stream",
          "name": "stdout",
          "text": [
            "                   all        267        354      0.985      0.785      0.862      0.686      0.985      0.785      0.847      0.691\n"
          ]
        },
        {
          "output_type": "stream",
          "name": "stderr",
          "text": [
            "\n"
          ]
        },
        {
          "output_type": "stream",
          "name": "stdout",
          "text": [
            "\n",
            "      Epoch    GPU_mem   box_loss   seg_loss   cls_loss   dfl_loss  Instances       Size\n"
          ]
        },
        {
          "output_type": "stream",
          "name": "stderr",
          "text": [
            "     68/130      1.98G     0.7206      0.978     0.5167      1.211          6       1024: 100%|██████████| 234/234 [01:09<00:00,  3.37it/s]\n",
            "                 Class     Images  Instances      Box(P          R      mAP50  mAP50-95)     Mask(P          R      mAP50  mAP50-95): 100%|██████████| 34/34 [00:04<00:00,  7.03it/s]"
          ]
        },
        {
          "output_type": "stream",
          "name": "stdout",
          "text": [
            "                   all        267        354      0.972      0.778      0.864      0.693      0.979      0.782      0.854      0.698\n"
          ]
        },
        {
          "output_type": "stream",
          "name": "stderr",
          "text": [
            "\n"
          ]
        },
        {
          "output_type": "stream",
          "name": "stdout",
          "text": [
            "\n",
            "      Epoch    GPU_mem   box_loss   seg_loss   cls_loss   dfl_loss  Instances       Size\n"
          ]
        },
        {
          "output_type": "stream",
          "name": "stderr",
          "text": [
            "     69/130      1.98G     0.6953      0.972     0.5081      1.191          8       1024: 100%|██████████| 234/234 [01:04<00:00,  3.61it/s]\n",
            "                 Class     Images  Instances      Box(P          R      mAP50  mAP50-95)     Mask(P          R      mAP50  mAP50-95): 100%|██████████| 34/34 [00:05<00:00,  5.94it/s]"
          ]
        },
        {
          "output_type": "stream",
          "name": "stdout",
          "text": [
            "                   all        267        354      0.975      0.765      0.863      0.701      0.982      0.771      0.856      0.706\n"
          ]
        },
        {
          "output_type": "stream",
          "name": "stderr",
          "text": [
            "\n"
          ]
        },
        {
          "output_type": "stream",
          "name": "stdout",
          "text": [
            "\n",
            "      Epoch    GPU_mem   box_loss   seg_loss   cls_loss   dfl_loss  Instances       Size\n"
          ]
        },
        {
          "output_type": "stream",
          "name": "stderr",
          "text": [
            "     70/130      1.98G     0.7161     0.9869     0.5263      1.199         10       1024: 100%|██████████| 234/234 [01:05<00:00,  3.60it/s]\n",
            "                 Class     Images  Instances      Box(P          R      mAP50  mAP50-95)     Mask(P          R      mAP50  mAP50-95): 100%|██████████| 34/34 [00:04<00:00,  7.28it/s]"
          ]
        },
        {
          "output_type": "stream",
          "name": "stdout",
          "text": [
            "                   all        267        354      0.982      0.772      0.866      0.683      0.986      0.775      0.859      0.705\n"
          ]
        },
        {
          "output_type": "stream",
          "name": "stderr",
          "text": [
            "\n"
          ]
        },
        {
          "output_type": "stream",
          "name": "stdout",
          "text": [
            "\n",
            "      Epoch    GPU_mem   box_loss   seg_loss   cls_loss   dfl_loss  Instances       Size\n"
          ]
        },
        {
          "output_type": "stream",
          "name": "stderr",
          "text": [
            "     71/130      1.98G     0.7045      1.033     0.5342      1.184          5       1024: 100%|██████████| 234/234 [01:16<00:00,  3.07it/s]\n",
            "                 Class     Images  Instances      Box(P          R      mAP50  mAP50-95)     Mask(P          R      mAP50  mAP50-95): 100%|██████████| 34/34 [00:04<00:00,  7.74it/s]"
          ]
        },
        {
          "output_type": "stream",
          "name": "stdout",
          "text": [
            "                   all        267        354      0.955      0.802       0.87      0.697      0.953      0.788      0.856      0.705\n"
          ]
        },
        {
          "output_type": "stream",
          "name": "stderr",
          "text": [
            "\n"
          ]
        },
        {
          "output_type": "stream",
          "name": "stdout",
          "text": [
            "\n",
            "      Epoch    GPU_mem   box_loss   seg_loss   cls_loss   dfl_loss  Instances       Size\n"
          ]
        },
        {
          "output_type": "stream",
          "name": "stderr",
          "text": [
            "     72/130      1.98G     0.6927      0.977      0.496      1.189          7       1024: 100%|██████████| 234/234 [01:04<00:00,  3.65it/s]\n",
            "                 Class     Images  Instances      Box(P          R      mAP50  mAP50-95)     Mask(P          R      mAP50  mAP50-95): 100%|██████████| 34/34 [00:04<00:00,  8.11it/s]"
          ]
        },
        {
          "output_type": "stream",
          "name": "stdout",
          "text": [
            "                   all        267        354      0.991      0.768      0.867      0.694      0.987      0.766      0.855      0.705\n"
          ]
        },
        {
          "output_type": "stream",
          "name": "stderr",
          "text": [
            "\n"
          ]
        },
        {
          "output_type": "stream",
          "name": "stdout",
          "text": [
            "\n",
            "      Epoch    GPU_mem   box_loss   seg_loss   cls_loss   dfl_loss  Instances       Size\n"
          ]
        },
        {
          "output_type": "stream",
          "name": "stderr",
          "text": [
            "     73/130      1.98G     0.6819     0.9857     0.5059      1.172          6       1024: 100%|██████████| 234/234 [01:01<00:00,  3.82it/s]\n",
            "                 Class     Images  Instances      Box(P          R      mAP50  mAP50-95)     Mask(P          R      mAP50  mAP50-95): 100%|██████████| 34/34 [00:04<00:00,  7.14it/s]"
          ]
        },
        {
          "output_type": "stream",
          "name": "stdout",
          "text": [
            "                   all        267        354      0.956      0.794      0.868      0.696      0.956      0.794      0.868      0.712\n"
          ]
        },
        {
          "output_type": "stream",
          "name": "stderr",
          "text": [
            "\n"
          ]
        },
        {
          "output_type": "stream",
          "name": "stdout",
          "text": [
            "\n",
            "      Epoch    GPU_mem   box_loss   seg_loss   cls_loss   dfl_loss  Instances       Size\n"
          ]
        },
        {
          "output_type": "stream",
          "name": "stderr",
          "text": [
            "     74/130      1.98G     0.6963     0.9689     0.5074      1.176          6       1024: 100%|██████████| 234/234 [01:08<00:00,  3.43it/s]\n",
            "                 Class     Images  Instances      Box(P          R      mAP50  mAP50-95)     Mask(P          R      mAP50  mAP50-95): 100%|██████████| 34/34 [00:04<00:00,  7.86it/s]"
          ]
        },
        {
          "output_type": "stream",
          "name": "stdout",
          "text": [
            "                   all        267        354      0.969      0.785      0.864      0.699      0.968      0.797      0.864      0.706\n"
          ]
        },
        {
          "output_type": "stream",
          "name": "stderr",
          "text": [
            "\n"
          ]
        },
        {
          "output_type": "stream",
          "name": "stdout",
          "text": [
            "\n",
            "      Epoch    GPU_mem   box_loss   seg_loss   cls_loss   dfl_loss  Instances       Size\n"
          ]
        },
        {
          "output_type": "stream",
          "name": "stderr",
          "text": [
            "     75/130      1.98G     0.6996      1.022     0.5071      1.184          9       1024: 100%|██████████| 234/234 [01:01<00:00,  3.81it/s]\n",
            "                 Class     Images  Instances      Box(P          R      mAP50  mAP50-95)     Mask(P          R      mAP50  mAP50-95): 100%|██████████| 34/34 [00:03<00:00,  8.96it/s]"
          ]
        },
        {
          "output_type": "stream",
          "name": "stdout",
          "text": [
            "                   all        267        354      0.978      0.791      0.863      0.705      0.978      0.791      0.862      0.706\n"
          ]
        },
        {
          "output_type": "stream",
          "name": "stderr",
          "text": [
            "\n"
          ]
        },
        {
          "output_type": "stream",
          "name": "stdout",
          "text": [
            "\n",
            "      Epoch    GPU_mem   box_loss   seg_loss   cls_loss   dfl_loss  Instances       Size\n"
          ]
        },
        {
          "output_type": "stream",
          "name": "stderr",
          "text": [
            "     76/130      1.98G     0.6924     0.9925     0.5068      1.191          8       1024: 100%|██████████| 234/234 [01:01<00:00,  3.79it/s]\n",
            "                 Class     Images  Instances      Box(P          R      mAP50  mAP50-95)     Mask(P          R      mAP50  mAP50-95): 100%|██████████| 34/34 [00:03<00:00,  8.66it/s]"
          ]
        },
        {
          "output_type": "stream",
          "name": "stdout",
          "text": [
            "                   all        267        354      0.972      0.794      0.866      0.707      0.966      0.794      0.871      0.709\n"
          ]
        },
        {
          "output_type": "stream",
          "name": "stderr",
          "text": [
            "\n"
          ]
        },
        {
          "output_type": "stream",
          "name": "stdout",
          "text": [
            "\n",
            "      Epoch    GPU_mem   box_loss   seg_loss   cls_loss   dfl_loss  Instances       Size\n"
          ]
        },
        {
          "output_type": "stream",
          "name": "stderr",
          "text": [
            "     77/130      1.98G     0.6607     0.9552     0.4849      1.143          6       1024: 100%|██████████| 234/234 [01:04<00:00,  3.63it/s]\n",
            "                 Class     Images  Instances      Box(P          R      mAP50  mAP50-95)     Mask(P          R      mAP50  mAP50-95): 100%|██████████| 34/34 [00:03<00:00,  8.67it/s]"
          ]
        },
        {
          "output_type": "stream",
          "name": "stdout",
          "text": [
            "                   all        267        354      0.956      0.807      0.873      0.708      0.963      0.811      0.872      0.717\n"
          ]
        },
        {
          "output_type": "stream",
          "name": "stderr",
          "text": [
            "\n"
          ]
        },
        {
          "output_type": "stream",
          "name": "stdout",
          "text": [
            "\n",
            "      Epoch    GPU_mem   box_loss   seg_loss   cls_loss   dfl_loss  Instances       Size\n"
          ]
        },
        {
          "output_type": "stream",
          "name": "stderr",
          "text": [
            "     78/130      1.98G     0.6686     0.9906     0.4847      1.153          7       1024: 100%|██████████| 234/234 [01:10<00:00,  3.30it/s]\n",
            "                 Class     Images  Instances      Box(P          R      mAP50  mAP50-95)     Mask(P          R      mAP50  mAP50-95): 100%|██████████| 34/34 [00:04<00:00,  8.30it/s]"
          ]
        },
        {
          "output_type": "stream",
          "name": "stdout",
          "text": [
            "                   all        267        354       0.95      0.797      0.873      0.708      0.993      0.777      0.873      0.715\n"
          ]
        },
        {
          "output_type": "stream",
          "name": "stderr",
          "text": [
            "\n"
          ]
        },
        {
          "output_type": "stream",
          "name": "stdout",
          "text": [
            "\n",
            "      Epoch    GPU_mem   box_loss   seg_loss   cls_loss   dfl_loss  Instances       Size\n"
          ]
        },
        {
          "output_type": "stream",
          "name": "stderr",
          "text": [
            "     79/130      1.98G      0.685      1.013     0.4976      1.167          7       1024: 100%|██████████| 234/234 [01:20<00:00,  2.90it/s]\n",
            "                 Class     Images  Instances      Box(P          R      mAP50  mAP50-95)     Mask(P          R      mAP50  mAP50-95): 100%|██████████| 34/34 [00:05<00:00,  6.36it/s]"
          ]
        },
        {
          "output_type": "stream",
          "name": "stdout",
          "text": [
            "                   all        267        354      0.946      0.796      0.864      0.693      0.956      0.798      0.864      0.709\n"
          ]
        },
        {
          "output_type": "stream",
          "name": "stderr",
          "text": [
            "\n"
          ]
        },
        {
          "output_type": "stream",
          "name": "stdout",
          "text": [
            "\n",
            "      Epoch    GPU_mem   box_loss   seg_loss   cls_loss   dfl_loss  Instances       Size\n"
          ]
        },
        {
          "output_type": "stream",
          "name": "stderr",
          "text": [
            "     80/130      1.98G      0.661     0.9464     0.4789      1.153          4       1024: 100%|██████████| 234/234 [01:05<00:00,  3.58it/s]\n",
            "                 Class     Images  Instances      Box(P          R      mAP50  mAP50-95)     Mask(P          R      mAP50  mAP50-95): 100%|██████████| 34/34 [00:05<00:00,  6.76it/s]"
          ]
        },
        {
          "output_type": "stream",
          "name": "stdout",
          "text": [
            "                   all        267        354      0.959      0.802      0.864       0.69      0.963      0.805      0.864      0.711\n"
          ]
        },
        {
          "output_type": "stream",
          "name": "stderr",
          "text": [
            "\n"
          ]
        },
        {
          "output_type": "stream",
          "name": "stdout",
          "text": [
            "\n",
            "      Epoch    GPU_mem   box_loss   seg_loss   cls_loss   dfl_loss  Instances       Size\n"
          ]
        },
        {
          "output_type": "stream",
          "name": "stderr",
          "text": [
            "     81/130      1.98G     0.6702     0.9583     0.4966      1.159          5       1024: 100%|██████████| 234/234 [01:06<00:00,  3.54it/s]\n",
            "                 Class     Images  Instances      Box(P          R      mAP50  mAP50-95)     Mask(P          R      mAP50  mAP50-95): 100%|██████████| 34/34 [00:03<00:00,  9.61it/s]"
          ]
        },
        {
          "output_type": "stream",
          "name": "stdout",
          "text": [
            "                   all        267        354      0.963      0.785      0.872      0.697      0.963      0.785      0.864       0.71\n"
          ]
        },
        {
          "output_type": "stream",
          "name": "stderr",
          "text": [
            "\n"
          ]
        },
        {
          "output_type": "stream",
          "name": "stdout",
          "text": [
            "\n",
            "      Epoch    GPU_mem   box_loss   seg_loss   cls_loss   dfl_loss  Instances       Size\n"
          ]
        },
        {
          "output_type": "stream",
          "name": "stderr",
          "text": [
            "     82/130      1.98G     0.7003      1.028      0.512      1.181          4       1024: 100%|██████████| 234/234 [01:04<00:00,  3.61it/s]\n",
            "                 Class     Images  Instances      Box(P          R      mAP50  mAP50-95)     Mask(P          R      mAP50  mAP50-95): 100%|██████████| 34/34 [00:05<00:00,  6.56it/s]"
          ]
        },
        {
          "output_type": "stream",
          "name": "stdout",
          "text": [
            "                   all        267        354      0.992       0.78      0.873      0.706      0.979      0.789      0.868      0.713\n"
          ]
        },
        {
          "output_type": "stream",
          "name": "stderr",
          "text": [
            "\n"
          ]
        },
        {
          "output_type": "stream",
          "name": "stdout",
          "text": [
            "\n",
            "      Epoch    GPU_mem   box_loss   seg_loss   cls_loss   dfl_loss  Instances       Size\n"
          ]
        },
        {
          "output_type": "stream",
          "name": "stderr",
          "text": [
            "     83/130      1.98G     0.6652     0.9412     0.4742       1.15          3       1024: 100%|██████████| 234/234 [01:01<00:00,  3.78it/s]\n",
            "                 Class     Images  Instances      Box(P          R      mAP50  mAP50-95)     Mask(P          R      mAP50  mAP50-95): 100%|██████████| 34/34 [00:04<00:00,  8.23it/s]"
          ]
        },
        {
          "output_type": "stream",
          "name": "stdout",
          "text": [
            "                   all        267        354      0.951      0.811      0.875        0.7      0.965      0.802      0.869      0.715\n"
          ]
        },
        {
          "output_type": "stream",
          "name": "stderr",
          "text": [
            "\n"
          ]
        },
        {
          "output_type": "stream",
          "name": "stdout",
          "text": [
            "\n",
            "      Epoch    GPU_mem   box_loss   seg_loss   cls_loss   dfl_loss  Instances       Size\n"
          ]
        },
        {
          "output_type": "stream",
          "name": "stderr",
          "text": [
            "     84/130      1.98G     0.6836     0.9781     0.4994      1.164          6       1024: 100%|██████████| 234/234 [00:58<00:00,  4.03it/s]\n",
            "                 Class     Images  Instances      Box(P          R      mAP50  mAP50-95)     Mask(P          R      mAP50  mAP50-95): 100%|██████████| 34/34 [00:06<00:00,  5.14it/s]"
          ]
        },
        {
          "output_type": "stream",
          "name": "stdout",
          "text": [
            "                   all        267        354      0.944      0.808      0.873      0.706      0.979       0.79      0.872      0.717\n"
          ]
        },
        {
          "output_type": "stream",
          "name": "stderr",
          "text": [
            "\n"
          ]
        },
        {
          "output_type": "stream",
          "name": "stdout",
          "text": [
            "\n",
            "      Epoch    GPU_mem   box_loss   seg_loss   cls_loss   dfl_loss  Instances       Size\n"
          ]
        },
        {
          "output_type": "stream",
          "name": "stderr",
          "text": [
            "     85/130      1.98G     0.6589     0.9554     0.4836      1.144          5       1024: 100%|██████████| 234/234 [01:14<00:00,  3.13it/s]\n",
            "                 Class     Images  Instances      Box(P          R      mAP50  mAP50-95)     Mask(P          R      mAP50  mAP50-95): 100%|██████████| 34/34 [00:04<00:00,  8.38it/s]"
          ]
        },
        {
          "output_type": "stream",
          "name": "stdout",
          "text": [
            "                   all        267        354      0.972      0.788      0.869      0.704      0.979      0.794      0.872      0.711\n"
          ]
        },
        {
          "output_type": "stream",
          "name": "stderr",
          "text": [
            "\n"
          ]
        },
        {
          "output_type": "stream",
          "name": "stdout",
          "text": [
            "\n",
            "      Epoch    GPU_mem   box_loss   seg_loss   cls_loss   dfl_loss  Instances       Size\n"
          ]
        },
        {
          "output_type": "stream",
          "name": "stderr",
          "text": [
            "     86/130      1.98G     0.6721      1.018     0.4813      1.159          5       1024: 100%|██████████| 234/234 [01:12<00:00,  3.22it/s]\n",
            "                 Class     Images  Instances      Box(P          R      mAP50  mAP50-95)     Mask(P          R      mAP50  mAP50-95): 100%|██████████| 34/34 [00:04<00:00,  7.57it/s]"
          ]
        },
        {
          "output_type": "stream",
          "name": "stdout",
          "text": [
            "                   all        267        354      0.982      0.797      0.872      0.711      0.986      0.799      0.872      0.722\n"
          ]
        },
        {
          "output_type": "stream",
          "name": "stderr",
          "text": [
            "\n"
          ]
        },
        {
          "output_type": "stream",
          "name": "stdout",
          "text": [
            "\n",
            "      Epoch    GPU_mem   box_loss   seg_loss   cls_loss   dfl_loss  Instances       Size\n"
          ]
        },
        {
          "output_type": "stream",
          "name": "stderr",
          "text": [
            "     87/130      1.98G     0.6642     0.9904     0.4835      1.149          6       1024: 100%|██████████| 234/234 [01:17<00:00,  3.03it/s]\n",
            "                 Class     Images  Instances      Box(P          R      mAP50  mAP50-95)     Mask(P          R      mAP50  mAP50-95): 100%|██████████| 34/34 [00:03<00:00,  9.13it/s]"
          ]
        },
        {
          "output_type": "stream",
          "name": "stdout",
          "text": [
            "                   all        267        354      0.965      0.789      0.871      0.712      0.965      0.789      0.867       0.72\n"
          ]
        },
        {
          "output_type": "stream",
          "name": "stderr",
          "text": [
            "\n"
          ]
        },
        {
          "output_type": "stream",
          "name": "stdout",
          "text": [
            "\n",
            "      Epoch    GPU_mem   box_loss   seg_loss   cls_loss   dfl_loss  Instances       Size\n"
          ]
        },
        {
          "output_type": "stream",
          "name": "stderr",
          "text": [
            "     88/130      1.98G     0.6861     0.9854     0.4927      1.154          7       1024: 100%|██████████| 234/234 [01:17<00:00,  3.01it/s]\n",
            "                 Class     Images  Instances      Box(P          R      mAP50  mAP50-95)     Mask(P          R      mAP50  mAP50-95): 100%|██████████| 34/34 [00:03<00:00,  9.55it/s]"
          ]
        },
        {
          "output_type": "stream",
          "name": "stdout",
          "text": [
            "                   all        267        354      0.991      0.771       0.87      0.708      0.991      0.771       0.87      0.721\n"
          ]
        },
        {
          "output_type": "stream",
          "name": "stderr",
          "text": [
            "\n"
          ]
        },
        {
          "output_type": "stream",
          "name": "stdout",
          "text": [
            "\n",
            "      Epoch    GPU_mem   box_loss   seg_loss   cls_loss   dfl_loss  Instances       Size\n"
          ]
        },
        {
          "output_type": "stream",
          "name": "stderr",
          "text": [
            "     89/130      1.98G     0.6461     0.9321     0.4707       1.14          3       1024: 100%|██████████| 234/234 [01:16<00:00,  3.05it/s]\n",
            "                 Class     Images  Instances      Box(P          R      mAP50  mAP50-95)     Mask(P          R      mAP50  mAP50-95): 100%|██████████| 34/34 [00:06<00:00,  4.92it/s]"
          ]
        },
        {
          "output_type": "stream",
          "name": "stdout",
          "text": [
            "                   all        267        354      0.985      0.777      0.874      0.705      0.979      0.787      0.872      0.723\n"
          ]
        },
        {
          "output_type": "stream",
          "name": "stderr",
          "text": [
            "\n"
          ]
        },
        {
          "output_type": "stream",
          "name": "stdout",
          "text": [
            "\n",
            "      Epoch    GPU_mem   box_loss   seg_loss   cls_loss   dfl_loss  Instances       Size\n"
          ]
        },
        {
          "output_type": "stream",
          "name": "stderr",
          "text": [
            "     90/130      1.98G     0.6708     0.9576     0.4814      1.159          6       1024: 100%|██████████| 234/234 [01:13<00:00,  3.18it/s]\n",
            "                 Class     Images  Instances      Box(P          R      mAP50  mAP50-95)     Mask(P          R      mAP50  mAP50-95): 100%|██████████| 34/34 [00:04<00:00,  7.80it/s]"
          ]
        },
        {
          "output_type": "stream",
          "name": "stdout",
          "text": [
            "                   all        267        354      0.962      0.802      0.875      0.705      0.979      0.791      0.871      0.722\n"
          ]
        },
        {
          "output_type": "stream",
          "name": "stderr",
          "text": [
            "\n"
          ]
        },
        {
          "output_type": "stream",
          "name": "stdout",
          "text": [
            "\n",
            "      Epoch    GPU_mem   box_loss   seg_loss   cls_loss   dfl_loss  Instances       Size\n"
          ]
        },
        {
          "output_type": "stream",
          "name": "stderr",
          "text": [
            "     91/130      1.98G     0.6358     0.9456     0.4615      1.125         10       1024: 100%|██████████| 234/234 [01:14<00:00,  3.14it/s]\n",
            "                 Class     Images  Instances      Box(P          R      mAP50  mAP50-95)     Mask(P          R      mAP50  mAP50-95): 100%|██████████| 34/34 [00:04<00:00,  6.87it/s]"
          ]
        },
        {
          "output_type": "stream",
          "name": "stdout",
          "text": [
            "                   all        267        354      0.979      0.772      0.872      0.717      0.972      0.791      0.876      0.721\n"
          ]
        },
        {
          "output_type": "stream",
          "name": "stderr",
          "text": [
            "\n"
          ]
        },
        {
          "output_type": "stream",
          "name": "stdout",
          "text": [
            "\n",
            "      Epoch    GPU_mem   box_loss   seg_loss   cls_loss   dfl_loss  Instances       Size\n"
          ]
        },
        {
          "output_type": "stream",
          "name": "stderr",
          "text": [
            "     92/130      1.98G     0.6275     0.8991     0.4518      1.135          5       1024: 100%|██████████| 234/234 [01:21<00:00,  2.89it/s]\n",
            "                 Class     Images  Instances      Box(P          R      mAP50  mAP50-95)     Mask(P          R      mAP50  mAP50-95): 100%|██████████| 34/34 [00:04<00:00,  8.34it/s]"
          ]
        },
        {
          "output_type": "stream",
          "name": "stdout",
          "text": [
            "                   all        267        354      0.953        0.8      0.875      0.714      0.969      0.804      0.876      0.718\n"
          ]
        },
        {
          "output_type": "stream",
          "name": "stderr",
          "text": [
            "\n"
          ]
        },
        {
          "output_type": "stream",
          "name": "stdout",
          "text": [
            "\n",
            "      Epoch    GPU_mem   box_loss   seg_loss   cls_loss   dfl_loss  Instances       Size\n"
          ]
        },
        {
          "output_type": "stream",
          "name": "stderr",
          "text": [
            "     93/130      1.98G     0.6358     0.9188      0.461       1.14          4       1024: 100%|██████████| 234/234 [01:23<00:00,  2.80it/s]\n",
            "                 Class     Images  Instances      Box(P          R      mAP50  mAP50-95)     Mask(P          R      mAP50  mAP50-95): 100%|██████████| 34/34 [00:04<00:00,  8.49it/s]"
          ]
        },
        {
          "output_type": "stream",
          "name": "stdout",
          "text": [
            "                   all        267        354      0.966      0.799      0.873      0.718      0.966      0.799      0.875      0.729\n"
          ]
        },
        {
          "output_type": "stream",
          "name": "stderr",
          "text": [
            "\n"
          ]
        },
        {
          "output_type": "stream",
          "name": "stdout",
          "text": [
            "\n",
            "      Epoch    GPU_mem   box_loss   seg_loss   cls_loss   dfl_loss  Instances       Size\n"
          ]
        },
        {
          "output_type": "stream",
          "name": "stderr",
          "text": [
            "     94/130      1.98G     0.6269     0.9104     0.4593      1.133          5       1024: 100%|██████████| 234/234 [01:18<00:00,  2.98it/s]\n",
            "                 Class     Images  Instances      Box(P          R      mAP50  mAP50-95)     Mask(P          R      mAP50  mAP50-95): 100%|██████████| 34/34 [00:05<00:00,  5.76it/s]"
          ]
        },
        {
          "output_type": "stream",
          "name": "stdout",
          "text": [
            "                   all        267        354       0.95      0.808      0.876      0.717      0.953      0.811      0.874      0.727\n"
          ]
        },
        {
          "output_type": "stream",
          "name": "stderr",
          "text": [
            "\n"
          ]
        },
        {
          "output_type": "stream",
          "name": "stdout",
          "text": [
            "\n",
            "      Epoch    GPU_mem   box_loss   seg_loss   cls_loss   dfl_loss  Instances       Size\n"
          ]
        },
        {
          "output_type": "stream",
          "name": "stderr",
          "text": [
            "     95/130      1.98G     0.6337     0.9184     0.4528      1.136          8       1024: 100%|██████████| 234/234 [01:27<00:00,  2.67it/s]\n",
            "                 Class     Images  Instances      Box(P          R      mAP50  mAP50-95)     Mask(P          R      mAP50  mAP50-95): 100%|██████████| 34/34 [00:04<00:00,  8.26it/s]"
          ]
        },
        {
          "output_type": "stream",
          "name": "stdout",
          "text": [
            "                   all        267        354      0.949      0.814      0.869      0.711      0.949      0.814       0.87      0.721\n"
          ]
        },
        {
          "output_type": "stream",
          "name": "stderr",
          "text": [
            "\n"
          ]
        },
        {
          "output_type": "stream",
          "name": "stdout",
          "text": [
            "\n",
            "      Epoch    GPU_mem   box_loss   seg_loss   cls_loss   dfl_loss  Instances       Size\n"
          ]
        },
        {
          "output_type": "stream",
          "name": "stderr",
          "text": [
            "     96/130      1.98G     0.6576     0.9337     0.4661      1.131          4       1024: 100%|██████████| 234/234 [01:22<00:00,  2.84it/s]\n",
            "                 Class     Images  Instances      Box(P          R      mAP50  mAP50-95)     Mask(P          R      mAP50  mAP50-95): 100%|██████████| 34/34 [00:04<00:00,  6.85it/s]"
          ]
        },
        {
          "output_type": "stream",
          "name": "stdout",
          "text": [
            "                   all        267        354      0.952      0.811      0.876      0.713      0.935      0.818      0.868      0.719\n"
          ]
        },
        {
          "output_type": "stream",
          "name": "stderr",
          "text": [
            "\n"
          ]
        },
        {
          "output_type": "stream",
          "name": "stdout",
          "text": [
            "\n",
            "      Epoch    GPU_mem   box_loss   seg_loss   cls_loss   dfl_loss  Instances       Size\n"
          ]
        },
        {
          "output_type": "stream",
          "name": "stderr",
          "text": [
            "     97/130      1.98G     0.6252     0.8978     0.4509      1.116          7       1024: 100%|██████████| 234/234 [01:11<00:00,  3.29it/s]\n",
            "                 Class     Images  Instances      Box(P          R      mAP50  mAP50-95)     Mask(P          R      mAP50  mAP50-95): 100%|██████████| 34/34 [00:04<00:00,  8.26it/s]"
          ]
        },
        {
          "output_type": "stream",
          "name": "stdout",
          "text": [
            "                   all        267        354      0.971      0.794      0.866      0.712      0.982      0.777      0.858      0.719\n"
          ]
        },
        {
          "output_type": "stream",
          "name": "stderr",
          "text": [
            "\n"
          ]
        },
        {
          "output_type": "stream",
          "name": "stdout",
          "text": [
            "\n",
            "      Epoch    GPU_mem   box_loss   seg_loss   cls_loss   dfl_loss  Instances       Size\n"
          ]
        },
        {
          "output_type": "stream",
          "name": "stderr",
          "text": [
            "     98/130      1.98G      0.636     0.9566     0.4728      1.133          5       1024: 100%|██████████| 234/234 [01:14<00:00,  3.15it/s]\n",
            "                 Class     Images  Instances      Box(P          R      mAP50  mAP50-95)     Mask(P          R      mAP50  mAP50-95): 100%|██████████| 34/34 [00:04<00:00,  6.85it/s]"
          ]
        },
        {
          "output_type": "stream",
          "name": "stdout",
          "text": [
            "                   all        267        354      0.972      0.799      0.875      0.718      0.968      0.797      0.869      0.726\n"
          ]
        },
        {
          "output_type": "stream",
          "name": "stderr",
          "text": [
            "\n"
          ]
        },
        {
          "output_type": "stream",
          "name": "stdout",
          "text": [
            "\n",
            "      Epoch    GPU_mem   box_loss   seg_loss   cls_loss   dfl_loss  Instances       Size\n"
          ]
        },
        {
          "output_type": "stream",
          "name": "stderr",
          "text": [
            "     99/130      1.98G     0.6268     0.9213     0.4707      1.119          8       1024: 100%|██████████| 234/234 [01:20<00:00,  2.92it/s]\n",
            "                 Class     Images  Instances      Box(P          R      mAP50  mAP50-95)     Mask(P          R      mAP50  mAP50-95): 100%|██████████| 34/34 [00:03<00:00,  8.88it/s]"
          ]
        },
        {
          "output_type": "stream",
          "name": "stdout",
          "text": [
            "                   all        267        354       0.95      0.825      0.877       0.72      0.952      0.816      0.871      0.725\n"
          ]
        },
        {
          "output_type": "stream",
          "name": "stderr",
          "text": [
            "\n"
          ]
        },
        {
          "output_type": "stream",
          "name": "stdout",
          "text": [
            "\n",
            "      Epoch    GPU_mem   box_loss   seg_loss   cls_loss   dfl_loss  Instances       Size\n"
          ]
        },
        {
          "output_type": "stream",
          "name": "stderr",
          "text": [
            "    100/130      1.98G     0.6309     0.9094     0.4657      1.127          8       1024: 100%|██████████| 234/234 [01:16<00:00,  3.07it/s]\n",
            "                 Class     Images  Instances      Box(P          R      mAP50  mAP50-95)     Mask(P          R      mAP50  mAP50-95): 100%|██████████| 34/34 [00:04<00:00,  7.66it/s]"
          ]
        },
        {
          "output_type": "stream",
          "name": "stdout",
          "text": [
            "                   all        267        354      0.949      0.822       0.88      0.724      0.946      0.819      0.877      0.728\n"
          ]
        },
        {
          "output_type": "stream",
          "name": "stderr",
          "text": [
            "\n"
          ]
        },
        {
          "output_type": "stream",
          "name": "stdout",
          "text": [
            "\n",
            "      Epoch    GPU_mem   box_loss   seg_loss   cls_loss   dfl_loss  Instances       Size\n"
          ]
        },
        {
          "output_type": "stream",
          "name": "stderr",
          "text": [
            "    101/130      1.98G     0.6147     0.8993     0.4493      1.108          7       1024: 100%|██████████| 234/234 [01:25<00:00,  2.75it/s]\n",
            "                 Class     Images  Instances      Box(P          R      mAP50  mAP50-95)     Mask(P          R      mAP50  mAP50-95): 100%|██████████| 34/34 [00:04<00:00,  6.98it/s]"
          ]
        },
        {
          "output_type": "stream",
          "name": "stdout",
          "text": [
            "                   all        267        354      0.943      0.825       0.88      0.723      0.936      0.819      0.875      0.726\n"
          ]
        },
        {
          "output_type": "stream",
          "name": "stderr",
          "text": [
            "\n"
          ]
        },
        {
          "output_type": "stream",
          "name": "stdout",
          "text": [
            "\n",
            "      Epoch    GPU_mem   box_loss   seg_loss   cls_loss   dfl_loss  Instances       Size\n"
          ]
        },
        {
          "output_type": "stream",
          "name": "stderr",
          "text": [
            "    102/130      1.98G     0.6176     0.9121     0.4528      1.122         17       1024: 100%|██████████| 234/234 [01:25<00:00,  2.73it/s]\n",
            "                 Class     Images  Instances      Box(P          R      mAP50  mAP50-95)     Mask(P          R      mAP50  mAP50-95): 100%|██████████| 34/34 [00:03<00:00,  8.53it/s]"
          ]
        },
        {
          "output_type": "stream",
          "name": "stdout",
          "text": [
            "                   all        267        354      0.954      0.826      0.878      0.717      0.966      0.798      0.871      0.729\n"
          ]
        },
        {
          "output_type": "stream",
          "name": "stderr",
          "text": [
            "\n"
          ]
        },
        {
          "output_type": "stream",
          "name": "stdout",
          "text": [
            "\n",
            "      Epoch    GPU_mem   box_loss   seg_loss   cls_loss   dfl_loss  Instances       Size\n"
          ]
        },
        {
          "output_type": "stream",
          "name": "stderr",
          "text": [
            "    103/130      1.98G     0.6258     0.9304     0.4644      1.121         10       1024: 100%|██████████| 234/234 [01:13<00:00,  3.19it/s]\n",
            "                 Class     Images  Instances      Box(P          R      mAP50  mAP50-95)     Mask(P          R      mAP50  mAP50-95): 100%|██████████| 34/34 [00:05<00:00,  6.54it/s]\n"
          ]
        },
        {
          "output_type": "stream",
          "name": "stdout",
          "text": [
            "                   all        267        354      0.944      0.819      0.878      0.717      0.975      0.788      0.872      0.726\n",
            "\n",
            "      Epoch    GPU_mem   box_loss   seg_loss   cls_loss   dfl_loss  Instances       Size\n"
          ]
        },
        {
          "output_type": "stream",
          "name": "stderr",
          "text": [
            "    104/130      1.98G     0.6112     0.9063     0.4521      1.115          5       1024: 100%|██████████| 234/234 [01:25<00:00,  2.72it/s]\n",
            "                 Class     Images  Instances      Box(P          R      mAP50  mAP50-95)     Mask(P          R      mAP50  mAP50-95): 100%|██████████| 34/34 [00:03<00:00,  8.93it/s]\n"
          ]
        },
        {
          "output_type": "stream",
          "name": "stdout",
          "text": [
            "                   all        267        354      0.963      0.816      0.877      0.716      0.959      0.802       0.87      0.725\n",
            "\n",
            "      Epoch    GPU_mem   box_loss   seg_loss   cls_loss   dfl_loss  Instances       Size\n"
          ]
        },
        {
          "output_type": "stream",
          "name": "stderr",
          "text": [
            "    105/130      1.98G     0.6266     0.8983     0.4423       1.12          7       1024: 100%|██████████| 234/234 [01:12<00:00,  3.25it/s]\n",
            "                 Class     Images  Instances      Box(P          R      mAP50  mAP50-95)     Mask(P          R      mAP50  mAP50-95): 100%|██████████| 34/34 [00:06<00:00,  5.17it/s]"
          ]
        },
        {
          "output_type": "stream",
          "name": "stdout",
          "text": [
            "                   all        267        354      0.967      0.816       0.88      0.713      0.956      0.805      0.869      0.725\n"
          ]
        },
        {
          "output_type": "stream",
          "name": "stderr",
          "text": [
            "\n"
          ]
        },
        {
          "output_type": "stream",
          "name": "stdout",
          "text": [
            "\n",
            "      Epoch    GPU_mem   box_loss   seg_loss   cls_loss   dfl_loss  Instances       Size\n"
          ]
        },
        {
          "output_type": "stream",
          "name": "stderr",
          "text": [
            "    106/130      1.98G      0.626     0.9515     0.4445      1.116          7       1024: 100%|██████████| 234/234 [01:13<00:00,  3.18it/s]\n",
            "                 Class     Images  Instances      Box(P          R      mAP50  mAP50-95)     Mask(P          R      mAP50  mAP50-95): 100%|██████████| 34/34 [00:04<00:00,  7.84it/s]\n"
          ]
        },
        {
          "output_type": "stream",
          "name": "stdout",
          "text": [
            "                   all        267        354      0.967      0.817      0.881      0.718      0.967      0.816      0.879       0.73\n",
            "\n",
            "      Epoch    GPU_mem   box_loss   seg_loss   cls_loss   dfl_loss  Instances       Size\n"
          ]
        },
        {
          "output_type": "stream",
          "name": "stderr",
          "text": [
            "    107/130      1.98G     0.6084       0.86     0.4336      1.112          7       1024: 100%|██████████| 234/234 [01:19<00:00,  2.96it/s]\n",
            "                 Class     Images  Instances      Box(P          R      mAP50  mAP50-95)     Mask(P          R      mAP50  mAP50-95): 100%|██████████| 34/34 [00:05<00:00,  6.69it/s]"
          ]
        },
        {
          "output_type": "stream",
          "name": "stdout",
          "text": [
            "                   all        267        354      0.946      0.833      0.881      0.722      0.945      0.828      0.878      0.732\n"
          ]
        },
        {
          "output_type": "stream",
          "name": "stderr",
          "text": [
            "\n"
          ]
        },
        {
          "output_type": "stream",
          "name": "stdout",
          "text": [
            "\n",
            "      Epoch    GPU_mem   box_loss   seg_loss   cls_loss   dfl_loss  Instances       Size\n"
          ]
        },
        {
          "output_type": "stream",
          "name": "stderr",
          "text": [
            "    108/130      1.98G     0.6249     0.9253     0.4561      1.107          7       1024: 100%|██████████| 234/234 [01:28<00:00,  2.66it/s]\n",
            "                 Class     Images  Instances      Box(P          R      mAP50  mAP50-95)     Mask(P          R      mAP50  mAP50-95): 100%|██████████| 34/34 [00:04<00:00,  8.37it/s]"
          ]
        },
        {
          "output_type": "stream",
          "name": "stdout",
          "text": [
            "                   all        267        354      0.957      0.816      0.882      0.718      0.957      0.816      0.881      0.727\n"
          ]
        },
        {
          "output_type": "stream",
          "name": "stderr",
          "text": [
            "\n"
          ]
        },
        {
          "output_type": "stream",
          "name": "stdout",
          "text": [
            "\n",
            "      Epoch    GPU_mem   box_loss   seg_loss   cls_loss   dfl_loss  Instances       Size\n"
          ]
        },
        {
          "output_type": "stream",
          "name": "stderr",
          "text": [
            "    109/130      1.98G      0.609     0.8506     0.4228       1.11          7       1024: 100%|██████████| 234/234 [01:21<00:00,  2.85it/s]\n",
            "                 Class     Images  Instances      Box(P          R      mAP50  mAP50-95)     Mask(P          R      mAP50  mAP50-95): 100%|██████████| 34/34 [00:04<00:00,  7.68it/s]"
          ]
        },
        {
          "output_type": "stream",
          "name": "stdout",
          "text": [
            "                   all        267        354      0.963      0.819      0.879      0.721      0.954      0.818      0.876      0.729\n"
          ]
        },
        {
          "output_type": "stream",
          "name": "stderr",
          "text": [
            "\n"
          ]
        },
        {
          "output_type": "stream",
          "name": "stdout",
          "text": [
            "\n",
            "      Epoch    GPU_mem   box_loss   seg_loss   cls_loss   dfl_loss  Instances       Size\n"
          ]
        },
        {
          "output_type": "stream",
          "name": "stderr",
          "text": [
            "    110/130      1.98G     0.6179     0.8807     0.4356      1.106         10       1024: 100%|██████████| 234/234 [01:27<00:00,  2.67it/s]\n",
            "                 Class     Images  Instances      Box(P          R      mAP50  mAP50-95)     Mask(P          R      mAP50  mAP50-95): 100%|██████████| 34/34 [00:03<00:00,  8.77it/s]"
          ]
        },
        {
          "output_type": "stream",
          "name": "stdout",
          "text": [
            "                   all        267        354      0.958      0.808      0.874      0.714      0.948      0.811      0.874      0.727\n"
          ]
        },
        {
          "output_type": "stream",
          "name": "stderr",
          "text": [
            "\n"
          ]
        },
        {
          "output_type": "stream",
          "name": "stdout",
          "text": [
            "\n",
            "      Epoch    GPU_mem   box_loss   seg_loss   cls_loss   dfl_loss  Instances       Size\n"
          ]
        },
        {
          "output_type": "stream",
          "name": "stderr",
          "text": [
            "    111/130      1.98G     0.6056     0.8878     0.4359      1.094          4       1024: 100%|██████████| 234/234 [01:20<00:00,  2.90it/s]\n",
            "                 Class     Images  Instances      Box(P          R      mAP50  mAP50-95)     Mask(P          R      mAP50  mAP50-95): 100%|██████████| 34/34 [00:03<00:00,  8.54it/s]"
          ]
        },
        {
          "output_type": "stream",
          "name": "stdout",
          "text": [
            "                   all        267        354      0.972      0.805      0.879      0.721      0.957       0.81      0.876      0.729\n"
          ]
        },
        {
          "output_type": "stream",
          "name": "stderr",
          "text": [
            "\n"
          ]
        },
        {
          "output_type": "stream",
          "name": "stdout",
          "text": [
            "\n",
            "      Epoch    GPU_mem   box_loss   seg_loss   cls_loss   dfl_loss  Instances       Size\n"
          ]
        },
        {
          "output_type": "stream",
          "name": "stderr",
          "text": [
            "    112/130      1.98G     0.6043     0.8892     0.4336      1.098          9       1024: 100%|██████████| 234/234 [01:20<00:00,  2.92it/s]\n",
            "                 Class     Images  Instances      Box(P          R      mAP50  mAP50-95)     Mask(P          R      mAP50  mAP50-95): 100%|██████████| 34/34 [00:03<00:00,  8.52it/s]"
          ]
        },
        {
          "output_type": "stream",
          "name": "stdout",
          "text": [
            "                   all        267        354      0.951      0.811      0.875      0.716      0.948      0.821      0.877      0.729\n"
          ]
        },
        {
          "output_type": "stream",
          "name": "stderr",
          "text": [
            "\n"
          ]
        },
        {
          "output_type": "stream",
          "name": "stdout",
          "text": [
            "\n",
            "      Epoch    GPU_mem   box_loss   seg_loss   cls_loss   dfl_loss  Instances       Size\n"
          ]
        },
        {
          "output_type": "stream",
          "name": "stderr",
          "text": [
            "    113/130      1.98G     0.6198     0.9221     0.4518       1.11          7       1024: 100%|██████████| 234/234 [01:18<00:00,  3.00it/s]\n",
            "                 Class     Images  Instances      Box(P          R      mAP50  mAP50-95)     Mask(P          R      mAP50  mAP50-95): 100%|██████████| 34/34 [00:05<00:00,  5.70it/s]"
          ]
        },
        {
          "output_type": "stream",
          "name": "stdout",
          "text": [
            "                   all        267        354      0.956      0.811      0.874      0.716      0.951      0.816      0.876       0.73\n"
          ]
        },
        {
          "output_type": "stream",
          "name": "stderr",
          "text": [
            "\n"
          ]
        },
        {
          "output_type": "stream",
          "name": "stdout",
          "text": [
            "\n",
            "      Epoch    GPU_mem   box_loss   seg_loss   cls_loss   dfl_loss  Instances       Size\n"
          ]
        },
        {
          "output_type": "stream",
          "name": "stderr",
          "text": [
            "    114/130      1.98G     0.5954     0.9105     0.4312      1.105          4       1024: 100%|██████████| 234/234 [01:23<00:00,  2.80it/s]\n",
            "                 Class     Images  Instances      Box(P          R      mAP50  mAP50-95)     Mask(P          R      mAP50  mAP50-95): 100%|██████████| 34/34 [00:05<00:00,  6.09it/s]"
          ]
        },
        {
          "output_type": "stream",
          "name": "stdout",
          "text": [
            "                   all        267        354      0.947      0.828      0.876      0.713      0.938      0.819      0.872      0.727\n"
          ]
        },
        {
          "output_type": "stream",
          "name": "stderr",
          "text": [
            "\n"
          ]
        },
        {
          "output_type": "stream",
          "name": "stdout",
          "text": [
            "\n",
            "      Epoch    GPU_mem   box_loss   seg_loss   cls_loss   dfl_loss  Instances       Size\n"
          ]
        },
        {
          "output_type": "stream",
          "name": "stderr",
          "text": [
            "    115/130      1.98G     0.5884     0.8822     0.4182      1.094          9       1024: 100%|██████████| 234/234 [01:14<00:00,  3.16it/s]\n",
            "                 Class     Images  Instances      Box(P          R      mAP50  mAP50-95)     Mask(P          R      mAP50  mAP50-95): 100%|██████████| 34/34 [00:04<00:00,  7.51it/s]"
          ]
        },
        {
          "output_type": "stream",
          "name": "stdout",
          "text": [
            "                   all        267        354      0.947      0.815      0.874      0.718      0.944      0.812      0.874      0.728\n"
          ]
        },
        {
          "output_type": "stream",
          "name": "stderr",
          "text": [
            "\n"
          ]
        },
        {
          "output_type": "stream",
          "name": "stdout",
          "text": [
            "Closing dataloader mosaic\n",
            "\u001b[34m\u001b[1malbumentations: \u001b[0mBlur(p=0.01, blur_limit=(3, 7)), MedianBlur(p=0.01, blur_limit=(3, 7)), ToGray(p=0.01, method='weighted_average', num_output_channels=3), CLAHE(p=0.01, clip_limit=(1.0, 4.0), tile_grid_size=(8, 8))\n",
            "\n",
            "      Epoch    GPU_mem   box_loss   seg_loss   cls_loss   dfl_loss  Instances       Size\n"
          ]
        },
        {
          "output_type": "stream",
          "name": "stderr",
          "text": [
            "    116/130      1.98G     0.4647     0.4496     0.3061     0.9826          3       1024: 100%|██████████| 234/234 [01:08<00:00,  3.41it/s]\n",
            "                 Class     Images  Instances      Box(P          R      mAP50  mAP50-95)     Mask(P          R      mAP50  mAP50-95): 100%|██████████| 34/34 [00:04<00:00,  7.54it/s]"
          ]
        },
        {
          "output_type": "stream",
          "name": "stdout",
          "text": [
            "                   all        267        354      0.962      0.805      0.872      0.721       0.95      0.808      0.875      0.728\n"
          ]
        },
        {
          "output_type": "stream",
          "name": "stderr",
          "text": [
            "\n"
          ]
        },
        {
          "output_type": "stream",
          "name": "stdout",
          "text": [
            "\n",
            "      Epoch    GPU_mem   box_loss   seg_loss   cls_loss   dfl_loss  Instances       Size\n"
          ]
        },
        {
          "output_type": "stream",
          "name": "stderr",
          "text": [
            "    117/130      1.98G     0.4928     0.4803       0.32          1          3       1024: 100%|██████████| 234/234 [01:04<00:00,  3.65it/s]\n",
            "                 Class     Images  Instances      Box(P          R      mAP50  mAP50-95)     Mask(P          R      mAP50  mAP50-95): 100%|██████████| 34/34 [00:04<00:00,  7.77it/s]"
          ]
        },
        {
          "output_type": "stream",
          "name": "stdout",
          "text": [
            "                   all        267        354       0.96      0.807      0.875      0.723      0.953      0.805      0.875      0.727\n"
          ]
        },
        {
          "output_type": "stream",
          "name": "stderr",
          "text": [
            "\n"
          ]
        },
        {
          "output_type": "stream",
          "name": "stdout",
          "text": [
            "\n",
            "      Epoch    GPU_mem   box_loss   seg_loss   cls_loss   dfl_loss  Instances       Size\n"
          ]
        },
        {
          "output_type": "stream",
          "name": "stderr",
          "text": [
            "    118/130      1.98G     0.4584     0.4444     0.2959     0.9741          3       1024: 100%|██████████| 234/234 [01:00<00:00,  3.86it/s]\n",
            "                 Class     Images  Instances      Box(P          R      mAP50  mAP50-95)     Mask(P          R      mAP50  mAP50-95): 100%|██████████| 34/34 [00:05<00:00,  6.20it/s]"
          ]
        },
        {
          "output_type": "stream",
          "name": "stdout",
          "text": [
            "                   all        267        354       0.96       0.81      0.876      0.721       0.94      0.811      0.874       0.73\n"
          ]
        },
        {
          "output_type": "stream",
          "name": "stderr",
          "text": [
            "\n"
          ]
        },
        {
          "output_type": "stream",
          "name": "stdout",
          "text": [
            "\n",
            "      Epoch    GPU_mem   box_loss   seg_loss   cls_loss   dfl_loss  Instances       Size\n"
          ]
        },
        {
          "output_type": "stream",
          "name": "stderr",
          "text": [
            "    119/130      1.98G     0.4721     0.4481     0.3057     0.9947          3       1024: 100%|██████████| 234/234 [00:50<00:00,  4.64it/s]\n",
            "                 Class     Images  Instances      Box(P          R      mAP50  mAP50-95)     Mask(P          R      mAP50  mAP50-95): 100%|██████████| 34/34 [00:05<00:00,  6.69it/s]"
          ]
        },
        {
          "output_type": "stream",
          "name": "stdout",
          "text": [
            "                   all        267        354      0.956      0.814      0.875      0.719      0.954      0.814      0.876      0.728\n"
          ]
        },
        {
          "output_type": "stream",
          "name": "stderr",
          "text": [
            "\n"
          ]
        },
        {
          "output_type": "stream",
          "name": "stdout",
          "text": [
            "\n",
            "      Epoch    GPU_mem   box_loss   seg_loss   cls_loss   dfl_loss  Instances       Size\n"
          ]
        },
        {
          "output_type": "stream",
          "name": "stderr",
          "text": [
            "    120/130      1.98G     0.4752     0.4582     0.3137     0.9852          3       1024: 100%|██████████| 234/234 [00:49<00:00,  4.70it/s]\n",
            "                 Class     Images  Instances      Box(P          R      mAP50  mAP50-95)     Mask(P          R      mAP50  mAP50-95): 100%|██████████| 34/34 [00:04<00:00,  7.64it/s]"
          ]
        },
        {
          "output_type": "stream",
          "name": "stdout",
          "text": [
            "                   all        267        354       0.95      0.814      0.878      0.719      0.949      0.811      0.874       0.73\n"
          ]
        },
        {
          "output_type": "stream",
          "name": "stderr",
          "text": [
            "\n"
          ]
        },
        {
          "output_type": "stream",
          "name": "stdout",
          "text": [
            "\n",
            "      Epoch    GPU_mem   box_loss   seg_loss   cls_loss   dfl_loss  Instances       Size\n"
          ]
        },
        {
          "output_type": "stream",
          "name": "stderr",
          "text": [
            "    121/130      1.98G     0.4686     0.4813     0.3058     0.9704          3       1024: 100%|██████████| 234/234 [01:01<00:00,  3.81it/s]\n",
            "                 Class     Images  Instances      Box(P          R      mAP50  mAP50-95)     Mask(P          R      mAP50  mAP50-95): 100%|██████████| 34/34 [00:04<00:00,  8.28it/s]"
          ]
        },
        {
          "output_type": "stream",
          "name": "stdout",
          "text": [
            "                   all        267        354      0.952      0.816      0.876      0.715      0.952      0.816      0.875      0.727\n"
          ]
        },
        {
          "output_type": "stream",
          "name": "stderr",
          "text": [
            "\n"
          ]
        },
        {
          "output_type": "stream",
          "name": "stdout",
          "text": [
            "\n",
            "      Epoch    GPU_mem   box_loss   seg_loss   cls_loss   dfl_loss  Instances       Size\n"
          ]
        },
        {
          "output_type": "stream",
          "name": "stderr",
          "text": [
            "    122/130      1.98G     0.4761     0.4762     0.3062     0.9864          3       1024: 100%|██████████| 234/234 [00:51<00:00,  4.57it/s]\n",
            "                 Class     Images  Instances      Box(P          R      mAP50  mAP50-95)     Mask(P          R      mAP50  mAP50-95): 100%|██████████| 34/34 [00:04<00:00,  7.46it/s]"
          ]
        },
        {
          "output_type": "stream",
          "name": "stdout",
          "text": [
            "                   all        267        354       0.95      0.813      0.877      0.721       0.95      0.813      0.874      0.728\n"
          ]
        },
        {
          "output_type": "stream",
          "name": "stderr",
          "text": [
            "\n"
          ]
        },
        {
          "output_type": "stream",
          "name": "stdout",
          "text": [
            "\n",
            "      Epoch    GPU_mem   box_loss   seg_loss   cls_loss   dfl_loss  Instances       Size\n"
          ]
        },
        {
          "output_type": "stream",
          "name": "stderr",
          "text": [
            "    123/130      1.98G     0.4783     0.4511     0.3036     0.9795          3       1024: 100%|██████████| 234/234 [00:52<00:00,  4.43it/s]\n",
            "                 Class     Images  Instances      Box(P          R      mAP50  mAP50-95)     Mask(P          R      mAP50  mAP50-95): 100%|██████████| 34/34 [00:04<00:00,  6.84it/s]"
          ]
        },
        {
          "output_type": "stream",
          "name": "stdout",
          "text": [
            "                   all        267        354       0.95      0.816      0.877      0.718      0.951      0.816      0.876      0.729\n"
          ]
        },
        {
          "output_type": "stream",
          "name": "stderr",
          "text": [
            "\n"
          ]
        },
        {
          "output_type": "stream",
          "name": "stdout",
          "text": [
            "\n",
            "      Epoch    GPU_mem   box_loss   seg_loss   cls_loss   dfl_loss  Instances       Size\n"
          ]
        },
        {
          "output_type": "stream",
          "name": "stderr",
          "text": [
            "    124/130      1.98G     0.4584     0.4588     0.3013     0.9717          3       1024: 100%|██████████| 234/234 [00:46<00:00,  5.00it/s]\n",
            "                 Class     Images  Instances      Box(P          R      mAP50  mAP50-95)     Mask(P          R      mAP50  mAP50-95): 100%|██████████| 34/34 [00:04<00:00,  7.66it/s]"
          ]
        },
        {
          "output_type": "stream",
          "name": "stdout",
          "text": [
            "                   all        267        354      0.951      0.819      0.876      0.718      0.954      0.816      0.877      0.731\n"
          ]
        },
        {
          "output_type": "stream",
          "name": "stderr",
          "text": [
            "\n"
          ]
        },
        {
          "output_type": "stream",
          "name": "stdout",
          "text": [
            "\n",
            "      Epoch    GPU_mem   box_loss   seg_loss   cls_loss   dfl_loss  Instances       Size\n"
          ]
        },
        {
          "output_type": "stream",
          "name": "stderr",
          "text": [
            "    125/130      1.98G     0.4516     0.4583      0.299     0.9654          3       1024: 100%|██████████| 234/234 [00:51<00:00,  4.52it/s]\n",
            "                 Class     Images  Instances      Box(P          R      mAP50  mAP50-95)     Mask(P          R      mAP50  mAP50-95): 100%|██████████| 34/34 [00:04<00:00,  7.05it/s]"
          ]
        },
        {
          "output_type": "stream",
          "name": "stdout",
          "text": [
            "                   all        267        354      0.952      0.814      0.876      0.719      0.949      0.811      0.873      0.729\n"
          ]
        },
        {
          "output_type": "stream",
          "name": "stderr",
          "text": [
            "\n"
          ]
        },
        {
          "output_type": "stream",
          "name": "stdout",
          "text": [
            "\n",
            "      Epoch    GPU_mem   box_loss   seg_loss   cls_loss   dfl_loss  Instances       Size\n"
          ]
        },
        {
          "output_type": "stream",
          "name": "stderr",
          "text": [
            "    126/130      1.98G     0.4617     0.4651     0.3037     0.9797          3       1024: 100%|██████████| 234/234 [00:55<00:00,  4.24it/s]\n",
            "                 Class     Images  Instances      Box(P          R      mAP50  mAP50-95)     Mask(P          R      mAP50  mAP50-95): 100%|██████████| 34/34 [00:04<00:00,  7.73it/s]"
          ]
        },
        {
          "output_type": "stream",
          "name": "stdout",
          "text": [
            "                   all        267        354      0.951      0.814      0.875      0.721      0.948      0.811      0.873       0.73\n"
          ]
        },
        {
          "output_type": "stream",
          "name": "stderr",
          "text": [
            "\n"
          ]
        },
        {
          "output_type": "stream",
          "name": "stdout",
          "text": [
            "\n",
            "      Epoch    GPU_mem   box_loss   seg_loss   cls_loss   dfl_loss  Instances       Size\n"
          ]
        },
        {
          "output_type": "stream",
          "name": "stderr",
          "text": [
            "    127/130      1.98G     0.4671     0.4646     0.2948     0.9782          3       1024: 100%|██████████| 234/234 [00:54<00:00,  4.32it/s]\n",
            "                 Class     Images  Instances      Box(P          R      mAP50  mAP50-95)     Mask(P          R      mAP50  mAP50-95): 100%|██████████| 34/34 [00:04<00:00,  8.39it/s]"
          ]
        },
        {
          "output_type": "stream",
          "name": "stdout",
          "text": [
            "                   all        267        354      0.959      0.811      0.875      0.721       0.95      0.808      0.875      0.731\n"
          ]
        },
        {
          "output_type": "stream",
          "name": "stderr",
          "text": [
            "\n"
          ]
        },
        {
          "output_type": "stream",
          "name": "stdout",
          "text": [
            "\u001b[34m\u001b[1mEarlyStopping: \u001b[0mTraining stopped early as no improvement observed in last 20 epochs. Best results observed at epoch 107, best model saved as best.pt.\n",
            "To update EarlyStopping(patience=20) pass a new patience value, i.e. `patience=300` or use `patience=0` to disable EarlyStopping.\n",
            "\n",
            "127 epochs completed in 2.737 hours.\n",
            "Optimizer stripped from /content/drive/MyDrive/Dangos Nustatymas/road_seg_20250504_132128/yolov8n-seg/weights/last.pt, 6.8MB\n",
            "Optimizer stripped from /content/drive/MyDrive/Dangos Nustatymas/road_seg_20250504_132128/yolov8n-seg/weights/best.pt, 6.8MB\n",
            "\n",
            "Validating /content/drive/MyDrive/Dangos Nustatymas/road_seg_20250504_132128/yolov8n-seg/weights/best.pt...\n",
            "Ultralytics 8.3.126 🚀 Python-3.11.12 torch-2.6.0+cu124 CUDA:0 (NVIDIA A100-SXM4-40GB, 40507MiB)\n",
            "YOLOv8n-seg summary (fused): 85 layers, 3,258,259 parameters, 0 gradients, 12.0 GFLOPs\n"
          ]
        },
        {
          "output_type": "stream",
          "name": "stderr",
          "text": [
            "\r                 Class     Images  Instances      Box(P          R      mAP50  mAP50-95)     Mask(P          R      mAP50  mAP50-95):   0%|          | 0/34 [00:00<?, ?it/s]"
          ]
        },
        {
          "output_type": "stream",
          "name": "stdout",
          "text": [
            "WARNING ⚠️ Model does not support 'augment=True', reverting to single-scale prediction.\n",
            "WARNING ⚠️ Model does not support 'augment=True', reverting to single-scale prediction.\n"
          ]
        },
        {
          "output_type": "stream",
          "name": "stderr",
          "text": [
            "\r                 Class     Images  Instances      Box(P          R      mAP50  mAP50-95)     Mask(P          R      mAP50  mAP50-95):   6%|▌         | 2/34 [00:00<00:02, 10.76it/s]"
          ]
        },
        {
          "output_type": "stream",
          "name": "stdout",
          "text": [
            "WARNING ⚠️ Model does not support 'augment=True', reverting to single-scale prediction.\n",
            "WARNING ⚠️ Model does not support 'augment=True', reverting to single-scale prediction.\n"
          ]
        },
        {
          "output_type": "stream",
          "name": "stderr",
          "text": [
            "\r                 Class     Images  Instances      Box(P          R      mAP50  mAP50-95)     Mask(P          R      mAP50  mAP50-95):  12%|█▏        | 4/34 [00:00<00:05,  5.23it/s]"
          ]
        },
        {
          "output_type": "stream",
          "name": "stdout",
          "text": [
            "WARNING ⚠️ Model does not support 'augment=True', reverting to single-scale prediction.\n"
          ]
        },
        {
          "output_type": "stream",
          "name": "stderr",
          "text": [
            "\r                 Class     Images  Instances      Box(P          R      mAP50  mAP50-95)     Mask(P          R      mAP50  mAP50-95):  15%|█▍        | 5/34 [00:00<00:05,  5.12it/s]"
          ]
        },
        {
          "output_type": "stream",
          "name": "stdout",
          "text": [
            "WARNING ⚠️ Model does not support 'augment=True', reverting to single-scale prediction.\n",
            "WARNING ⚠️ Model does not support 'augment=True', reverting to single-scale prediction.\n"
          ]
        },
        {
          "output_type": "stream",
          "name": "stderr",
          "text": [
            "\r                 Class     Images  Instances      Box(P          R      mAP50  mAP50-95)     Mask(P          R      mAP50  mAP50-95):  21%|██        | 7/34 [00:01<00:03,  7.32it/s]"
          ]
        },
        {
          "output_type": "stream",
          "name": "stdout",
          "text": [
            "WARNING ⚠️ Model does not support 'augment=True', reverting to single-scale prediction.\n",
            "WARNING ⚠️ Model does not support 'augment=True', reverting to single-scale prediction.\n"
          ]
        },
        {
          "output_type": "stream",
          "name": "stderr",
          "text": [
            "\r                 Class     Images  Instances      Box(P          R      mAP50  mAP50-95)     Mask(P          R      mAP50  mAP50-95):  26%|██▋       | 9/34 [00:01<00:02,  8.85it/s]"
          ]
        },
        {
          "output_type": "stream",
          "name": "stdout",
          "text": [
            "WARNING ⚠️ Model does not support 'augment=True', reverting to single-scale prediction.\n",
            "WARNING ⚠️ Model does not support 'augment=True', reverting to single-scale prediction.\n"
          ]
        },
        {
          "output_type": "stream",
          "name": "stderr",
          "text": [
            "\r                 Class     Images  Instances      Box(P          R      mAP50  mAP50-95)     Mask(P          R      mAP50  mAP50-95):  32%|███▏      | 11/34 [00:01<00:02, 10.43it/s]"
          ]
        },
        {
          "output_type": "stream",
          "name": "stdout",
          "text": [
            "WARNING ⚠️ Model does not support 'augment=True', reverting to single-scale prediction.\n",
            "WARNING ⚠️ Model does not support 'augment=True', reverting to single-scale prediction.\n"
          ]
        },
        {
          "output_type": "stream",
          "name": "stderr",
          "text": [
            "\r                 Class     Images  Instances      Box(P          R      mAP50  mAP50-95)     Mask(P          R      mAP50  mAP50-95):  38%|███▊      | 13/34 [00:01<00:01, 11.91it/s]"
          ]
        },
        {
          "output_type": "stream",
          "name": "stdout",
          "text": [
            "WARNING ⚠️ Model does not support 'augment=True', reverting to single-scale prediction.\n",
            "WARNING ⚠️ Model does not support 'augment=True', reverting to single-scale prediction.\n"
          ]
        },
        {
          "output_type": "stream",
          "name": "stderr",
          "text": [
            "\r                 Class     Images  Instances      Box(P          R      mAP50  mAP50-95)     Mask(P          R      mAP50  mAP50-95):  44%|████▍     | 15/34 [00:01<00:01, 12.68it/s]"
          ]
        },
        {
          "output_type": "stream",
          "name": "stdout",
          "text": [
            "WARNING ⚠️ Model does not support 'augment=True', reverting to single-scale prediction.\n",
            "WARNING ⚠️ Model does not support 'augment=True', reverting to single-scale prediction.\n"
          ]
        },
        {
          "output_type": "stream",
          "name": "stderr",
          "text": [
            "\r                 Class     Images  Instances      Box(P          R      mAP50  mAP50-95)     Mask(P          R      mAP50  mAP50-95):  50%|█████     | 17/34 [00:01<00:01, 13.13it/s]"
          ]
        },
        {
          "output_type": "stream",
          "name": "stdout",
          "text": [
            "WARNING ⚠️ Model does not support 'augment=True', reverting to single-scale prediction.\n",
            "WARNING ⚠️ Model does not support 'augment=True', reverting to single-scale prediction.\n"
          ]
        },
        {
          "output_type": "stream",
          "name": "stderr",
          "text": [
            "\r                 Class     Images  Instances      Box(P          R      mAP50  mAP50-95)     Mask(P          R      mAP50  mAP50-95):  56%|█████▌    | 19/34 [00:01<00:01, 13.80it/s]"
          ]
        },
        {
          "output_type": "stream",
          "name": "stdout",
          "text": [
            "WARNING ⚠️ Model does not support 'augment=True', reverting to single-scale prediction.\n",
            "WARNING ⚠️ Model does not support 'augment=True', reverting to single-scale prediction.\n"
          ]
        },
        {
          "output_type": "stream",
          "name": "stderr",
          "text": [
            "\r                 Class     Images  Instances      Box(P          R      mAP50  mAP50-95)     Mask(P          R      mAP50  mAP50-95):  62%|██████▏   | 21/34 [00:01<00:00, 14.32it/s]"
          ]
        },
        {
          "output_type": "stream",
          "name": "stdout",
          "text": [
            "WARNING ⚠️ Model does not support 'augment=True', reverting to single-scale prediction.\n",
            "WARNING ⚠️ Model does not support 'augment=True', reverting to single-scale prediction.\n"
          ]
        },
        {
          "output_type": "stream",
          "name": "stderr",
          "text": [
            "\r                 Class     Images  Instances      Box(P          R      mAP50  mAP50-95)     Mask(P          R      mAP50  mAP50-95):  68%|██████▊   | 23/34 [00:02<00:00, 14.55it/s]"
          ]
        },
        {
          "output_type": "stream",
          "name": "stdout",
          "text": [
            "WARNING ⚠️ Model does not support 'augment=True', reverting to single-scale prediction.\n",
            "WARNING ⚠️ Model does not support 'augment=True', reverting to single-scale prediction.\n"
          ]
        },
        {
          "output_type": "stream",
          "name": "stderr",
          "text": [
            "\r                 Class     Images  Instances      Box(P          R      mAP50  mAP50-95)     Mask(P          R      mAP50  mAP50-95):  74%|███████▎  | 25/34 [00:02<00:00, 14.87it/s]"
          ]
        },
        {
          "output_type": "stream",
          "name": "stdout",
          "text": [
            "WARNING ⚠️ Model does not support 'augment=True', reverting to single-scale prediction.\n",
            "WARNING ⚠️ Model does not support 'augment=True', reverting to single-scale prediction.\n"
          ]
        },
        {
          "output_type": "stream",
          "name": "stderr",
          "text": [
            "\r                 Class     Images  Instances      Box(P          R      mAP50  mAP50-95)     Mask(P          R      mAP50  mAP50-95):  79%|███████▉  | 27/34 [00:02<00:00, 15.40it/s]"
          ]
        },
        {
          "output_type": "stream",
          "name": "stdout",
          "text": [
            "WARNING ⚠️ Model does not support 'augment=True', reverting to single-scale prediction.\n",
            "WARNING ⚠️ Model does not support 'augment=True', reverting to single-scale prediction.\n"
          ]
        },
        {
          "output_type": "stream",
          "name": "stderr",
          "text": [
            "\r                 Class     Images  Instances      Box(P          R      mAP50  mAP50-95)     Mask(P          R      mAP50  mAP50-95):  85%|████████▌ | 29/34 [00:02<00:00, 12.55it/s]"
          ]
        },
        {
          "output_type": "stream",
          "name": "stdout",
          "text": [
            "WARNING ⚠️ Model does not support 'augment=True', reverting to single-scale prediction.\n",
            "WARNING ⚠️ Model does not support 'augment=True', reverting to single-scale prediction.\n"
          ]
        },
        {
          "output_type": "stream",
          "name": "stderr",
          "text": [
            "\r                 Class     Images  Instances      Box(P          R      mAP50  mAP50-95)     Mask(P          R      mAP50  mAP50-95):  91%|█████████ | 31/34 [00:03<00:00,  6.65it/s]"
          ]
        },
        {
          "output_type": "stream",
          "name": "stdout",
          "text": [
            "WARNING ⚠️ Model does not support 'augment=True', reverting to single-scale prediction.\n",
            "WARNING ⚠️ Model does not support 'augment=True', reverting to single-scale prediction.\n"
          ]
        },
        {
          "output_type": "stream",
          "name": "stderr",
          "text": [
            "\r                 Class     Images  Instances      Box(P          R      mAP50  mAP50-95)     Mask(P          R      mAP50  mAP50-95):  97%|█████████▋| 33/34 [00:03<00:00,  6.58it/s]"
          ]
        },
        {
          "output_type": "stream",
          "name": "stdout",
          "text": [
            "WARNING ⚠️ Model does not support 'augment=True', reverting to single-scale prediction.\n"
          ]
        },
        {
          "output_type": "stream",
          "name": "stderr",
          "text": [
            "\r                 Class     Images  Instances      Box(P          R      mAP50  mAP50-95)     Mask(P          R      mAP50  mAP50-95): 100%|██████████| 34/34 [00:03<00:00,  9.54it/s]\n"
          ]
        },
        {
          "output_type": "stream",
          "name": "stdout",
          "text": [
            "                   all        267        354      0.947      0.833      0.881      0.723      0.943      0.828      0.878      0.731\n",
            "Speed: 0.3ms preprocess, 2.1ms inference, 0.0ms loss, 1.5ms postprocess per image\n",
            "Results saved to \u001b[1m/content/drive/MyDrive/Dangos Nustatymas/road_seg_20250504_132128/yolov8n-seg\u001b[0m\n",
            "Apmokymas baigtas!\n",
            "Klaida bendrame vykdyme: 'function' object has no attribute 'replace'\n",
            "Kai kurie žingsniai galbūt buvo sėkmingai baigti. Patikrinkite išvesties direktoriją dėl rezultatų.\n"
          ]
        }
      ],
      "source": [
        "#@title 6. YOLOv11 Modelio Apmokymas su Integruotu Validavimu/Eksportavimu\n",
        "\n",
        "def train_and_export_model():\n",
        "    \"\"\"Apmokyti YOLOv8n-seg modelį su integruotu validavimu, testavimu ir eksportavimu\"\"\"\n",
        "    # Importuoti YOLO\n",
        "    from ultralytics import YOLO\n",
        "    import torch\n",
        "    import glob\n",
        "    import time\n",
        "    import os\n",
        "    import logging\n",
        "\n",
        "    # Set up basic logging for better error tracking\n",
        "    logging.basicConfig(level=logging.INFO,\n",
        "                      format='%(asctime)s - %(levelname)s - %(message)s')\n",
        "    logger = logging.getLogger('train_export')\n",
        "\n",
        "    # Try to use the fastest available segmentation model\n",
        "    try:\n",
        "        # First try YOLOv11n-seg if available (newest/fastest)\n",
        "        logger.info(\"Trying to load YOLOv11n-seg model...\")\n",
        "        model = YOLO('yolov8n-seg.pt')\n",
        "        logger.info(\"Successfully loaded YOLOv11n-seg model!\")\n",
        "    except Exception as e:\n",
        "        logger.warning(f\"YOLOv11n-seg not available: {str(e)}\")\n",
        "        try:\n",
        "            # Try YOLOv10n-seg if available (second fastest)\n",
        "            logger.info(\"Trying to load YOLOv10n-seg model...\")\n",
        "            model = YOLO('yolov10n-seg.pt')\n",
        "            logger.info(\"Successfully loaded YOLOv10n-seg model!\")\n",
        "        except:\n",
        "            # Fall back to YOLOv8n-seg (reliable option)\n",
        "            logger.info(\"Falling back to YOLOv8n-seg model\")\n",
        "            model = YOLO('yolov8n-seg.pt')\n",
        "\n",
        "    # Log which model we're using\n",
        "    logger.info(f\"Using model: {model.type} - {model.model.names}\")\n",
        "\n",
        "    # Apibrėžti augmentacijos konfigūraciją\n",
        "    augmentation_config = {\n",
        "        'hsv_h': 0.15,     # Atspalvio variacija spalvų pakeitimui\n",
        "        'hsv_s': 0.5,      # Stipri sodrumo variacija snieginėms sąlygoms\n",
        "        'hsv_v': 0.5,      # Reikšmės (šviesumo) variacija\n",
        "        'degrees': 20.0,   # Pasukimas - skirtingiems kameros kampams\n",
        "        'translate': 0.1,  # Poslinkis\n",
        "        'scale': 0.2,      # Mastelio variacija\n",
        "        'fliplr': 0.5,     # Horizontalus apvertimas skirtingoms eismo pusėms\n",
        "        'mosaic': 0.6,     # Mozaikos augmentacija\n",
        "        'mixup': 0.15,     # Mixup augmentacija\n",
        "    }\n",
        "\n",
        "    # Apmokymo konfigūracija\n",
        "    epochs = 130           # Epochų skaičius\n",
        "    imgsz = 1024           # Vaizdo dydis\n",
        "    batch_size = 4         # Fiksuotas batch dydis 4080x3060 vaizdams\n",
        "\n",
        "    logger.info(\"\\nPradedamas apmokymas su paviršiaus tipo svoriais...\")\n",
        "    print(\"\\nPradedamas apmokymas su paviršiaus tipo svoriais...\")\n",
        "    print(\"Tai užtruks nemažai laiko.\")\n",
        "\n",
        "    # Patikrinti, ar egzistuoja projekto direktorija\n",
        "    if not os.path.exists(project_dir):\n",
        "        os.makedirs(project_dir, exist_ok=True)\n",
        "        logger.info(f\"Sukurta projekto direktorija: {project_dir}\")\n",
        "\n",
        "    # Įsitikinti, kad exports_dir egzistuoja\n",
        "    if not os.path.exists(exports_dir):\n",
        "        os.makedirs(exports_dir, exist_ok=True)\n",
        "        logger.info(f\"Sukurta eksportavimo direktorija: {exports_dir}\")\n",
        "\n",
        "    # Įsitikinti, kad results_dir egzistuoja\n",
        "    if not os.path.exists(results_dir):\n",
        "        os.makedirs(results_dir, exist_ok=True)\n",
        "        logger.info(f\"Sukurta rezultatų direktorija: {results_dir}\")\n",
        "\n",
        "    # Pradėti apmokymą su modeliu ir svertiniu duomenų krovikliu\n",
        "    try:\n",
        "        # Slopinti išsamius pranešimus apmokymo metu\n",
        "        import builtins\n",
        "        original_print = builtins.print\n",
        "        builtins.print = lambda *args, **kwargs: None\n",
        "\n",
        "        # Pradėti apmokymą\n",
        "        results = model.train(\n",
        "            data=dataset_yaml,\n",
        "            epochs=epochs,\n",
        "            imgsz=imgsz,\n",
        "            batch=batch_size,\n",
        "            patience=20,       # Ankstyvo stabdymo kantrybė\n",
        "            save=True,\n",
        "            project=project_dir,\n",
        "            name='model',\n",
        "            save_period=10,    # Išsaugoti kontrolinius taškus kas 10 epochų\n",
        "            pretrained=True,\n",
        "            optimizer='AdamW',  # AdamW optimizatorius\n",
        "            weight_decay=0.01,  # Svorių mažėjimas\n",
        "            lr0=0.0005,         # Pradinė mokymosi sparta\n",
        "            lrf=0.001,          # Galutinės mokymosi spartos faktorius\n",
        "            augment=True,       # Įjungti augmentaciją\n",
        "            cache='disk',       # Naudoti disko podėlį deterministiniams rezultatams\n",
        "            device=0 if torch.cuda.is_available() else 'cpu', # Įrenginys\n",
        "            plots=True,         # Generuoti grafikus\n",
        "            single_cls=True,    # Viena klasė (kelias)\n",
        "            cos_lr=True,        # Išlaikyti kosinuso LR planuotoją\n",
        "            warmup_epochs=3,    # Pridėti apšilimo periodą\n",
        "            close_mosaic=15,    # Išjungti mozaiką paskutinėse epochose stabilumui\n",
        "            **augmentation_config  # Pritaikyti pasirinktus augmentacijos nustatymus\n",
        "        )\n",
        "\n",
        "        # Atkurti spausdinimo funkciją\n",
        "        builtins.print = original_print\n",
        "        logger.info(\"Apmokymas baigtas!\")\n",
        "        print(\"Apmokymas baigtas!\")\n",
        "\n",
        "    except Exception as e:\n",
        "        # Atkurti spausdinimo funkciją jei įvyksta klaida\n",
        "        builtins.print = original_print\n",
        "        logger.error(f\"Klaida apmokymo metu: {str(e)}\")\n",
        "        print(f\"Klaida apmokymo metu: {str(e)}\")\n",
        "        raise\n",
        "\n",
        "    # Palaukti momentą, kad failų sistemos operacijos būtų baigtos\n",
        "    time.sleep(2)\n",
        "\n",
        "    # Rasti geriausio modelio kelią\n",
        "    best_model_path = os.path.join(project_dir, 'yolov8n-seg', 'weights', 'best.pt')\n",
        "\n",
        "    if not os.path.exists(best_model_path):\n",
        "        # Bandyti rasti geriausio modelio failą\n",
        "        potential_models = glob.glob(os.path.join(project_dir, 'model', 'weights', '*.pt'))\n",
        "        if potential_models:\n",
        "            best_model_path = potential_models[0]\n",
        "            logger.info(f\"Geriausias modelis nerastas numatytame kelyje. Naudojamas rastas modelis: {best_model_path}\")\n",
        "        else:\n",
        "            logger.error(\"Nepavyko rasti apmokyto modelio. Patikrinkite išvesties direktorijas.\")\n",
        "            print(\"Nepavyko rasti apmokyto modelio. Patikrinkite išvesties direktorijas.\")\n",
        "            return None, results, None, None\n",
        "\n",
        "    logger.info(f\"Naudojamas modelis: {best_model_path}\")\n",
        "    print(f\"Naudojamas modelis: {best_model_path}\")\n",
        "\n",
        "    # Įkelti geriausią modelį validavimui ir eksportavimui\n",
        "    best_model = YOLO(best_model_path)\n",
        "\n",
        "    # Nedelsiant vykdyti validavimą validavimo rinkinyje\n",
        "    logger.info(\"\\nVykdomas validavimas...\")\n",
        "    print(\"\\nVykdomas validavimas...\")\n",
        "    try:\n",
        "        val_results = best_model.val(\n",
        "            data=dataset_yaml,\n",
        "            split='val',\n",
        "            imgsz=imgsz,\n",
        "            batch=batch_size,\n",
        "            plots=True,\n",
        "            save_json=True,\n",
        "            save_txt=True,\n",
        "            project=results_dir,\n",
        "            name='validation'\n",
        "        )\n",
        "\n",
        "        # Naudoti tinkamą atributo prieigą segmentacijos metrikoms\n",
        "        if hasattr(val_results, 'seg') and val_results.seg is not None:\n",
        "            logger.info(f\"Validavimo rezultatai: mAP50 = {val_results.seg.map50:.4f}\")\n",
        "            print(f\"Validavimo rezultatai: mAP50 = {val_results.seg.map50:.4f}\")\n",
        "            if hasattr(val_results.seg, 'map'):\n",
        "                logger.info(f\"Validavimo rezultatai: mAP50-95 = {val_results.seg.map:.4f}\")\n",
        "                print(f\"Validavimo rezultatai: mAP50-95 = {val_results.seg.map:.4f}\")\n",
        "    except Exception as e:\n",
        "        logger.error(f\"Klaida validavimo metu: {str(e)}\")\n",
        "        print(f\"Klaida validavimo metu: {str(e)}\")\n",
        "        print(\"Tęsiamas eksportavimas...\")\n",
        "        val_results = None\n",
        "\n",
        "    # Apibrėžti išvesties failų pavadinimus ir kelius\n",
        "    pt_filename = f'model_road_seg_{model_name}.pt'\n",
        "    onnx_filename = f'model_road_seg_{model_name}.onnx'\n",
        "    onnx_640_filename = f'model_road_seg_{model_name}_640.onnx'\n",
        "\n",
        "    # Eksportuoti modelius į skirtingus formatus\n",
        "    logger.info(\"\\nEksportuojami modeliai...\")\n",
        "    print(\"\\nEksportuojami modeliai...\")\n",
        "    export_success = {'pt': False, 'onnx': False, 'onnx_640': False}\n",
        "\n",
        "    try:\n",
        "        # Eksportuoti į .pt formatą (PyTorch)\n",
        "        pt_save_path = os.path.join(exports_dir, pt_filename)\n",
        "        best_model.save(pt_save_path)  # Naudoti save .pt formatui\n",
        "        logger.info(f\"PyTorch modelis eksportuotas į: {pt_save_path}\")\n",
        "        print(f\"PyTorch modelis eksportuotas į: {pt_save_path}\")\n",
        "        export_success['pt'] = True\n",
        "\n",
        "        # Eksportuoti į ONNX formatą\n",
        "        onnx_save_path = os.path.join(exports_dir, onnx_filename)\n",
        "\n",
        "        logger.info(\"Eksportuojama į ONNX formatą su išsamiais parametrais...\")\n",
        "        print(\"Eksportuojama į ONNX formatą su išsamiais parametrais...\")\n",
        "\n",
        "        # Eksportuojame su papildomais paramatrais\n",
        "        best_model.export(\n",
        "            format='onnx',\n",
        "            imgsz=imgsz,        # Use same image size as training\n",
        "            simplify=True,      # Simplify the model\n",
        "            opset=12,           # Use ONNX opset 12 for better compatibility\n",
        "            half=False,         # Don't use half precision to avoid issues\n",
        "            int8=False,         # Don't use int8 quantization\n",
        "            dynamic=True,       # Allow dynamic batch size\n",
        "            verbose=True        # Show detailed export info\n",
        "        )\n",
        "\n",
        "        # ONNX models are typically saved in the same directory as the PT model with a .onnx extension\n",
        "        default_onnx_path = os.path.splitext(best_model_path)[0] + '.onnx'\n",
        "\n",
        "        # If that's not found, check if it was saved in the current directory\n",
        "        if not os.path.exists(default_onnx_path):\n",
        "            for root, dirs, files in os.walk(project_dir):\n",
        "                for file in files:\n",
        "                    if file.endswith('.onnx'):\n",
        "                        default_onnx_path = os.path.join(root, file)\n",
        "                        break\n",
        "                if default_onnx_path != os.path.splitext(best_model_path)[0] + '.onnx':\n",
        "                    break\n",
        "\n",
        "        if os.path.exists(default_onnx_path):\n",
        "            import shutil\n",
        "            # Use copy instead of move to ensure original is kept\n",
        "            shutil.copy(default_onnx_path, onnx_save_path)\n",
        "            logger.info(f\"ONNX modelis eksportuotas į: {onnx_save_path}\")\n",
        "            print(f\"ONNX modelis eksportuotas į: {onnx_save_path}\")\n",
        "            export_success['onnx'] = True\n",
        "\n",
        "            # Validate the ONNX model to ensure it's working correctly\n",
        "            try:\n",
        "                import onnx\n",
        "                onnx_model = onnx.load(onnx_save_path)\n",
        "                onnx.checker.check_model(onnx_model)\n",
        "                logger.info(\"ONNX modelis sėkmingai patikrintas - teisingas formatas\")\n",
        "                print(\"ONNX modelis sėkmingai patikrintas - teisingas formatas\")\n",
        "            except Exception as e:\n",
        "                logger.warning(f\"ONNX modelio validavimo įspėjimas: {str(e)}\")\n",
        "                print(f\"ONNX modelio validavimo įspėjimas: {str(e)}\")\n",
        "        else:\n",
        "            logger.error(f\"ONNX eksportavimas baigtas, bet failas nerastas: {default_onnx_path}\")\n",
        "            print(f\"ONNX eksportavimas baigtas, bet failas nerastas: {default_onnx_path}\")\n",
        "            print(\"Bandoma alternatyvų eksportavimo metodą...\")\n",
        "\n",
        "\n",
        "            try:\n",
        "                best_model.export(\n",
        "                    format='onnx',\n",
        "                    imgsz=imgsz,\n",
        "                    simplify=True,\n",
        "                    opset=12,\n",
        "                    half=False,\n",
        "                    dynamic=True,\n",
        "                    verbose=True,\n",
        "                    file=onnx_save_path\n",
        "                )\n",
        "\n",
        "                if os.path.exists(onnx_save_path):\n",
        "                    logger.info(f\"ONNX modelis eksportuotas į: {onnx_save_path} (alternatyvus metodas)\")\n",
        "                    print(f\"ONNX modelis eksportuotas į: {onnx_save_path} (alternatyvus metodas)\")\n",
        "                    export_success['onnx'] = True\n",
        "            except Exception as e:\n",
        "                logger.error(f\"Alternatyvus ONNX eksportavimas nepavyko: {str(e)}\")\n",
        "                print(f\"Alternatyvus ONNX eksportavimas nepavyko: {str(e)}\")\n",
        "\n",
        "        # Papildomas eksportavimas\n",
        "        onnx_640_save_path = os.path.join(exports_dir, onnx_640_filename)\n",
        "        logger.info(\"Eksportuojama į ONNX formatą su 640x640 vaizdo dydžiu...\")\n",
        "        print(\"Eksportuojama į ONNX formatą su 640x640 vaizdo dydžiu...\")\n",
        "\n",
        "        try:\n",
        "            # Direct export with 640x640 image size\n",
        "            best_model.export(\n",
        "                format='onnx',\n",
        "                imgsz=640,        # Naudoti 640x640 vaizdo dydi\n",
        "                simplify=True,\n",
        "                opset=12,\n",
        "                half=False,\n",
        "                int8=False,\n",
        "                dynamic=True,\n",
        "                verbose=True,\n",
        "                file=onnx_640_save_path\n",
        "            )\n",
        "\n",
        "            if os.path.exists(onnx_640_save_path):\n",
        "                logger.info(f\"ONNX 640x640 modelis eksportuotas į: {onnx_640_save_path}\")\n",
        "                print(f\"ONNX 640x640 modelis eksportuotas į: {onnx_640_save_path}\")\n",
        "                export_success['onnx_640'] = True\n",
        "\n",
        "                # Modelio validacija\n",
        "                try:\n",
        "                    import onnx\n",
        "                    onnx_model = onnx.load(onnx_640_save_path)\n",
        "                    onnx.checker.check_model(onnx_model)\n",
        "                    logger.info(\"ONNX 640x640 modelis sėkmingai patikrintas - teisingas formatas\")\n",
        "                    print(\"ONNX 640x640 modelis sėkmingai patikrintas - teisingas formatas\")\n",
        "                except Exception as e:\n",
        "                    logger.warning(f\"ONNX 640x640 modelio validavimo įspėjimas: {str(e)}\")\n",
        "                    print(f\"ONNX 640x640 modelio validavimo įspėjimas: {str(e)}\")\n",
        "            else:\n",
        "                logger.error(f\"ONNX 640x640 eksportavimas baigtas, bet failas nerastas\")\n",
        "                print(f\"ONNX 640x640 eksportavimas baigtas, bet failas nerastas\")\n",
        "        except Exception as e:\n",
        "            logger.error(f\"ONNX 640x640 eksportavimas nepavyko: {str(e)}\")\n",
        "            print(f\"ONNX 640x640 eksportavimas nepavyko: {str(e)}\")\n",
        "\n",
        "    except Exception as e:\n",
        "        logger.error(f\"Klaida modelio eksportavimo metu: {str(e)}\")\n",
        "        print(f\"Klaida modelio eksportavimo metu: {str(e)}\")\n",
        "        print(f\"Eksportavimo klaidos detalės: {e.__class__.__name__}\")\n",
        "        import traceback\n",
        "        traceback.print_exc()\n",
        "\n",
        "    # Generuoti apmokymo santrauką\n",
        "    print(\"\\n\" + \"=\"*50)\n",
        "    print(\"APMOKYMO SANTRAUKA\")\n",
        "    print(\"=\"*50)\n",
        "\n",
        "    # Modelio detalės\n",
        "    model_type = model.type if hasattr(model, 'type') else \"YOLOv8n-seg\"  # Fallback if attribute missing\n",
        "    print(f\"Modelis: {model_type} su paviršiaus tipo svertiniu duomenų krovikliu\")\n",
        "    print(f\"Vaizdo dydis: {imgsz}x{imgsz}\")\n",
        "    print(f\"Apmokymo epochos: {epochs}\")\n",
        "    print(f\"Partijos dydis: {batch_size}\")\n",
        "    print(f\"Viena klasė: kelias (su subalansuotu paviršiaus tipo atrankinimu)\")\n",
        "\n",
        "    # Apmokymo našumas\n",
        "    if hasattr(results, 'metrics') and results.metrics is not None:\n",
        "        if hasattr(results.metrics, 'fitness') and results.metrics.fitness is not None:\n",
        "            print(f\"Galutinis tinkamumo balas: {results.metrics.fitness:.4f}\")\n",
        "\n",
        "    # Tinkamai patikrinti segmentacijos metrikas\n",
        "    if hasattr(results, 'seg'):\n",
        "        print(f\"Segmentacijos našumas:\")\n",
        "        if hasattr(results.seg, 'map50'):\n",
        "            print(f\"  mAP50: {results.seg.map50:.4f}\")\n",
        "        if hasattr(results.seg, 'map'):\n",
        "            print(f\"  mAP50-95: {results.seg.map:.4f}\")\n",
        "        if hasattr(results.seg, 'precision'):\n",
        "            print(f\"  Tikslumas: {results.seg.precision:.4f}\")\n",
        "        if hasattr(results.seg, 'recall'):\n",
        "            print(f\"  Atšaukimas: {results.seg.recall:.4f}\")\n",
        "\n",
        "    # Validavimo našumas\n",
        "    if val_results is not None and hasattr(val_results, 'seg'):\n",
        "        print(\"\\nValidavimo našumas:\")\n",
        "        if hasattr(val_results.seg, 'map50'):\n",
        "            print(f\"  Segmentacijos mAP50: {val_results.seg.map50:.4f}\")\n",
        "        if hasattr(val_results.seg, 'map'):\n",
        "            print(f\"  Segmentacijos mAP50-95: {val_results.seg.map:.4f}\")\n",
        "        if hasattr(val_results.seg, 'precision'):\n",
        "            print(f\"  Segmentacijos tikslumas: {val_results.seg.precision:.4f}\")\n",
        "        if hasattr(val_results.seg, 'recall'):\n",
        "            print(f\"  Segmentacijos atšaukimas: {val_results.seg.recall:.4f}\")\n",
        "\n",
        "    # Eksportavimo informacija\n",
        "    print(\"\\nEksportuoti modeliai:\")\n",
        "    if export_success['pt']:\n",
        "        print(f\"  PyTorch (.pt): {pt_save_path}\")\n",
        "    if export_success['onnx']:\n",
        "        print(f\"  ONNX (.onnx): {onnx_save_path}\")\n",
        "    if export_success['onnx_640']:\n",
        "        print(f\"  ONNX 640x640 (.onnx): {onnx_640_save_path}\")\n",
        "\n",
        "    print(\"\\nRezultatai išsaugoti:\")\n",
        "    print(f\"  Projekto direktorija: {project_dir}\")\n",
        "    print(f\"  Apmokymo grafikai: {os.path.join(project_dir, 'model')}\")\n",
        "    print(f\"  Validavimo rezultatai: {os.path.join(results_dir, 'validation')}\")\n",
        "    print(\"=\"*50)\n",
        "\n",
        "    return best_model, results, val_results, best_model_path\n",
        "\n",
        "# Vykdyti funkciją tik jei turime būtinus importus ir kintamuosius\n",
        "try:\n",
        "    import torch\n",
        "    import os\n",
        "\n",
        "    # Patikrinti, ar reikalingi kintamieji egzistuoja aplinkoje\n",
        "    required_vars = ['project_dir', 'exports_dir', 'results_dir', 'dataset_yaml']\n",
        "    missing_vars = [var for var in required_vars if var not in globals()]\n",
        "\n",
        "    if missing_vars:\n",
        "        print(f\"Įspėjimas: Trūksta reikalingų kintamųjų: {missing_vars}\")\n",
        "        print(\"Prašome apibrėžti šiuos kintamuosius prieš paleidžiant šią ląstelę.\")\n",
        "    else:\n",
        "        print(f\"Naudojamas įrenginys: {'CUDA' if torch.cuda.is_available() else 'CPU'}\")\n",
        "\n",
        "        # Apmokyti modelį su svertiniu duomenų krovikliu, integruotu validavimu ir eksportavimu\n",
        "        trained_model, training_results, validation_results, model_path = train_and_export_model()\n",
        "        print(\"Apmokymas, validavimas ir eksportavimas sėkmingai baigti!\")\n",
        "except ImportError as e:\n",
        "    print(f\"Trūksta būtinų importų: {str(e)}\")\n",
        "    print(\"Prašome pirma įdiegti reikalingus paketus.\")\n",
        "except Exception as e:\n",
        "    print(f\"Klaida bendrame vykdyme: {str(e)}\")\n",
        "    print(\"Kai kurie žingsniai galbūt buvo sėkmingai baigti. Patikrinkite išvesties direktoriją dėl rezultatų.\")"
      ]
    },
    {
      "cell_type": "code",
      "source": [
        "#@title 7. YOLOv11 Modelio Eksportavimo Tęsimas ir Užbaigimas\n",
        "\n",
        "def finish_model_export():\n",
        "    \"\"\"Užbaigti modelio eksportavimą ir santrauką po ankstesnio skripto vykdymo\"\"\"\n",
        "    # Importuoti reikalingus paketus\n",
        "    import os\n",
        "    import glob\n",
        "    import torch\n",
        "    import logging\n",
        "    import shutil\n",
        "    import time\n",
        "    from pathlib import Path\n",
        "\n",
        "    # Nustatyti bazinį žurnalizavimą\n",
        "    logging.basicConfig(level=logging.INFO,\n",
        "                      format='%(asctime)s - %(levelname)s - %(message)s')\n",
        "    logger = logging.getLogger('export_fix')\n",
        "\n",
        "    # Patikrinti, ar reikalingi kintamieji egzistuoja globaliai\n",
        "    global project_dir, exports_dir, results_dir\n",
        "\n",
        "    # Inicializuoti lokalias kintamųjų versijas\n",
        "    local_project_dir = None\n",
        "    local_exports_dir = None\n",
        "    local_results_dir = None\n",
        "\n",
        "    # Patikrinti kintamuosius ir prireikus priskirti lokaliai\n",
        "    try:\n",
        "        local_project_dir = project_dir\n",
        "        print(f\"Naudojama project_dir iš globalaus konteksto: {local_project_dir}\")\n",
        "    except NameError:\n",
        "        local_project_dir = input(\"Įveskite project_dir kelią: \")\n",
        "\n",
        "    try:\n",
        "        local_exports_dir = exports_dir\n",
        "        print(f\"Naudojama exports_dir iš globalaus konteksto: {local_exports_dir}\")\n",
        "    except NameError:\n",
        "        local_exports_dir = input(\"Įveskite exports_dir kelią: \")\n",
        "\n",
        "    try:\n",
        "        local_results_dir = results_dir\n",
        "        print(f\"Naudojama results_dir iš globalaus konteksto: {local_results_dir}\")\n",
        "    except NameError:\n",
        "        local_results_dir = input(\"Įveskite results_dir kelią: \")\n",
        "\n",
        "    logger.info(\"Pradedamas modelio eksportavimo užbaigimas...\")\n",
        "    print(\"Pradedamas modelio eksportavimo užbaigimas...\")\n",
        "\n",
        "    # Rasti geriausio modelio kelią\n",
        "    best_model_path = '/content/drive/MyDrive/Dangos Nustatymas/road_seg_20250504_132128/yolov8n-seg/weights/best.pt'\n",
        "\n",
        "    if not os.path.exists(best_model_path):\n",
        "        # Bandyti rasti geriausio modelio failą\n",
        "        potential_models = glob.glob(os.path.join(local_project_dir, 'model', 'weights', '*.pt'))\n",
        "        if potential_models:\n",
        "            best_model_path = potential_models[0]\n",
        "            logger.info(f\"Geriausias modelis nerastas numatytame kelyje. Naudojamas rastas modelis: {best_model_path}\")\n",
        "        else:\n",
        "            logger.error(\"Nepavyko rasti apmokyto modelio. Patikrinkite išvesties direktorijas.\")\n",
        "            print(\"Nepavyko rasti apmokyto modelio. Patikrinkite išvesties direktorijas.\")\n",
        "            return None\n",
        "\n",
        "    logger.info(f\"Naudojamas modelis: {best_model_path}\")\n",
        "    print(f\"Naudojamas modelis: {best_model_path}\")\n",
        "\n",
        "    # Įkelti geriausią modelį\n",
        "    try:\n",
        "        from ultralytics import YOLO\n",
        "        best_model = YOLO(best_model_path)\n",
        "\n",
        "        # Išgauti modelio pavadinimą iš objekto, o ne funkcijos\n",
        "        if hasattr(best_model, 'type'):\n",
        "            model_type = best_model.type\n",
        "            # Patikrinti, ar model_type yra string ir turi 'segment' pradžioje\n",
        "            if isinstance(model_type, str) and model_type.startswith('segment/'):\n",
        "                model_name = model_type.replace('segment/', '')\n",
        "            else:\n",
        "                # Jei netinkamo formato, ištraukti modelio pavadinimą iš failo kelio\n",
        "                model_name = Path(best_model_path).stem\n",
        "                if model_name == 'best' or model_name == 'last':\n",
        "                    model_name = 'yolov8n-seg'  # Numatytasis jei negalima nustatyti\n",
        "        else:\n",
        "            # Jei nėra type atributo, išgauti iš failo kelio\n",
        "            model_name = Path(best_model_path).stem\n",
        "            if model_name == 'best' or model_name == 'last':\n",
        "                model_name = 'yolov8n-seg'  # Numatytasis jei negalima nustatyti\n",
        "\n",
        "        logger.info(f\"Modelio pavadinimas: {model_name}\")\n",
        "        print(f\"Modelio pavadinimas: {model_name}\")\n",
        "\n",
        "        # Apibrėžti išvesties failų pavadinimus ir kelius\n",
        "        pt_filename = f'model_road_seg_{model_name}.pt'\n",
        "        onnx_filename = f'model_road_seg_{model_name}.onnx'\n",
        "        onnx_640_filename = f'model_road_seg_{model_name}_640.onnx'\n",
        "\n",
        "        pt_save_path = os.path.join(local_exports_dir, pt_filename)\n",
        "        onnx_save_path = os.path.join(local_exports_dir, onnx_filename)\n",
        "        onnx_640_save_path = os.path.join(local_exports_dir, onnx_640_filename)\n",
        "\n",
        "        # Užtikrinti, kad eksportų direktorija egzistuoja\n",
        "        os.makedirs(local_exports_dir, exist_ok=True)\n",
        "\n",
        "        # Eksportuoti modelius į skirtingus formatus\n",
        "        logger.info(\"\\nEksportuojami modeliai...\")\n",
        "        print(\"\\nEksportuojami modeliai...\")\n",
        "        export_success = {'pt': False, 'onnx': False, 'onnx_640': False}\n",
        "\n",
        "        # Eksportuoti į .pt formatą (PyTorch)\n",
        "        try:\n",
        "            best_model.save(pt_save_path)  # Naudoti save .pt formatui\n",
        "            logger.info(f\"PyTorch modelis eksportuotas į: {pt_save_path}\")\n",
        "            print(f\"PyTorch modelis eksportuotas į: {pt_save_path}\")\n",
        "            export_success['pt'] = True\n",
        "        except Exception as e:\n",
        "            logger.error(f\"Klaida eksportuojant PyTorch modelį: {str(e)}\")\n",
        "            print(f\"Klaida eksportuojant PyTorch modelį: {str(e)}\")\n",
        "            # Bandyti alternatyvią kopijavimo metodiką\n",
        "            try:\n",
        "                shutil.copy(best_model_path, pt_save_path)\n",
        "                logger.info(f\"PyTorch modelis nukopijuotas į: {pt_save_path}\")\n",
        "                print(f\"PyTorch modelis nukopijuotas į: {pt_save_path}\")\n",
        "                export_success['pt'] = True\n",
        "            except Exception as e:\n",
        "                logger.error(f\"Klaida kopijuojant PyTorch modelį: {str(e)}\")\n",
        "                print(f\"Klaida kopijuojant PyTorch modelį: {str(e)}\")\n",
        "\n",
        "        # Eksportuoti į ONNX formatą\n",
        "        try:\n",
        "            logger.info(\"Eksportuojama į ONNX formatą su išsamiais parametrais...\")\n",
        "            print(\"Eksportuojama į ONNX formatą su išsamiais parametrais...\")\n",
        "\n",
        "            # Eksportuoti su detaliais parametrais geresniam suderinamumui\n",
        "            # Use the correct export syntax based on the YOLO version\n",
        "            try:\n",
        "                # First try with regular keyword arguments\n",
        "                best_model.export(format='onnx', imgsz=1024, simplify=True, opset=12,\n",
        "                                 half=False, int8=False, dynamic=True, verbose=True)\n",
        "\n",
        "                # If the export completed but didn't save where we want, try to find and move it\n",
        "                exported_path = os.path.join(os.path.dirname(best_model_path), f\"{Path(best_model_path).stem}.onnx\")\n",
        "                if os.path.exists(exported_path) and exported_path != onnx_save_path:\n",
        "                    shutil.copy(exported_path, onnx_save_path)\n",
        "                    logger.info(f\"ONNX model copied from {exported_path} to {onnx_save_path}\")\n",
        "            except Exception as export_err:\n",
        "                logger.warning(f\"First export attempt failed: {str(export_err)}\")\n",
        "                # Try alternative export methods\n",
        "                try:\n",
        "                    # Try the export method as a function with positional arguments\n",
        "                    export_path = best_model.export(format='onnx')\n",
        "                    if export_path and os.path.exists(export_path) and export_path != onnx_save_path:\n",
        "                        shutil.copy(export_path, onnx_save_path)\n",
        "                        logger.info(f\"ONNX model copied from {export_path} to {onnx_save_path}\")\n",
        "                except Exception as alt_err:\n",
        "                    logger.warning(f\"Alternative export attempt failed: {str(alt_err)}\")\n",
        "                    # Try using the command-line interface method\n",
        "                    try:\n",
        "                        import subprocess\n",
        "                        cmd = f\"yolo export model={best_model_path} format=onnx imgsz=1024 simplify=True opset=12\"\n",
        "                        subprocess.run(cmd, shell=True, check=True)\n",
        "                        # Look for the exported model\n",
        "                        potential_paths = [\n",
        "                            os.path.join(os.path.dirname(best_model_path), f\"{Path(best_model_path).stem}.onnx\"),\n",
        "                            os.path.join(local_project_dir, f\"{Path(best_model_path).stem}.onnx\"),\n",
        "                            os.path.join(os.getcwd(), f\"{Path(best_model_path).stem}.onnx\")\n",
        "                        ]\n",
        "                        for path in potential_paths:\n",
        "                            if os.path.exists(path):\n",
        "                                shutil.copy(path, onnx_save_path)\n",
        "                                logger.info(f\"ONNX model copied from {path} to {onnx_save_path}\")\n",
        "                                break\n",
        "                    except Exception as cmd_err:\n",
        "                        logger.error(f\"Command-line export attempt failed: {str(cmd_err)}\")\n",
        "                        print(f\"All ONNX export methods failed. Check YOLO version and documentation.\")\n",
        "\n",
        "            if os.path.exists(onnx_save_path):\n",
        "                logger.info(f\"ONNX modelis eksportuotas į: {onnx_save_path}\")\n",
        "                print(f\"ONNX modelis eksportuotas į: {onnx_save_path}\")\n",
        "                export_success['onnx'] = True\n",
        "\n",
        "                # Patikrinti ONNX modelį\n",
        "                try:\n",
        "                    import onnx\n",
        "                    onnx_model = onnx.load(onnx_save_path)\n",
        "                    onnx.checker.check_model(onnx_model)\n",
        "                    logger.info(\"ONNX modelis sėkmingai patikrintas - teisingas formatas\")\n",
        "                    print(\"ONNX modelis sėkmingai patikrintas - teisingas formatas\")\n",
        "                except Exception as e:\n",
        "                    logger.warning(f\"ONNX modelio validavimo įspėjimas: {str(e)}\")\n",
        "                    print(f\"ONNX modelio validavimo įspėjimas: {str(e)}\")\n",
        "            else:\n",
        "                # Ieškoti eksportuoto ONNX failo kitose vietose\n",
        "                potential_onnx = []\n",
        "                for root, dirs, files in os.walk(local_project_dir):\n",
        "                    for file in files:\n",
        "                        if file.endswith('.onnx'):\n",
        "                            potential_onnx.append(os.path.join(root, file))\n",
        "\n",
        "                if potential_onnx:\n",
        "                    # Nukopijuoti rastą ONNX failą į reikiamą vietą\n",
        "                    shutil.copy(potential_onnx[0], onnx_save_path)\n",
        "                    logger.info(f\"ONNX modelis rastas ir nukopijuotas į: {onnx_save_path}\")\n",
        "                    print(f\"ONNX modelis rastas ir nukopijuotas į: {onnx_save_path}\")\n",
        "                    export_success['onnx'] = True\n",
        "                else:\n",
        "                    logger.error(\"ONNX eksportavimas baigtas, bet failas nerastas\")\n",
        "                    print(\"ONNX eksportavimas baigtas, bet failas nerastas\")\n",
        "        except Exception as e:\n",
        "            logger.error(f\"Klaida eksportuojant ONNX modelį: {str(e)}\")\n",
        "            print(f\"Klaida eksportuojant ONNX modelį: {str(e)}\")\n",
        "\n",
        "        # Eksportuoti papildomą ONNX su 640x640 vaizdo dydžiu\n",
        "        try:\n",
        "            logger.info(\"Eksportuojama į ONNX formatą su 640x640 vaizdo dydžiu...\")\n",
        "            print(\"Eksportuojama į ONNX formatą su 640x640 vaizdo dydžiu...\")\n",
        "\n",
        "            # Tiesioginis eksportavimas su 640x640 vaizdo dydžiu\n",
        "            # Use the correct export syntax based on the YOLO version for 640x640\n",
        "            try:\n",
        "                # First try with regular keyword arguments\n",
        "                best_model.export(format='onnx', imgsz=640, simplify=True, opset=12,\n",
        "                                 half=False, int8=False, dynamic=True, verbose=True)\n",
        "\n",
        "                # If the export completed but didn't save where we want, try to find and move it\n",
        "                exported_path = os.path.join(os.path.dirname(best_model_path), f\"{Path(best_model_path).stem}.onnx\")\n",
        "                if os.path.exists(exported_path) and exported_path != onnx_640_save_path:\n",
        "                    shutil.copy(exported_path, onnx_640_save_path)\n",
        "                    logger.info(f\"ONNX 640x640 model copied from {exported_path} to {onnx_640_save_path}\")\n",
        "            except Exception as export_err:\n",
        "                logger.warning(f\"First 640x640 export attempt failed: {str(export_err)}\")\n",
        "                # Try alternative export methods\n",
        "                try:\n",
        "                    # Try the export method as a function with positional arguments\n",
        "                    export_path = best_model.export(format='onnx', imgsz=640)\n",
        "                    if export_path and os.path.exists(export_path) and export_path != onnx_640_save_path:\n",
        "                        shutil.copy(export_path, onnx_640_save_path)\n",
        "                        logger.info(f\"ONNX 640x640 model copied from {export_path} to {onnx_640_save_path}\")\n",
        "                except Exception as alt_err:\n",
        "                    logger.warning(f\"Alternative 640x640 export attempt failed: {str(alt_err)}\")\n",
        "                    # Try using the command-line interface method\n",
        "                    try:\n",
        "                        import subprocess\n",
        "                        cmd = f\"yolo export model={best_model_path} format=onnx imgsz=640 simplify=True opset=12\"\n",
        "                        subprocess.run(cmd, shell=True, check=True)\n",
        "                        # Look for the exported model\n",
        "                        potential_paths = [\n",
        "                            os.path.join(os.path.dirname(best_model_path), f\"{Path(best_model_path).stem}.onnx\"),\n",
        "                            os.path.join(local_project_dir, f\"{Path(best_model_path).stem}.onnx\"),\n",
        "                            os.path.join(os.getcwd(), f\"{Path(best_model_path).stem}.onnx\")\n",
        "                        ]\n",
        "                        for path in potential_paths:\n",
        "                            if os.path.exists(path):\n",
        "                                shutil.copy(path, onnx_640_save_path)\n",
        "                                logger.info(f\"ONNX 640x640 model copied from {path} to {onnx_640_save_path}\")\n",
        "                                break\n",
        "                    except Exception as cmd_err:\n",
        "                        logger.error(f\"Command-line 640x640 export attempt failed: {str(cmd_err)}\")\n",
        "                        print(f\"All ONNX 640x640 export methods failed. Check YOLO version and documentation.\")\n",
        "\n",
        "            if os.path.exists(onnx_640_save_path):\n",
        "                logger.info(f\"ONNX 640x640 modelis eksportuotas į: {onnx_640_save_path}\")\n",
        "                print(f\"ONNX 640x640 modelis eksportuotas į: {onnx_640_save_path}\")\n",
        "                export_success['onnx_640'] = True\n",
        "\n",
        "                # Patikrinti 640x640 ONNX modelį\n",
        "                try:\n",
        "                    import onnx\n",
        "                    onnx_model = onnx.load(onnx_640_save_path)\n",
        "                    onnx.checker.check_model(onnx_model)\n",
        "                    logger.info(\"ONNX 640x640 modelis sėkmingai patikrintas - teisingas formatas\")\n",
        "                    print(\"ONNX 640x640 modelis sėkmingai patikrintas - teisingas formatas\")\n",
        "                except Exception as e:\n",
        "                    logger.warning(f\"ONNX 640x640 modelio validavimo įspėjimas: {str(e)}\")\n",
        "                    print(f\"ONNX 640x640 modelio validavimo įspėjimas: {str(e)}\")\n",
        "            else:\n",
        "                logger.error(f\"ONNX 640x640 eksportavimas baigtas, bet failas nerastas\")\n",
        "                print(f\"ONNX 640x640 eksportavimas baigtas, bet failas nerastas\")\n",
        "        except Exception as e:\n",
        "            logger.error(f\"ONNX 640x640 eksportavimas nepavyko: {str(e)}\")\n",
        "            print(f\"ONNX 640x640 eksportavimas nepavyko: {str(e)}\")\n",
        "\n",
        "        # Gauti validavimo rezultatus iš failų\n",
        "        validation_results = None\n",
        "        val_dir = os.path.join(local_results_dir, 'validation')\n",
        "\n",
        "        # Generuoti apmokymo santrauką\n",
        "        print(\"\\n\" + \"=\"*50)\n",
        "        print(\"APMOKYMO IR EKSPORTAVIMO SANTRAUKA\")\n",
        "        print(\"=\"*50)\n",
        "\n",
        "        # Modelio detalės\n",
        "        print(f\"Modelis: {model_name}\")\n",
        "        print(f\"Vaizdo dydis: 1024x1024 (apmokymas), 640x640 (papildomas eksportas)\")\n",
        "\n",
        "        # Try to extract some metrics from validation directory if it exists\n",
        "        if os.path.exists(val_dir):\n",
        "            import json\n",
        "            metrics_files = glob.glob(os.path.join(val_dir, '*.json'))\n",
        "            if metrics_files:\n",
        "                try:\n",
        "                    with open(metrics_files[0], 'r') as f:\n",
        "                        val_data = json.load(f)\n",
        "                    if 'metrics' in val_data:\n",
        "                        print(\"\\nValidavimo našumas:\")\n",
        "                        metrics = val_data['metrics']\n",
        "                        if 'mAP50(B)' in metrics:\n",
        "                            print(f\"  Dėžutės mAP50: {metrics['mAP50(B)']:.4f}\")\n",
        "                        if 'mAP50-95(B)' in metrics:\n",
        "                            print(f\"  Dėžutės mAP50-95: {metrics['mAP50-95(B)']:.4f}\")\n",
        "                        if 'mAP50(M)' in metrics:\n",
        "                            print(f\"  Segmentacijos mAP50: {metrics['mAP50(M)']:.4f}\")\n",
        "                        if 'mAP50-95(M)' in metrics:\n",
        "                            print(f\"  Segmentacijos mAP50-95: {metrics['mAP50-95(M)']:.4f}\")\n",
        "                except Exception as e:\n",
        "                    print(f\"Nepavyko nuskaityti validavimo metrikų: {str(e)}\")\n",
        "\n",
        "        # Eksportavimo informacija\n",
        "        print(\"\\nEksportuoti modeliai:\")\n",
        "        if export_success['pt']:\n",
        "            print(f\"  PyTorch (.pt): {pt_save_path}\")\n",
        "        if export_success['onnx']:\n",
        "            print(f\"  ONNX (.onnx): {onnx_save_path}\")\n",
        "        if export_success['onnx_640']:\n",
        "            print(f\"  ONNX 640x640 (.onnx): {onnx_640_save_path}\")\n",
        "\n",
        "        print(\"\\nRezultatai išsaugoti:\")\n",
        "        print(f\"  Projekto direktorija: {local_project_dir}\")\n",
        "        print(f\"  Apmokymo grafikai: {os.path.join(local_project_dir, 'model')}\")\n",
        "        print(f\"  Validavimo rezultatai: {os.path.join(local_results_dir, 'validation')}\")\n",
        "        print(f\"  Eksportuoti modeliai: {local_exports_dir}\")\n",
        "        print(\"=\"*50)\n",
        "\n",
        "        return export_success\n",
        "\n",
        "    except Exception as e:\n",
        "        logger.error(f\"Bendra klaida modelio eksportavimo metu: {str(e)}\")\n",
        "        print(f\"Bendra klaida modelio eksportavimo metu: {str(e)}\")\n",
        "        import traceback\n",
        "        traceback.print_exc()\n",
        "        return None\n",
        "\n",
        "# Apibūdinkite nustatytus kintamuosius\n",
        "project_dir = \"/content/drive/MyDrive/Dangos Nustatymas/road_seg_20250504_132128\"\n",
        "exports_dir = \"/content/drive/MyDrive/Dangos Nustatymas/road_seg_20250504_132128/exports\"\n",
        "results_dir = \"/content/drive/MyDrive/Dangos Nustatymas/road_seg_20250504_132128/results\"\n",
        "\n",
        "# Vykdyti funkciją tik jei turime būtinus importus\n",
        "try:\n",
        "    import torch\n",
        "    import os\n",
        "\n",
        "    print(f\"Naudojamas įrenginys: {'CUDA' if torch.cuda.is_available() else 'CPU'}\")\n",
        "\n",
        "    # Patikrinti anksčiau apibrėžtus kintamuosius\n",
        "    try:\n",
        "        print(f\"Projekto direktorija: {project_dir}\")\n",
        "        print(f\"Eksportavimo direktorija: {exports_dir}\")\n",
        "        print(f\"Rezultatų direktorija: {results_dir}\")\n",
        "    except NameError:\n",
        "        print(\"Kai kurie kintamieji neapibrėžti. Jie bus užklausti funkcijos vykdymo metu.\")\n",
        "\n",
        "    # Užbaigti modelio eksportavimą\n",
        "    export_results = finish_model_export()\n",
        "\n",
        "    if export_results:\n",
        "        print(\"Modelio eksportavimas sėkmingai užbaigtas!\")\n",
        "    else:\n",
        "        print(\"Modelio eksportavimas nebuvo visiškai sėkmingas. Peržiūrėkite klaidas aukščiau.\")\n",
        "except ImportError as e:\n",
        "    print(f\"Trūksta būtinų importų: {str(e)}\")\n",
        "    print(\"Prašome pirma įdiegti reikalingus paketus.\")\n",
        "except Exception as e:\n",
        "    print(f\"Klaida bendrame vykdyme: {str(e)}\")\n",
        "    import traceback\n",
        "    traceback.print_exc()"
      ],
      "metadata": {
        "colab": {
          "base_uri": "https://localhost:8080/"
        },
        "id": "ELJOTbLuIXyW",
        "outputId": "39607c86-77a5-448b-8690-565d8012f65c"
      },
      "execution_count": null,
      "outputs": [
        {
          "output_type": "stream",
          "name": "stdout",
          "text": [
            "Naudojamas įrenginys: CUDA\n",
            "Projekto direktorija: /content/drive/MyDrive/Dangos Nustatymas/road_seg_20250504_132128\n",
            "Eksportavimo direktorija: /content/drive/MyDrive/Dangos Nustatymas/road_seg_20250504_132128/exports\n",
            "Rezultatų direktorija: /content/drive/MyDrive/Dangos Nustatymas/road_seg_20250504_132128/results\n",
            "Naudojama project_dir iš globalaus konteksto: /content/drive/MyDrive/Dangos Nustatymas/road_seg_20250504_132128\n",
            "Naudojama exports_dir iš globalaus konteksto: /content/drive/MyDrive/Dangos Nustatymas/road_seg_20250504_132128/exports\n",
            "Naudojama results_dir iš globalaus konteksto: /content/drive/MyDrive/Dangos Nustatymas/road_seg_20250504_132128/results\n",
            "Pradedamas modelio eksportavimo užbaigimas...\n",
            "Naudojamas modelis: /content/drive/MyDrive/Dangos Nustatymas/road_seg_20250504_132128/yolov8n-seg/weights/best.pt\n",
            "Modelio pavadinimas: yolov8n-seg\n",
            "\n",
            "Eksportuojami modeliai...\n",
            "PyTorch modelis eksportuotas į: /content/drive/MyDrive/Dangos Nustatymas/road_seg_20250504_132128/exports/model_road_seg_yolov8n-seg.pt\n",
            "Eksportuojama į ONNX formatą su išsamiais parametrais...\n",
            "Ultralytics 8.3.126 🚀 Python-3.11.12 torch-2.6.0+cu124 CPU (Intel Xeon 2.20GHz)\n",
            "YOLOv8n-seg summary (fused): 85 layers, 3,258,259 parameters, 0 gradients, 12.0 GFLOPs\n",
            "\n",
            "\u001b[34m\u001b[1mPyTorch:\u001b[0m starting from '/content/drive/MyDrive/Dangos Nustatymas/road_seg_20250504_132128/yolov8n-seg/weights/best.pt' with input shape (1, 3, 1024, 1024) BCHW and output shape(s) ((1, 37, 21504), (1, 32, 256, 256)) (6.5 MB)\n",
            "\u001b[31m\u001b[1mrequirements:\u001b[0m Ultralytics requirements ['onnx>=1.12.0', 'onnxslim>=0.1.46', 'onnxruntime-gpu'] not found, attempting AutoUpdate...\n",
            "Collecting onnx>=1.12.0\n",
            "  Downloading onnx-1.17.0-cp311-cp311-manylinux_2_17_x86_64.manylinux2014_x86_64.whl.metadata (16 kB)\n",
            "Collecting onnxslim>=0.1.46\n",
            "  Downloading onnxslim-0.1.51-py3-none-any.whl.metadata (5.0 kB)\n",
            "Collecting onnxruntime-gpu\n",
            "  Downloading onnxruntime_gpu-1.21.1-cp311-cp311-manylinux_2_27_x86_64.manylinux_2_28_x86_64.whl.metadata (4.8 kB)\n",
            "Requirement already satisfied: numpy>=1.20 in /usr/local/lib/python3.11/dist-packages (from onnx>=1.12.0) (2.0.2)\n",
            "Requirement already satisfied: protobuf>=3.20.2 in /usr/local/lib/python3.11/dist-packages (from onnx>=1.12.0) (5.29.4)\n",
            "Requirement already satisfied: sympy in /usr/local/lib/python3.11/dist-packages (from onnxslim>=0.1.46) (1.13.1)\n",
            "Requirement already satisfied: packaging in /usr/local/lib/python3.11/dist-packages (from onnxslim>=0.1.46) (24.2)\n",
            "Collecting coloredlogs (from onnxruntime-gpu)\n",
            "  Downloading coloredlogs-15.0.1-py2.py3-none-any.whl.metadata (12 kB)\n",
            "Requirement already satisfied: flatbuffers in /usr/local/lib/python3.11/dist-packages (from onnxruntime-gpu) (25.2.10)\n",
            "Collecting humanfriendly>=9.1 (from coloredlogs->onnxruntime-gpu)\n",
            "  Downloading humanfriendly-10.0-py2.py3-none-any.whl.metadata (9.2 kB)\n",
            "Requirement already satisfied: mpmath<1.4,>=1.1.0 in /usr/local/lib/python3.11/dist-packages (from sympy->onnxslim>=0.1.46) (1.3.0)\n",
            "Downloading onnx-1.17.0-cp311-cp311-manylinux_2_17_x86_64.manylinux2014_x86_64.whl (16.0 MB)\n",
            "   ━━━━━━━━━━━━━━━━━━━━━━━━━━━━━━━━━━━━━━━━ 16.0/16.0 MB 258.3 MB/s eta 0:00:00\n",
            "Downloading onnxslim-0.1.51-py3-none-any.whl (145 kB)\n",
            "   ━━━━━━━━━━━━━━━━━━━━━━━━━━━━━━━━━━━━━━━ 145.6/145.6 kB 315.4 MB/s eta 0:00:00\n",
            "Downloading onnxruntime_gpu-1.21.1-cp311-cp311-manylinux_2_27_x86_64.manylinux_2_28_x86_64.whl (280.8 MB)\n",
            "   ━━━━━━━━━━━━━━━━━━━━━━━━━━━━━━━━━━━━━━━ 280.8/280.8 MB 268.4 MB/s eta 0:00:00\n",
            "Downloading coloredlogs-15.0.1-py2.py3-none-any.whl (46 kB)\n",
            "   ━━━━━━━━━━━━━━━━━━━━━━━━━━━━━━━━━━━━━━━━ 46.0/46.0 kB 249.3 MB/s eta 0:00:00\n",
            "Downloading humanfriendly-10.0-py2.py3-none-any.whl (86 kB)\n",
            "   ━━━━━━━━━━━━━━━━━━━━━━━━━━━━━━━━━━━━━━━━ 86.8/86.8 kB 289.5 MB/s eta 0:00:00\n",
            "Installing collected packages: onnx, humanfriendly, onnxslim, coloredlogs, onnxruntime-gpu\n",
            "Successfully installed coloredlogs-15.0.1 humanfriendly-10.0 onnx-1.17.0 onnxruntime-gpu-1.21.1 onnxslim-0.1.51\n",
            "\n",
            "\u001b[31m\u001b[1mrequirements:\u001b[0m AutoUpdate success ✅ 12.9s, installed 3 packages: ['onnx>=1.12.0', 'onnxslim>=0.1.46', 'onnxruntime-gpu']\n",
            "WARNING ⚠️ \u001b[31m\u001b[1mrequirements:\u001b[0m \u001b[1mRestart runtime or rerun command for updates to take effect\u001b[0m\n",
            "\n",
            "\n",
            "\u001b[34m\u001b[1mONNX:\u001b[0m starting export with onnx 1.17.0 opset 12...\n",
            "\u001b[34m\u001b[1mONNX:\u001b[0m slimming with onnxslim 0.1.51...\n",
            "\u001b[34m\u001b[1mONNX:\u001b[0m export success ✅ 43.4s, saved as '/content/drive/MyDrive/Dangos Nustatymas/road_seg_20250504_132128/yolov8n-seg/weights/best.onnx' (12.5 MB)\n",
            "\n",
            "Export complete (45.6s)\n",
            "Results saved to \u001b[1m/content/drive/MyDrive/Dangos Nustatymas/road_seg_20250504_132128/yolov8n-seg/weights\u001b[0m\n",
            "Predict:         yolo predict task=segment model=/content/drive/MyDrive/Dangos Nustatymas/road_seg_20250504_132128/yolov8n-seg/weights/best.onnx imgsz=1024  \n",
            "Validate:        yolo val task=segment model=/content/drive/MyDrive/Dangos Nustatymas/road_seg_20250504_132128/yolov8n-seg/weights/best.onnx imgsz=1024 data=/content/drive/MyDrive/Dangos Nustatymas/road_seg_20250504_132128/dataset.yaml  \n",
            "Visualize:       https://netron.app\n",
            "ONNX modelis eksportuotas į: /content/drive/MyDrive/Dangos Nustatymas/road_seg_20250504_132128/exports/model_road_seg_yolov8n-seg.onnx\n",
            "ONNX modelis sėkmingai patikrintas - teisingas formatas\n",
            "Eksportuojama į ONNX formatą su 640x640 vaizdo dydžiu...\n",
            "Ultralytics 8.3.126 🚀 Python-3.11.12 torch-2.6.0+cu124 CPU (Intel Xeon 2.20GHz)\n",
            "YOLOv8n-seg summary (fused): 85 layers, 3,258,259 parameters, 0 gradients, 12.0 GFLOPs\n",
            "\n",
            "\u001b[34m\u001b[1mPyTorch:\u001b[0m starting from '/content/drive/MyDrive/Dangos Nustatymas/road_seg_20250504_132128/yolov8n-seg/weights/best.pt' with input shape (1, 3, 640, 640) BCHW and output shape(s) ((1, 37, 8400), (1, 32, 160, 160)) (6.5 MB)\n",
            "\n",
            "\u001b[34m\u001b[1mONNX:\u001b[0m starting export with onnx 1.17.0 opset 12...\n",
            "\u001b[34m\u001b[1mONNX:\u001b[0m slimming with onnxslim 0.1.51...\n",
            "\u001b[34m\u001b[1mONNX:\u001b[0m export success ✅ 29.0s, saved as '/content/drive/MyDrive/Dangos Nustatymas/road_seg_20250504_132128/yolov8n-seg/weights/best.onnx' (12.5 MB)\n",
            "\n",
            "Export complete (29.4s)\n",
            "Results saved to \u001b[1m/content/drive/MyDrive/Dangos Nustatymas/road_seg_20250504_132128/yolov8n-seg/weights\u001b[0m\n",
            "Predict:         yolo predict task=segment model=/content/drive/MyDrive/Dangos Nustatymas/road_seg_20250504_132128/yolov8n-seg/weights/best.onnx imgsz=640  \n",
            "Validate:        yolo val task=segment model=/content/drive/MyDrive/Dangos Nustatymas/road_seg_20250504_132128/yolov8n-seg/weights/best.onnx imgsz=640 data=/content/drive/MyDrive/Dangos Nustatymas/road_seg_20250504_132128/dataset.yaml  \n",
            "Visualize:       https://netron.app\n",
            "ONNX 640x640 modelis eksportuotas į: /content/drive/MyDrive/Dangos Nustatymas/road_seg_20250504_132128/exports/model_road_seg_yolov8n-seg_640.onnx\n",
            "ONNX 640x640 modelis sėkmingai patikrintas - teisingas formatas\n",
            "\n",
            "==================================================\n",
            "APMOKYMO IR EKSPORTAVIMO SANTRAUKA\n",
            "==================================================\n",
            "Modelis: yolov8n-seg\n",
            "Vaizdo dydis: 1024x1024 (apmokymas), 640x640 (papildomas eksportas)\n",
            "\n",
            "Eksportuoti modeliai:\n",
            "  PyTorch (.pt): /content/drive/MyDrive/Dangos Nustatymas/road_seg_20250504_132128/exports/model_road_seg_yolov8n-seg.pt\n",
            "  ONNX (.onnx): /content/drive/MyDrive/Dangos Nustatymas/road_seg_20250504_132128/exports/model_road_seg_yolov8n-seg.onnx\n",
            "  ONNX 640x640 (.onnx): /content/drive/MyDrive/Dangos Nustatymas/road_seg_20250504_132128/exports/model_road_seg_yolov8n-seg_640.onnx\n",
            "\n",
            "Rezultatai išsaugoti:\n",
            "  Projekto direktorija: /content/drive/MyDrive/Dangos Nustatymas/road_seg_20250504_132128\n",
            "  Apmokymo grafikai: /content/drive/MyDrive/Dangos Nustatymas/road_seg_20250504_132128/model\n",
            "  Validavimo rezultatai: /content/drive/MyDrive/Dangos Nustatymas/road_seg_20250504_132128/results/validation\n",
            "  Eksportuoti modeliai: /content/drive/MyDrive/Dangos Nustatymas/road_seg_20250504_132128/exports\n",
            "==================================================\n",
            "Modelio eksportavimas sėkmingai užbaigtas!\n"
          ]
        }
      ]
    },
    {
      "cell_type": "code",
      "source": [],
      "metadata": {
        "id": "a_fQCwBaTLKu"
      },
      "execution_count": null,
      "outputs": []
    }
  ],
  "metadata": {
    "accelerator": "GPU",
    "colab": {
      "gpuType": "T4",
      "machine_shape": "hm",
      "provenance": [],
      "authorship_tag": "ABX9TyMHSr0ZXTPBveQcGQSRe6l+",
      "include_colab_link": true
    },
    "kernelspec": {
      "display_name": "Python 3",
      "name": "python3"
    },
    "language_info": {
      "name": "python"
    }
  },
  "nbformat": 4,
  "nbformat_minor": 0
}