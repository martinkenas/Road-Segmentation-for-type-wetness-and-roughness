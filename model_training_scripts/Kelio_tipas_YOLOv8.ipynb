{
  "nbformat": 4,
  "nbformat_minor": 0,
  "metadata": {
    "colab": {
      "provenance": [],
      "gpuType": "T4",
      "authorship_tag": "ABX9TyOV3oMexqaCxhHLRXK0Drgd",
      "include_colab_link": true
    },
    "kernelspec": {
      "name": "python3",
      "display_name": "Python 3"
    },
    "language_info": {
      "name": "python"
    },
    "accelerator": "GPU"
  },
  "cells": [
    {
      "cell_type": "markdown",
      "metadata": {
        "id": "view-in-github",
        "colab_type": "text"
      },
      "source": [
        "<a href=\"https://colab.research.google.com/github/martinkenas/Road-Segmentation-for-type-wetness-and-roughness/blob/main/model_training_scripts/Kelio_tipas_YOLOv8.ipynb\" target=\"_parent\"><img src=\"https://colab.research.google.com/assets/colab-badge.svg\" alt=\"Open In Colab\"/></a>"
      ]
    },
    {
      "cell_type": "code",
      "execution_count": null,
      "metadata": {
        "colab": {
          "base_uri": "https://localhost:8080/"
        },
        "id": "_IvbzjptboY7",
        "outputId": "8267c5ba-dc24-4eef-cee8-7784cbe914e8"
      },
      "outputs": [
        {
          "output_type": "stream",
          "name": "stdout",
          "text": [
            "Collecting ultralytics\n",
            "  Downloading ultralytics-8.3.130-py3-none-any.whl.metadata (37 kB)\n",
            "Requirement already satisfied: numpy>=1.23.0 in /usr/local/lib/python3.11/dist-packages (from ultralytics) (2.0.2)\n",
            "Requirement already satisfied: matplotlib>=3.3.0 in /usr/local/lib/python3.11/dist-packages (from ultralytics) (3.10.0)\n",
            "Requirement already satisfied: opencv-python>=4.6.0 in /usr/local/lib/python3.11/dist-packages (from ultralytics) (4.11.0.86)\n",
            "Requirement already satisfied: pillow>=7.1.2 in /usr/local/lib/python3.11/dist-packages (from ultralytics) (11.2.1)\n",
            "Requirement already satisfied: pyyaml>=5.3.1 in /usr/local/lib/python3.11/dist-packages (from ultralytics) (6.0.2)\n",
            "Requirement already satisfied: requests>=2.23.0 in /usr/local/lib/python3.11/dist-packages (from ultralytics) (2.32.3)\n",
            "Requirement already satisfied: scipy>=1.4.1 in /usr/local/lib/python3.11/dist-packages (from ultralytics) (1.15.2)\n",
            "Requirement already satisfied: torch>=1.8.0 in /usr/local/lib/python3.11/dist-packages (from ultralytics) (2.6.0+cu124)\n",
            "Requirement already satisfied: torchvision>=0.9.0 in /usr/local/lib/python3.11/dist-packages (from ultralytics) (0.21.0+cu124)\n",
            "Requirement already satisfied: tqdm>=4.64.0 in /usr/local/lib/python3.11/dist-packages (from ultralytics) (4.67.1)\n",
            "Requirement already satisfied: psutil in /usr/local/lib/python3.11/dist-packages (from ultralytics) (5.9.5)\n",
            "Requirement already satisfied: py-cpuinfo in /usr/local/lib/python3.11/dist-packages (from ultralytics) (9.0.0)\n",
            "Requirement already satisfied: pandas>=1.1.4 in /usr/local/lib/python3.11/dist-packages (from ultralytics) (2.2.2)\n",
            "Requirement already satisfied: seaborn>=0.11.0 in /usr/local/lib/python3.11/dist-packages (from ultralytics) (0.13.2)\n",
            "Collecting ultralytics-thop>=2.0.0 (from ultralytics)\n",
            "  Downloading ultralytics_thop-2.0.14-py3-none-any.whl.metadata (9.4 kB)\n",
            "Requirement already satisfied: contourpy>=1.0.1 in /usr/local/lib/python3.11/dist-packages (from matplotlib>=3.3.0->ultralytics) (1.3.2)\n",
            "Requirement already satisfied: cycler>=0.10 in /usr/local/lib/python3.11/dist-packages (from matplotlib>=3.3.0->ultralytics) (0.12.1)\n",
            "Requirement already satisfied: fonttools>=4.22.0 in /usr/local/lib/python3.11/dist-packages (from matplotlib>=3.3.0->ultralytics) (4.57.0)\n",
            "Requirement already satisfied: kiwisolver>=1.3.1 in /usr/local/lib/python3.11/dist-packages (from matplotlib>=3.3.0->ultralytics) (1.4.8)\n",
            "Requirement already satisfied: packaging>=20.0 in /usr/local/lib/python3.11/dist-packages (from matplotlib>=3.3.0->ultralytics) (24.2)\n",
            "Requirement already satisfied: pyparsing>=2.3.1 in /usr/local/lib/python3.11/dist-packages (from matplotlib>=3.3.0->ultralytics) (3.2.3)\n",
            "Requirement already satisfied: python-dateutil>=2.7 in /usr/local/lib/python3.11/dist-packages (from matplotlib>=3.3.0->ultralytics) (2.9.0.post0)\n",
            "Requirement already satisfied: pytz>=2020.1 in /usr/local/lib/python3.11/dist-packages (from pandas>=1.1.4->ultralytics) (2025.2)\n",
            "Requirement already satisfied: tzdata>=2022.7 in /usr/local/lib/python3.11/dist-packages (from pandas>=1.1.4->ultralytics) (2025.2)\n",
            "Requirement already satisfied: charset-normalizer<4,>=2 in /usr/local/lib/python3.11/dist-packages (from requests>=2.23.0->ultralytics) (3.4.1)\n",
            "Requirement already satisfied: idna<4,>=2.5 in /usr/local/lib/python3.11/dist-packages (from requests>=2.23.0->ultralytics) (3.10)\n",
            "Requirement already satisfied: urllib3<3,>=1.21.1 in /usr/local/lib/python3.11/dist-packages (from requests>=2.23.0->ultralytics) (2.4.0)\n",
            "Requirement already satisfied: certifi>=2017.4.17 in /usr/local/lib/python3.11/dist-packages (from requests>=2.23.0->ultralytics) (2025.4.26)\n",
            "Requirement already satisfied: filelock in /usr/local/lib/python3.11/dist-packages (from torch>=1.8.0->ultralytics) (3.18.0)\n",
            "Requirement already satisfied: typing-extensions>=4.10.0 in /usr/local/lib/python3.11/dist-packages (from torch>=1.8.0->ultralytics) (4.13.2)\n",
            "Requirement already satisfied: networkx in /usr/local/lib/python3.11/dist-packages (from torch>=1.8.0->ultralytics) (3.4.2)\n",
            "Requirement already satisfied: jinja2 in /usr/local/lib/python3.11/dist-packages (from torch>=1.8.0->ultralytics) (3.1.6)\n",
            "Requirement already satisfied: fsspec in /usr/local/lib/python3.11/dist-packages (from torch>=1.8.0->ultralytics) (2025.3.2)\n",
            "Collecting nvidia-cuda-nvrtc-cu12==12.4.127 (from torch>=1.8.0->ultralytics)\n",
            "  Downloading nvidia_cuda_nvrtc_cu12-12.4.127-py3-none-manylinux2014_x86_64.whl.metadata (1.5 kB)\n",
            "Collecting nvidia-cuda-runtime-cu12==12.4.127 (from torch>=1.8.0->ultralytics)\n",
            "  Downloading nvidia_cuda_runtime_cu12-12.4.127-py3-none-manylinux2014_x86_64.whl.metadata (1.5 kB)\n",
            "Collecting nvidia-cuda-cupti-cu12==12.4.127 (from torch>=1.8.0->ultralytics)\n",
            "  Downloading nvidia_cuda_cupti_cu12-12.4.127-py3-none-manylinux2014_x86_64.whl.metadata (1.6 kB)\n",
            "Collecting nvidia-cudnn-cu12==9.1.0.70 (from torch>=1.8.0->ultralytics)\n",
            "  Downloading nvidia_cudnn_cu12-9.1.0.70-py3-none-manylinux2014_x86_64.whl.metadata (1.6 kB)\n",
            "Collecting nvidia-cublas-cu12==12.4.5.8 (from torch>=1.8.0->ultralytics)\n",
            "  Downloading nvidia_cublas_cu12-12.4.5.8-py3-none-manylinux2014_x86_64.whl.metadata (1.5 kB)\n",
            "Collecting nvidia-cufft-cu12==11.2.1.3 (from torch>=1.8.0->ultralytics)\n",
            "  Downloading nvidia_cufft_cu12-11.2.1.3-py3-none-manylinux2014_x86_64.whl.metadata (1.5 kB)\n",
            "Collecting nvidia-curand-cu12==10.3.5.147 (from torch>=1.8.0->ultralytics)\n",
            "  Downloading nvidia_curand_cu12-10.3.5.147-py3-none-manylinux2014_x86_64.whl.metadata (1.5 kB)\n",
            "Collecting nvidia-cusolver-cu12==11.6.1.9 (from torch>=1.8.0->ultralytics)\n",
            "  Downloading nvidia_cusolver_cu12-11.6.1.9-py3-none-manylinux2014_x86_64.whl.metadata (1.6 kB)\n",
            "Collecting nvidia-cusparse-cu12==12.3.1.170 (from torch>=1.8.0->ultralytics)\n",
            "  Downloading nvidia_cusparse_cu12-12.3.1.170-py3-none-manylinux2014_x86_64.whl.metadata (1.6 kB)\n",
            "Requirement already satisfied: nvidia-cusparselt-cu12==0.6.2 in /usr/local/lib/python3.11/dist-packages (from torch>=1.8.0->ultralytics) (0.6.2)\n",
            "Requirement already satisfied: nvidia-nccl-cu12==2.21.5 in /usr/local/lib/python3.11/dist-packages (from torch>=1.8.0->ultralytics) (2.21.5)\n",
            "Requirement already satisfied: nvidia-nvtx-cu12==12.4.127 in /usr/local/lib/python3.11/dist-packages (from torch>=1.8.0->ultralytics) (12.4.127)\n",
            "Collecting nvidia-nvjitlink-cu12==12.4.127 (from torch>=1.8.0->ultralytics)\n",
            "  Downloading nvidia_nvjitlink_cu12-12.4.127-py3-none-manylinux2014_x86_64.whl.metadata (1.5 kB)\n",
            "Requirement already satisfied: triton==3.2.0 in /usr/local/lib/python3.11/dist-packages (from torch>=1.8.0->ultralytics) (3.2.0)\n",
            "Requirement already satisfied: sympy==1.13.1 in /usr/local/lib/python3.11/dist-packages (from torch>=1.8.0->ultralytics) (1.13.1)\n",
            "Requirement already satisfied: mpmath<1.4,>=1.1.0 in /usr/local/lib/python3.11/dist-packages (from sympy==1.13.1->torch>=1.8.0->ultralytics) (1.3.0)\n",
            "Requirement already satisfied: six>=1.5 in /usr/local/lib/python3.11/dist-packages (from python-dateutil>=2.7->matplotlib>=3.3.0->ultralytics) (1.17.0)\n",
            "Requirement already satisfied: MarkupSafe>=2.0 in /usr/local/lib/python3.11/dist-packages (from jinja2->torch>=1.8.0->ultralytics) (3.0.2)\n",
            "Downloading ultralytics-8.3.130-py3-none-any.whl (1.0 MB)\n",
            "\u001b[2K   \u001b[90m━━━━━━━━━━━━━━━━━━━━━━━━━━━━━━━━━━━━━━━━\u001b[0m \u001b[32m1.0/1.0 MB\u001b[0m \u001b[31m26.4 MB/s\u001b[0m eta \u001b[36m0:00:00\u001b[0m\n",
            "\u001b[?25hDownloading nvidia_cublas_cu12-12.4.5.8-py3-none-manylinux2014_x86_64.whl (363.4 MB)\n",
            "\u001b[2K   \u001b[90m━━━━━━━━━━━━━━━━━━━━━━━━━━━━━━━━━━━━━━━━\u001b[0m \u001b[32m363.4/363.4 MB\u001b[0m \u001b[31m1.4 MB/s\u001b[0m eta \u001b[36m0:00:00\u001b[0m\n",
            "\u001b[?25hDownloading nvidia_cuda_cupti_cu12-12.4.127-py3-none-manylinux2014_x86_64.whl (13.8 MB)\n",
            "\u001b[2K   \u001b[90m━━━━━━━━━━━━━━━━━━━━━━━━━━━━━━━━━━━━━━━━\u001b[0m \u001b[32m13.8/13.8 MB\u001b[0m \u001b[31m119.1 MB/s\u001b[0m eta \u001b[36m0:00:00\u001b[0m\n",
            "\u001b[?25hDownloading nvidia_cuda_nvrtc_cu12-12.4.127-py3-none-manylinux2014_x86_64.whl (24.6 MB)\n",
            "\u001b[2K   \u001b[90m━━━━━━━━━━━━━━━━━━━━━━━━━━━━━━━━━━━━━━━━\u001b[0m \u001b[32m24.6/24.6 MB\u001b[0m \u001b[31m91.3 MB/s\u001b[0m eta \u001b[36m0:00:00\u001b[0m\n",
            "\u001b[?25hDownloading nvidia_cuda_runtime_cu12-12.4.127-py3-none-manylinux2014_x86_64.whl (883 kB)\n",
            "\u001b[2K   \u001b[90m━━━━━━━━━━━━━━━━━━━━━━━━━━━━━━━━━━━━━━━━\u001b[0m \u001b[32m883.7/883.7 kB\u001b[0m \u001b[31m63.2 MB/s\u001b[0m eta \u001b[36m0:00:00\u001b[0m\n",
            "\u001b[?25hDownloading nvidia_cudnn_cu12-9.1.0.70-py3-none-manylinux2014_x86_64.whl (664.8 MB)\n",
            "\u001b[2K   \u001b[90m━━━━━━━━━━━━━━━━━━━━━━━━━━━━━━━━━━━━━━━\u001b[0m \u001b[32m664.8/664.8 MB\u001b[0m \u001b[31m746.7 kB/s\u001b[0m eta \u001b[36m0:00:00\u001b[0m\n",
            "\u001b[?25hDownloading nvidia_cufft_cu12-11.2.1.3-py3-none-manylinux2014_x86_64.whl (211.5 MB)\n",
            "\u001b[2K   \u001b[90m━━━━━━━━━━━━━━━━━━━━━━━━━━━━━━━━━━━━━━━━\u001b[0m \u001b[32m211.5/211.5 MB\u001b[0m \u001b[31m5.6 MB/s\u001b[0m eta \u001b[36m0:00:00\u001b[0m\n",
            "\u001b[?25hDownloading nvidia_curand_cu12-10.3.5.147-py3-none-manylinux2014_x86_64.whl (56.3 MB)\n",
            "\u001b[2K   \u001b[90m━━━━━━━━━━━━━━━━━━━━━━━━━━━━━━━━━━━━━━━━\u001b[0m \u001b[32m56.3/56.3 MB\u001b[0m \u001b[31m13.2 MB/s\u001b[0m eta \u001b[36m0:00:00\u001b[0m\n",
            "\u001b[?25hDownloading nvidia_cusolver_cu12-11.6.1.9-py3-none-manylinux2014_x86_64.whl (127.9 MB)\n",
            "\u001b[2K   \u001b[90m━━━━━━━━━━━━━━━━━━━━━━━━━━━━━━━━━━━━━━━━\u001b[0m \u001b[32m127.9/127.9 MB\u001b[0m \u001b[31m7.6 MB/s\u001b[0m eta \u001b[36m0:00:00\u001b[0m\n",
            "\u001b[?25hDownloading nvidia_cusparse_cu12-12.3.1.170-py3-none-manylinux2014_x86_64.whl (207.5 MB)\n",
            "\u001b[2K   \u001b[90m━━━━━━━━━━━━━━━━━━━━━━━━━━━━━━━━━━━━━━━━\u001b[0m \u001b[32m207.5/207.5 MB\u001b[0m \u001b[31m5.9 MB/s\u001b[0m eta \u001b[36m0:00:00\u001b[0m\n",
            "\u001b[?25hDownloading nvidia_nvjitlink_cu12-12.4.127-py3-none-manylinux2014_x86_64.whl (21.1 MB)\n",
            "\u001b[2K   \u001b[90m━━━━━━━━━━━━━━━━━━━━━━━━━━━━━━━━━━━━━━━━\u001b[0m \u001b[32m21.1/21.1 MB\u001b[0m \u001b[31m105.8 MB/s\u001b[0m eta \u001b[36m0:00:00\u001b[0m\n",
            "\u001b[?25hDownloading ultralytics_thop-2.0.14-py3-none-any.whl (26 kB)\n",
            "Installing collected packages: nvidia-nvjitlink-cu12, nvidia-curand-cu12, nvidia-cufft-cu12, nvidia-cuda-runtime-cu12, nvidia-cuda-nvrtc-cu12, nvidia-cuda-cupti-cu12, nvidia-cublas-cu12, nvidia-cusparse-cu12, nvidia-cudnn-cu12, nvidia-cusolver-cu12, ultralytics-thop, ultralytics\n",
            "  Attempting uninstall: nvidia-nvjitlink-cu12\n",
            "    Found existing installation: nvidia-nvjitlink-cu12 12.5.82\n",
            "    Uninstalling nvidia-nvjitlink-cu12-12.5.82:\n",
            "      Successfully uninstalled nvidia-nvjitlink-cu12-12.5.82\n",
            "  Attempting uninstall: nvidia-curand-cu12\n",
            "    Found existing installation: nvidia-curand-cu12 10.3.6.82\n",
            "    Uninstalling nvidia-curand-cu12-10.3.6.82:\n",
            "      Successfully uninstalled nvidia-curand-cu12-10.3.6.82\n",
            "  Attempting uninstall: nvidia-cufft-cu12\n",
            "    Found existing installation: nvidia-cufft-cu12 11.2.3.61\n",
            "    Uninstalling nvidia-cufft-cu12-11.2.3.61:\n",
            "      Successfully uninstalled nvidia-cufft-cu12-11.2.3.61\n",
            "  Attempting uninstall: nvidia-cuda-runtime-cu12\n",
            "    Found existing installation: nvidia-cuda-runtime-cu12 12.5.82\n",
            "    Uninstalling nvidia-cuda-runtime-cu12-12.5.82:\n",
            "      Successfully uninstalled nvidia-cuda-runtime-cu12-12.5.82\n",
            "  Attempting uninstall: nvidia-cuda-nvrtc-cu12\n",
            "    Found existing installation: nvidia-cuda-nvrtc-cu12 12.5.82\n",
            "    Uninstalling nvidia-cuda-nvrtc-cu12-12.5.82:\n",
            "      Successfully uninstalled nvidia-cuda-nvrtc-cu12-12.5.82\n",
            "  Attempting uninstall: nvidia-cuda-cupti-cu12\n",
            "    Found existing installation: nvidia-cuda-cupti-cu12 12.5.82\n",
            "    Uninstalling nvidia-cuda-cupti-cu12-12.5.82:\n",
            "      Successfully uninstalled nvidia-cuda-cupti-cu12-12.5.82\n",
            "  Attempting uninstall: nvidia-cublas-cu12\n",
            "    Found existing installation: nvidia-cublas-cu12 12.5.3.2\n",
            "    Uninstalling nvidia-cublas-cu12-12.5.3.2:\n",
            "      Successfully uninstalled nvidia-cublas-cu12-12.5.3.2\n",
            "  Attempting uninstall: nvidia-cusparse-cu12\n",
            "    Found existing installation: nvidia-cusparse-cu12 12.5.1.3\n",
            "    Uninstalling nvidia-cusparse-cu12-12.5.1.3:\n",
            "      Successfully uninstalled nvidia-cusparse-cu12-12.5.1.3\n",
            "  Attempting uninstall: nvidia-cudnn-cu12\n",
            "    Found existing installation: nvidia-cudnn-cu12 9.3.0.75\n",
            "    Uninstalling nvidia-cudnn-cu12-9.3.0.75:\n",
            "      Successfully uninstalled nvidia-cudnn-cu12-9.3.0.75\n",
            "  Attempting uninstall: nvidia-cusolver-cu12\n",
            "    Found existing installation: nvidia-cusolver-cu12 11.6.3.83\n",
            "    Uninstalling nvidia-cusolver-cu12-11.6.3.83:\n",
            "      Successfully uninstalled nvidia-cusolver-cu12-11.6.3.83\n",
            "Successfully installed nvidia-cublas-cu12-12.4.5.8 nvidia-cuda-cupti-cu12-12.4.127 nvidia-cuda-nvrtc-cu12-12.4.127 nvidia-cuda-runtime-cu12-12.4.127 nvidia-cudnn-cu12-9.1.0.70 nvidia-cufft-cu12-11.2.1.3 nvidia-curand-cu12-10.3.5.147 nvidia-cusolver-cu12-11.6.1.9 nvidia-cusparse-cu12-12.3.1.170 nvidia-nvjitlink-cu12-12.4.127 ultralytics-8.3.130 ultralytics-thop-2.0.14\n",
            "Creating new Ultralytics Settings v0.0.6 file ✅ \n",
            "View Ultralytics Settings with 'yolo settings' or at '/root/.config/Ultralytics/settings.json'\n",
            "Update Settings with 'yolo settings key=value', i.e. 'yolo settings runs_dir=path/to/dir'. For help see https://docs.ultralytics.com/quickstart/#ultralytics-settings.\n",
            "Mounted at /content/drive\n",
            "Sąranka baigta!\n"
          ]
        }
      ],
      "source": [
        "#@title PILNAS TIPO 1. Sąranka ir diegimas\n",
        "\n",
        "# Įdiegiame būtinas bibliotekas\n",
        "!pip install ultralytics\n",
        "\n",
        "# Importuojame reikalingas bibliotekas\n",
        "import os\n",
        "import yaml\n",
        "import shutil\n",
        "import random\n",
        "from IPython.display import display, Image\n",
        "from ultralytics import YOLO\n",
        "import matplotlib.pyplot as plt\n",
        "import numpy as np\n",
        "from PIL import Image as PILImage\n",
        "import cv2\n",
        "from google.colab import drive\n",
        "from datetime import datetime\n",
        "import torch\n",
        "from sklearn.model_selection import train_test_split\n",
        "\n",
        "# Prijungiame Google Drive\n",
        "drive.mount('/content/drive')\n",
        "\n",
        "print(\"Sąranka baigta!\")\n",
        "\n"
      ]
    },
    {
      "cell_type": "code",
      "source": [
        "#@title 2. Projekto struktūros konfigūravimas\n",
        "\n",
        "import os\n",
        "import yaml\n",
        "import random\n",
        "import shutil\n",
        "from datetime import datetime\n",
        "from PIL import Image as PILImage\n",
        "from sklearn.model_selection import train_test_split\n",
        "\n",
        "# Baziniai katalogai kelio dangos segmentacijai\n",
        "base_dir = '/content/drive/MyDrive/Dangos Tipo Nustatymas'\n",
        "print(f\"Pagrindinis katalogas: {base_dir}\")\n",
        "\n",
        "# Šaltinių katalogai maskuotiems vaizdams ir žymėms\n",
        "images_dir = os.path.join(base_dir, 'Images(kaukes)')\n",
        "labels_dirs = {\n",
        "    'asfaltas': os.path.join(base_dir, 'labels', 'asfaltas'),\n",
        "    'zvyras': os.path.join(base_dir, 'labels', 'zvyras'),\n",
        "    'grindinys': os.path.join(base_dir, 'labels', 'grindinys')\n",
        "}\n",
        "\n",
        "# Sukuriame laiko žymą unikaliam projekto paleidimui\n",
        "timestamp = datetime.now().strftime(\"%Y%m%d_%H%M%S\")\n",
        "project_dir = os.path.join(base_dir, f'road_type_seg_{timestamp}')\n",
        "os.makedirs(project_dir, exist_ok=True)\n",
        "\n",
        "# Rezultatų katalogai\n",
        "results_dir = os.path.join(project_dir, 'results')\n",
        "predictions_dir = os.path.join(project_dir, 'predictions')\n",
        "exports_dir = os.path.join(project_dir, 'exports')\n",
        "os.makedirs(results_dir, exist_ok=True)\n",
        "os.makedirs(predictions_dir, exist_ok=True)\n",
        "os.makedirs(exports_dir, exist_ok=True)\n",
        "\n",
        "# Sukuriame duomenų rinkinio katalogų struktūrą\n",
        "dataset_root = os.path.join(base_dir, f'road_type_dataset_{timestamp}')\n",
        "os.makedirs(dataset_root, exist_ok=True)\n",
        "\n",
        "# Sukuriame YOLO duomenų rinkinio struktūrą\n",
        "for split in ['train', 'val', 'test']:\n",
        "    os.makedirs(os.path.join(dataset_root, 'images', split), exist_ok=True)\n",
        "    os.makedirs(os.path.join(dataset_root, 'labels', split), exist_ok=True)\n"
      ],
      "metadata": {
        "colab": {
          "base_uri": "https://localhost:8080/"
        },
        "id": "a9unDyqicY5o",
        "outputId": "ddd44f78-df87-4a5d-be68-9f78b66e8465"
      },
      "execution_count": null,
      "outputs": [
        {
          "output_type": "stream",
          "name": "stdout",
          "text": [
            "Pagrindinis katalogas: /content/drive/MyDrive/Dangos Tipo Nustatymas\n"
          ]
        }
      ]
    },
    {
      "cell_type": "code",
      "source": [
        "#@title 3. Duomenų rinkinio analizė ir padalijimų sukūrimas\n",
        "\n",
        "def analyze_dataset():\n",
        "    \"\"\"Analizuoti duomenų rinkinį ir sukurti padalijimus\"\"\"\n",
        "    # Gauname visus pažymėtus failus iš kiekvieno katalogo\n",
        "    all_files = {}\n",
        "\n",
        "    # Skaičiuojame failus kiekvienam dangos tipui\n",
        "    type_counts = {}\n",
        "\n",
        "    for pavement_type, label_dir in labels_dirs.items():\n",
        "        files = []\n",
        "        class_id = {\"asfaltas\": 0, \"zvyras\": 1, \"grindinys\": 2}[pavement_type]\n",
        "\n",
        "        # Gauname visus txt failus, išskyrus classes.txt\n",
        "        for file in os.listdir(label_dir):\n",
        "            if file.endswith('.txt') and file != 'classes.txt':\n",
        "                base_name = os.path.splitext(file)[0]\n",
        "                # Tikriname, ar egzistuoja atitinkamas vaizdas\n",
        "                img_path = None\n",
        "                for ext in ['.jpg', '.jpeg', '.png']:\n",
        "                    if os.path.exists(os.path.join(images_dir, base_name + ext)):\n",
        "                        img_path = os.path.join(images_dir, base_name + ext)\n",
        "                        break\n",
        "\n",
        "                if img_path:\n",
        "                    files.append({\n",
        "                        'base_name': base_name,\n",
        "                        'img_path': img_path,\n",
        "                        'label_path': os.path.join(label_dir, file),\n",
        "                        'pavement_type': pavement_type,\n",
        "                        'class_id': class_id\n",
        "                    })\n",
        "\n",
        "        all_files[pavement_type] = files\n",
        "        type_counts[pavement_type] = len(files)\n",
        "\n",
        "    # Spausdiname statistiką\n",
        "    print(\"\\nDuomenų rinkinio statistika:\")\n",
        "    total_files = sum(type_counts.values())\n",
        "    for pavement_type, count in type_counts.items():\n",
        "        print(f\"  {pavement_type}: {count} failai ({count/total_files*100:.1f}%)\")\n",
        "    print(f\"  Iš viso: {total_files} failai\")\n",
        "\n",
        "    # Sukuriame padalijimus (70% train, 15% val, 15% test)\n",
        "    splits = {'train': [], 'val': [], 'test': []}\n",
        "\n",
        "    for pavement_type, files in all_files.items():\n",
        "        # Padalijame failus\n",
        "        train_files, temp = train_test_split(\n",
        "            files, test_size=0.3, random_state=42\n",
        "        )\n",
        "        val_files, test_files = train_test_split(\n",
        "            temp, test_size=0.5, random_state=42\n",
        "        )\n",
        "\n",
        "        # Pridedame į padalijimus\n",
        "        splits['train'].extend(train_files)\n",
        "        splits['val'].extend(val_files)\n",
        "        splits['test'].extend(test_files)\n",
        "\n",
        "    # Spausdiname padalijimų statistiką\n",
        "    print(\"\\nPadalijimų statistika:\")\n",
        "    for split_name, files in splits.items():\n",
        "        print(f\"  {split_name}: {len(files)} failai\")\n",
        "\n",
        "        # Skaičiuojame pagal dangos tipą\n",
        "        split_counts = {}\n",
        "        for file in files:\n",
        "            pt = file['pavement_type']\n",
        "            split_counts[pt] = split_counts.get(pt, 0) + 1\n",
        "\n",
        "        for pt, count in split_counts.items():\n",
        "            print(f\"    - {pt}: {count} failai ({count/len(files)*100:.1f}%)\")\n",
        "\n",
        "    return splits, type_counts\n",
        "\n",
        "# Analizuojame duomenų rinkinį ir sukuriame padalijimus\n",
        "splits, class_counts = analyze_dataset()\n"
      ],
      "metadata": {
        "colab": {
          "base_uri": "https://localhost:8080/"
        },
        "id": "EuSbGerycxOg",
        "outputId": "a5847176-0475-4e59-ae09-4445c5e6f8e4"
      },
      "execution_count": null,
      "outputs": [
        {
          "output_type": "stream",
          "name": "stdout",
          "text": [
            "\n",
            "Duomenų rinkinio statistika:\n",
            "  asfaltas: 663 failai (49.6%)\n",
            "  zvyras: 331 failai (24.8%)\n",
            "  grindinys: 343 failai (25.7%)\n",
            "  Iš viso: 1337 failai\n",
            "\n",
            "Padalijimų statistika:\n",
            "  train: 935 failai\n",
            "    - asfaltas: 464 failai (49.6%)\n",
            "    - zvyras: 231 failai (24.7%)\n",
            "    - grindinys: 240 failai (25.7%)\n",
            "  val: 200 failai\n",
            "    - asfaltas: 99 failai (49.5%)\n",
            "    - zvyras: 50 failai (25.0%)\n",
            "    - grindinys: 51 failai (25.5%)\n",
            "  test: 202 failai\n",
            "    - asfaltas: 100 failai (49.5%)\n",
            "    - zvyras: 50 failai (24.8%)\n",
            "    - grindinys: 52 failai (25.7%)\n"
          ]
        }
      ]
    },
    {
      "cell_type": "code",
      "source": [
        "#@title 4. Su svoriais dataset.yaml - be monkey patch.\n",
        "def process_dataset_files():\n",
        "    \"\"\"Apdoroti duomenų rinkinio failus ir paruošti mokymui su klasių svoriais\"\"\"\n",
        "    print(\"\\nApdorojame duomenų rinkinio failus...\")\n",
        "    from tqdm import tqdm\n",
        "    # Klasių žemėlapis\n",
        "    class_id_map = {\"asfaltas\": 0, \"zvyras\": 1, \"grindinys\": 2}\n",
        "\n",
        "    # Sukuriame klasių skaičiuotuvus\n",
        "    class_counts = {\"asfaltas\": 0, \"zvyras\": 0, \"grindinys\": 0}\n",
        "\n",
        "    # Pirmiausia suskaičiuojame klasių dažnius\n",
        "    for file_data in splits['train']:\n",
        "        class_name = next(k for k, v in class_id_map.items() if v == file_data['class_id'])\n",
        "        class_counts[class_name] += 1\n",
        "\n",
        "    # Apskaičiuojame klasių svorius dataset.yaml failui\n",
        "    total_samples = sum(class_counts.values())\n",
        "    num_classes = len(class_counts)\n",
        "\n",
        "    class_weights = {}\n",
        "    for class_name, count in class_counts.items():\n",
        "        if count > 0:\n",
        "            # Atvirkštinio dažnio svorio skaičiavimas\n",
        "            class_weights[class_id_map[class_name]] = total_samples / (num_classes * count)\n",
        "        else:\n",
        "            class_weights[class_id_map[class_name]] = 1.0\n",
        "\n",
        "    # Normalizuojame svorius, kad jų suma būtų 1.0 YAML formatui\n",
        "    weight_sum = sum(class_weights.values())\n",
        "    if weight_sum > 0:\n",
        "        for k in class_weights:\n",
        "            class_weights[k] = class_weights[k] / weight_sum\n",
        "\n",
        "    # Suapvaliname rodymui\n",
        "    formatted_weights = {k: round(v, 4) for k, v in class_weights.items()}\n",
        "    print(f\"\\nApskaičiuoti klasių svoriai dataset.yaml failui: {formatted_weights}\")\n",
        "\n",
        "    for split, files in splits.items():\n",
        "        for file_data in tqdm(files, desc=f\"Apdorojame {split} rinkinį\"):\n",
        "            # Gauname kelią\n",
        "            img_path = file_data['img_path']\n",
        "            label_path = file_data['label_path']\n",
        "            base_name = file_data['base_name']\n",
        "            class_id = file_data['class_id']\n",
        "            # Paskirties keliai\n",
        "            dest_img_path = os.path.join(dataset_root, 'images', split, f\"{base_name}.jpg\")\n",
        "            dest_label_path = os.path.join(dataset_root, 'labels', split, f\"{base_name}.txt\")\n",
        "            # Kopijuojame vaizdą (konvertuojame į jpg, jei reikia)\n",
        "            img = cv2.imread(img_path)\n",
        "            # Papildomas mokymo rinkinio apdorojimas saulės šviesos atsparumui pagerinti\n",
        "            if split == 'train':\n",
        "                # Sukuriame gama koreguotus kai kurių vaizdų variantus, imituojančius skirtingą apšvietimą\n",
        "                if random.random() < 0.3:  # Taikome 30% mokymo vaizdų\n",
        "                    gamma = random.uniform(0.6, 1.8)  # Platesnis gama diapazonas\n",
        "                    inv_gamma = 1.0 / gamma\n",
        "                    table = [((i / 255.0) ** inv_gamma) * 255 for i in range(256)]\n",
        "                    table = np.array(table, np.uint8)\n",
        "                    img = cv2.LUT(img, table)\n",
        "            cv2.imwrite(dest_img_path, img)\n",
        "            # Apdorojame žymę - keičiame tik klasės ID, koordinates paliekame nepakitusias\n",
        "            with open(label_path, 'r') as src_file:\n",
        "                lines = src_file.readlines()\n",
        "            # Atnaujiname žymę su teisingu klasės ID\n",
        "            with open(dest_label_path, 'w') as dst_file:\n",
        "                for line in lines:\n",
        "                    parts = line.strip().split()\n",
        "                    if len(parts) >= 5:  # YOLO formatas (klasė + 4 koordinatės)\n",
        "                        # Atnaujiname tik klasės ID\n",
        "                        parts[0] = str(class_id)\n",
        "                        dst_file.write(' '.join(parts) + '\\n')\n",
        "\n",
        "    # Sukuriame dataset.yaml su klasių svoriais\n",
        "    dataset_yaml = os.path.join(dataset_root, 'dataset.yaml')\n",
        "    yaml_content = {\n",
        "        'path': dataset_root,\n",
        "        'train': os.path.join(dataset_root, 'images', 'train'),\n",
        "        'val': os.path.join(dataset_root, 'images', 'val'),\n",
        "        'test': os.path.join(dataset_root, 'images', 'test'),\n",
        "        'names': {0: 'asfaltas', 1: 'zvyras', 2: 'grindinys'},\n",
        "        'nc': 3,\n",
        "        'weights': list(class_weights.values())  # Pridedame klasių svorius į YAML\n",
        "    }\n",
        "\n",
        "    with open(dataset_yaml, 'w') as f:\n",
        "        yaml.dump(yaml_content, f)\n",
        "\n",
        "    print(f\"Duomenų rinkinio konfigūracija su svoriais sukurta: {dataset_yaml}\")\n",
        "\n",
        "    # Sukuriame train/val/test tekstinius failus, nurodančius kelius\n",
        "    for split_name, files in splits.items():\n",
        "        split_file = os.path.join(project_dir, f'{split_name}.txt')\n",
        "        with open(split_file, 'w') as f:\n",
        "            for file_data in files:\n",
        "                f.write(f\"{file_data['img_path']}\\n\")\n",
        "\n",
        "    return dataset_yaml\n",
        "\n",
        "# Apdorojame duomenų rinkinio failus su klasių svoriais\n",
        "dataset_yaml = process_dataset_files()"
      ],
      "metadata": {
        "colab": {
          "base_uri": "https://localhost:8080/"
        },
        "id": "1Pp1iigowk10",
        "outputId": "56417a54-d7e2-4919-fba6-1a78b8dd28a2"
      },
      "execution_count": null,
      "outputs": [
        {
          "output_type": "stream",
          "name": "stdout",
          "text": [
            "\n",
            "Apdorojame duomenų rinkinio failus...\n",
            "\n",
            "Apskaičiuoti klasių svoriai dataset.yaml failui: {0: 0.2023, 1: 0.4064, 2: 0.3912}\n"
          ]
        },
        {
          "output_type": "stream",
          "name": "stderr",
          "text": [
            "Apdorojame train rinkinį: 100%|██████████| 935/935 [15:22<00:00,  1.01it/s]\n",
            "Apdorojame val rinkinį: 100%|██████████| 200/200 [03:09<00:00,  1.06it/s]\n",
            "Apdorojame test rinkinį: 100%|██████████| 202/202 [03:11<00:00,  1.06it/s]"
          ]
        },
        {
          "output_type": "stream",
          "name": "stdout",
          "text": [
            "Duomenų rinkinio konfigūracija su svoriais sukurta: /content/drive/MyDrive/Dangos Tipo Nustatymas/road_type_dataset_20250510_180944/dataset.yaml\n"
          ]
        },
        {
          "output_type": "stream",
          "name": "stderr",
          "text": [
            "\n"
          ]
        }
      ]
    },
    {
      "cell_type": "code",
      "source": [
        "#@title 6. Modelio mokymas\n",
        "def train_road_type_model():\n",
        "    \"\"\"\n",
        "    Mokome YOLOv8 segmentavimo modelį kelio dangos tipui klasifikuoti.\n",
        "    Specialiai optimizuota tvirtam veikimui įvairiomis saulės šviesos sąlygomis\n",
        "    su sustiprintu šviesumo/kontrasto augmentavimu ir specializuotais mokymo parametrais.\n",
        "    \"\"\"\n",
        "    from ultralytics import YOLO\n",
        "    import torch\n",
        "    import glob\n",
        "    import os\n",
        "    import yaml\n",
        "    import cv2\n",
        "    import shutil\n",
        "    import numpy as np\n",
        "    from tqdm import tqdm\n",
        "    import random\n",
        "    import time\n",
        "    import logging\n",
        "    from IPython.display import display, Image\n",
        "\n",
        "    # Nustatome bazinį žurnalo registravimą geresniam klaidų sekimui\n",
        "    logging.basicConfig(level=logging.INFO,\n",
        "                      format='%(asctime)s - %(levelname)s - %(message)s')\n",
        "    logger = logging.getLogger('train_export')\n",
        "\n",
        "    print(\"\\nRuošiame kelio dangos segmentavimo mokymą su atsparumu saulės šviesai...\")\n",
        "    logger.info(\"Pradedamas kelio dangos segmentavimo mokymas su atsparumu saulės šviesai\")\n",
        "\n",
        "    # Bandome naudoti naujausius/greičiausius modelius, jei prieinami\n",
        "    try:\n",
        "        # Pirmiausia bandome YOLOv11n-seg, jei prieinamas (naujausias/greičiausias)\n",
        "        logger.info(\"Bandoma įkelti YOLOv8n-seg modelį...\")\n",
        "        model = YOLO('yolov8n-seg.pt')\n",
        "        initial_model_name = 'yolov8n-seg'\n",
        "        logger.info(\"Sėkmingai įkeltas YOLO11n-seg modelis!\")\n",
        "    except Exception as e:\n",
        "        logger.warning(f\"YOLOv8n-seg neprieinamas: {str(e)}\")\n",
        "        try:\n",
        "            # Bandome YOLOv10n-seg, jei prieinamas (antras pagal greitį)\n",
        "            logger.info(\"Bandoma įkelti YOLOv10n-seg modelį...\")\n",
        "            model = YOLO('yolov10n-seg.pt')\n",
        "            initial_model_name = 'yolov10n-seg'\n",
        "            logger.info(\"Sėkmingai įkeltas YOLOv10n-seg modelis!\")\n",
        "        except:\n",
        "            # Grįžtame prie YOLOv8n-seg (patikimos opcijos)\n",
        "            logger.info(\"Grįžtama prie YOLOv8n-seg modelio\")\n",
        "            model = YOLO('yolov8n-seg.pt')\n",
        "            initial_model_name = 'yolov8n-seg'\n",
        "\n",
        "    # Užregistruojame, kurį modelį naudojame\n",
        "    logger.info(f\"Naudojamas modelis: {initial_model_name}\")\n",
        "\n",
        "    # Mokymo parametrai - optimizuoti atsparumui saulės šviesai\n",
        "    epochs = 110    # Žymiai padidintas geresniam konvergavimui\n",
        "    imgsz = 800     # Išlaikytas geram balansui\n",
        "    batch_size = 12 # Išlaikytas geram balansui\n",
        "\n",
        "    # Apibrėžiame augmentavimo nustatymus, orientuotus į apšvietimo variaciją\n",
        "    aug_config = {\n",
        "        'hsv_h': 0.2,      # Padidintas atspalvio keitimas\n",
        "        'hsv_s': 0.7,      # Žymiai padidintas sotumas\n",
        "        'hsv_v': 0.8,      # Labai padidintas šviesumas saulės šviesos apdorojimui\n",
        "        'degrees': 10.0,   # Išlaikytas vidutinis pasukimas\n",
        "        'translate': 0.15, # Išlaikytas vidutinis perkėlimas\n",
        "        'scale': 0.2,      # Išlaikytas vidutinis mastelio keitimas\n",
        "        'fliplr': 0.5,     # Standartinis horizontalus apvertimas\n",
        "        'mosaic': 0.6,     # Padidintas mozaikos tikimybė\n",
        "        'mixup': 0.3,      # Padidintas mixup geresniam apibendrinimui\n",
        "        'copy_paste': 0.1, # Išlaikytas minimalus kopijavimas-įklijavimas\n",
        "    }\n",
        "\n",
        "    # Pradedame mokymą\n",
        "    print(f\"\\nPradedame mokymą ant {'CUDA' if torch.cuda.is_available() else 'CPU'}\")\n",
        "    print(f\"Vaizdo dydis: {imgsz}, Partijos dydis: {batch_size}, Epochos: {epochs}\")\n",
        "\n",
        "\n",
        "    logger.info(f\"Pradedamas mokymas su {initial_model_name} modeliu\")\n",
        "    logger.info(f\"Naudojamas įrenginys: {'CUDA' if torch.cuda.is_available() else 'CPU'}\")\n",
        "    logger.info(f\"Vaizdo dydis: {imgsz}, Partijos dydis: {batch_size}, Epochos: {epochs}\")\n",
        "\n",
        "    # Patikrinti, ar egzistuoja projekto direktorija\n",
        "    if not os.path.exists(project_dir):\n",
        "        os.makedirs(project_dir, exist_ok=True)\n",
        "        logger.info(f\"Sukurta projekto direktorija: {project_dir}\")\n",
        "\n",
        "    # Įsitikinti, kad exports_dir egzistuoja\n",
        "    if not os.path.exists(exports_dir):\n",
        "        os.makedirs(exports_dir, exist_ok=True)\n",
        "        logger.info(f\"Sukurta eksportavimo direktorija: {exports_dir}\")\n",
        "\n",
        "    # Įsitikinti, kad results_dir egzistuoja\n",
        "    if not os.path.exists(results_dir):\n",
        "        os.makedirs(results_dir, exist_ok=True)\n",
        "        logger.info(f\"Sukurta rezultatų direktorija: {results_dir}\")\n",
        "\n",
        "    try:\n",
        "        # Slopinti išsamius pranešimus apmokymo metu\n",
        "        import builtins\n",
        "        original_print = builtins.print\n",
        "        builtins.print = lambda *args, **kwargs: None\n",
        "\n",
        "        results = model.train(\n",
        "            data=dataset_yaml,\n",
        "            epochs=epochs,\n",
        "            imgsz=imgsz,\n",
        "            batch=batch_size,\n",
        "            patience=20,        # Toliau padidintas kantrumas geresniam konvergavimui\n",
        "            save=True,\n",
        "            project=project_dir,\n",
        "            name='road_seg_model',\n",
        "            save_period=10,     # Išsaugome kontrolinius taškus kas 10 epochų\n",
        "            pretrained=True,\n",
        "            optimizer='AdamW',  # AdamW optimizatorius geresniam apibendrinimui\n",
        "            lr0=0.0002,         # Toliau sumažintas mokymosi greitis stabilesniam mokymui\n",
        "            lrf=0.005,          # Žemesnis galutinis mokymosi greičio faktorius smulkioms detalėms\n",
        "            weight_decay=0.0005,# L2 reguliarizacija\n",
        "            augment=True,       # Įjungiame augmentavimą\n",
        "            cache='ram',       # Pakeitimas iš 'ram' į 'disk'\n",
        "            device=0 if torch.cuda.is_available() else 'cpu',\n",
        "            plots=True,         # Generuojame grafikus\n",
        "            cos_lr=True,        # Kosinuso LR planuoklis\n",
        "            verbose=True,       # Rodome progresą\n",
        "            task='segment',     # Užduoties tipas\n",
        "            **aug_config\n",
        "        )\n",
        "\n",
        "        # Atkurti spausdinimo funkciją\n",
        "        builtins.print = original_print\n",
        "        logger.info(\"Apmokymas baigtas!\")\n",
        "        print(\"Mokymas baigtas!\")\n",
        "\n",
        "    except Exception as e:\n",
        "        # Atkurti spausdinimo funkciją jei įvyksta klaida\n",
        "        builtins.print = original_print\n",
        "        logger.error(f\"Klaida mokymo metu: {str(e)}\")\n",
        "        print(f\"Klaida mokymo metu: {str(e)}\")\n",
        "        import traceback\n",
        "        traceback.print_exc()\n",
        "        return None, None, None\n",
        "\n",
        "    # Palaukti momentą, kad failų sistemos operacijos būtų baigtos\n",
        "    time.sleep(2)\n",
        "\n",
        "    # Ieškome geriausio modelio\n",
        "    best_model_path = os.path.join(project_dir, 'road_seg_model', 'weights', 'best.pt')\n",
        "\n",
        "    if not os.path.exists(best_model_path):\n",
        "        # Bandome rasti bet kokį .pt modelį\n",
        "        potential_models = glob.glob(os.path.join(project_dir, 'road_seg_model', 'weights', '*.pt'))\n",
        "        if potential_models:\n",
        "            best_model_path = potential_models[0]\n",
        "            logger.info(f\"Geriausias modelis nerastas numatytame kelyje. Naudojamas rastas modelis: {best_model_path}\")\n",
        "            print(f\"Naudojame alternatyvų modelį: {best_model_path}\")\n",
        "        else:\n",
        "            logger.error(\"Nepavyko rasti apmokyto modelio. Patikrinkite išvesties direktorijas.\")\n",
        "            print(\"Modelio failai nerasti. Negalime tęsti.\")\n",
        "            return None, results, None\n",
        "\n",
        "    logger.info(f\"Naudojamas modelis: {best_model_path}\")\n",
        "    print(f\"Naudojamas modelis: {best_model_path}\")\n",
        "\n",
        "    # Įkeliame geriausią modelį\n",
        "    best_model = YOLO(best_model_path)\n",
        "\n",
        "    # Naudojame pradinį modelio pavadinimą eksportams\n",
        "    model_name = initial_model_name\n",
        "    logger.info(f\"Naudojamas modelio tipas eksportavimui: {model_name}\")\n",
        "    print(f\"Naudojamas modelio tipas eksportavimui: {model_name}\")\n",
        "\n",
        "    # Vykdome validavimą su keliais pasitikėjimo slenksčiais atsparumo saulės šviesai testavimui\n",
        "    logger.info(\"\\nVykdomas validavimas...\")\n",
        "    print(\"\\nVykdome validavimą...\")\n",
        "    try:\n",
        "        # Standartinis validavimas\n",
        "        val_results = best_model.val(\n",
        "            data=dataset_yaml,\n",
        "            split='val',\n",
        "            imgsz=imgsz,\n",
        "            batch=batch_size,\n",
        "            plots=True,\n",
        "            save_json=True,\n",
        "            save_txt=True,\n",
        "            project=results_dir,\n",
        "            name='validation',\n",
        "            task='segment'\n",
        "        )\n",
        "\n",
        "        # Spausdiname metrikas\n",
        "        if hasattr(val_results, 'seg') and val_results.seg is not None:\n",
        "            logger.info(f\"Validavimo mAP50: {val_results.seg.map50:.4f}\")\n",
        "            print(f\"Validavimo mAP50: {val_results.seg.map50:.4f}\")\n",
        "\n",
        "            if hasattr(val_results.seg, 'map'):\n",
        "                logger.info(f\"Validavimo mAP50-95: {val_results.seg.map:.4f}\")\n",
        "                print(f\"Validavimo mAP50-95: {val_results.seg.map:.4f}\")\n",
        "\n",
        "            # Klasių specifinės metrikos\n",
        "            if hasattr(val_results, 'seg_class') and val_results.seg_class is not None:\n",
        "                print(\"\\nKlasių specifinės metrikos:\")\n",
        "                yaml_content = yaml.safe_load(open(dataset_yaml))\n",
        "                for cls_id, metrics in val_results.seg_class.items():\n",
        "                    cls_name = yaml_content['names'].get(cls_id, f\"Klasė {cls_id}\")\n",
        "                    print(f\"  {cls_name}: mAP50 = {metrics['map50']:.4f}, Tikslumas = {metrics['precision']:.4f}, Jautrumas = {metrics['recall']:.4f}\")\n",
        "\n",
        "    except Exception as e:\n",
        "        logger.error(f\"Klaida validavimo metu: {str(e)}\")\n",
        "        print(f\"Klaida validavimo metu: {str(e)}\")\n",
        "        print(\"Tęsiame eksportavimą...\")\n",
        "        val_results = None\n",
        "\n",
        "    # Apibrėžti išvesties failų pavadinimus ir kelius\n",
        "    pt_filename = f'road_type_seg_{model_name}.pt'\n",
        "    onnx_filename = f'road_type_seg_{model_name}.onnx'\n",
        "    pt_path = os.path.join(exports_dir, pt_filename)\n",
        "    onnx_path = os.path.join(exports_dir, onnx_filename)\n",
        "\n",
        "    # Eksportuojame modelius\n",
        "    logger.info(\"\\nEksportuojami modeliai...\")\n",
        "    print(\"\\nEksportuojame modelius...\")\n",
        "    export_success = {'pt': False, 'onnx': False}\n",
        "\n",
        "    try:\n",
        "        # Eksportuoti į .pt formatą (PyTorch)\n",
        "        shutil.copy(best_model_path, pt_path)\n",
        "        logger.info(f\"PyTorch modelis eksportuotas į: {pt_path}\")\n",
        "        print(f\"PyTorch modelis eksportuotas į: {pt_path}\")\n",
        "        export_success['pt'] = True\n",
        "\n",
        "        # Eksportuoti į ONNX formatą - patobulinta su detaliais parametrais\n",
        "        logger.info(\"Eksportuojama į ONNX formatą su išsamiais parametrais...\")\n",
        "        print(\"Eksportuojama į ONNX formatą su išsamiais parametrais...\")\n",
        "\n",
        "        # Eksportuojame su detaliais parametrais geresniam suderinamumui\n",
        "        best_model.export(\n",
        "            format='onnx',\n",
        "            imgsz=imgsz,        # Naudojame tą patį vaizdo dydį kaip mokymo metu\n",
        "            simplify=True,      # Supaprastiname modelį\n",
        "            opset=12,           # Naudojame ONNX opset 12 geresniam suderinamumui\n",
        "            half=False,         # Nenaudojame pusės tikslumo problemoms išvengti\n",
        "            int8=False,         # Nenaudojame int8 kvantizacijos\n",
        "            dynamic=True,       # Leidžiame dinamišką partijos dydį\n",
        "            verbose=True        # Rodome išsamią eksportavimo informaciją\n",
        "        )\n",
        "\n",
        "        # ONNX modeliai paprastai išsaugomi tame pačiame kataloge kaip PT modelis su .onnx plėtiniu\n",
        "        default_onnx_path = os.path.splitext(best_model_path)[0] + '.onnx'\n",
        "\n",
        "        # Jei nerandame, patikriname, ar jis buvo išsaugotas dabartiniame kataloge\n",
        "        if not os.path.exists(default_onnx_path):\n",
        "            for root, dirs, files in os.walk(project_dir):\n",
        "                for file in files:\n",
        "                    if file.endswith('.onnx'):\n",
        "                        default_onnx_path = os.path.join(root, file)\n",
        "                        break\n",
        "                if default_onnx_path != os.path.splitext(best_model_path)[0] + '.onnx':\n",
        "                    break\n",
        "\n",
        "        if os.path.exists(default_onnx_path):\n",
        "            # Naudojame kopijavimą, o ne perkėlimą, kad išsaugotume originalą\n",
        "            shutil.copy(default_onnx_path, onnx_path)\n",
        "            logger.info(f\"ONNX modelis eksportuotas į: {onnx_path}\")\n",
        "            print(f\"ONNX modelis eksportuotas į: {onnx_path}\")\n",
        "            export_success['onnx'] = True\n",
        "\n",
        "            # Patikriname ONNX modelį, kad įsitikintume, jog jis veikia teisingai\n",
        "            try:\n",
        "                import onnx\n",
        "                onnx_model = onnx.load(onnx_path)\n",
        "                onnx.checker.check_model(onnx_model)\n",
        "                logger.info(\"ONNX modelis sėkmingai patikrintas - teisingas formatas\")\n",
        "                print(\"ONNX modelis sėkmingai patikrintas - teisingas formatas\")\n",
        "            except Exception as e:\n",
        "                logger.warning(f\"ONNX modelio validavimo įspėjimas: {str(e)}\")\n",
        "                print(f\"ONNX modelio validavimo įspėjimas: {str(e)}\")\n",
        "        else:\n",
        "            logger.error(f\"ONNX eksportavimas baigtas, bet failas nerastas: {default_onnx_path}\")\n",
        "            print(f\"ONNX eksportavimas baigtas, bet failas nerastas: {default_onnx_path}\")\n",
        "            print(\"Bandoma alternatyvų eksportavimo metodą...\")\n",
        "\n",
        "            # Bandome alternatyvų eksportavimo metodą, jei pirmasis nepavyko\n",
        "            try:\n",
        "                # Tiesioginis eksportavimas į paskirties vietą\n",
        "                best_model.export(\n",
        "                    format='onnx',\n",
        "                    imgsz=imgsz,\n",
        "                    simplify=True,\n",
        "                    opset=12,\n",
        "                    half=False,\n",
        "                    dynamic=True,\n",
        "                    verbose=True,\n",
        "                    file=onnx_path  # Tiesiogiai nurodome išvesties failą\n",
        "                )\n",
        "\n",
        "                if os.path.exists(onnx_path):\n",
        "                    logger.info(f\"ONNX modelis eksportuotas į: {onnx_path} (alternatyvus metodas)\")\n",
        "                    print(f\"ONNX modelis eksportuotas į: {onnx_path} (alternatyvus metodas)\")\n",
        "                    export_success['onnx'] = True\n",
        "            except Exception as e:\n",
        "                logger.error(f\"Alternatyvus ONNX eksportavimas nepavyko: {str(e)}\")\n",
        "                print(f\"Alternatyvus ONNX eksportavimas nepavyko: {str(e)}\")\n",
        "\n",
        "    except Exception as e:\n",
        "        logger.error(f\"Klaida modelio eksportavimo metu: {str(e)}\")\n",
        "        print(f\"Klaida modelio eksportavimo metu: {str(e)}\")\n",
        "        print(f\"Eksportavimo klaidos detalės: {e.__class__.__name__}\")\n",
        "        import traceback\n",
        "        traceback.print_exc()\n",
        "\n",
        "    # Testuojame keletą prognozių su specialiu dėmesiu saulės šviesos apdorojimui\n",
        "    print(\"\\nVykdome testavimo prognozes...\")\n",
        "    try:\n",
        "        # Gauname keletą testavimo vaizdų\n",
        "        test_img_dir = os.path.join(dataset_root, 'images', 'test')\n",
        "        test_images = os.listdir(test_img_dir)[:25]  # Testuojame 25 vaizdus\n",
        "\n",
        "        for img_name in test_images:\n",
        "            img_path = os.path.join(test_img_dir, img_name)\n",
        "\n",
        "            # Originalaus vaizdo prognozė\n",
        "            pred_results = best_model.predict(\n",
        "                source=img_path,\n",
        "                save=True,\n",
        "                project=predictions_dir,\n",
        "                name=f\"pred_{os.path.splitext(img_name)[0]}\",\n",
        "                conf=0.25,\n",
        "                task='segment'\n",
        "            )\n",
        "\n",
        "            # Taip pat testuojame su dirbtinai pašviesintu variantu, imituojančiu saulės šviesą\n",
        "            try:\n",
        "                img = cv2.imread(img_path)\n",
        "                # Taikome gama korekciją saulės šviesos imitavimui\n",
        "                gamma = 1.5  # Šviesumo didinimas\n",
        "                inv_gamma = 1.0 / gamma\n",
        "                table = [((i / 255.0) ** inv_gamma) * 255 for i in range(256)]\n",
        "                table = np.array(table, np.uint8)\n",
        "                bright_img = cv2.LUT(img, table)\n",
        "\n",
        "                # Išsaugome pašviestintą vaizdą\n",
        "                bright_img_path = os.path.join(predictions_dir, f\"bright_{img_name}\")\n",
        "                cv2.imwrite(bright_img_path, bright_img)\n",
        "\n",
        "                # Testuojame prognozę pašviestintam vaizdui\n",
        "                pred_results_bright = best_model.predict(\n",
        "                    source=bright_img_path,\n",
        "                    save=True,\n",
        "                    project=predictions_dir,\n",
        "                    name=f\"pred_bright_{os.path.splitext(img_name)[0]}\",\n",
        "                    conf=0.25,\n",
        "                    task='segment'\n",
        "                )\n",
        "\n",
        "                print(f\"Prognozė atlikta {img_name} (originaliam ir pašviestintam)\")\n",
        "            except Exception as e:\n",
        "                print(f\"Klaida pašviestintos prognozės metu: {str(e)}\")\n",
        "    except Exception as e:\n",
        "        print(f\"Klaida prognozės metu: {str(e)}\")\n",
        "\n",
        "    # Generuojame mokymo santrauką\n",
        "    print(\"\\n\" + \"=\"*50)\n",
        "    print(\"KELIO TIPŲ SEGMENTAVIMO MOKYMO SANTRAUKA - ATSPARI SAULĖS ŠVIESAI VERSIJA\")\n",
        "    print(\"=\"*50)\n",
        "\n",
        "    # Modelio detalės\n",
        "    print(f\"Modelis: {model_name} su svertiniais paviršiaus tipo duomenimis\")\n",
        "    print(f\"Klasės: asfaltas (0), žvyras (1), grindinys (2)\")\n",
        "    print(f\"Paveikslėlio dydis: {imgsz}x{imgsz}\")\n",
        "    print(f\"Mokymo epochos: {epochs}\")\n",
        "    print(f\"Ankstyvo sustabdymo kantrybė: 20\")\n",
        "    print(f\"Pradinis mokymosi greitis: 0.0002\")\n",
        "    print(f\"Svorio mažinimas: 0.0005\")\n",
        "    print(f\"Paketo dydis: {batch_size}\")\n",
        "    print(f\"Augmentacijos fokusas: EKSTREMALUS ryškumo kitimas (hsv_v={aug_config['hsv_v']}) atsparumui saulės šviesai\")\n",
        "    print(f\"Sodrumo kitimas: hsv_s={aug_config['hsv_s']} (pagerintas situacijoms su saulės šviesa)\")\n",
        "    print(f\"Papildomas apšvietimo apdorojimas: Taip (gama korekcija ant dalies mokymo duomenų)\")\n",
        "\n",
        "\n",
        "    # Apmokymo našumas\n",
        "    if hasattr(results, 'metrics') and results.metrics is not None:\n",
        "        if hasattr(results.metrics, 'fitness') and results.metrics.fitness is not None:\n",
        "            print(f\"Galutinis tinkamumo balas: {results.metrics.fitness:.4f}\")\n",
        "\n",
        "    # Duomenų rinkinio informacija\n",
        "    print(f\"Duomenų rinkinys: Iš viso panaudota {sum(class_counts.values())} paveikslėlių (visi duomenys)\")\n",
        "    for surface_type, count in class_counts.items():\n",
        "        print(f\"  - {surface_type}: {count} paveikslėliai\")\n",
        "\n",
        "    # Tinkamai patikrinti segmentacijos metrikas\n",
        "    if hasattr(results, 'seg'):\n",
        "        print(f\"Segmentacijos našumas:\")\n",
        "        if hasattr(results.seg, 'map50'):\n",
        "            print(f\"  mAP50: {results.seg.map50:.4f}\")\n",
        "        if hasattr(results.seg, 'map'):\n",
        "            print(f\"  mAP50-95: {results.seg.map:.4f}\")\n",
        "        if hasattr(results.seg, 'precision'):\n",
        "            print(f\"  Tikslumas: {results.seg.precision:.4f}\")\n",
        "        if hasattr(results.seg, 'recall'):\n",
        "            print(f\"  Atšaukimas: {results.seg.recall:.4f}\")\n",
        "\n",
        "    # Validavimo našumas\n",
        "    if val_results is not None and hasattr(val_results, 'seg'):\n",
        "        print(\"\\nValidavimo našumas:\")\n",
        "        if hasattr(val_results.seg, 'map50'):\n",
        "            print(f\"  Segmentacijos mAP50: {val_results.seg.map50:.4f}\")\n",
        "        if hasattr(val_results.seg, 'map'):\n",
        "            print(f\"  Segmentacijos mAP50-95: {val_results.seg.map:.4f}\")\n",
        "        if hasattr(val_results.seg, 'precision'):\n",
        "            print(f\"  Segmentacijos tikslumas: {val_results.seg.precision:.4f}\")\n",
        "        if hasattr(val_results.seg, 'recall'):\n",
        "            print(f\"  Segmentacijos atšaukimas: {val_results.seg.recall:.4f}\")\n",
        "\n",
        "    # Eksportavimo informacija\n",
        "    print(\"\\nEksportuoti modeliai:\")\n",
        "    if export_success['pt']:\n",
        "        print(f\"  PyTorch (.pt): {pt_path}\")\n",
        "    if export_success['onnx']:\n",
        "        print(f\"  ONNX (.onnx): {onnx_path}\")\n",
        "\n",
        "    print(\"\\nRezultatai išsaugoti:\")\n",
        "    print(f\"  Projekto direktorija: {project_dir}\")\n",
        "    print(f\"  Apmokymo grafikai: {os.path.join(project_dir, 'road_seg_model')}\")\n",
        "    print(f\"  Validavimo rezultatai: {os.path.join(results_dir, 'validation')}\")\n",
        "    print(f\"  Prognozių rezultatai: {predictions_dir}\")\n",
        "    print(\"=\"*50)\n",
        "\n",
        "    # Rodyti grafikus, jei yra\n",
        "    try:\n",
        "        results_plots = os.path.join(project_dir, 'road_seg_model', 'results.png')\n",
        "        if os.path.exists(results_plots):\n",
        "            display(Image(results_plots))\n",
        "            print(\"Mokymo rezultatų grafikas parodytas.\")\n",
        "    except:\n",
        "        pass\n",
        "\n",
        "    return best_model, results, val_results\n",
        "\n",
        "# Vykdyti mokymo funkciją\n",
        "best_model, training_results, validation_results = train_road_type_model()"
      ],
      "metadata": {
        "colab": {
          "base_uri": "https://localhost:8080/",
          "height": 1000
        },
        "id": "p4U9eNk1N5AE",
        "outputId": "8503f785-018a-486a-8755-29bf10a1075b"
      },
      "execution_count": null,
      "outputs": [
        {
          "output_type": "stream",
          "name": "stdout",
          "text": [
            "\n",
            "Ruošiame kelio dangos segmentavimo mokymą su atsparumu saulės šviesai...\n",
            "Downloading https://github.com/ultralytics/assets/releases/download/v8.3.0/yolov8n-seg.pt to 'yolov8n-seg.pt'...\n"
          ]
        },
        {
          "output_type": "stream",
          "name": "stderr",
          "text": [
            "100%|██████████| 6.74M/6.74M [00:00<00:00, 112MB/s]\n"
          ]
        },
        {
          "output_type": "stream",
          "name": "stdout",
          "text": [
            "\n",
            "Pradedame mokymą ant CUDA\n",
            "Vaizdo dydis: 800, Partijos dydis: 12, Epochos: 110\n",
            "Ultralytics 8.3.130 🚀 Python-3.11.12 torch-2.6.0+cu124 CUDA:0 (Tesla T4, 15095MiB)\n",
            "\u001b[34m\u001b[1mengine/trainer: \u001b[0magnostic_nms=False, amp=True, augment=True, auto_augment=randaugment, batch=12, bgr=0.0, box=7.5, cache=ram, cfg=None, classes=None, close_mosaic=10, cls=0.5, conf=None, copy_paste=0.1, copy_paste_mode=flip, cos_lr=True, cutmix=0.0, data=/content/drive/MyDrive/Dangos Tipo Nustatymas/road_type_dataset_20250510_180944/dataset.yaml, degrees=10.0, deterministic=True, device=0, dfl=1.5, dnn=False, dropout=0.0, dynamic=False, embed=None, epochs=110, erasing=0.4, exist_ok=False, fliplr=0.5, flipud=0.0, format=torchscript, fraction=1.0, freeze=None, half=False, hsv_h=0.2, hsv_s=0.7, hsv_v=0.8, imgsz=800, int8=False, iou=0.7, keras=False, kobj=1.0, line_width=None, lr0=0.0002, lrf=0.005, mask_ratio=4, max_det=300, mixup=0.3, mode=train, model=yolov8n-seg.pt, momentum=0.937, mosaic=0.6, multi_scale=False, name=road_seg_model, nbs=64, nms=False, opset=None, optimize=False, optimizer=AdamW, overlap_mask=True, patience=20, perspective=0.0, plots=True, pose=12.0, pretrained=True, profile=False, project=/content/drive/MyDrive/Dangos Tipo Nustatymas/road_type_seg_20250510_180944, rect=False, resume=False, retina_masks=False, save=True, save_conf=False, save_crop=False, save_dir=/content/drive/MyDrive/Dangos Tipo Nustatymas/road_type_seg_20250510_180944/road_seg_model, save_frames=False, save_json=False, save_period=10, save_txt=False, scale=0.2, seed=0, shear=0.0, show=False, show_boxes=True, show_conf=True, show_labels=True, simplify=True, single_cls=False, source=None, split=val, stream_buffer=False, task=segment, time=None, tracker=botsort.yaml, translate=0.15, val=True, verbose=True, vid_stride=1, visualize=False, warmup_bias_lr=0.1, warmup_epochs=3.0, warmup_momentum=0.8, weight_decay=0.0005, workers=8, workspace=None\n",
            "Downloading https://ultralytics.com/assets/Arial.ttf to '/root/.config/Ultralytics/Arial.ttf'...\n"
          ]
        },
        {
          "output_type": "stream",
          "name": "stderr",
          "text": [
            "100%|██████████| 755k/755k [00:00<00:00, 24.6MB/s]"
          ]
        },
        {
          "output_type": "stream",
          "name": "stdout",
          "text": [
            "Overriding model.yaml nc=80 with nc=3\n",
            "\n",
            "                   from  n    params  module                                       arguments                     \n",
            "  0                  -1  1       464  ultralytics.nn.modules.conv.Conv             [3, 16, 3, 2]                 \n",
            "  1                  -1  1      4672  ultralytics.nn.modules.conv.Conv             [16, 32, 3, 2]                \n",
            "  2                  -1  1      7360  ultralytics.nn.modules.block.C2f             [32, 32, 1, True]             \n",
            "  3                  -1  1     18560  ultralytics.nn.modules.conv.Conv             [32, 64, 3, 2]                \n",
            "  4                  -1  2     49664  ultralytics.nn.modules.block.C2f             [64, 64, 2, True]             \n",
            "  5                  -1  1     73984  ultralytics.nn.modules.conv.Conv             [64, 128, 3, 2]               \n",
            "  6                  -1  2    197632  ultralytics.nn.modules.block.C2f             [128, 128, 2, True]           \n",
            "  7                  -1  1    295424  ultralytics.nn.modules.conv.Conv             [128, 256, 3, 2]              \n",
            "  8                  -1  1    460288  ultralytics.nn.modules.block.C2f             [256, 256, 1, True]           \n",
            "  9                  -1  1    164608  ultralytics.nn.modules.block.SPPF            [256, 256, 5]                 \n",
            " 10                  -1  1         0  torch.nn.modules.upsampling.Upsample         [None, 2, 'nearest']          \n",
            " 11             [-1, 6]  1         0  ultralytics.nn.modules.conv.Concat           [1]                           \n",
            " 12                  -1  1    148224  ultralytics.nn.modules.block.C2f             [384, 128, 1]                 \n",
            " 13                  -1  1         0  torch.nn.modules.upsampling.Upsample         [None, 2, 'nearest']          \n",
            " 14             [-1, 4]  1         0  ultralytics.nn.modules.conv.Concat           [1]                           \n",
            " 15                  -1  1     37248  ultralytics.nn.modules.block.C2f             [192, 64, 1]                  \n",
            " 16                  -1  1     36992  ultralytics.nn.modules.conv.Conv             [64, 64, 3, 2]                \n",
            " 17            [-1, 12]  1         0  ultralytics.nn.modules.conv.Concat           [1]                           \n",
            " 18                  -1  1    123648  ultralytics.nn.modules.block.C2f             [192, 128, 1]                 \n",
            " 19                  -1  1    147712  ultralytics.nn.modules.conv.Conv             [128, 128, 3, 2]              \n",
            " 20             [-1, 9]  1         0  ultralytics.nn.modules.conv.Concat           [1]                           \n",
            " 21                  -1  1    493056  ultralytics.nn.modules.block.C2f             [384, 256, 1]                 \n",
            " 22        [15, 18, 21]  1   1004665  ultralytics.nn.modules.head.Segment          [3, 32, 64, [64, 128, 256]]   \n"
          ]
        },
        {
          "output_type": "stream",
          "name": "stderr",
          "text": [
            "\n"
          ]
        },
        {
          "output_type": "stream",
          "name": "stdout",
          "text": [
            "YOLOv8n-seg summary: 151 layers, 3,264,201 parameters, 3,264,185 gradients, 12.1 GFLOPs\n",
            "\n",
            "Transferred 381/417 items from pretrained weights\n",
            "Freezing layer 'model.22.dfl.conv.weight'\n",
            "\u001b[34m\u001b[1mAMP: \u001b[0mrunning Automatic Mixed Precision (AMP) checks...\n",
            "Downloading https://github.com/ultralytics/assets/releases/download/v8.3.0/yolo11n.pt to 'yolo11n.pt'...\n"
          ]
        },
        {
          "output_type": "stream",
          "name": "stderr",
          "text": [
            "100%|██████████| 5.35M/5.35M [00:00<00:00, 95.3MB/s]\n"
          ]
        },
        {
          "output_type": "stream",
          "name": "stdout",
          "text": [
            "\u001b[34m\u001b[1mAMP: \u001b[0mchecks passed ✅\n",
            "\u001b[34m\u001b[1mtrain: \u001b[0mFast image access ✅ (ping: 0.5±0.3 ms, read: 229.7±45.4 MB/s, size: 799.3 KB)\n"
          ]
        },
        {
          "output_type": "stream",
          "name": "stderr",
          "text": [
            "\u001b[34m\u001b[1mtrain: \u001b[0mScanning /content/drive/MyDrive/Dangos Tipo Nustatymas/road_type_dataset_20250510_180944/labels/train... 935 images, 0 backgrounds, 0 corrupt: 100%|██████████| 935/935 [00:09<00:00, 93.69it/s] \n"
          ]
        },
        {
          "output_type": "stream",
          "name": "stdout",
          "text": [
            "\u001b[34m\u001b[1mtrain: \u001b[0mNew cache created: /content/drive/MyDrive/Dangos Tipo Nustatymas/road_type_dataset_20250510_180944/labels/train.cache\n",
            "WARNING ⚠️ cache='ram' may produce non-deterministic training results. Consider cache='disk' as a deterministic alternative if your disk space allows.\n"
          ]
        },
        {
          "output_type": "stream",
          "name": "stderr",
          "text": [
            "\u001b[34m\u001b[1mtrain: \u001b[0mCaching images (1.3GB RAM): 100%|██████████| 935/935 [01:08<00:00, 13.59it/s]\n"
          ]
        },
        {
          "output_type": "stream",
          "name": "stdout",
          "text": [
            "\u001b[34m\u001b[1malbumentations: \u001b[0mBlur(p=0.01, blur_limit=(3, 7)), MedianBlur(p=0.01, blur_limit=(3, 7)), ToGray(p=0.01, method='weighted_average', num_output_channels=3), CLAHE(p=0.01, clip_limit=(1.0, 4.0), tile_grid_size=(8, 8))\n",
            "\u001b[34m\u001b[1mval: \u001b[0mFast image access ✅ (ping: 4.6±8.8 ms, read: 111.0±86.0 MB/s, size: 680.9 KB)\n"
          ]
        },
        {
          "output_type": "stream",
          "name": "stderr",
          "text": [
            "\u001b[34m\u001b[1mval: \u001b[0mScanning /content/drive/MyDrive/Dangos Tipo Nustatymas/road_type_dataset_20250510_180944/labels/val... 200 images, 0 backgrounds, 0 corrupt: 100%|██████████| 200/200 [00:02<00:00, 95.20it/s] \n"
          ]
        },
        {
          "output_type": "stream",
          "name": "stdout",
          "text": [
            "\u001b[34m\u001b[1mval: \u001b[0mNew cache created: /content/drive/MyDrive/Dangos Tipo Nustatymas/road_type_dataset_20250510_180944/labels/val.cache\n",
            "WARNING ⚠️ cache='ram' may produce non-deterministic training results. Consider cache='disk' as a deterministic alternative if your disk space allows.\n"
          ]
        },
        {
          "output_type": "stream",
          "name": "stderr",
          "text": [
            "\u001b[34m\u001b[1mval: \u001b[0mCaching images (0.3GB RAM): 100%|██████████| 200/200 [00:14<00:00, 13.60it/s]\n"
          ]
        },
        {
          "output_type": "stream",
          "name": "stdout",
          "text": [
            "Plotting labels to /content/drive/MyDrive/Dangos Tipo Nustatymas/road_type_seg_20250510_180944/road_seg_model/labels.jpg... \n",
            "\u001b[34m\u001b[1moptimizer:\u001b[0m AdamW(lr=0.0002, momentum=0.937) with parameter groups 66 weight(decay=0.0), 77 weight(decay=0.00046875), 76 bias(decay=0.0)\n",
            "Image sizes 800 train, 800 val\n",
            "Using 2 dataloader workers\n",
            "Logging results to \u001b[1m/content/drive/MyDrive/Dangos Tipo Nustatymas/road_type_seg_20250510_180944/road_seg_model\u001b[0m\n",
            "Starting training for 110 epochs...\n",
            "\n",
            "      Epoch    GPU_mem   box_loss   seg_loss   cls_loss   dfl_loss  Instances       Size\n"
          ]
        },
        {
          "output_type": "stream",
          "name": "stderr",
          "text": [
            "      1/110       3.1G     0.8692      1.459      2.281      1.287         34        800: 100%|██████████| 78/78 [00:38<00:00,  2.04it/s]\n",
            "                 Class     Images  Instances      Box(P          R      mAP50  mAP50-95)     Mask(P          R      mAP50  mAP50-95): 100%|██████████| 9/9 [00:02<00:00,  3.02it/s]"
          ]
        },
        {
          "output_type": "stream",
          "name": "stdout",
          "text": [
            "                   all        200        254     0.0879      0.881      0.491      0.388     0.0518      0.628      0.202      0.107\n"
          ]
        },
        {
          "output_type": "stream",
          "name": "stderr",
          "text": [
            "\n"
          ]
        },
        {
          "output_type": "stream",
          "name": "stdout",
          "text": [
            "\n",
            "      Epoch    GPU_mem   box_loss   seg_loss   cls_loss   dfl_loss  Instances       Size\n"
          ]
        },
        {
          "output_type": "stream",
          "name": "stderr",
          "text": [
            "      2/110      3.45G     0.5908     0.6327      1.191      1.088         38        800: 100%|██████████| 78/78 [00:34<00:00,  2.28it/s]\n",
            "                 Class     Images  Instances      Box(P          R      mAP50  mAP50-95)     Mask(P          R      mAP50  mAP50-95): 100%|██████████| 9/9 [00:02<00:00,  3.27it/s]"
          ]
        },
        {
          "output_type": "stream",
          "name": "stdout",
          "text": [
            "                   all        200        254      0.895      0.843      0.911      0.818      0.895      0.843       0.91      0.882\n"
          ]
        },
        {
          "output_type": "stream",
          "name": "stderr",
          "text": [
            "\n"
          ]
        },
        {
          "output_type": "stream",
          "name": "stdout",
          "text": [
            "\n",
            "      Epoch    GPU_mem   box_loss   seg_loss   cls_loss   dfl_loss  Instances       Size\n"
          ]
        },
        {
          "output_type": "stream",
          "name": "stderr",
          "text": [
            "      3/110      3.47G     0.5294     0.5736     0.9207      1.046         37        800: 100%|██████████| 78/78 [00:33<00:00,  2.33it/s]\n",
            "                 Class     Images  Instances      Box(P          R      mAP50  mAP50-95)     Mask(P          R      mAP50  mAP50-95): 100%|██████████| 9/9 [00:03<00:00,  2.47it/s]"
          ]
        },
        {
          "output_type": "stream",
          "name": "stdout",
          "text": [
            "                   all        200        254      0.929      0.875      0.933      0.845      0.944       0.86      0.933      0.902\n"
          ]
        },
        {
          "output_type": "stream",
          "name": "stderr",
          "text": [
            "\n"
          ]
        },
        {
          "output_type": "stream",
          "name": "stdout",
          "text": [
            "\n",
            "      Epoch    GPU_mem   box_loss   seg_loss   cls_loss   dfl_loss  Instances       Size\n"
          ]
        },
        {
          "output_type": "stream",
          "name": "stderr",
          "text": [
            "      4/110      3.49G     0.4905     0.5096     0.8424      1.018         19        800: 100%|██████████| 78/78 [00:34<00:00,  2.27it/s]\n",
            "                 Class     Images  Instances      Box(P          R      mAP50  mAP50-95)     Mask(P          R      mAP50  mAP50-95): 100%|██████████| 9/9 [00:02<00:00,  3.07it/s]"
          ]
        },
        {
          "output_type": "stream",
          "name": "stdout",
          "text": [
            "                   all        200        254      0.958      0.873      0.936      0.835      0.955      0.871      0.933      0.897\n"
          ]
        },
        {
          "output_type": "stream",
          "name": "stderr",
          "text": [
            "\n"
          ]
        },
        {
          "output_type": "stream",
          "name": "stdout",
          "text": [
            "\n",
            "      Epoch    GPU_mem   box_loss   seg_loss   cls_loss   dfl_loss  Instances       Size\n"
          ]
        },
        {
          "output_type": "stream",
          "name": "stderr",
          "text": [
            "      5/110      3.51G     0.4869     0.4856     0.7758       1.01         49        800: 100%|██████████| 78/78 [00:35<00:00,  2.20it/s]\n",
            "                 Class     Images  Instances      Box(P          R      mAP50  mAP50-95)     Mask(P          R      mAP50  mAP50-95): 100%|██████████| 9/9 [00:02<00:00,  3.22it/s]"
          ]
        },
        {
          "output_type": "stream",
          "name": "stdout",
          "text": [
            "                   all        200        254      0.966      0.909      0.949      0.864      0.968      0.904      0.944      0.914\n"
          ]
        },
        {
          "output_type": "stream",
          "name": "stderr",
          "text": [
            "\n"
          ]
        },
        {
          "output_type": "stream",
          "name": "stdout",
          "text": [
            "\n",
            "      Epoch    GPU_mem   box_loss   seg_loss   cls_loss   dfl_loss  Instances       Size\n"
          ]
        },
        {
          "output_type": "stream",
          "name": "stderr",
          "text": [
            "      6/110      3.53G     0.4764     0.4494     0.7204     0.9974         29        800: 100%|██████████| 78/78 [00:33<00:00,  2.34it/s]\n",
            "                 Class     Images  Instances      Box(P          R      mAP50  mAP50-95)     Mask(P          R      mAP50  mAP50-95): 100%|██████████| 9/9 [00:04<00:00,  2.18it/s]\n"
          ]
        },
        {
          "output_type": "stream",
          "name": "stdout",
          "text": [
            "                   all        200        254      0.963      0.886      0.938      0.844      0.961      0.884      0.933      0.906\n",
            "\n",
            "      Epoch    GPU_mem   box_loss   seg_loss   cls_loss   dfl_loss  Instances       Size\n"
          ]
        },
        {
          "output_type": "stream",
          "name": "stderr",
          "text": [
            "      7/110      3.55G      0.458     0.4415     0.6938     0.9859         32        800: 100%|██████████| 78/78 [00:33<00:00,  2.33it/s]\n",
            "                 Class     Images  Instances      Box(P          R      mAP50  mAP50-95)     Mask(P          R      mAP50  mAP50-95): 100%|██████████| 9/9 [00:02<00:00,  3.18it/s]"
          ]
        },
        {
          "output_type": "stream",
          "name": "stdout",
          "text": [
            "                   all        200        254      0.972      0.898      0.949      0.868      0.969      0.896      0.943      0.912\n"
          ]
        },
        {
          "output_type": "stream",
          "name": "stderr",
          "text": [
            "\n"
          ]
        },
        {
          "output_type": "stream",
          "name": "stdout",
          "text": [
            "\n",
            "      Epoch    GPU_mem   box_loss   seg_loss   cls_loss   dfl_loss  Instances       Size\n"
          ]
        },
        {
          "output_type": "stream",
          "name": "stderr",
          "text": [
            "      8/110      3.56G     0.4269     0.3921     0.6542     0.9678         30        800: 100%|██████████| 78/78 [00:34<00:00,  2.23it/s]\n",
            "                 Class     Images  Instances      Box(P          R      mAP50  mAP50-95)     Mask(P          R      mAP50  mAP50-95): 100%|██████████| 9/9 [00:02<00:00,  3.14it/s]"
          ]
        },
        {
          "output_type": "stream",
          "name": "stdout",
          "text": [
            "                   all        200        254      0.971      0.886      0.944      0.883      0.971      0.886      0.939      0.916\n"
          ]
        },
        {
          "output_type": "stream",
          "name": "stderr",
          "text": [
            "\n"
          ]
        },
        {
          "output_type": "stream",
          "name": "stdout",
          "text": [
            "\n",
            "      Epoch    GPU_mem   box_loss   seg_loss   cls_loss   dfl_loss  Instances       Size\n"
          ]
        },
        {
          "output_type": "stream",
          "name": "stderr",
          "text": [
            "      9/110      3.58G     0.4319     0.4899     0.6595     0.9691         35        800: 100%|██████████| 78/78 [00:33<00:00,  2.32it/s]\n",
            "                 Class     Images  Instances      Box(P          R      mAP50  mAP50-95)     Mask(P          R      mAP50  mAP50-95): 100%|██████████| 9/9 [00:02<00:00,  3.10it/s]"
          ]
        },
        {
          "output_type": "stream",
          "name": "stdout",
          "text": [
            "                   all        200        254      0.966      0.911      0.946       0.88      0.975      0.903      0.939      0.916\n"
          ]
        },
        {
          "output_type": "stream",
          "name": "stderr",
          "text": [
            "\n"
          ]
        },
        {
          "output_type": "stream",
          "name": "stdout",
          "text": [
            "\n",
            "      Epoch    GPU_mem   box_loss   seg_loss   cls_loss   dfl_loss  Instances       Size\n"
          ]
        },
        {
          "output_type": "stream",
          "name": "stderr",
          "text": [
            "     10/110       3.6G     0.4145     0.4273     0.6153     0.9669         32        800: 100%|██████████| 78/78 [00:33<00:00,  2.30it/s]\n",
            "                 Class     Images  Instances      Box(P          R      mAP50  mAP50-95)     Mask(P          R      mAP50  mAP50-95): 100%|██████████| 9/9 [00:02<00:00,  3.26it/s]"
          ]
        },
        {
          "output_type": "stream",
          "name": "stdout",
          "text": [
            "                   all        200        254      0.958      0.901      0.951      0.887      0.958      0.901      0.945      0.919\n"
          ]
        },
        {
          "output_type": "stream",
          "name": "stderr",
          "text": [
            "\n"
          ]
        },
        {
          "output_type": "stream",
          "name": "stdout",
          "text": [
            "\n",
            "      Epoch    GPU_mem   box_loss   seg_loss   cls_loss   dfl_loss  Instances       Size\n"
          ]
        },
        {
          "output_type": "stream",
          "name": "stderr",
          "text": [
            "     11/110      3.62G     0.4055     0.3736     0.5882     0.9545         26        800: 100%|██████████| 78/78 [00:33<00:00,  2.34it/s]\n",
            "                 Class     Images  Instances      Box(P          R      mAP50  mAP50-95)     Mask(P          R      mAP50  mAP50-95): 100%|██████████| 9/9 [00:03<00:00,  2.29it/s]"
          ]
        },
        {
          "output_type": "stream",
          "name": "stdout",
          "text": [
            "                   all        200        254      0.966      0.906      0.952      0.898      0.966      0.906      0.953      0.929\n"
          ]
        },
        {
          "output_type": "stream",
          "name": "stderr",
          "text": [
            "\n"
          ]
        },
        {
          "output_type": "stream",
          "name": "stdout",
          "text": [
            "\n",
            "      Epoch    GPU_mem   box_loss   seg_loss   cls_loss   dfl_loss  Instances       Size\n"
          ]
        },
        {
          "output_type": "stream",
          "name": "stderr",
          "text": [
            "     12/110      3.64G     0.3925     0.3663     0.5584     0.9499         19        800: 100%|██████████| 78/78 [00:33<00:00,  2.34it/s]\n",
            "                 Class     Images  Instances      Box(P          R      mAP50  mAP50-95)     Mask(P          R      mAP50  mAP50-95): 100%|██████████| 9/9 [00:02<00:00,  3.30it/s]"
          ]
        },
        {
          "output_type": "stream",
          "name": "stdout",
          "text": [
            "                   all        200        254      0.986      0.911      0.957      0.887      0.986      0.911      0.953      0.931\n"
          ]
        },
        {
          "output_type": "stream",
          "name": "stderr",
          "text": [
            "\n"
          ]
        },
        {
          "output_type": "stream",
          "name": "stdout",
          "text": [
            "\n",
            "      Epoch    GPU_mem   box_loss   seg_loss   cls_loss   dfl_loss  Instances       Size\n"
          ]
        },
        {
          "output_type": "stream",
          "name": "stderr",
          "text": [
            "     13/110      3.66G     0.3899     0.3709     0.5462     0.9429         26        800: 100%|██████████| 78/78 [00:34<00:00,  2.28it/s]\n",
            "                 Class     Images  Instances      Box(P          R      mAP50  mAP50-95)     Mask(P          R      mAP50  mAP50-95): 100%|██████████| 9/9 [00:02<00:00,  3.04it/s]"
          ]
        },
        {
          "output_type": "stream",
          "name": "stdout",
          "text": [
            "                   all        200        254      0.968      0.899      0.955      0.904      0.968      0.899       0.95       0.93\n"
          ]
        },
        {
          "output_type": "stream",
          "name": "stderr",
          "text": [
            "\n"
          ]
        },
        {
          "output_type": "stream",
          "name": "stdout",
          "text": [
            "\n",
            "      Epoch    GPU_mem   box_loss   seg_loss   cls_loss   dfl_loss  Instances       Size\n"
          ]
        },
        {
          "output_type": "stream",
          "name": "stderr",
          "text": [
            "     14/110      3.68G     0.3885     0.3615     0.5463     0.9482         24        800: 100%|██████████| 78/78 [00:33<00:00,  2.36it/s]\n",
            "                 Class     Images  Instances      Box(P          R      mAP50  mAP50-95)     Mask(P          R      mAP50  mAP50-95): 100%|██████████| 9/9 [00:02<00:00,  3.60it/s]"
          ]
        },
        {
          "output_type": "stream",
          "name": "stdout",
          "text": [
            "                   all        200        254      0.967      0.905      0.953      0.901      0.964      0.903      0.952       0.93\n"
          ]
        },
        {
          "output_type": "stream",
          "name": "stderr",
          "text": [
            "\n"
          ]
        },
        {
          "output_type": "stream",
          "name": "stdout",
          "text": [
            "\n",
            "      Epoch    GPU_mem   box_loss   seg_loss   cls_loss   dfl_loss  Instances       Size\n"
          ]
        },
        {
          "output_type": "stream",
          "name": "stderr",
          "text": [
            "     15/110      3.69G     0.3837     0.3708      0.535     0.9388         50        800: 100%|██████████| 78/78 [00:34<00:00,  2.27it/s]\n",
            "                 Class     Images  Instances      Box(P          R      mAP50  mAP50-95)     Mask(P          R      mAP50  mAP50-95): 100%|██████████| 9/9 [00:02<00:00,  3.22it/s]"
          ]
        },
        {
          "output_type": "stream",
          "name": "stdout",
          "text": [
            "                   all        200        254      0.974      0.895      0.949      0.884      0.962      0.901      0.944      0.921\n"
          ]
        },
        {
          "output_type": "stream",
          "name": "stderr",
          "text": [
            "\n"
          ]
        },
        {
          "output_type": "stream",
          "name": "stdout",
          "text": [
            "\n",
            "      Epoch    GPU_mem   box_loss   seg_loss   cls_loss   dfl_loss  Instances       Size\n"
          ]
        },
        {
          "output_type": "stream",
          "name": "stderr",
          "text": [
            "     16/110      3.71G     0.3754     0.3977     0.5193     0.9428         30        800: 100%|██████████| 78/78 [00:32<00:00,  2.40it/s]\n",
            "                 Class     Images  Instances      Box(P          R      mAP50  mAP50-95)     Mask(P          R      mAP50  mAP50-95): 100%|██████████| 9/9 [00:02<00:00,  3.09it/s]"
          ]
        },
        {
          "output_type": "stream",
          "name": "stdout",
          "text": [
            "                   all        200        254      0.981      0.904      0.951      0.906      0.981      0.904      0.948      0.928\n"
          ]
        },
        {
          "output_type": "stream",
          "name": "stderr",
          "text": [
            "\n"
          ]
        },
        {
          "output_type": "stream",
          "name": "stdout",
          "text": [
            "\n",
            "      Epoch    GPU_mem   box_loss   seg_loss   cls_loss   dfl_loss  Instances       Size\n"
          ]
        },
        {
          "output_type": "stream",
          "name": "stderr",
          "text": [
            "     17/110      3.73G     0.3783     0.3477     0.5318     0.9445         36        800: 100%|██████████| 78/78 [00:33<00:00,  2.31it/s]\n",
            "                 Class     Images  Instances      Box(P          R      mAP50  mAP50-95)     Mask(P          R      mAP50  mAP50-95): 100%|██████████| 9/9 [00:02<00:00,  3.28it/s]"
          ]
        },
        {
          "output_type": "stream",
          "name": "stdout",
          "text": [
            "                   all        200        254      0.958      0.927      0.961      0.915      0.969      0.908      0.955      0.932\n"
          ]
        },
        {
          "output_type": "stream",
          "name": "stderr",
          "text": [
            "\n"
          ]
        },
        {
          "output_type": "stream",
          "name": "stdout",
          "text": [
            "\n",
            "      Epoch    GPU_mem   box_loss   seg_loss   cls_loss   dfl_loss  Instances       Size\n"
          ]
        },
        {
          "output_type": "stream",
          "name": "stderr",
          "text": [
            "     18/110      3.75G     0.3743     0.3344      0.507     0.9356         33        800: 100%|██████████| 78/78 [00:32<00:00,  2.38it/s]\n",
            "                 Class     Images  Instances      Box(P          R      mAP50  mAP50-95)     Mask(P          R      mAP50  mAP50-95): 100%|██████████| 9/9 [00:04<00:00,  2.20it/s]"
          ]
        },
        {
          "output_type": "stream",
          "name": "stdout",
          "text": [
            "                   all        200        254      0.959      0.906      0.943       0.89      0.954      0.902      0.936      0.913\n"
          ]
        },
        {
          "output_type": "stream",
          "name": "stderr",
          "text": [
            "\n"
          ]
        },
        {
          "output_type": "stream",
          "name": "stdout",
          "text": [
            "\n",
            "      Epoch    GPU_mem   box_loss   seg_loss   cls_loss   dfl_loss  Instances       Size\n"
          ]
        },
        {
          "output_type": "stream",
          "name": "stderr",
          "text": [
            "     19/110      3.77G     0.3617     0.3357     0.5047     0.9313         29        800: 100%|██████████| 78/78 [00:32<00:00,  2.43it/s]\n",
            "                 Class     Images  Instances      Box(P          R      mAP50  mAP50-95)     Mask(P          R      mAP50  mAP50-95): 100%|██████████| 9/9 [00:02<00:00,  3.47it/s]"
          ]
        },
        {
          "output_type": "stream",
          "name": "stdout",
          "text": [
            "                   all        200        254      0.963      0.909      0.958      0.922      0.966       0.91       0.95       0.93\n"
          ]
        },
        {
          "output_type": "stream",
          "name": "stderr",
          "text": [
            "\n"
          ]
        },
        {
          "output_type": "stream",
          "name": "stdout",
          "text": [
            "\n",
            "      Epoch    GPU_mem   box_loss   seg_loss   cls_loss   dfl_loss  Instances       Size\n"
          ]
        },
        {
          "output_type": "stream",
          "name": "stderr",
          "text": [
            "     20/110      3.79G     0.3489     0.3303     0.5087     0.9261         33        800: 100%|██████████| 78/78 [00:33<00:00,  2.32it/s]\n",
            "                 Class     Images  Instances      Box(P          R      mAP50  mAP50-95)     Mask(P          R      mAP50  mAP50-95): 100%|██████████| 9/9 [00:03<00:00,  2.62it/s]"
          ]
        },
        {
          "output_type": "stream",
          "name": "stdout",
          "text": [
            "                   all        200        254      0.974      0.922      0.959      0.906      0.981      0.909      0.954      0.931\n"
          ]
        },
        {
          "output_type": "stream",
          "name": "stderr",
          "text": [
            "\n"
          ]
        },
        {
          "output_type": "stream",
          "name": "stdout",
          "text": [
            "\n",
            "      Epoch    GPU_mem   box_loss   seg_loss   cls_loss   dfl_loss  Instances       Size\n"
          ]
        },
        {
          "output_type": "stream",
          "name": "stderr",
          "text": [
            "     21/110       3.8G     0.3415     0.3152     0.4601     0.9225         36        800: 100%|██████████| 78/78 [00:32<00:00,  2.43it/s]\n",
            "                 Class     Images  Instances      Box(P          R      mAP50  mAP50-95)     Mask(P          R      mAP50  mAP50-95): 100%|██████████| 9/9 [00:02<00:00,  3.62it/s]"
          ]
        },
        {
          "output_type": "stream",
          "name": "stdout",
          "text": [
            "                   all        200        254       0.99      0.917      0.963      0.925       0.99      0.917      0.952      0.932\n"
          ]
        },
        {
          "output_type": "stream",
          "name": "stderr",
          "text": [
            "\n"
          ]
        },
        {
          "output_type": "stream",
          "name": "stdout",
          "text": [
            "\n",
            "      Epoch    GPU_mem   box_loss   seg_loss   cls_loss   dfl_loss  Instances       Size\n"
          ]
        },
        {
          "output_type": "stream",
          "name": "stderr",
          "text": [
            "     22/110      3.82G      0.359     0.3343     0.4746     0.9207         32        800: 100%|██████████| 78/78 [00:34<00:00,  2.26it/s]\n",
            "                 Class     Images  Instances      Box(P          R      mAP50  mAP50-95)     Mask(P          R      mAP50  mAP50-95): 100%|██████████| 9/9 [00:02<00:00,  3.05it/s]"
          ]
        },
        {
          "output_type": "stream",
          "name": "stdout",
          "text": [
            "                   all        200        254      0.965      0.924      0.961      0.925      0.981      0.912      0.954      0.932\n"
          ]
        },
        {
          "output_type": "stream",
          "name": "stderr",
          "text": [
            "\n"
          ]
        },
        {
          "output_type": "stream",
          "name": "stdout",
          "text": [
            "\n",
            "      Epoch    GPU_mem   box_loss   seg_loss   cls_loss   dfl_loss  Instances       Size\n"
          ]
        },
        {
          "output_type": "stream",
          "name": "stderr",
          "text": [
            "     23/110      3.84G     0.3551     0.3357     0.4785     0.9214         33        800: 100%|██████████| 78/78 [00:33<00:00,  2.34it/s]\n",
            "                 Class     Images  Instances      Box(P          R      mAP50  mAP50-95)     Mask(P          R      mAP50  mAP50-95): 100%|██████████| 9/9 [00:02<00:00,  3.26it/s]"
          ]
        },
        {
          "output_type": "stream",
          "name": "stdout",
          "text": [
            "                   all        200        254      0.977      0.905      0.958       0.91       0.98      0.902      0.951      0.926\n"
          ]
        },
        {
          "output_type": "stream",
          "name": "stderr",
          "text": [
            "\n"
          ]
        },
        {
          "output_type": "stream",
          "name": "stdout",
          "text": [
            "\n",
            "      Epoch    GPU_mem   box_loss   seg_loss   cls_loss   dfl_loss  Instances       Size\n"
          ]
        },
        {
          "output_type": "stream",
          "name": "stderr",
          "text": [
            "     24/110      3.86G     0.3427     0.3018     0.4566     0.9152         31        800: 100%|██████████| 78/78 [00:34<00:00,  2.28it/s]\n",
            "                 Class     Images  Instances      Box(P          R      mAP50  mAP50-95)     Mask(P          R      mAP50  mAP50-95): 100%|██████████| 9/9 [00:02<00:00,  3.56it/s]"
          ]
        },
        {
          "output_type": "stream",
          "name": "stdout",
          "text": [
            "                   all        200        254      0.977      0.913       0.96      0.913      0.982      0.904      0.953      0.934\n"
          ]
        },
        {
          "output_type": "stream",
          "name": "stderr",
          "text": [
            "\n"
          ]
        },
        {
          "output_type": "stream",
          "name": "stdout",
          "text": [
            "\n",
            "      Epoch    GPU_mem   box_loss   seg_loss   cls_loss   dfl_loss  Instances       Size\n"
          ]
        },
        {
          "output_type": "stream",
          "name": "stderr",
          "text": [
            "     25/110      3.88G     0.3317     0.3277     0.4465     0.9114         38        800: 100%|██████████| 78/78 [00:33<00:00,  2.36it/s]\n",
            "                 Class     Images  Instances      Box(P          R      mAP50  mAP50-95)     Mask(P          R      mAP50  mAP50-95): 100%|██████████| 9/9 [00:03<00:00,  2.31it/s]"
          ]
        },
        {
          "output_type": "stream",
          "name": "stdout",
          "text": [
            "                   all        200        254      0.985      0.918      0.962      0.924      0.989      0.912      0.955      0.935\n"
          ]
        },
        {
          "output_type": "stream",
          "name": "stderr",
          "text": [
            "\n"
          ]
        },
        {
          "output_type": "stream",
          "name": "stdout",
          "text": [
            "\n",
            "      Epoch    GPU_mem   box_loss   seg_loss   cls_loss   dfl_loss  Instances       Size\n"
          ]
        },
        {
          "output_type": "stream",
          "name": "stderr",
          "text": [
            "     26/110       3.9G     0.3346     0.3273     0.4495     0.9113         24        800: 100%|██████████| 78/78 [00:33<00:00,  2.36it/s]\n",
            "                 Class     Images  Instances      Box(P          R      mAP50  mAP50-95)     Mask(P          R      mAP50  mAP50-95): 100%|██████████| 9/9 [00:02<00:00,  3.28it/s]"
          ]
        },
        {
          "output_type": "stream",
          "name": "stdout",
          "text": [
            "                   all        200        254      0.971      0.898      0.963      0.925      0.973      0.895      0.955      0.935\n"
          ]
        },
        {
          "output_type": "stream",
          "name": "stderr",
          "text": [
            "\n"
          ]
        },
        {
          "output_type": "stream",
          "name": "stdout",
          "text": [
            "\n",
            "      Epoch    GPU_mem   box_loss   seg_loss   cls_loss   dfl_loss  Instances       Size\n"
          ]
        },
        {
          "output_type": "stream",
          "name": "stderr",
          "text": [
            "     27/110      3.92G     0.3401     0.3236      0.453     0.9107         44        800: 100%|██████████| 78/78 [00:34<00:00,  2.24it/s]\n",
            "                 Class     Images  Instances      Box(P          R      mAP50  mAP50-95)     Mask(P          R      mAP50  mAP50-95): 100%|██████████| 9/9 [00:02<00:00,  3.38it/s]"
          ]
        },
        {
          "output_type": "stream",
          "name": "stdout",
          "text": [
            "                   all        200        254      0.975      0.917      0.965      0.923      0.973      0.904      0.953      0.924\n"
          ]
        },
        {
          "output_type": "stream",
          "name": "stderr",
          "text": [
            "\n"
          ]
        },
        {
          "output_type": "stream",
          "name": "stdout",
          "text": [
            "\n",
            "      Epoch    GPU_mem   box_loss   seg_loss   cls_loss   dfl_loss  Instances       Size\n"
          ]
        },
        {
          "output_type": "stream",
          "name": "stderr",
          "text": [
            "     28/110      3.94G     0.3307     0.3213     0.4318     0.9183         34        800: 100%|██████████| 78/78 [00:32<00:00,  2.38it/s]\n",
            "                 Class     Images  Instances      Box(P          R      mAP50  mAP50-95)     Mask(P          R      mAP50  mAP50-95): 100%|██████████| 9/9 [00:02<00:00,  3.36it/s]"
          ]
        },
        {
          "output_type": "stream",
          "name": "stdout",
          "text": [
            "                   all        200        254      0.969      0.927      0.966       0.93      0.971      0.917       0.96      0.937\n"
          ]
        },
        {
          "output_type": "stream",
          "name": "stderr",
          "text": [
            "\n"
          ]
        },
        {
          "output_type": "stream",
          "name": "stdout",
          "text": [
            "\n",
            "      Epoch    GPU_mem   box_loss   seg_loss   cls_loss   dfl_loss  Instances       Size\n"
          ]
        },
        {
          "output_type": "stream",
          "name": "stderr",
          "text": [
            "     29/110      3.95G     0.3309     0.3255     0.4475     0.9036         23        800: 100%|██████████| 78/78 [00:34<00:00,  2.29it/s]\n",
            "                 Class     Images  Instances      Box(P          R      mAP50  mAP50-95)     Mask(P          R      mAP50  mAP50-95): 100%|██████████| 9/9 [00:02<00:00,  3.28it/s]"
          ]
        },
        {
          "output_type": "stream",
          "name": "stdout",
          "text": [
            "                   all        200        254      0.977      0.932      0.966      0.928      0.969      0.925       0.96      0.937\n"
          ]
        },
        {
          "output_type": "stream",
          "name": "stderr",
          "text": [
            "\n"
          ]
        },
        {
          "output_type": "stream",
          "name": "stdout",
          "text": [
            "\n",
            "      Epoch    GPU_mem   box_loss   seg_loss   cls_loss   dfl_loss  Instances       Size\n"
          ]
        },
        {
          "output_type": "stream",
          "name": "stderr",
          "text": [
            "     30/110      3.97G     0.3079     0.3138     0.4246     0.9046         22        800: 100%|██████████| 78/78 [00:32<00:00,  2.38it/s]\n",
            "                 Class     Images  Instances      Box(P          R      mAP50  mAP50-95)     Mask(P          R      mAP50  mAP50-95): 100%|██████████| 9/9 [00:03<00:00,  2.47it/s]"
          ]
        },
        {
          "output_type": "stream",
          "name": "stdout",
          "text": [
            "                   all        200        254      0.968      0.924      0.963      0.926      0.974      0.914      0.956      0.932\n"
          ]
        },
        {
          "output_type": "stream",
          "name": "stderr",
          "text": [
            "\n"
          ]
        },
        {
          "output_type": "stream",
          "name": "stdout",
          "text": [
            "\n",
            "      Epoch    GPU_mem   box_loss   seg_loss   cls_loss   dfl_loss  Instances       Size\n"
          ]
        },
        {
          "output_type": "stream",
          "name": "stderr",
          "text": [
            "     31/110      3.99G     0.3126     0.2973     0.4143     0.9039         37        800: 100%|██████████| 78/78 [00:33<00:00,  2.36it/s]\n",
            "                 Class     Images  Instances      Box(P          R      mAP50  mAP50-95)     Mask(P          R      mAP50  mAP50-95): 100%|██████████| 9/9 [00:02<00:00,  3.45it/s]"
          ]
        },
        {
          "output_type": "stream",
          "name": "stdout",
          "text": [
            "                   all        200        254      0.968      0.923      0.961      0.928      0.973      0.909      0.955      0.932\n"
          ]
        },
        {
          "output_type": "stream",
          "name": "stderr",
          "text": [
            "\n"
          ]
        },
        {
          "output_type": "stream",
          "name": "stdout",
          "text": [
            "\n",
            "      Epoch    GPU_mem   box_loss   seg_loss   cls_loss   dfl_loss  Instances       Size\n"
          ]
        },
        {
          "output_type": "stream",
          "name": "stderr",
          "text": [
            "     32/110      4.01G     0.3115      0.323     0.4155     0.9063         34        800: 100%|██████████| 78/78 [00:34<00:00,  2.25it/s]\n",
            "                 Class     Images  Instances      Box(P          R      mAP50  mAP50-95)     Mask(P          R      mAP50  mAP50-95): 100%|██████████| 9/9 [00:02<00:00,  3.16it/s]"
          ]
        },
        {
          "output_type": "stream",
          "name": "stdout",
          "text": [
            "                   all        200        254      0.985      0.919      0.966      0.935      0.989      0.911       0.96      0.938\n"
          ]
        },
        {
          "output_type": "stream",
          "name": "stderr",
          "text": [
            "\n"
          ]
        },
        {
          "output_type": "stream",
          "name": "stdout",
          "text": [
            "\n",
            "      Epoch    GPU_mem   box_loss   seg_loss   cls_loss   dfl_loss  Instances       Size\n"
          ]
        },
        {
          "output_type": "stream",
          "name": "stderr",
          "text": [
            "     33/110      4.03G      0.313      0.272     0.4113     0.9067         39        800: 100%|██████████| 78/78 [00:32<00:00,  2.39it/s]\n",
            "                 Class     Images  Instances      Box(P          R      mAP50  mAP50-95)     Mask(P          R      mAP50  mAP50-95): 100%|██████████| 9/9 [00:02<00:00,  3.57it/s]"
          ]
        },
        {
          "output_type": "stream",
          "name": "stdout",
          "text": [
            "                   all        200        254      0.979       0.91      0.962      0.926      0.974      0.906      0.953      0.933\n"
          ]
        },
        {
          "output_type": "stream",
          "name": "stderr",
          "text": [
            "\n"
          ]
        },
        {
          "output_type": "stream",
          "name": "stdout",
          "text": [
            "\n",
            "      Epoch    GPU_mem   box_loss   seg_loss   cls_loss   dfl_loss  Instances       Size\n"
          ]
        },
        {
          "output_type": "stream",
          "name": "stderr",
          "text": [
            "     34/110      4.05G      0.319     0.3321     0.4035     0.9162         32        800: 100%|██████████| 78/78 [00:34<00:00,  2.28it/s]\n",
            "                 Class     Images  Instances      Box(P          R      mAP50  mAP50-95)     Mask(P          R      mAP50  mAP50-95): 100%|██████████| 9/9 [00:02<00:00,  3.50it/s]"
          ]
        },
        {
          "output_type": "stream",
          "name": "stdout",
          "text": [
            "                   all        200        254      0.967      0.914      0.958      0.925      0.964      0.908      0.953      0.926\n"
          ]
        },
        {
          "output_type": "stream",
          "name": "stderr",
          "text": [
            "\n"
          ]
        },
        {
          "output_type": "stream",
          "name": "stdout",
          "text": [
            "\n",
            "      Epoch    GPU_mem   box_loss   seg_loss   cls_loss   dfl_loss  Instances       Size\n"
          ]
        },
        {
          "output_type": "stream",
          "name": "stderr",
          "text": [
            "     35/110      4.06G     0.3262     0.3037     0.4118     0.9099         36        800: 100%|██████████| 78/78 [00:32<00:00,  2.41it/s]\n",
            "                 Class     Images  Instances      Box(P          R      mAP50  mAP50-95)     Mask(P          R      mAP50  mAP50-95): 100%|██████████| 9/9 [00:03<00:00,  2.92it/s]"
          ]
        },
        {
          "output_type": "stream",
          "name": "stdout",
          "text": [
            "                   all        200        254      0.973      0.931      0.963      0.934      0.983      0.912      0.954      0.934\n"
          ]
        },
        {
          "output_type": "stream",
          "name": "stderr",
          "text": [
            "\n"
          ]
        },
        {
          "output_type": "stream",
          "name": "stdout",
          "text": [
            "\n",
            "      Epoch    GPU_mem   box_loss   seg_loss   cls_loss   dfl_loss  Instances       Size\n"
          ]
        },
        {
          "output_type": "stream",
          "name": "stderr",
          "text": [
            "     36/110      4.08G      0.316     0.3095      0.403     0.9052         28        800: 100%|██████████| 78/78 [00:33<00:00,  2.34it/s]\n",
            "                 Class     Images  Instances      Box(P          R      mAP50  mAP50-95)     Mask(P          R      mAP50  mAP50-95): 100%|██████████| 9/9 [00:02<00:00,  3.43it/s]"
          ]
        },
        {
          "output_type": "stream",
          "name": "stdout",
          "text": [
            "                   all        200        254      0.983      0.916      0.963      0.933      0.986      0.906      0.956      0.934\n"
          ]
        },
        {
          "output_type": "stream",
          "name": "stderr",
          "text": [
            "\n"
          ]
        },
        {
          "output_type": "stream",
          "name": "stdout",
          "text": [
            "\n",
            "      Epoch    GPU_mem   box_loss   seg_loss   cls_loss   dfl_loss  Instances       Size\n"
          ]
        },
        {
          "output_type": "stream",
          "name": "stderr",
          "text": [
            "     37/110       4.1G     0.3072     0.2942     0.3869     0.9002         38        800: 100%|██████████| 78/78 [00:32<00:00,  2.37it/s]\n",
            "                 Class     Images  Instances      Box(P          R      mAP50  mAP50-95)     Mask(P          R      mAP50  mAP50-95): 100%|██████████| 9/9 [00:03<00:00,  2.32it/s]"
          ]
        },
        {
          "output_type": "stream",
          "name": "stdout",
          "text": [
            "                   all        200        254      0.984      0.912      0.966      0.935      0.981       0.91      0.956      0.937\n"
          ]
        },
        {
          "output_type": "stream",
          "name": "stderr",
          "text": [
            "\n"
          ]
        },
        {
          "output_type": "stream",
          "name": "stdout",
          "text": [
            "\n",
            "      Epoch    GPU_mem   box_loss   seg_loss   cls_loss   dfl_loss  Instances       Size\n"
          ]
        },
        {
          "output_type": "stream",
          "name": "stderr",
          "text": [
            "     38/110      4.12G     0.3006     0.2979     0.3658     0.8977         28        800: 100%|██████████| 78/78 [00:32<00:00,  2.39it/s]\n",
            "                 Class     Images  Instances      Box(P          R      mAP50  mAP50-95)     Mask(P          R      mAP50  mAP50-95): 100%|██████████| 9/9 [00:02<00:00,  3.64it/s]"
          ]
        },
        {
          "output_type": "stream",
          "name": "stdout",
          "text": [
            "                   all        200        254      0.983      0.927      0.964      0.932      0.977      0.921      0.956      0.931\n"
          ]
        },
        {
          "output_type": "stream",
          "name": "stderr",
          "text": [
            "\n"
          ]
        },
        {
          "output_type": "stream",
          "name": "stdout",
          "text": [
            "\n",
            "      Epoch    GPU_mem   box_loss   seg_loss   cls_loss   dfl_loss  Instances       Size\n"
          ]
        },
        {
          "output_type": "stream",
          "name": "stderr",
          "text": [
            "     39/110      4.14G     0.3109     0.3208     0.3831     0.8991         28        800: 100%|██████████| 78/78 [00:33<00:00,  2.33it/s]\n",
            "                 Class     Images  Instances      Box(P          R      mAP50  mAP50-95)     Mask(P          R      mAP50  mAP50-95): 100%|██████████| 9/9 [00:03<00:00,  2.69it/s]"
          ]
        },
        {
          "output_type": "stream",
          "name": "stdout",
          "text": [
            "                   all        200        254       0.99      0.923      0.967      0.936      0.985      0.917      0.959      0.938\n"
          ]
        },
        {
          "output_type": "stream",
          "name": "stderr",
          "text": [
            "\n"
          ]
        },
        {
          "output_type": "stream",
          "name": "stdout",
          "text": [
            "\n",
            "      Epoch    GPU_mem   box_loss   seg_loss   cls_loss   dfl_loss  Instances       Size\n"
          ]
        },
        {
          "output_type": "stream",
          "name": "stderr",
          "text": [
            "     40/110      4.16G     0.3012     0.2786     0.3809     0.9033         30        800: 100%|██████████| 78/78 [00:32<00:00,  2.38it/s]\n",
            "                 Class     Images  Instances      Box(P          R      mAP50  mAP50-95)     Mask(P          R      mAP50  mAP50-95): 100%|██████████| 9/9 [00:02<00:00,  3.22it/s]"
          ]
        },
        {
          "output_type": "stream",
          "name": "stdout",
          "text": [
            "                   all        200        254      0.979      0.917      0.966      0.937      0.979      0.912      0.956      0.934\n"
          ]
        },
        {
          "output_type": "stream",
          "name": "stderr",
          "text": [
            "\n"
          ]
        },
        {
          "output_type": "stream",
          "name": "stdout",
          "text": [
            "\n",
            "      Epoch    GPU_mem   box_loss   seg_loss   cls_loss   dfl_loss  Instances       Size\n"
          ]
        },
        {
          "output_type": "stream",
          "name": "stderr",
          "text": [
            "     41/110      4.18G     0.2935     0.3112     0.3614      0.895         24        800: 100%|██████████| 78/78 [00:34<00:00,  2.29it/s]\n",
            "                 Class     Images  Instances      Box(P          R      mAP50  mAP50-95)     Mask(P          R      mAP50  mAP50-95): 100%|██████████| 9/9 [00:02<00:00,  3.06it/s]"
          ]
        },
        {
          "output_type": "stream",
          "name": "stdout",
          "text": [
            "                   all        200        254      0.972      0.922      0.965      0.933      0.977       0.91      0.955      0.935\n"
          ]
        },
        {
          "output_type": "stream",
          "name": "stderr",
          "text": [
            "\n"
          ]
        },
        {
          "output_type": "stream",
          "name": "stdout",
          "text": [
            "\n",
            "      Epoch    GPU_mem   box_loss   seg_loss   cls_loss   dfl_loss  Instances       Size\n"
          ]
        },
        {
          "output_type": "stream",
          "name": "stderr",
          "text": [
            "     42/110       4.2G      0.306     0.2923     0.3718     0.9014         28        800: 100%|██████████| 78/78 [00:32<00:00,  2.38it/s]\n",
            "                 Class     Images  Instances      Box(P          R      mAP50  mAP50-95)     Mask(P          R      mAP50  mAP50-95): 100%|██████████| 9/9 [00:02<00:00,  3.10it/s]\n"
          ]
        },
        {
          "output_type": "stream",
          "name": "stdout",
          "text": [
            "                   all        200        254      0.978      0.936       0.96      0.935      0.977      0.925      0.953      0.933\n",
            "\n",
            "      Epoch    GPU_mem   box_loss   seg_loss   cls_loss   dfl_loss  Instances       Size\n"
          ]
        },
        {
          "output_type": "stream",
          "name": "stderr",
          "text": [
            "     43/110      4.21G     0.2961     0.3177     0.3831      0.905         35        800: 100%|██████████| 78/78 [00:33<00:00,  2.33it/s]\n",
            "                 Class     Images  Instances      Box(P          R      mAP50  mAP50-95)     Mask(P          R      mAP50  mAP50-95): 100%|██████████| 9/9 [00:02<00:00,  3.40it/s]"
          ]
        },
        {
          "output_type": "stream",
          "name": "stdout",
          "text": [
            "                   all        200        254      0.972      0.928      0.962      0.933      0.989      0.908      0.955      0.934\n"
          ]
        },
        {
          "output_type": "stream",
          "name": "stderr",
          "text": [
            "\n"
          ]
        },
        {
          "output_type": "stream",
          "name": "stdout",
          "text": [
            "\n",
            "      Epoch    GPU_mem   box_loss   seg_loss   cls_loss   dfl_loss  Instances       Size\n"
          ]
        },
        {
          "output_type": "stream",
          "name": "stderr",
          "text": [
            "     44/110      4.23G     0.2889     0.2792     0.3635     0.8947         22        800: 100%|██████████| 78/78 [00:32<00:00,  2.40it/s]\n",
            "                 Class     Images  Instances      Box(P          R      mAP50  mAP50-95)     Mask(P          R      mAP50  mAP50-95): 100%|██████████| 9/9 [00:03<00:00,  2.43it/s]"
          ]
        },
        {
          "output_type": "stream",
          "name": "stdout",
          "text": [
            "                   all        200        254      0.991      0.916       0.96      0.937      0.989      0.912      0.954      0.931\n"
          ]
        },
        {
          "output_type": "stream",
          "name": "stderr",
          "text": [
            "\n"
          ]
        },
        {
          "output_type": "stream",
          "name": "stdout",
          "text": [
            "\n",
            "      Epoch    GPU_mem   box_loss   seg_loss   cls_loss   dfl_loss  Instances       Size\n"
          ]
        },
        {
          "output_type": "stream",
          "name": "stderr",
          "text": [
            "     45/110      4.25G      0.284     0.2749     0.3563     0.8925         28        800: 100%|██████████| 78/78 [00:32<00:00,  2.38it/s]\n",
            "                 Class     Images  Instances      Box(P          R      mAP50  mAP50-95)     Mask(P          R      mAP50  mAP50-95): 100%|██████████| 9/9 [00:02<00:00,  3.50it/s]"
          ]
        },
        {
          "output_type": "stream",
          "name": "stdout",
          "text": [
            "                   all        200        254      0.968      0.933      0.966      0.932      0.987      0.912      0.956      0.933\n"
          ]
        },
        {
          "output_type": "stream",
          "name": "stderr",
          "text": [
            "\n"
          ]
        },
        {
          "output_type": "stream",
          "name": "stdout",
          "text": [
            "\n",
            "      Epoch    GPU_mem   box_loss   seg_loss   cls_loss   dfl_loss  Instances       Size\n"
          ]
        },
        {
          "output_type": "stream",
          "name": "stderr",
          "text": [
            "     46/110      4.27G     0.2937     0.2612      0.354     0.8873         31        800: 100%|██████████| 78/78 [00:33<00:00,  2.33it/s]\n",
            "                 Class     Images  Instances      Box(P          R      mAP50  mAP50-95)     Mask(P          R      mAP50  mAP50-95): 100%|██████████| 9/9 [00:03<00:00,  2.70it/s]"
          ]
        },
        {
          "output_type": "stream",
          "name": "stdout",
          "text": [
            "                   all        200        254      0.976       0.92      0.965       0.93      0.978      0.912      0.957      0.934\n"
          ]
        },
        {
          "output_type": "stream",
          "name": "stderr",
          "text": [
            "\n"
          ]
        },
        {
          "output_type": "stream",
          "name": "stdout",
          "text": [
            "\n",
            "      Epoch    GPU_mem   box_loss   seg_loss   cls_loss   dfl_loss  Instances       Size\n"
          ]
        },
        {
          "output_type": "stream",
          "name": "stderr",
          "text": [
            "     47/110      4.29G     0.2854     0.2795     0.3592     0.8964         35        800: 100%|██████████| 78/78 [00:32<00:00,  2.38it/s]\n",
            "                 Class     Images  Instances      Box(P          R      mAP50  mAP50-95)     Mask(P          R      mAP50  mAP50-95): 100%|██████████| 9/9 [00:02<00:00,  3.37it/s]"
          ]
        },
        {
          "output_type": "stream",
          "name": "stdout",
          "text": [
            "                   all        200        254       0.99      0.921      0.967      0.943      0.984      0.917      0.958      0.939\n"
          ]
        },
        {
          "output_type": "stream",
          "name": "stderr",
          "text": [
            "\n"
          ]
        },
        {
          "output_type": "stream",
          "name": "stdout",
          "text": [
            "\n",
            "      Epoch    GPU_mem   box_loss   seg_loss   cls_loss   dfl_loss  Instances       Size\n"
          ]
        },
        {
          "output_type": "stream",
          "name": "stderr",
          "text": [
            "     48/110       4.3G      0.287      0.281     0.3513     0.8882         38        800: 100%|██████████| 78/78 [00:36<00:00,  2.13it/s]\n",
            "                 Class     Images  Instances      Box(P          R      mAP50  mAP50-95)     Mask(P          R      mAP50  mAP50-95): 100%|██████████| 9/9 [00:02<00:00,  3.26it/s]"
          ]
        },
        {
          "output_type": "stream",
          "name": "stdout",
          "text": [
            "                   all        200        254      0.955      0.945      0.965       0.94      0.981       0.91      0.953      0.932\n"
          ]
        },
        {
          "output_type": "stream",
          "name": "stderr",
          "text": [
            "\n"
          ]
        },
        {
          "output_type": "stream",
          "name": "stdout",
          "text": [
            "\n",
            "      Epoch    GPU_mem   box_loss   seg_loss   cls_loss   dfl_loss  Instances       Size\n"
          ]
        },
        {
          "output_type": "stream",
          "name": "stderr",
          "text": [
            "     49/110      4.32G     0.2942     0.2985     0.3455     0.8931         28        800: 100%|██████████| 78/78 [00:34<00:00,  2.29it/s]\n",
            "                 Class     Images  Instances      Box(P          R      mAP50  mAP50-95)     Mask(P          R      mAP50  mAP50-95): 100%|██████████| 9/9 [00:03<00:00,  2.36it/s]"
          ]
        },
        {
          "output_type": "stream",
          "name": "stdout",
          "text": [
            "                   all        200        254       0.99      0.921      0.965      0.939      0.992      0.913      0.959       0.94\n"
          ]
        },
        {
          "output_type": "stream",
          "name": "stderr",
          "text": [
            "\n"
          ]
        },
        {
          "output_type": "stream",
          "name": "stdout",
          "text": [
            "\n",
            "      Epoch    GPU_mem   box_loss   seg_loss   cls_loss   dfl_loss  Instances       Size\n"
          ]
        },
        {
          "output_type": "stream",
          "name": "stderr",
          "text": [
            "     50/110      4.34G     0.2939     0.3033     0.3499     0.8909         38        800: 100%|██████████| 78/78 [00:33<00:00,  2.33it/s]\n",
            "                 Class     Images  Instances      Box(P          R      mAP50  mAP50-95)     Mask(P          R      mAP50  mAP50-95): 100%|██████████| 9/9 [00:02<00:00,  3.41it/s]"
          ]
        },
        {
          "output_type": "stream",
          "name": "stdout",
          "text": [
            "                   all        200        254       0.98      0.925      0.966      0.943      0.989       0.91      0.958      0.939\n"
          ]
        },
        {
          "output_type": "stream",
          "name": "stderr",
          "text": [
            "\n"
          ]
        },
        {
          "output_type": "stream",
          "name": "stdout",
          "text": [
            "\n",
            "      Epoch    GPU_mem   box_loss   seg_loss   cls_loss   dfl_loss  Instances       Size\n"
          ]
        },
        {
          "output_type": "stream",
          "name": "stderr",
          "text": [
            "     51/110      4.36G     0.2754      0.271     0.3444     0.8852         28        800: 100%|██████████| 78/78 [00:35<00:00,  2.19it/s]\n",
            "                 Class     Images  Instances      Box(P          R      mAP50  mAP50-95)     Mask(P          R      mAP50  mAP50-95): 100%|██████████| 9/9 [00:02<00:00,  3.48it/s]"
          ]
        },
        {
          "output_type": "stream",
          "name": "stdout",
          "text": [
            "                   all        200        254      0.967       0.94      0.966      0.941       0.96      0.932      0.961       0.94\n"
          ]
        },
        {
          "output_type": "stream",
          "name": "stderr",
          "text": [
            "\n"
          ]
        },
        {
          "output_type": "stream",
          "name": "stdout",
          "text": [
            "\n",
            "      Epoch    GPU_mem   box_loss   seg_loss   cls_loss   dfl_loss  Instances       Size\n"
          ]
        },
        {
          "output_type": "stream",
          "name": "stderr",
          "text": [
            "     52/110      4.38G     0.2649     0.2543     0.3296     0.8784         32        800: 100%|██████████| 78/78 [00:33<00:00,  2.34it/s]\n",
            "                 Class     Images  Instances      Box(P          R      mAP50  mAP50-95)     Mask(P          R      mAP50  mAP50-95): 100%|██████████| 9/9 [00:04<00:00,  2.18it/s]\n"
          ]
        },
        {
          "output_type": "stream",
          "name": "stdout",
          "text": [
            "                   all        200        254      0.956      0.944      0.965      0.937      0.978      0.912      0.957      0.936\n",
            "\n",
            "      Epoch    GPU_mem   box_loss   seg_loss   cls_loss   dfl_loss  Instances       Size\n"
          ]
        },
        {
          "output_type": "stream",
          "name": "stderr",
          "text": [
            "     53/110       4.4G     0.2774     0.2654     0.3358     0.8812         24        800: 100%|██████████| 78/78 [00:34<00:00,  2.29it/s]\n",
            "                 Class     Images  Instances      Box(P          R      mAP50  mAP50-95)     Mask(P          R      mAP50  mAP50-95): 100%|██████████| 9/9 [00:02<00:00,  3.23it/s]"
          ]
        },
        {
          "output_type": "stream",
          "name": "stdout",
          "text": [
            "                   all        200        254      0.966      0.942      0.967      0.941      0.958      0.929      0.959      0.934\n"
          ]
        },
        {
          "output_type": "stream",
          "name": "stderr",
          "text": [
            "\n"
          ]
        },
        {
          "output_type": "stream",
          "name": "stdout",
          "text": [
            "\n",
            "      Epoch    GPU_mem   box_loss   seg_loss   cls_loss   dfl_loss  Instances       Size\n"
          ]
        },
        {
          "output_type": "stream",
          "name": "stderr",
          "text": [
            "     54/110      4.42G     0.2746     0.2684     0.3452     0.8843         31        800: 100%|██████████| 78/78 [00:35<00:00,  2.20it/s]\n",
            "                 Class     Images  Instances      Box(P          R      mAP50  mAP50-95)     Mask(P          R      mAP50  mAP50-95): 100%|██████████| 9/9 [00:02<00:00,  3.30it/s]"
          ]
        },
        {
          "output_type": "stream",
          "name": "stdout",
          "text": [
            "                   all        200        254      0.994      0.909      0.967      0.947      0.993      0.907      0.959      0.938\n"
          ]
        },
        {
          "output_type": "stream",
          "name": "stderr",
          "text": [
            "\n"
          ]
        },
        {
          "output_type": "stream",
          "name": "stdout",
          "text": [
            "\n",
            "      Epoch    GPU_mem   box_loss   seg_loss   cls_loss   dfl_loss  Instances       Size\n"
          ]
        },
        {
          "output_type": "stream",
          "name": "stderr",
          "text": [
            "     55/110      4.44G     0.2864      0.292     0.3317     0.8858         25        800: 100%|██████████| 78/78 [00:33<00:00,  2.32it/s]\n",
            "                 Class     Images  Instances      Box(P          R      mAP50  mAP50-95)     Mask(P          R      mAP50  mAP50-95): 100%|██████████| 9/9 [00:03<00:00,  2.33it/s]"
          ]
        },
        {
          "output_type": "stream",
          "name": "stdout",
          "text": [
            "                   all        200        254       0.98       0.93      0.968      0.947      0.982      0.921      0.958      0.939\n"
          ]
        },
        {
          "output_type": "stream",
          "name": "stderr",
          "text": [
            "\n"
          ]
        },
        {
          "output_type": "stream",
          "name": "stdout",
          "text": [
            "\n",
            "      Epoch    GPU_mem   box_loss   seg_loss   cls_loss   dfl_loss  Instances       Size\n"
          ]
        },
        {
          "output_type": "stream",
          "name": "stderr",
          "text": [
            "     56/110      4.46G     0.2741     0.2644     0.3324     0.8861         29        800: 100%|██████████| 78/78 [00:34<00:00,  2.28it/s]\n",
            "                 Class     Images  Instances      Box(P          R      mAP50  mAP50-95)     Mask(P          R      mAP50  mAP50-95): 100%|██████████| 9/9 [00:02<00:00,  3.49it/s]"
          ]
        },
        {
          "output_type": "stream",
          "name": "stdout",
          "text": [
            "                   all        200        254      0.988      0.916      0.963      0.939       0.98      0.912      0.956      0.936\n"
          ]
        },
        {
          "output_type": "stream",
          "name": "stderr",
          "text": [
            "\n"
          ]
        },
        {
          "output_type": "stream",
          "name": "stdout",
          "text": [
            "\n",
            "      Epoch    GPU_mem   box_loss   seg_loss   cls_loss   dfl_loss  Instances       Size\n"
          ]
        },
        {
          "output_type": "stream",
          "name": "stderr",
          "text": [
            "     57/110      4.47G     0.2648     0.2313     0.3111     0.8864         34        800: 100%|██████████| 78/78 [00:35<00:00,  2.21it/s]\n",
            "                 Class     Images  Instances      Box(P          R      mAP50  mAP50-95)     Mask(P          R      mAP50  mAP50-95): 100%|██████████| 9/9 [00:02<00:00,  3.18it/s]"
          ]
        },
        {
          "output_type": "stream",
          "name": "stdout",
          "text": [
            "                   all        200        254       0.98      0.929      0.965      0.941      0.979      0.924       0.96      0.938\n"
          ]
        },
        {
          "output_type": "stream",
          "name": "stderr",
          "text": [
            "\n"
          ]
        },
        {
          "output_type": "stream",
          "name": "stdout",
          "text": [
            "\n",
            "      Epoch    GPU_mem   box_loss   seg_loss   cls_loss   dfl_loss  Instances       Size\n"
          ]
        },
        {
          "output_type": "stream",
          "name": "stderr",
          "text": [
            "     58/110      4.49G     0.2665     0.2828     0.3309     0.8787         24        800: 100%|██████████| 78/78 [00:33<00:00,  2.31it/s]\n",
            "                 Class     Images  Instances      Box(P          R      mAP50  mAP50-95)     Mask(P          R      mAP50  mAP50-95): 100%|██████████| 9/9 [00:03<00:00,  2.81it/s]"
          ]
        },
        {
          "output_type": "stream",
          "name": "stdout",
          "text": [
            "                   all        200        254      0.978      0.938      0.965      0.944      0.975      0.932      0.959      0.939\n"
          ]
        },
        {
          "output_type": "stream",
          "name": "stderr",
          "text": [
            "\n"
          ]
        },
        {
          "output_type": "stream",
          "name": "stdout",
          "text": [
            "\n",
            "      Epoch    GPU_mem   box_loss   seg_loss   cls_loss   dfl_loss  Instances       Size\n"
          ]
        },
        {
          "output_type": "stream",
          "name": "stderr",
          "text": [
            "     59/110      4.51G     0.2704     0.2744     0.3239     0.8834         19        800: 100%|██████████| 78/78 [00:33<00:00,  2.31it/s]\n",
            "                 Class     Images  Instances      Box(P          R      mAP50  mAP50-95)     Mask(P          R      mAP50  mAP50-95): 100%|██████████| 9/9 [00:02<00:00,  3.09it/s]"
          ]
        },
        {
          "output_type": "stream",
          "name": "stdout",
          "text": [
            "                   all        200        254      0.988      0.916      0.965      0.942      0.983      0.912      0.957      0.933\n"
          ]
        },
        {
          "output_type": "stream",
          "name": "stderr",
          "text": [
            "\n"
          ]
        },
        {
          "output_type": "stream",
          "name": "stdout",
          "text": [
            "\n",
            "      Epoch    GPU_mem   box_loss   seg_loss   cls_loss   dfl_loss  Instances       Size\n"
          ]
        },
        {
          "output_type": "stream",
          "name": "stderr",
          "text": [
            "     60/110      4.53G     0.2557     0.2498      0.326     0.8813         37        800: 100%|██████████| 78/78 [00:33<00:00,  2.30it/s]\n",
            "                 Class     Images  Instances      Box(P          R      mAP50  mAP50-95)     Mask(P          R      mAP50  mAP50-95): 100%|██████████| 9/9 [00:03<00:00,  2.57it/s]"
          ]
        },
        {
          "output_type": "stream",
          "name": "stdout",
          "text": [
            "                   all        200        254      0.977      0.934      0.967      0.943      0.979      0.923      0.957      0.937\n"
          ]
        },
        {
          "output_type": "stream",
          "name": "stderr",
          "text": [
            "\n"
          ]
        },
        {
          "output_type": "stream",
          "name": "stdout",
          "text": [
            "\n",
            "      Epoch    GPU_mem   box_loss   seg_loss   cls_loss   dfl_loss  Instances       Size\n"
          ]
        },
        {
          "output_type": "stream",
          "name": "stderr",
          "text": [
            "     61/110      4.55G     0.2714     0.2526     0.3343     0.8866         38        800: 100%|██████████| 78/78 [00:34<00:00,  2.29it/s]\n",
            "                 Class     Images  Instances      Box(P          R      mAP50  mAP50-95)     Mask(P          R      mAP50  mAP50-95): 100%|██████████| 9/9 [00:02<00:00,  3.35it/s]"
          ]
        },
        {
          "output_type": "stream",
          "name": "stdout",
          "text": [
            "                   all        200        254      0.975      0.937      0.969      0.948      0.976      0.923      0.956      0.937\n"
          ]
        },
        {
          "output_type": "stream",
          "name": "stderr",
          "text": [
            "\n"
          ]
        },
        {
          "output_type": "stream",
          "name": "stdout",
          "text": [
            "\n",
            "      Epoch    GPU_mem   box_loss   seg_loss   cls_loss   dfl_loss  Instances       Size\n"
          ]
        },
        {
          "output_type": "stream",
          "name": "stderr",
          "text": [
            "     62/110      4.57G     0.2527     0.2089     0.3069     0.8797         31        800: 100%|██████████| 78/78 [00:33<00:00,  2.30it/s]\n",
            "                 Class     Images  Instances      Box(P          R      mAP50  mAP50-95)     Mask(P          R      mAP50  mAP50-95): 100%|██████████| 9/9 [00:02<00:00,  3.64it/s]"
          ]
        },
        {
          "output_type": "stream",
          "name": "stdout",
          "text": [
            "                   all        200        254      0.984      0.932      0.967      0.942      0.979      0.927      0.957      0.936\n"
          ]
        },
        {
          "output_type": "stream",
          "name": "stderr",
          "text": [
            "\n"
          ]
        },
        {
          "output_type": "stream",
          "name": "stdout",
          "text": [
            "\n",
            "      Epoch    GPU_mem   box_loss   seg_loss   cls_loss   dfl_loss  Instances       Size\n"
          ]
        },
        {
          "output_type": "stream",
          "name": "stderr",
          "text": [
            "     63/110      4.58G     0.2478     0.2415     0.3033     0.8729         24        800: 100%|██████████| 78/78 [00:33<00:00,  2.34it/s]\n",
            "                 Class     Images  Instances      Box(P          R      mAP50  mAP50-95)     Mask(P          R      mAP50  mAP50-95): 100%|██████████| 9/9 [00:04<00:00,  2.25it/s]"
          ]
        },
        {
          "output_type": "stream",
          "name": "stdout",
          "text": [
            "                   all        200        254      0.979      0.942       0.97      0.943      0.979      0.931      0.957      0.934\n"
          ]
        },
        {
          "output_type": "stream",
          "name": "stderr",
          "text": [
            "\n"
          ]
        },
        {
          "output_type": "stream",
          "name": "stdout",
          "text": [
            "\n",
            "      Epoch    GPU_mem   box_loss   seg_loss   cls_loss   dfl_loss  Instances       Size\n"
          ]
        },
        {
          "output_type": "stream",
          "name": "stderr",
          "text": [
            "     64/110       4.6G     0.2597     0.2621     0.3104     0.8739         25        800: 100%|██████████| 78/78 [00:33<00:00,  2.32it/s]\n",
            "                 Class     Images  Instances      Box(P          R      mAP50  mAP50-95)     Mask(P          R      mAP50  mAP50-95): 100%|██████████| 9/9 [00:02<00:00,  3.34it/s]"
          ]
        },
        {
          "output_type": "stream",
          "name": "stdout",
          "text": [
            "                   all        200        254      0.973      0.936      0.968      0.943      0.982      0.916      0.959       0.94\n"
          ]
        },
        {
          "output_type": "stream",
          "name": "stderr",
          "text": [
            "\n"
          ]
        },
        {
          "output_type": "stream",
          "name": "stdout",
          "text": [
            "\n",
            "      Epoch    GPU_mem   box_loss   seg_loss   cls_loss   dfl_loss  Instances       Size\n"
          ]
        },
        {
          "output_type": "stream",
          "name": "stderr",
          "text": [
            "     65/110      4.62G     0.2525     0.2582     0.3061     0.8785         37        800: 100%|██████████| 78/78 [00:34<00:00,  2.25it/s]\n",
            "                 Class     Images  Instances      Box(P          R      mAP50  mAP50-95)     Mask(P          R      mAP50  mAP50-95): 100%|██████████| 9/9 [00:03<00:00,  2.97it/s]"
          ]
        },
        {
          "output_type": "stream",
          "name": "stdout",
          "text": [
            "                   all        200        254      0.971      0.937      0.968      0.946      0.988      0.916      0.961      0.941\n"
          ]
        },
        {
          "output_type": "stream",
          "name": "stderr",
          "text": [
            "\n"
          ]
        },
        {
          "output_type": "stream",
          "name": "stdout",
          "text": [
            "\n",
            "      Epoch    GPU_mem   box_loss   seg_loss   cls_loss   dfl_loss  Instances       Size\n"
          ]
        },
        {
          "output_type": "stream",
          "name": "stderr",
          "text": [
            "     66/110      4.64G     0.2665     0.2614     0.3166     0.8807         28        800: 100%|██████████| 78/78 [00:34<00:00,  2.28it/s]\n",
            "                 Class     Images  Instances      Box(P          R      mAP50  mAP50-95)     Mask(P          R      mAP50  mAP50-95): 100%|██████████| 9/9 [00:02<00:00,  3.03it/s]"
          ]
        },
        {
          "output_type": "stream",
          "name": "stdout",
          "text": [
            "                   all        200        254      0.989      0.923      0.969      0.945      0.973       0.93      0.959      0.938\n"
          ]
        },
        {
          "output_type": "stream",
          "name": "stderr",
          "text": [
            "\n"
          ]
        },
        {
          "output_type": "stream",
          "name": "stdout",
          "text": [
            "\n",
            "      Epoch    GPU_mem   box_loss   seg_loss   cls_loss   dfl_loss  Instances       Size\n"
          ]
        },
        {
          "output_type": "stream",
          "name": "stderr",
          "text": [
            "     67/110      4.66G     0.2561      0.225     0.3072     0.8804         30        800: 100%|██████████| 78/78 [00:33<00:00,  2.30it/s]\n",
            "                 Class     Images  Instances      Box(P          R      mAP50  mAP50-95)     Mask(P          R      mAP50  mAP50-95): 100%|██████████| 9/9 [00:02<00:00,  3.14it/s]"
          ]
        },
        {
          "output_type": "stream",
          "name": "stdout",
          "text": [
            "                   all        200        254      0.987      0.929      0.968      0.942      0.982      0.925      0.961       0.94\n"
          ]
        },
        {
          "output_type": "stream",
          "name": "stderr",
          "text": [
            "\n"
          ]
        },
        {
          "output_type": "stream",
          "name": "stdout",
          "text": [
            "\n",
            "      Epoch    GPU_mem   box_loss   seg_loss   cls_loss   dfl_loss  Instances       Size\n"
          ]
        },
        {
          "output_type": "stream",
          "name": "stderr",
          "text": [
            "     68/110      4.68G     0.2531     0.2589     0.2975     0.8773         25        800: 100%|██████████| 78/78 [00:33<00:00,  2.33it/s]\n",
            "                 Class     Images  Instances      Box(P          R      mAP50  mAP50-95)     Mask(P          R      mAP50  mAP50-95): 100%|██████████| 9/9 [00:03<00:00,  2.25it/s]"
          ]
        },
        {
          "output_type": "stream",
          "name": "stdout",
          "text": [
            "                   all        200        254       0.98      0.939      0.967      0.948      0.983      0.925      0.962      0.941\n"
          ]
        },
        {
          "output_type": "stream",
          "name": "stderr",
          "text": [
            "\n"
          ]
        },
        {
          "output_type": "stream",
          "name": "stdout",
          "text": [
            "\n",
            "      Epoch    GPU_mem   box_loss   seg_loss   cls_loss   dfl_loss  Instances       Size\n"
          ]
        },
        {
          "output_type": "stream",
          "name": "stderr",
          "text": [
            "     69/110       4.7G     0.2484     0.2241     0.2998      0.879         29        800: 100%|██████████| 78/78 [00:33<00:00,  2.35it/s]\n",
            "                 Class     Images  Instances      Box(P          R      mAP50  mAP50-95)     Mask(P          R      mAP50  mAP50-95): 100%|██████████| 9/9 [00:02<00:00,  3.14it/s]"
          ]
        },
        {
          "output_type": "stream",
          "name": "stdout",
          "text": [
            "                   all        200        254      0.978       0.93      0.966       0.94      0.981      0.914      0.958      0.936\n"
          ]
        },
        {
          "output_type": "stream",
          "name": "stderr",
          "text": [
            "\n"
          ]
        },
        {
          "output_type": "stream",
          "name": "stdout",
          "text": [
            "\n",
            "      Epoch    GPU_mem   box_loss   seg_loss   cls_loss   dfl_loss  Instances       Size\n"
          ]
        },
        {
          "output_type": "stream",
          "name": "stderr",
          "text": [
            "     70/110      4.71G     0.2536     0.2493     0.2972     0.8819         34        800: 100%|██████████| 78/78 [00:34<00:00,  2.24it/s]\n",
            "                 Class     Images  Instances      Box(P          R      mAP50  mAP50-95)     Mask(P          R      mAP50  mAP50-95): 100%|██████████| 9/9 [00:02<00:00,  3.16it/s]"
          ]
        },
        {
          "output_type": "stream",
          "name": "stdout",
          "text": [
            "                   all        200        254      0.964      0.934      0.968      0.944      0.971      0.921      0.961      0.941\n"
          ]
        },
        {
          "output_type": "stream",
          "name": "stderr",
          "text": [
            "\n"
          ]
        },
        {
          "output_type": "stream",
          "name": "stdout",
          "text": [
            "\n",
            "      Epoch    GPU_mem   box_loss   seg_loss   cls_loss   dfl_loss  Instances       Size\n"
          ]
        },
        {
          "output_type": "stream",
          "name": "stderr",
          "text": [
            "     71/110      4.73G     0.2623     0.2869      0.308      0.888         38        800: 100%|██████████| 78/78 [00:33<00:00,  2.34it/s]\n",
            "                 Class     Images  Instances      Box(P          R      mAP50  mAP50-95)     Mask(P          R      mAP50  mAP50-95): 100%|██████████| 9/9 [00:03<00:00,  2.52it/s]"
          ]
        },
        {
          "output_type": "stream",
          "name": "stdout",
          "text": [
            "                   all        200        254      0.965      0.939      0.972      0.947      0.985      0.919      0.962      0.942\n"
          ]
        },
        {
          "output_type": "stream",
          "name": "stderr",
          "text": [
            "\n"
          ]
        },
        {
          "output_type": "stream",
          "name": "stdout",
          "text": [
            "\n",
            "      Epoch    GPU_mem   box_loss   seg_loss   cls_loss   dfl_loss  Instances       Size\n"
          ]
        },
        {
          "output_type": "stream",
          "name": "stderr",
          "text": [
            "     72/110      4.75G     0.2596     0.2402     0.2985     0.8852         24        800: 100%|██████████| 78/78 [00:34<00:00,  2.28it/s]\n",
            "                 Class     Images  Instances      Box(P          R      mAP50  mAP50-95)     Mask(P          R      mAP50  mAP50-95): 100%|██████████| 9/9 [00:02<00:00,  3.28it/s]"
          ]
        },
        {
          "output_type": "stream",
          "name": "stdout",
          "text": [
            "                   all        200        254      0.982      0.933      0.968      0.943       0.98      0.925       0.96      0.939\n"
          ]
        },
        {
          "output_type": "stream",
          "name": "stderr",
          "text": [
            "\n"
          ]
        },
        {
          "output_type": "stream",
          "name": "stdout",
          "text": [
            "\n",
            "      Epoch    GPU_mem   box_loss   seg_loss   cls_loss   dfl_loss  Instances       Size\n"
          ]
        },
        {
          "output_type": "stream",
          "name": "stderr",
          "text": [
            "     73/110      4.77G     0.2458     0.2425     0.2881     0.8786         36        800: 100%|██████████| 78/78 [00:35<00:00,  2.22it/s]\n",
            "                 Class     Images  Instances      Box(P          R      mAP50  mAP50-95)     Mask(P          R      mAP50  mAP50-95): 100%|██████████| 9/9 [00:03<00:00,  2.87it/s]"
          ]
        },
        {
          "output_type": "stream",
          "name": "stdout",
          "text": [
            "                   all        200        254      0.979      0.935      0.968      0.947      0.976      0.922      0.958      0.939\n"
          ]
        },
        {
          "output_type": "stream",
          "name": "stderr",
          "text": [
            "\n"
          ]
        },
        {
          "output_type": "stream",
          "name": "stdout",
          "text": [
            "\n",
            "      Epoch    GPU_mem   box_loss   seg_loss   cls_loss   dfl_loss  Instances       Size\n"
          ]
        },
        {
          "output_type": "stream",
          "name": "stderr",
          "text": [
            "     74/110      4.79G     0.2481     0.2381     0.3006     0.8761         33        800: 100%|██████████| 78/78 [00:33<00:00,  2.32it/s]\n",
            "                 Class     Images  Instances      Box(P          R      mAP50  mAP50-95)     Mask(P          R      mAP50  mAP50-95): 100%|██████████| 9/9 [00:02<00:00,  3.54it/s]"
          ]
        },
        {
          "output_type": "stream",
          "name": "stdout",
          "text": [
            "                   all        200        254       0.98       0.94      0.968       0.95      0.976      0.933      0.962      0.942\n"
          ]
        },
        {
          "output_type": "stream",
          "name": "stderr",
          "text": [
            "\n"
          ]
        },
        {
          "output_type": "stream",
          "name": "stdout",
          "text": [
            "\n",
            "      Epoch    GPU_mem   box_loss   seg_loss   cls_loss   dfl_loss  Instances       Size\n"
          ]
        },
        {
          "output_type": "stream",
          "name": "stderr",
          "text": [
            "     75/110      4.81G     0.2451     0.2357     0.2864     0.8754         33        800: 100%|██████████| 78/78 [00:35<00:00,  2.21it/s]\n",
            "                 Class     Images  Instances      Box(P          R      mAP50  mAP50-95)     Mask(P          R      mAP50  mAP50-95): 100%|██████████| 9/9 [00:02<00:00,  3.23it/s]"
          ]
        },
        {
          "output_type": "stream",
          "name": "stdout",
          "text": [
            "                   all        200        254      0.984      0.929      0.972      0.946      0.983      0.923      0.959      0.938\n"
          ]
        },
        {
          "output_type": "stream",
          "name": "stderr",
          "text": [
            "\n"
          ]
        },
        {
          "output_type": "stream",
          "name": "stdout",
          "text": [
            "\n",
            "      Epoch    GPU_mem   box_loss   seg_loss   cls_loss   dfl_loss  Instances       Size\n"
          ]
        },
        {
          "output_type": "stream",
          "name": "stderr",
          "text": [
            "     76/110      4.82G     0.2367     0.2358     0.2783     0.8724         44        800: 100%|██████████| 78/78 [00:34<00:00,  2.25it/s]\n",
            "                 Class     Images  Instances      Box(P          R      mAP50  mAP50-95)     Mask(P          R      mAP50  mAP50-95): 100%|██████████| 9/9 [00:03<00:00,  2.53it/s]"
          ]
        },
        {
          "output_type": "stream",
          "name": "stdout",
          "text": [
            "                   all        200        254      0.992      0.931      0.972       0.95      0.987      0.927      0.961      0.941\n"
          ]
        },
        {
          "output_type": "stream",
          "name": "stderr",
          "text": [
            "\n"
          ]
        },
        {
          "output_type": "stream",
          "name": "stdout",
          "text": [
            "\n",
            "      Epoch    GPU_mem   box_loss   seg_loss   cls_loss   dfl_loss  Instances       Size\n"
          ]
        },
        {
          "output_type": "stream",
          "name": "stderr",
          "text": [
            "     77/110      4.84G     0.2414     0.2321     0.2876      0.876         29        800: 100%|██████████| 78/78 [00:33<00:00,  2.30it/s]\n",
            "                 Class     Images  Instances      Box(P          R      mAP50  mAP50-95)     Mask(P          R      mAP50  mAP50-95): 100%|██████████| 9/9 [00:02<00:00,  3.23it/s]"
          ]
        },
        {
          "output_type": "stream",
          "name": "stdout",
          "text": [
            "                   all        200        254      0.978      0.934      0.972      0.948      0.996      0.914       0.96      0.939\n"
          ]
        },
        {
          "output_type": "stream",
          "name": "stderr",
          "text": [
            "\n"
          ]
        },
        {
          "output_type": "stream",
          "name": "stdout",
          "text": [
            "\n",
            "      Epoch    GPU_mem   box_loss   seg_loss   cls_loss   dfl_loss  Instances       Size\n"
          ]
        },
        {
          "output_type": "stream",
          "name": "stderr",
          "text": [
            "     78/110      4.86G     0.2392     0.2272      0.281     0.8712         20        800: 100%|██████████| 78/78 [00:35<00:00,  2.19it/s]\n",
            "                 Class     Images  Instances      Box(P          R      mAP50  mAP50-95)     Mask(P          R      mAP50  mAP50-95): 100%|██████████| 9/9 [00:02<00:00,  3.36it/s]"
          ]
        },
        {
          "output_type": "stream",
          "name": "stdout",
          "text": [
            "                   all        200        254      0.983      0.934      0.968      0.946      0.976      0.927      0.961       0.94\n"
          ]
        },
        {
          "output_type": "stream",
          "name": "stderr",
          "text": [
            "\n"
          ]
        },
        {
          "output_type": "stream",
          "name": "stdout",
          "text": [
            "\n",
            "      Epoch    GPU_mem   box_loss   seg_loss   cls_loss   dfl_loss  Instances       Size\n"
          ]
        },
        {
          "output_type": "stream",
          "name": "stderr",
          "text": [
            "     79/110      4.88G     0.2443     0.2322     0.2766     0.8774         25        800: 100%|██████████| 78/78 [00:34<00:00,  2.24it/s]\n",
            "                 Class     Images  Instances      Box(P          R      mAP50  mAP50-95)     Mask(P          R      mAP50  mAP50-95): 100%|██████████| 9/9 [00:03<00:00,  2.47it/s]"
          ]
        },
        {
          "output_type": "stream",
          "name": "stdout",
          "text": [
            "                   all        200        254      0.984       0.94       0.97      0.951      0.979      0.933      0.962      0.943\n"
          ]
        },
        {
          "output_type": "stream",
          "name": "stderr",
          "text": [
            "\n"
          ]
        },
        {
          "output_type": "stream",
          "name": "stdout",
          "text": [
            "\n",
            "      Epoch    GPU_mem   box_loss   seg_loss   cls_loss   dfl_loss  Instances       Size\n"
          ]
        },
        {
          "output_type": "stream",
          "name": "stderr",
          "text": [
            "     80/110       4.9G     0.2329     0.2294     0.2788     0.8724         40        800: 100%|██████████| 78/78 [00:34<00:00,  2.29it/s]\n",
            "                 Class     Images  Instances      Box(P          R      mAP50  mAP50-95)     Mask(P          R      mAP50  mAP50-95): 100%|██████████| 9/9 [00:02<00:00,  3.13it/s]"
          ]
        },
        {
          "output_type": "stream",
          "name": "stdout",
          "text": [
            "                   all        200        254      0.983      0.943       0.97       0.95      0.981      0.938      0.963      0.943\n"
          ]
        },
        {
          "output_type": "stream",
          "name": "stderr",
          "text": [
            "\n"
          ]
        },
        {
          "output_type": "stream",
          "name": "stdout",
          "text": [
            "\n",
            "      Epoch    GPU_mem   box_loss   seg_loss   cls_loss   dfl_loss  Instances       Size\n"
          ]
        },
        {
          "output_type": "stream",
          "name": "stderr",
          "text": [
            "     81/110      4.92G     0.2408     0.2382     0.2798     0.8768         27        800: 100%|██████████| 78/78 [00:35<00:00,  2.17it/s]\n",
            "                 Class     Images  Instances      Box(P          R      mAP50  mAP50-95)     Mask(P          R      mAP50  mAP50-95): 100%|██████████| 9/9 [00:02<00:00,  3.12it/s]"
          ]
        },
        {
          "output_type": "stream",
          "name": "stdout",
          "text": [
            "                   all        200        254      0.984      0.949      0.972       0.95      0.977       0.94      0.964      0.942\n"
          ]
        },
        {
          "output_type": "stream",
          "name": "stderr",
          "text": [
            "\n"
          ]
        },
        {
          "output_type": "stream",
          "name": "stdout",
          "text": [
            "\n",
            "      Epoch    GPU_mem   box_loss   seg_loss   cls_loss   dfl_loss  Instances       Size\n"
          ]
        },
        {
          "output_type": "stream",
          "name": "stderr",
          "text": [
            "     82/110      4.94G     0.2382     0.2635     0.2796     0.8713         28        800: 100%|██████████| 78/78 [00:34<00:00,  2.23it/s]\n",
            "                 Class     Images  Instances      Box(P          R      mAP50  mAP50-95)     Mask(P          R      mAP50  mAP50-95): 100%|██████████| 9/9 [00:03<00:00,  2.46it/s]"
          ]
        },
        {
          "output_type": "stream",
          "name": "stdout",
          "text": [
            "                   all        200        254      0.975      0.947      0.971      0.949      0.988      0.922      0.962       0.94\n"
          ]
        },
        {
          "output_type": "stream",
          "name": "stderr",
          "text": [
            "\n"
          ]
        },
        {
          "output_type": "stream",
          "name": "stdout",
          "text": [
            "\n",
            "      Epoch    GPU_mem   box_loss   seg_loss   cls_loss   dfl_loss  Instances       Size\n"
          ]
        },
        {
          "output_type": "stream",
          "name": "stderr",
          "text": [
            "     83/110      4.96G     0.2363     0.2342     0.2743      0.872         29        800: 100%|██████████| 78/78 [00:34<00:00,  2.27it/s]\n",
            "                 Class     Images  Instances      Box(P          R      mAP50  mAP50-95)     Mask(P          R      mAP50  mAP50-95): 100%|██████████| 9/9 [00:02<00:00,  3.07it/s]"
          ]
        },
        {
          "output_type": "stream",
          "name": "stdout",
          "text": [
            "                   all        200        254      0.987      0.937       0.97      0.948      0.979      0.929      0.962      0.943\n"
          ]
        },
        {
          "output_type": "stream",
          "name": "stderr",
          "text": [
            "\n"
          ]
        },
        {
          "output_type": "stream",
          "name": "stdout",
          "text": [
            "\n",
            "      Epoch    GPU_mem   box_loss   seg_loss   cls_loss   dfl_loss  Instances       Size\n"
          ]
        },
        {
          "output_type": "stream",
          "name": "stderr",
          "text": [
            "     84/110      4.97G     0.2463     0.2356      0.285     0.8765         27        800: 100%|██████████| 78/78 [00:35<00:00,  2.18it/s]\n",
            "                 Class     Images  Instances      Box(P          R      mAP50  mAP50-95)     Mask(P          R      mAP50  mAP50-95): 100%|██████████| 9/9 [00:02<00:00,  3.41it/s]"
          ]
        },
        {
          "output_type": "stream",
          "name": "stdout",
          "text": [
            "                   all        200        254      0.989      0.936      0.971      0.947      0.985      0.929      0.962      0.941\n"
          ]
        },
        {
          "output_type": "stream",
          "name": "stderr",
          "text": [
            "\n"
          ]
        },
        {
          "output_type": "stream",
          "name": "stdout",
          "text": [
            "\n",
            "      Epoch    GPU_mem   box_loss   seg_loss   cls_loss   dfl_loss  Instances       Size\n"
          ]
        },
        {
          "output_type": "stream",
          "name": "stderr",
          "text": [
            "     85/110      4.99G     0.2325     0.2088     0.2713     0.8735         25        800: 100%|██████████| 78/78 [00:35<00:00,  2.21it/s]\n",
            "                 Class     Images  Instances      Box(P          R      mAP50  mAP50-95)     Mask(P          R      mAP50  mAP50-95): 100%|██████████| 9/9 [00:03<00:00,  2.94it/s]"
          ]
        },
        {
          "output_type": "stream",
          "name": "stdout",
          "text": [
            "                   all        200        254       0.99      0.937      0.971      0.948      0.984       0.93      0.963      0.941\n"
          ]
        },
        {
          "output_type": "stream",
          "name": "stderr",
          "text": [
            "\n"
          ]
        },
        {
          "output_type": "stream",
          "name": "stdout",
          "text": [
            "\n",
            "      Epoch    GPU_mem   box_loss   seg_loss   cls_loss   dfl_loss  Instances       Size\n"
          ]
        },
        {
          "output_type": "stream",
          "name": "stderr",
          "text": [
            "     86/110      5.01G     0.2302     0.2078     0.2719      0.858         27        800: 100%|██████████| 78/78 [00:33<00:00,  2.32it/s]\n",
            "                 Class     Images  Instances      Box(P          R      mAP50  mAP50-95)     Mask(P          R      mAP50  mAP50-95): 100%|██████████| 9/9 [00:02<00:00,  3.23it/s]"
          ]
        },
        {
          "output_type": "stream",
          "name": "stdout",
          "text": [
            "                   all        200        254      0.975      0.947       0.97      0.948      0.985      0.928      0.962      0.941\n"
          ]
        },
        {
          "output_type": "stream",
          "name": "stderr",
          "text": [
            "\n"
          ]
        },
        {
          "output_type": "stream",
          "name": "stdout",
          "text": [
            "\n",
            "      Epoch    GPU_mem   box_loss   seg_loss   cls_loss   dfl_loss  Instances       Size\n"
          ]
        },
        {
          "output_type": "stream",
          "name": "stderr",
          "text": [
            "     87/110      5.03G     0.2283     0.1896     0.2651     0.8618         49        800: 100%|██████████| 78/78 [00:34<00:00,  2.24it/s]\n",
            "                 Class     Images  Instances      Box(P          R      mAP50  mAP50-95)     Mask(P          R      mAP50  mAP50-95): 100%|██████████| 9/9 [00:02<00:00,  3.36it/s]"
          ]
        },
        {
          "output_type": "stream",
          "name": "stdout",
          "text": [
            "                   all        200        254      0.972       0.95      0.971      0.951      0.984      0.927      0.962       0.94\n"
          ]
        },
        {
          "output_type": "stream",
          "name": "stderr",
          "text": [
            "\n"
          ]
        },
        {
          "output_type": "stream",
          "name": "stdout",
          "text": [
            "\n",
            "      Epoch    GPU_mem   box_loss   seg_loss   cls_loss   dfl_loss  Instances       Size\n"
          ]
        },
        {
          "output_type": "stream",
          "name": "stderr",
          "text": [
            "     88/110      5.05G     0.2335     0.2293     0.2772     0.8673         31        800: 100%|██████████| 78/78 [00:33<00:00,  2.35it/s]\n",
            "                 Class     Images  Instances      Box(P          R      mAP50  mAP50-95)     Mask(P          R      mAP50  mAP50-95): 100%|██████████| 9/9 [00:03<00:00,  2.32it/s]"
          ]
        },
        {
          "output_type": "stream",
          "name": "stdout",
          "text": [
            "                   all        200        254      0.982      0.944      0.972      0.949      0.983       0.93      0.962       0.94\n"
          ]
        },
        {
          "output_type": "stream",
          "name": "stderr",
          "text": [
            "\n"
          ]
        },
        {
          "output_type": "stream",
          "name": "stdout",
          "text": [
            "\n",
            "      Epoch    GPU_mem   box_loss   seg_loss   cls_loss   dfl_loss  Instances       Size\n"
          ]
        },
        {
          "output_type": "stream",
          "name": "stderr",
          "text": [
            "     89/110      5.07G     0.2285       0.21     0.2682     0.8713         33        800: 100%|██████████| 78/78 [00:33<00:00,  2.33it/s]\n",
            "                 Class     Images  Instances      Box(P          R      mAP50  mAP50-95)     Mask(P          R      mAP50  mAP50-95): 100%|██████████| 9/9 [00:02<00:00,  3.40it/s]"
          ]
        },
        {
          "output_type": "stream",
          "name": "stdout",
          "text": [
            "                   all        200        254      0.984      0.938       0.97      0.951      0.975       0.93      0.961      0.941\n"
          ]
        },
        {
          "output_type": "stream",
          "name": "stderr",
          "text": [
            "\n"
          ]
        },
        {
          "output_type": "stream",
          "name": "stdout",
          "text": [
            "\n",
            "      Epoch    GPU_mem   box_loss   seg_loss   cls_loss   dfl_loss  Instances       Size\n"
          ]
        },
        {
          "output_type": "stream",
          "name": "stderr",
          "text": [
            "     90/110      5.09G     0.2259      0.208      0.259     0.8721         24        800: 100%|██████████| 78/78 [00:34<00:00,  2.29it/s]\n",
            "                 Class     Images  Instances      Box(P          R      mAP50  mAP50-95)     Mask(P          R      mAP50  mAP50-95): 100%|██████████| 9/9 [00:02<00:00,  3.22it/s]"
          ]
        },
        {
          "output_type": "stream",
          "name": "stdout",
          "text": [
            "                   all        200        254      0.985      0.941      0.972      0.951      0.975      0.932      0.963      0.942\n"
          ]
        },
        {
          "output_type": "stream",
          "name": "stderr",
          "text": [
            "\n"
          ]
        },
        {
          "output_type": "stream",
          "name": "stdout",
          "text": [
            "\n",
            "      Epoch    GPU_mem   box_loss   seg_loss   cls_loss   dfl_loss  Instances       Size\n"
          ]
        },
        {
          "output_type": "stream",
          "name": "stderr",
          "text": [
            "     91/110       5.1G     0.2217     0.1953      0.255     0.8655         26        800: 100%|██████████| 78/78 [00:33<00:00,  2.36it/s]\n",
            "                 Class     Images  Instances      Box(P          R      mAP50  mAP50-95)     Mask(P          R      mAP50  mAP50-95): 100%|██████████| 9/9 [00:02<00:00,  3.18it/s]"
          ]
        },
        {
          "output_type": "stream",
          "name": "stdout",
          "text": [
            "                   all        200        254      0.987      0.938      0.972      0.948      0.979      0.932      0.963       0.94\n"
          ]
        },
        {
          "output_type": "stream",
          "name": "stderr",
          "text": [
            "\n"
          ]
        },
        {
          "output_type": "stream",
          "name": "stdout",
          "text": [
            "\n",
            "      Epoch    GPU_mem   box_loss   seg_loss   cls_loss   dfl_loss  Instances       Size\n"
          ]
        },
        {
          "output_type": "stream",
          "name": "stderr",
          "text": [
            "     92/110      5.12G     0.2412     0.2223     0.2782     0.8741         29        800: 100%|██████████| 78/78 [00:35<00:00,  2.22it/s]\n",
            "                 Class     Images  Instances      Box(P          R      mAP50  mAP50-95)     Mask(P          R      mAP50  mAP50-95): 100%|██████████| 9/9 [00:02<00:00,  3.45it/s]"
          ]
        },
        {
          "output_type": "stream",
          "name": "stdout",
          "text": [
            "                   all        200        254      0.986      0.936      0.969      0.948      0.982      0.932      0.962       0.94\n"
          ]
        },
        {
          "output_type": "stream",
          "name": "stderr",
          "text": [
            "\n"
          ]
        },
        {
          "output_type": "stream",
          "name": "stdout",
          "text": [
            "\n",
            "      Epoch    GPU_mem   box_loss   seg_loss   cls_loss   dfl_loss  Instances       Size\n"
          ]
        },
        {
          "output_type": "stream",
          "name": "stderr",
          "text": [
            "     93/110      5.14G     0.2177     0.2176     0.2689     0.8711         24        800: 100%|██████████| 78/78 [00:33<00:00,  2.32it/s]\n",
            "                 Class     Images  Instances      Box(P          R      mAP50  mAP50-95)     Mask(P          R      mAP50  mAP50-95): 100%|██████████| 9/9 [00:03<00:00,  2.40it/s]"
          ]
        },
        {
          "output_type": "stream",
          "name": "stdout",
          "text": [
            "                   all        200        254      0.979      0.939      0.971      0.951      0.981      0.925      0.962      0.941\n"
          ]
        },
        {
          "output_type": "stream",
          "name": "stderr",
          "text": [
            "\n"
          ]
        },
        {
          "output_type": "stream",
          "name": "stdout",
          "text": [
            "\n",
            "      Epoch    GPU_mem   box_loss   seg_loss   cls_loss   dfl_loss  Instances       Size\n"
          ]
        },
        {
          "output_type": "stream",
          "name": "stderr",
          "text": [
            "     94/110      5.16G     0.2287     0.2365     0.2692     0.8653         29        800: 100%|██████████| 78/78 [00:34<00:00,  2.28it/s]\n",
            "                 Class     Images  Instances      Box(P          R      mAP50  mAP50-95)     Mask(P          R      mAP50  mAP50-95): 100%|██████████| 9/9 [00:02<00:00,  3.34it/s]"
          ]
        },
        {
          "output_type": "stream",
          "name": "stdout",
          "text": [
            "                   all        200        254      0.982      0.939      0.971       0.95      0.985      0.921      0.962      0.942\n"
          ]
        },
        {
          "output_type": "stream",
          "name": "stderr",
          "text": [
            "\n"
          ]
        },
        {
          "output_type": "stream",
          "name": "stdout",
          "text": [
            "\n",
            "      Epoch    GPU_mem   box_loss   seg_loss   cls_loss   dfl_loss  Instances       Size\n"
          ]
        },
        {
          "output_type": "stream",
          "name": "stderr",
          "text": [
            "     95/110      5.18G     0.2362     0.2414     0.2797      0.875         32        800: 100%|██████████| 78/78 [00:34<00:00,  2.26it/s]\n",
            "                 Class     Images  Instances      Box(P          R      mAP50  mAP50-95)     Mask(P          R      mAP50  mAP50-95): 100%|██████████| 9/9 [00:03<00:00,  2.93it/s]"
          ]
        },
        {
          "output_type": "stream",
          "name": "stdout",
          "text": [
            "                   all        200        254      0.986      0.939       0.97       0.95      0.979      0.933      0.963      0.943\n"
          ]
        },
        {
          "output_type": "stream",
          "name": "stderr",
          "text": [
            "\n"
          ]
        },
        {
          "output_type": "stream",
          "name": "stdout",
          "text": [
            "\n",
            "      Epoch    GPU_mem   box_loss   seg_loss   cls_loss   dfl_loss  Instances       Size\n"
          ]
        },
        {
          "output_type": "stream",
          "name": "stderr",
          "text": [
            "     96/110       5.2G     0.2279     0.2719     0.2713     0.8666         29        800: 100%|██████████| 78/78 [00:32<00:00,  2.38it/s]\n",
            "                 Class     Images  Instances      Box(P          R      mAP50  mAP50-95)     Mask(P          R      mAP50  mAP50-95): 100%|██████████| 9/9 [00:02<00:00,  3.32it/s]"
          ]
        },
        {
          "output_type": "stream",
          "name": "stdout",
          "text": [
            "                   all        200        254      0.986      0.938      0.972      0.949      0.977       0.93      0.962       0.94\n"
          ]
        },
        {
          "output_type": "stream",
          "name": "stderr",
          "text": [
            "\n"
          ]
        },
        {
          "output_type": "stream",
          "name": "stdout",
          "text": [
            "\n",
            "      Epoch    GPU_mem   box_loss   seg_loss   cls_loss   dfl_loss  Instances       Size\n"
          ]
        },
        {
          "output_type": "stream",
          "name": "stderr",
          "text": [
            "     97/110      5.21G     0.2197     0.2122     0.2589     0.8677         24        800: 100%|██████████| 78/78 [00:35<00:00,  2.22it/s]\n",
            "                 Class     Images  Instances      Box(P          R      mAP50  mAP50-95)     Mask(P          R      mAP50  mAP50-95): 100%|██████████| 9/9 [00:02<00:00,  3.37it/s]"
          ]
        },
        {
          "output_type": "stream",
          "name": "stdout",
          "text": [
            "                   all        200        254      0.988      0.939      0.972      0.949       0.98      0.932      0.961      0.941\n"
          ]
        },
        {
          "output_type": "stream",
          "name": "stderr",
          "text": [
            "\n"
          ]
        },
        {
          "output_type": "stream",
          "name": "stdout",
          "text": [
            "\n",
            "      Epoch    GPU_mem   box_loss   seg_loss   cls_loss   dfl_loss  Instances       Size\n"
          ]
        },
        {
          "output_type": "stream",
          "name": "stderr",
          "text": [
            "     98/110      5.23G     0.2276     0.2254     0.2607     0.8718         22        800: 100%|██████████| 78/78 [00:33<00:00,  2.34it/s]\n",
            "                 Class     Images  Instances      Box(P          R      mAP50  mAP50-95)     Mask(P          R      mAP50  mAP50-95): 100%|██████████| 9/9 [00:04<00:00,  2.23it/s]"
          ]
        },
        {
          "output_type": "stream",
          "name": "stdout",
          "text": [
            "                   all        200        254      0.987      0.939      0.972       0.95       0.98      0.932      0.961      0.941\n"
          ]
        },
        {
          "output_type": "stream",
          "name": "stderr",
          "text": [
            "\n"
          ]
        },
        {
          "output_type": "stream",
          "name": "stdout",
          "text": [
            "\n",
            "      Epoch    GPU_mem   box_loss   seg_loss   cls_loss   dfl_loss  Instances       Size\n"
          ]
        },
        {
          "output_type": "stream",
          "name": "stderr",
          "text": [
            "     99/110      5.25G     0.2267      0.214     0.2611     0.8675         27        800: 100%|██████████| 78/78 [00:32<00:00,  2.39it/s]\n",
            "                 Class     Images  Instances      Box(P          R      mAP50  mAP50-95)     Mask(P          R      mAP50  mAP50-95): 100%|██████████| 9/9 [00:02<00:00,  3.09it/s]"
          ]
        },
        {
          "output_type": "stream",
          "name": "stdout",
          "text": [
            "                   all        200        254      0.982      0.941      0.972      0.951      0.979      0.936      0.963      0.942\n"
          ]
        },
        {
          "output_type": "stream",
          "name": "stderr",
          "text": [
            "\n"
          ]
        },
        {
          "output_type": "stream",
          "name": "stdout",
          "text": [
            "\n",
            "      Epoch    GPU_mem   box_loss   seg_loss   cls_loss   dfl_loss  Instances       Size\n"
          ]
        },
        {
          "output_type": "stream",
          "name": "stderr",
          "text": [
            "    100/110      5.27G      0.223     0.2048     0.2595     0.8647         31        800: 100%|██████████| 78/78 [00:32<00:00,  2.39it/s]\n",
            "                 Class     Images  Instances      Box(P          R      mAP50  mAP50-95)     Mask(P          R      mAP50  mAP50-95): 100%|██████████| 9/9 [00:03<00:00,  2.29it/s]"
          ]
        },
        {
          "output_type": "stream",
          "name": "stdout",
          "text": [
            "                   all        200        254      0.986      0.936      0.972       0.95      0.981      0.932      0.963      0.942\n",
            "\u001b[34m\u001b[1mEarlyStopping: \u001b[0mTraining stopped early as no improvement observed in last 20 epochs. Best results observed at epoch 80, best model saved as best.pt.\n",
            "To update EarlyStopping(patience=20) pass a new patience value, i.e. `patience=300` or use `patience=0` to disable EarlyStopping.\n"
          ]
        },
        {
          "output_type": "stream",
          "name": "stderr",
          "text": [
            "\n"
          ]
        },
        {
          "output_type": "stream",
          "name": "stdout",
          "text": [
            "\n",
            "100 epochs completed in 1.038 hours.\n",
            "Optimizer stripped from /content/drive/MyDrive/Dangos Tipo Nustatymas/road_type_seg_20250510_180944/road_seg_model/weights/last.pt, 6.8MB\n",
            "Optimizer stripped from /content/drive/MyDrive/Dangos Tipo Nustatymas/road_type_seg_20250510_180944/road_seg_model/weights/best.pt, 6.8MB\n",
            "\n",
            "Validating /content/drive/MyDrive/Dangos Tipo Nustatymas/road_type_seg_20250510_180944/road_seg_model/weights/best.pt...\n",
            "Ultralytics 8.3.130 🚀 Python-3.11.12 torch-2.6.0+cu124 CUDA:0 (Tesla T4, 15095MiB)\n",
            "YOLOv8n-seg summary (fused): 85 layers, 3,258,649 parameters, 0 gradients, 12.0 GFLOPs\n"
          ]
        },
        {
          "output_type": "stream",
          "name": "stderr",
          "text": [
            "\r                 Class     Images  Instances      Box(P          R      mAP50  mAP50-95)     Mask(P          R      mAP50  mAP50-95):   0%|          | 0/9 [00:00<?, ?it/s]"
          ]
        },
        {
          "output_type": "stream",
          "name": "stdout",
          "text": [
            "WARNING ⚠️ Model does not support 'augment=True', reverting to single-scale prediction.\n"
          ]
        },
        {
          "output_type": "stream",
          "name": "stderr",
          "text": [
            "\r                 Class     Images  Instances      Box(P          R      mAP50  mAP50-95)     Mask(P          R      mAP50  mAP50-95):  11%|█         | 1/9 [00:00<00:02,  3.80it/s]"
          ]
        },
        {
          "output_type": "stream",
          "name": "stdout",
          "text": [
            "WARNING ⚠️ Model does not support 'augment=True', reverting to single-scale prediction.\n"
          ]
        },
        {
          "output_type": "stream",
          "name": "stderr",
          "text": [
            "\r                 Class     Images  Instances      Box(P          R      mAP50  mAP50-95)     Mask(P          R      mAP50  mAP50-95):  22%|██▏       | 2/9 [00:00<00:03,  2.21it/s]"
          ]
        },
        {
          "output_type": "stream",
          "name": "stdout",
          "text": [
            "WARNING ⚠️ Model does not support 'augment=True', reverting to single-scale prediction.\n"
          ]
        },
        {
          "output_type": "stream",
          "name": "stderr",
          "text": [
            "\r                 Class     Images  Instances      Box(P          R      mAP50  mAP50-95)     Mask(P          R      mAP50  mAP50-95):  33%|███▎      | 3/9 [00:01<00:04,  1.39it/s]"
          ]
        },
        {
          "output_type": "stream",
          "name": "stdout",
          "text": [
            "WARNING ⚠️ Model does not support 'augment=True', reverting to single-scale prediction.\n"
          ]
        },
        {
          "output_type": "stream",
          "name": "stderr",
          "text": [
            "\r                 Class     Images  Instances      Box(P          R      mAP50  mAP50-95)     Mask(P          R      mAP50  mAP50-95):  44%|████▍     | 4/9 [00:03<00:04,  1.02it/s]"
          ]
        },
        {
          "output_type": "stream",
          "name": "stdout",
          "text": [
            "WARNING ⚠️ Model does not support 'augment=True', reverting to single-scale prediction.\n"
          ]
        },
        {
          "output_type": "stream",
          "name": "stderr",
          "text": [
            "\r                 Class     Images  Instances      Box(P          R      mAP50  mAP50-95)     Mask(P          R      mAP50  mAP50-95):  56%|█████▌    | 5/9 [00:04<00:04,  1.06s/it]"
          ]
        },
        {
          "output_type": "stream",
          "name": "stdout",
          "text": [
            "WARNING ⚠️ Model does not support 'augment=True', reverting to single-scale prediction.\n"
          ]
        },
        {
          "output_type": "stream",
          "name": "stderr",
          "text": [
            "\r                 Class     Images  Instances      Box(P          R      mAP50  mAP50-95)     Mask(P          R      mAP50  mAP50-95):  67%|██████▋   | 6/9 [00:04<00:02,  1.15it/s]"
          ]
        },
        {
          "output_type": "stream",
          "name": "stdout",
          "text": [
            "WARNING ⚠️ Model does not support 'augment=True', reverting to single-scale prediction.\n"
          ]
        },
        {
          "output_type": "stream",
          "name": "stderr",
          "text": [
            "\r                 Class     Images  Instances      Box(P          R      mAP50  mAP50-95)     Mask(P          R      mAP50  mAP50-95):  78%|███████▊  | 7/9 [00:05<00:01,  1.38it/s]"
          ]
        },
        {
          "output_type": "stream",
          "name": "stdout",
          "text": [
            "WARNING ⚠️ Model does not support 'augment=True', reverting to single-scale prediction.\n"
          ]
        },
        {
          "output_type": "stream",
          "name": "stderr",
          "text": [
            "\r                 Class     Images  Instances      Box(P          R      mAP50  mAP50-95)     Mask(P          R      mAP50  mAP50-95):  89%|████████▉ | 8/9 [00:05<00:00,  1.74it/s]"
          ]
        },
        {
          "output_type": "stream",
          "name": "stdout",
          "text": [
            "WARNING ⚠️ Model does not support 'augment=True', reverting to single-scale prediction.\n"
          ]
        },
        {
          "output_type": "stream",
          "name": "stderr",
          "text": [
            "\r                 Class     Images  Instances      Box(P          R      mAP50  mAP50-95)     Mask(P          R      mAP50  mAP50-95): 100%|██████████| 9/9 [00:05<00:00,  1.57it/s]\n"
          ]
        },
        {
          "output_type": "stream",
          "name": "stdout",
          "text": [
            "                   all        200        254      0.983      0.943       0.97       0.95      0.981      0.938      0.963      0.943\n",
            "              asfaltas         99        150      0.965      0.867      0.945      0.889      0.953      0.853      0.924      0.867\n",
            "                zvyras         50         52      0.989      0.962       0.97       0.97      0.989      0.962       0.97       0.97\n",
            "             grindinys         51         52      0.995          1      0.995       0.99          1      0.999      0.995      0.993\n",
            "Speed: 0.4ms preprocess, 3.7ms inference, 0.0ms loss, 5.5ms postprocess per image\n",
            "Results saved to \u001b[1m/content/drive/MyDrive/Dangos Tipo Nustatymas/road_type_seg_20250510_180944/road_seg_model\u001b[0m\n",
            "Mokymas baigtas!\n",
            "Naudojamas modelis: /content/drive/MyDrive/Dangos Tipo Nustatymas/road_type_seg_20250510_180944/road_seg_model/weights/best.pt\n",
            "Naudojamas modelio tipas eksportavimui: yolov8n-seg\n",
            "\n",
            "Vykdome validavimą...\n",
            "Ultralytics 8.3.130 🚀 Python-3.11.12 torch-2.6.0+cu124 CUDA:0 (Tesla T4, 15095MiB)\n",
            "YOLOv8n-seg summary (fused): 85 layers, 3,258,649 parameters, 0 gradients, 12.0 GFLOPs\n",
            "WARNING ⚠️ \u001b[34m\u001b[1mval: \u001b[0mSlow image access detected (ping: 11.1±24.1 ms, read: 161.0±143.3 MB/s, size: 637.3 KB). Use local storage instead of remote/mounted storage for better performance. See https://docs.ultralytics.com/guides/model-training-tips/\n"
          ]
        },
        {
          "output_type": "stream",
          "name": "stderr",
          "text": [
            "\u001b[34m\u001b[1mval: \u001b[0mScanning /content/drive/MyDrive/Dangos Tipo Nustatymas/road_type_dataset_20250510_180944/labels/val.cache... 200 images, 0 backgrounds, 0 corrupt: 100%|██████████| 200/200 [00:00<?, ?it/s]\n",
            "                 Class     Images  Instances      Box(P          R      mAP50  mAP50-95)     Mask(P          R      mAP50  mAP50-95): 100%|██████████| 17/17 [02:21<00:00,  8.32s/it]\n"
          ]
        },
        {
          "output_type": "stream",
          "name": "stdout",
          "text": [
            "                   all        200        254      0.983      0.943      0.971      0.951      0.983       0.94      0.966      0.939\n",
            "              asfaltas         99        150      0.965      0.867      0.949      0.891       0.96       0.86      0.932      0.855\n",
            "                zvyras         50         52      0.989      0.962       0.97       0.97      0.989      0.962       0.97       0.97\n",
            "             grindinys         51         52      0.995          1      0.995       0.99          1      0.999      0.995      0.993\n",
            "Speed: 1.6ms preprocess, 8.3ms inference, 0.0ms loss, 2.1ms postprocess per image\n",
            "Saving /content/drive/MyDrive/Dangos Tipo Nustatymas/road_type_seg_20250510_180944/results/validation/predictions.json...\n",
            "Results saved to \u001b[1m/content/drive/MyDrive/Dangos Tipo Nustatymas/road_type_seg_20250510_180944/results/validation\u001b[0m\n",
            "Validavimo mAP50: 0.9658\n",
            "Validavimo mAP50-95: 0.9395\n",
            "\n",
            "Eksportuojame modelius...\n",
            "PyTorch modelis eksportuotas į: /content/drive/MyDrive/Dangos Tipo Nustatymas/road_type_seg_20250510_180944/exports/road_type_seg_yolov8n-seg.pt\n",
            "Eksportuojama į ONNX formatą su išsamiais parametrais...\n",
            "Ultralytics 8.3.130 🚀 Python-3.11.12 torch-2.6.0+cu124 CPU (Intel Xeon 2.00GHz)\n",
            "\n",
            "\u001b[34m\u001b[1mPyTorch:\u001b[0m starting from '/content/drive/MyDrive/Dangos Tipo Nustatymas/road_type_seg_20250510_180944/road_seg_model/weights/best.pt' with input shape (1, 3, 800, 800) BCHW and output shape(s) ((1, 39, 13125), (1, 32, 200, 200)) (6.5 MB)\n",
            "\u001b[31m\u001b[1mrequirements:\u001b[0m Ultralytics requirements ['onnx>=1.12.0', 'onnxslim>=0.1.46', 'onnxruntime-gpu'] not found, attempting AutoUpdate...\n",
            "Collecting onnx>=1.12.0\n",
            "  Downloading onnx-1.17.0-cp311-cp311-manylinux_2_17_x86_64.manylinux2014_x86_64.whl.metadata (16 kB)\n",
            "Collecting onnxslim>=0.1.46\n",
            "  Downloading onnxslim-0.1.52-py3-none-any.whl.metadata (5.0 kB)\n",
            "Collecting onnxruntime-gpu\n",
            "  Downloading onnxruntime_gpu-1.22.0-cp311-cp311-manylinux_2_27_x86_64.manylinux_2_28_x86_64.whl.metadata (4.9 kB)\n",
            "Requirement already satisfied: numpy>=1.20 in /usr/local/lib/python3.11/dist-packages (from onnx>=1.12.0) (2.0.2)\n",
            "Requirement already satisfied: protobuf>=3.20.2 in /usr/local/lib/python3.11/dist-packages (from onnx>=1.12.0) (5.29.4)\n",
            "Requirement already satisfied: sympy in /usr/local/lib/python3.11/dist-packages (from onnxslim>=0.1.46) (1.13.1)\n",
            "Requirement already satisfied: packaging in /usr/local/lib/python3.11/dist-packages (from onnxslim>=0.1.46) (24.2)\n",
            "Collecting coloredlogs (from onnxruntime-gpu)\n",
            "  Downloading coloredlogs-15.0.1-py2.py3-none-any.whl.metadata (12 kB)\n",
            "Requirement already satisfied: flatbuffers in /usr/local/lib/python3.11/dist-packages (from onnxruntime-gpu) (25.2.10)\n",
            "Collecting humanfriendly>=9.1 (from coloredlogs->onnxruntime-gpu)\n",
            "  Downloading humanfriendly-10.0-py2.py3-none-any.whl.metadata (9.2 kB)\n",
            "Requirement already satisfied: mpmath<1.4,>=1.1.0 in /usr/local/lib/python3.11/dist-packages (from sympy->onnxslim>=0.1.46) (1.3.0)\n",
            "Downloading onnx-1.17.0-cp311-cp311-manylinux_2_17_x86_64.manylinux2014_x86_64.whl (16.0 MB)\n",
            "   ━━━━━━━━━━━━━━━━━━━━━━━━━━━━━━━━━━━━━━━━ 16.0/16.0 MB 318.6 MB/s eta 0:00:00\n",
            "Downloading onnxslim-0.1.52-py3-none-any.whl (145 kB)\n",
            "   ━━━━━━━━━━━━━━━━━━━━━━━━━━━━━━━━━━━━━━━ 145.6/145.6 kB 314.1 MB/s eta 0:00:00\n",
            "Downloading onnxruntime_gpu-1.22.0-cp311-cp311-manylinux_2_27_x86_64.manylinux_2_28_x86_64.whl (283.2 MB)\n",
            "   ━━━━━━━━━━━━━━━━━━━━━━━━━━━━━━━━━━━━━━━ 283.2/283.2 MB 283.3 MB/s eta 0:00:00\n",
            "Downloading coloredlogs-15.0.1-py2.py3-none-any.whl (46 kB)\n",
            "   ━━━━━━━━━━━━━━━━━━━━━━━━━━━━━━━━━━━━━━━━ 46.0/46.0 kB 287.5 MB/s eta 0:00:00\n",
            "Downloading humanfriendly-10.0-py2.py3-none-any.whl (86 kB)\n",
            "   ━━━━━━━━━━━━━━━━━━━━━━━━━━━━━━━━━━━━━━━━ 86.8/86.8 kB 344.5 MB/s eta 0:00:00\n",
            "Installing collected packages: onnx, humanfriendly, onnxslim, coloredlogs, onnxruntime-gpu\n",
            "Successfully installed coloredlogs-15.0.1 humanfriendly-10.0 onnx-1.17.0 onnxruntime-gpu-1.22.0 onnxslim-0.1.52\n",
            "\n",
            "\u001b[31m\u001b[1mrequirements:\u001b[0m AutoUpdate success ✅ 17.5s, installed 3 packages: ['onnx>=1.12.0', 'onnxslim>=0.1.46', 'onnxruntime-gpu']\n",
            "WARNING ⚠️ \u001b[31m\u001b[1mrequirements:\u001b[0m \u001b[1mRestart runtime or rerun command for updates to take effect\u001b[0m\n",
            "\n",
            "\n",
            "\u001b[34m\u001b[1mONNX:\u001b[0m starting export with onnx 1.17.0 opset 12...\n",
            "\u001b[34m\u001b[1mONNX:\u001b[0m slimming with onnxslim 0.1.52...\n",
            "\u001b[34m\u001b[1mONNX:\u001b[0m export success ✅ 24.7s, saved as '/content/drive/MyDrive/Dangos Tipo Nustatymas/road_type_seg_20250510_180944/road_seg_model/weights/best.onnx' (12.6 MB)\n",
            "\n",
            "Export complete (26.7s)\n",
            "Results saved to \u001b[1m/content/drive/MyDrive/Dangos Tipo Nustatymas/road_type_seg_20250510_180944/road_seg_model/weights\u001b[0m\n",
            "Predict:         yolo predict task=segment model=/content/drive/MyDrive/Dangos Tipo Nustatymas/road_type_seg_20250510_180944/road_seg_model/weights/best.onnx imgsz=800  \n",
            "Validate:        yolo val task=segment model=/content/drive/MyDrive/Dangos Tipo Nustatymas/road_type_seg_20250510_180944/road_seg_model/weights/best.onnx imgsz=800 data=/content/drive/MyDrive/Dangos Tipo Nustatymas/road_type_dataset_20250510_180944/dataset.yaml  \n",
            "Visualize:       https://netron.app\n",
            "ONNX modelis eksportuotas į: /content/drive/MyDrive/Dangos Tipo Nustatymas/road_type_seg_20250510_180944/exports/road_type_seg_yolov8n-seg.onnx\n",
            "ONNX modelis sėkmingai patikrintas - teisingas formatas\n",
            "\n",
            "Vykdome testavimo prognozes...\n",
            "\n",
            "image 1/1 /content/drive/MyDrive/Dangos Tipo Nustatymas/road_type_dataset_20250510_180944/images/test/IMG_20250305_161557_TIMEBURST136.jpg: 608x800 1 asfaltas, 46.3ms\n",
            "Speed: 4.7ms preprocess, 46.3ms inference, 2.8ms postprocess per image at shape (1, 3, 608, 800)\n",
            "Results saved to \u001b[1m/content/drive/MyDrive/Dangos Tipo Nustatymas/road_type_seg_20250510_180944/predictions/pred_IMG_20250305_161557_TIMEBURST136\u001b[0m\n",
            "\n",
            "image 1/1 /content/drive/MyDrive/Dangos Tipo Nustatymas/road_type_seg_20250510_180944/predictions/bright_IMG_20250305_161557_TIMEBURST136.jpg: 608x800 1 asfaltas, 37.3ms\n",
            "Speed: 14.2ms preprocess, 37.3ms inference, 9.1ms postprocess per image at shape (1, 3, 608, 800)\n",
            "Results saved to \u001b[1m/content/drive/MyDrive/Dangos Tipo Nustatymas/road_type_seg_20250510_180944/predictions/pred_bright_IMG_20250305_161557_TIMEBURST136\u001b[0m\n",
            "Prognozė atlikta IMG_20250305_161557_TIMEBURST136.jpg (originaliam ir pašviestintam)\n",
            "\n",
            "image 1/1 /content/drive/MyDrive/Dangos Tipo Nustatymas/road_type_dataset_20250510_180944/images/test/IMG_20250221_145325_TIMEBURST95.jpg: 608x800 3 asfaltass, 10.5ms\n",
            "Speed: 4.4ms preprocess, 10.5ms inference, 2.5ms postprocess per image at shape (1, 3, 608, 800)\n",
            "Results saved to \u001b[1m/content/drive/MyDrive/Dangos Tipo Nustatymas/road_type_seg_20250510_180944/predictions/pred_IMG_20250221_145325_TIMEBURST95\u001b[0m\n",
            "\n",
            "image 1/1 /content/drive/MyDrive/Dangos Tipo Nustatymas/road_type_seg_20250510_180944/predictions/bright_IMG_20250221_145325_TIMEBURST95.jpg: 608x800 3 asfaltass, 10.5ms\n",
            "Speed: 4.4ms preprocess, 10.5ms inference, 2.4ms postprocess per image at shape (1, 3, 608, 800)\n",
            "Results saved to \u001b[1m/content/drive/MyDrive/Dangos Tipo Nustatymas/road_type_seg_20250510_180944/predictions/pred_bright_IMG_20250221_145325_TIMEBURST95\u001b[0m\n",
            "Prognozė atlikta IMG_20250221_145325_TIMEBURST95.jpg (originaliam ir pašviestintam)\n",
            "\n",
            "image 1/1 /content/drive/MyDrive/Dangos Tipo Nustatymas/road_type_dataset_20250510_180944/images/test/IMG_20250221_145325_TIMEBURST76.jpg: 608x800 1 asfaltas, 16.6ms\n",
            "Speed: 5.9ms preprocess, 16.6ms inference, 4.2ms postprocess per image at shape (1, 3, 608, 800)\n",
            "Results saved to \u001b[1m/content/drive/MyDrive/Dangos Tipo Nustatymas/road_type_seg_20250510_180944/predictions/pred_IMG_20250221_145325_TIMEBURST76\u001b[0m\n",
            "\n",
            "image 1/1 /content/drive/MyDrive/Dangos Tipo Nustatymas/road_type_seg_20250510_180944/predictions/bright_IMG_20250221_145325_TIMEBURST76.jpg: 608x800 1 asfaltas, 10.5ms\n",
            "Speed: 4.7ms preprocess, 10.5ms inference, 2.5ms postprocess per image at shape (1, 3, 608, 800)\n",
            "Results saved to \u001b[1m/content/drive/MyDrive/Dangos Tipo Nustatymas/road_type_seg_20250510_180944/predictions/pred_bright_IMG_20250221_145325_TIMEBURST76\u001b[0m\n",
            "Prognozė atlikta IMG_20250221_145325_TIMEBURST76.jpg (originaliam ir pašviestintam)\n",
            "\n",
            "image 1/1 /content/drive/MyDrive/Dangos Tipo Nustatymas/road_type_dataset_20250510_180944/images/test/IMG_20250305_155702_TIMEBURST128.jpg: 608x800 1 asfaltas, 10.5ms\n",
            "Speed: 4.6ms preprocess, 10.5ms inference, 2.5ms postprocess per image at shape (1, 3, 608, 800)\n",
            "Results saved to \u001b[1m/content/drive/MyDrive/Dangos Tipo Nustatymas/road_type_seg_20250510_180944/predictions/pred_IMG_20250305_155702_TIMEBURST128\u001b[0m\n",
            "\n",
            "image 1/1 /content/drive/MyDrive/Dangos Tipo Nustatymas/road_type_seg_20250510_180944/predictions/bright_IMG_20250305_155702_TIMEBURST128.jpg: 608x800 1 asfaltas, 10.5ms\n",
            "Speed: 4.4ms preprocess, 10.5ms inference, 2.5ms postprocess per image at shape (1, 3, 608, 800)\n",
            "Results saved to \u001b[1m/content/drive/MyDrive/Dangos Tipo Nustatymas/road_type_seg_20250510_180944/predictions/pred_bright_IMG_20250305_155702_TIMEBURST128\u001b[0m\n",
            "Prognozė atlikta IMG_20250305_155702_TIMEBURST128.jpg (originaliam ir pašviestintam)\n",
            "\n",
            "image 1/1 /content/drive/MyDrive/Dangos Tipo Nustatymas/road_type_dataset_20250510_180944/images/test/IMG_20250305_161557_TIMEBURST44.jpg: 608x800 1 asfaltas, 10.5ms\n",
            "Speed: 4.6ms preprocess, 10.5ms inference, 2.5ms postprocess per image at shape (1, 3, 608, 800)\n",
            "Results saved to \u001b[1m/content/drive/MyDrive/Dangos Tipo Nustatymas/road_type_seg_20250510_180944/predictions/pred_IMG_20250305_161557_TIMEBURST44\u001b[0m\n",
            "\n",
            "image 1/1 /content/drive/MyDrive/Dangos Tipo Nustatymas/road_type_seg_20250510_180944/predictions/bright_IMG_20250305_161557_TIMEBURST44.jpg: 608x800 1 asfaltas, 10.5ms\n",
            "Speed: 4.4ms preprocess, 10.5ms inference, 2.4ms postprocess per image at shape (1, 3, 608, 800)\n",
            "Results saved to \u001b[1m/content/drive/MyDrive/Dangos Tipo Nustatymas/road_type_seg_20250510_180944/predictions/pred_bright_IMG_20250305_161557_TIMEBURST44\u001b[0m\n",
            "Prognozė atlikta IMG_20250305_161557_TIMEBURST44.jpg (originaliam ir pašviestintam)\n",
            "\n",
            "==================================================\n",
            "KELIO TIPŲ SEGMENTAVIMO MOKYMO SANTRAUKA - ATSPARI SAULĖS ŠVIESAI VERSIJA\n",
            "==================================================\n",
            "Modelis: yolov8n-seg su svertiniais paviršiaus tipo duomenimis\n",
            "Klasės: asfaltas (0), žvyras (1), grindinys (2)\n",
            "Paveikslėlio dydis: 800x800\n",
            "Mokymo epochos: 110\n",
            "Ankstyvo sustabdymo kantrybė: 20\n",
            "Pradinis mokymosi greitis: 0.0002\n",
            "Svorio mažinimas: 0.0005\n",
            "Paketo dydis: 12\n",
            "Augmentacijos fokusas: EKSTREMALUS ryškumo kitimas (hsv_v=0.8) atsparumui saulės šviesai\n",
            "Sodrumo kitimas: hsv_s=0.7 (pagerintas situacijoms su saulės šviesa)\n",
            "Papildomas apšvietimo apdorojimas: Taip (gama korekcija ant dalies mokymo duomenų)\n",
            "Duomenų rinkinys: Iš viso panaudota 1337 paveikslėlių (visi duomenys)\n",
            "  - asfaltas: 663 paveikslėliai\n",
            "  - zvyras: 331 paveikslėliai\n",
            "  - grindinys: 343 paveikslėliai\n",
            "Segmentacijos našumas:\n",
            "  mAP50: 0.9631\n",
            "  mAP50-95: 0.9433\n",
            "\n",
            "Validavimo našumas:\n",
            "  Segmentacijos mAP50: 0.9658\n",
            "  Segmentacijos mAP50-95: 0.9395\n",
            "\n",
            "Eksportuoti modeliai:\n",
            "  PyTorch (.pt): /content/drive/MyDrive/Dangos Tipo Nustatymas/road_type_seg_20250510_180944/exports/road_type_seg_yolov8n-seg.pt\n",
            "  ONNX (.onnx): /content/drive/MyDrive/Dangos Tipo Nustatymas/road_type_seg_20250510_180944/exports/road_type_seg_yolov8n-seg.onnx\n",
            "\n",
            "Rezultatai išsaugoti:\n",
            "  Projekto direktorija: /content/drive/MyDrive/Dangos Tipo Nustatymas/road_type_seg_20250510_180944\n",
            "  Apmokymo grafikai: /content/drive/MyDrive/Dangos Tipo Nustatymas/road_type_seg_20250510_180944/road_seg_model\n",
            "  Validavimo rezultatai: /content/drive/MyDrive/Dangos Tipo Nustatymas/road_type_seg_20250510_180944/results/validation\n",
            "  Prognozių rezultatai: /content/drive/MyDrive/Dangos Tipo Nustatymas/road_type_seg_20250510_180944/predictions\n",
            "==================================================\n"
          ]
        },
        {
          "output_type": "display_data",
          "data": {
            "image/png": "[encoded data removed]",
            "text/plain": [
              "<IPython.core.display.Image object>"
            ]
          },
          "metadata": {}
        },
        {
          "output_type": "stream",
          "name": "stdout",
          "text": [
            "Mokymo rezultatų grafikas parodytas.\n"
          ]
        }
      ]
    }
  ]
}